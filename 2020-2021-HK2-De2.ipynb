{
 "cells": [
  {
   "cell_type": "code",
   "execution_count": null,
   "metadata": {
    "vscode": {
     "languageId": "sql"
    }
   },
   "outputs": [],
   "source": [
    "-- De 1.1 CK"
   ]
  },
  {
   "cell_type": "code",
   "execution_count": null,
   "metadata": {
    "vscode": {
     "languageId": "sql"
    }
   },
   "outputs": [],
   "source": [
    "-- a) Cho biết thông tin địa phương (MADP, TENDP) có số lượng bệnh nhân F0 trên 10.000 hoặc số ca tử vong trên 100. Kết quả được sắp xếp theo số lượng bệnh nhân F0 tăng dần.\n",
    "SELECT  MADP\n",
    "       ,TENDP\n",
    "FROM DIAPHUONG\n",
    "WHERE SOF0 > 10000 OR SOTV > 100\n",
    "ORDER BY SOF0 ASC;"
   ]
  },
  {
   "cell_type": "code",
   "execution_count": null,
   "metadata": {
    "vscode": {
     "languageId": "sql"
    }
   },
   "outputs": [],
   "source": [
    "-- b) Cho biết thông tin (TENCTY, QUOCGIA) sản xuất loại vắc xin ‘mRNA’ có hiệu quả lâm sàn trên 94%.\n",
    "SELECT  TENCTY\n",
    "       ,QUOCGIA\n",
    "FROM CONGTY\n",
    "INNER JOIN VACXIN\n",
    "ON CONGTY.MACTY = VACXIN.MACTY\n",
    "WHERE VACXIN.LOAIVX = 'mRNA'\n",
    "AND VACXIN.HQLS > 0.94;"
   ]
  },
  {
   "cell_type": "code",
   "execution_count": null,
   "metadata": {
    "vscode": {
     "languageId": "sql"
    }
   },
   "outputs": [],
   "source": [
    "-- c) Cho biết số lần đặt hàng của từng loại vắc xin trong tháng 5 năm 2021. Thông tin hiển thị gồm: TENVX và SOLANDH.\n",
    "SELECT  TENVX\n",
    "       ,COUNT(DATHANG.MADH) AS SOLANDH\n",
    "FROM VACXIN\n",
    "INNER JOIN DATHANG\n",
    "ON VACXIN.MAVX = DATHANG.MAVX\n",
    "WHERE MONTH(NGAYDH) = 5\n",
    "AND YEAR(NGAYDH) = 2021\n",
    "GROUP BY  TENVX;"
   ]
  },
  {
   "cell_type": "code",
   "execution_count": null,
   "metadata": {
    "vscode": {
     "languageId": "sql"
    }
   },
   "outputs": [],
   "source": [
    "-- d) Cho biết thông tin những địa phương (MADP, TENDP) được phân bổ cả hai loại vắc xin có mã vắc xin là ‘VX01’ và ‘VX03’ trong năm 2021.\n",
    "SELECT  DIAPHUONG.MADP\n",
    "       ,TENDP\n",
    "FROM DIAPHUONG\n",
    "INNER JOIN PHANBO\n",
    "ON DIAPHUONG.MADP = PHANBO.MADP\n",
    "WHERE PHANBO.MAVX = 'VX01'\n",
    "AND YEAR(PHANBO.NGAYCAP) = 2021 INTERSECT\n",
    "SELECT  DIAPHUONG.MADP\n",
    "       ,TENDP\n",
    "FROM DIAPHUONG\n",
    "INNER JOIN PHANBO\n",
    "ON DIAPHUONG.MADP = PHANBO.MADP\n",
    "WHERE PHANBO.MAVX = 'VX03'\n",
    "AND YEAR(PHANBO.NGAYCAP) = 2021;"
   ]
  },
  {
   "cell_type": "code",
   "execution_count": null,
   "metadata": {
    "vscode": {
     "languageId": "sql"
    }
   },
   "outputs": [],
   "source": [
    "-- e) Cho biết thông tin (MADP, TENDP) của những địa phương có số lượng bệnh nhân F0 trên 10.000 được phân bổ tất cả vắc xin do‘Trung Quốc’ sản xuất.\n",
    "SELECT  MADP\n",
    "       ,TENDP\n",
    "FROM DIAPHUONG\n",
    "WHERE SOF0 > 10000\n",
    "AND NOT EXISTS(\n",
    "SELECT  *\n",
    "FROM PHANBO\n",
    "WHERE NOT EXISTS(\n",
    "SELECT  *\n",
    "FROM VACXIN\n",
    "INNER JOIN CONGTY\n",
    "ON VACXIN.MACTY = CONGTY.MACTY\n",
    "WHERE VACXIN.MAVX = PHANBO.MAVX\n",
    "AND PHANBO.MADP = DIAPHUONG.MADP\n",
    "AND CONGTY.QUOCGIA = 'Trung Quốc'))"
   ]
  },
  {
   "cell_type": "code",
   "execution_count": null,
   "metadata": {
    "vscode": {
     "languageId": "sql"
    }
   },
   "outputs": [],
   "source": [
    "-- f) Cho biết thông tin địa phương (MADP, TENDP) có số lần phân bổ vắc xin với số lượng trên 100.000 liều nhiều nhất.\n",
    "SELECT  DIAPHUONG.MADP\n",
    "       ,TENDP\n",
    "       ,COUNT(PHANBO.DOT) AS SOLANPHANBO\n",
    "FROM DIAPHUONG\n",
    "INNER JOIN PHANBO\n",
    "ON DIAPHUONG.MADP = PHANBO.MADP\n",
    "WHERE PHANBO.SL > 100000\n",
    "GROUP BY  DIAPHUONG.MADP\n",
    "         ,TENDP\n",
    "ORDER BY SOLANPHANBO DESC\n",
    "LIMIT 1;"
   ]
  }
 ],
 "metadata": {
  "language_info": {
   "name": "python"
  },
  "orig_nbformat": 4
 },
 "nbformat": 4,
 "nbformat_minor": 2
}

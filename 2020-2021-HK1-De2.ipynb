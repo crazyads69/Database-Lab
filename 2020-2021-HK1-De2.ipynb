{
 "cells": [
  {
   "cell_type": "code",
   "execution_count": null,
   "metadata": {
    "vscode": {
     "languageId": "sql"
    }
   },
   "outputs": [],
   "source": [
    "-- De 1.2 CK"
   ]
  },
  {
   "cell_type": "code",
   "execution_count": null,
   "metadata": {
    "vscode": {
     "languageId": "sql"
    }
   },
   "outputs": [],
   "source": [
    "-- a) Cho biết thông tin khám bệnh (MAKB, KETLUAN) có bệnh chính hoặc bệnh kèm theo là ‘Suy thận’. Kết quả được sắp xếp theo mã bệnh nhân tăng dần.\n",
    "SELECT  MAKB\n",
    "       ,KETLUAN\n",
    "FROM KHAMBENH\n",
    "WHERE BENH = 'Suy thận' OR BENHKT = 'Suy thận'\n",
    "ORDER BY MABN ASC;"
   ]
  },
  {
   "cell_type": "code",
   "execution_count": null,
   "metadata": {
    "vscode": {
     "languageId": "sql"
    }
   },
   "outputs": [],
   "source": [
    "-- b) Cho biết thông tin (MAKB, MABS, HOTEN) của những bác sĩ có chuyên môn là ‘Tim mạch’ bắt đầu phụ trách từ năm 2021.\n",
    "SELECT  PHUTRACH.MAKB\n",
    "       ,BACSI.MABS\n",
    "       ,HOTEN\n",
    "FROM BACSI\n",
    "INNER JOIN PHUTRACH\n",
    "ON BACSI.MABS = PHUTRACH.MABS\n",
    "WHERE BACSI.CHUYENMON = 'Tim mạch'\n",
    "AND YEAR(PHUTRACH.BATDAUPT) = 2021;"
   ]
  },
  {
   "cell_type": "code",
   "execution_count": null,
   "metadata": {
    "vscode": {
     "languageId": "sql"
    }
   },
   "outputs": [],
   "source": [
    "-- c) Cho biết số lần phụ trách khám bệnh của từng bác sĩ trong năm 2020 (BATDAUPT). Thông tin hiển thị gồm: MABS, HOTEN và SL.\n",
    "SELECT  BACSI.MABS\n",
    "       ,HOTEN\n",
    "       ,COUNT(PHUTRACH.MAKB) AS SL\n",
    "FROM BACSI\n",
    "INNER JOIN PHUTRACH\n",
    "ON BACSI.MABS = PHUTRACH.MABS\n",
    "WHERE YEAR(BATDAUPT) = 2020\n",
    "GROUP BY  BACSI.MABS\n",
    "         ,HOTEN;"
   ]
  },
  {
   "cell_type": "code",
   "execution_count": null,
   "metadata": {
    "vscode": {
     "languageId": "sql"
    }
   },
   "outputs": [],
   "source": [
    "-- d) Cho biết thông tin những bệnh nhân (MABN, HOTEN) được bác sỹ chuẩn đoán cả 2 bệnh chính là ‘Viêm phổi’ và ‘Tim mạch’ có lịch tái khám trong năm 2021.\n",
    "SELECT  BENHNHAN.MABN\n",
    "       ,HOTEN\n",
    "FROM BENHNHAN\n",
    "INNER JOIN KHAMBENH\n",
    "ON BENHNHAN.MABN = KHAMBENH.MABN\n",
    "WHERE KHAMBENH.BENH = 'Viêm phổi'\n",
    "AND YEAR(TAIKHAM) = 2021 INTERSECT\n",
    "SELECT  BENHNHAN.MABN\n",
    "       ,HOTEN\n",
    "FROM BENHNHAN\n",
    "INNER JOIN KHAMBENH\n",
    "ON BENHNHAN.MABN = KHAMBENH.MABN\n",
    "WHERE KHAMBENH.BENH = 'Tim mạch'\n",
    "AND YEAR(TAIKHAM) = 2021;"
   ]
  },
  {
   "cell_type": "code",
   "execution_count": null,
   "metadata": {
    "vscode": {
     "languageId": "sql"
    }
   },
   "outputs": [],
   "source": [
    "-- e) Cho biết thông tin (MABS, HOTEN) của những bác sĩ khoa ‘Cấp cứu’ tham gia tất cả các mã khám bệnh có bộ phận cơ thể cần phẫu thuật là ‘Phổi’.\n",
    "SELECT  MABS\n",
    "       ,HOTEN\n",
    "FROM BACSI\n",
    "WHERE KHOA = 'Cấp cứu'\n",
    "AND NOT EXISTS (\n",
    "SELECT  *\n",
    "FROM PHUTRACH\n",
    "WHERE NOT EXISTS (\n",
    "SELECT  *\n",
    "FROM PHAUTHUAT\n",
    "WHERE PHAUTHUAT.MAKB = PHUTRACH.MAKB\n",
    "AND PHUTRACH.MABS = BACSI.MABS\n",
    "AND PHAUTHUAT.BOPHANPT = 'Phổi'));"
   ]
  },
  {
   "cell_type": "code",
   "execution_count": null,
   "metadata": {
    "vscode": {
     "languageId": "sql"
    }
   },
   "outputs": [],
   "source": [
    "-- f) Cho biết thông tin những bệnh nhân (MABN, HOTEN) có số lần khám bệnh nhiều nhất.\n",
    "SELECT  BENHNHAN.MABN\n",
    "       ,HOTEN\n",
    "       ,COUNT(KHAMBENH.MAKB) AS SOLANKHAMBENH\n",
    "FROM BENHNHAN\n",
    "INNER JOIN KHAMBENH\n",
    "ON BENHNHAN.MABN = KHAMBENH.MABN\n",
    "GROUP BY  BENHNHAN.MABN\n",
    "         ,HOTEN\n",
    "HAVING COUNT(KHAMBENH.MAKB) = (\n",
    "SELECT  MAX(SOLANKHAMBENH)\n",
    "FROM\n",
    "(\n",
    "\tSELECT  COUNT(KHAMBENH.MAKB) AS SOLANKHAMBENH\n",
    "\tFROM BENHNHAN\n",
    "\tINNER JOIN KHAMBENH\n",
    "\tON BENHNHAN.MABN = KHAMBENH.MABN\n",
    "\tGROUP BY  BENHNHAN.MABN\n",
    ") AS T);"
   ]
  }
 ],
 "metadata": {
  "language_info": {
   "name": "python"
  },
  "orig_nbformat": 4
 },
 "nbformat": 4,
 "nbformat_minor": 2
}

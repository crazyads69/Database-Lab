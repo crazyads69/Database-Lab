{
    "cells": [
        {
            "cell_type": "code",
            "execution_count": null,
            "metadata": {
                "azdata_cell_guid": "fc19b8f0-9314-4fd3-bc0c-274a7eea813e",
                "language": "sql"
            },
            "outputs": [],
            "source": [
                "CREATE DATABASE QuanLyGiaoVu"
            ]
        },
        {
            "cell_type": "code",
            "execution_count": 2,
            "metadata": {
                "azdata_cell_guid": "42188e74-bc85-4e6b-8cc0-885883dae326",
                "language": "sql"
            },
            "outputs": [
                {
                    "data": {
                        "text/html": [
                            "Commands completed successfully."
                        ]
                    },
                    "metadata": {},
                    "output_type": "display_data"
                },
                {
                    "data": {
                        "text/html": [
                            "Total execution time: 00:00:00"
                        ]
                    },
                    "metadata": {},
                    "output_type": "display_data"
                }
            ],
            "source": [
                "USE QuanLyGiaoVu;"
            ]
        },
        {
            "cell_type": "code",
            "execution_count": null,
            "metadata": {
                "azdata_cell_guid": "9c62bcea-345e-41a3-8227-f1216362300c",
                "language": "sql"
            },
            "outputs": [],
            "source": [
                "SET DATEFORMAT dmy;"
            ]
        },
        {
            "cell_type": "code",
            "execution_count": 4,
            "metadata": {
                "azdata_cell_guid": "33301e62-8481-49be-b939-2521e4c3d862",
                "language": "sql"
            },
            "outputs": [
                {
                    "data": {
                        "text/html": [
                            "Commands completed successfully."
                        ]
                    },
                    "metadata": {},
                    "output_type": "display_data"
                },
                {
                    "data": {
                        "text/html": [
                            "Total execution time: 00:00:00.010"
                        ]
                    },
                    "metadata": {},
                    "output_type": "display_data"
                }
            ],
            "source": [
                "CREATE TABLE KHOA (\n",
                "    MAKHOA  VARCHAR(4),\n",
                "    TENKHOA VARCHAR(40),\n",
                "    NGTLAP  SMALLDATETIME,\n",
                "    TRGKHOA CHAR(4),\n",
                "    PRIMARY KEY (MAKHOA)\n",
                ") \n",
                "\n",
                "CREATE TABLE MONHOC (\n",
                "    MAMH    VARCHAR(10),\n",
                "    TENMH   VARCHAR(40),\n",
                "    TCLT    TINYINT,\n",
                "    TCTH    TINYINT,\n",
                "    MAKHOA  VARCHAR(4),\n",
                "    PRIMARY KEY (MAMH),\n",
                "    FOREIGN KEY (MAKHOA) REFERENCES KHOA(MAKHOA)\n",
                "    \n",
                ")\n",
                "\n",
                "CREATE TABLE DIEUKIEN (\n",
                "    MAMH        VARCHAR(10),\n",
                "    MAMH_TRUOC  VARCHAR(10),\n",
                "    PRIMARY KEY (MAMH, MAMH_TRUOC)\n",
                ")\n",
                "\n",
                "CREATE TABLE GIAOVIEN (\n",
                "    MAGV        CHAR(4),\n",
                "    HOTEN       VARCHAR(40),\n",
                "    HOCVI       VARCHAR(10),\n",
                "    HOCHAM      VARCHAR(10),\n",
                "    GIOITINH    VARCHAR(3),\n",
                "    NGSINH      SMALLDATETIME,\n",
                "    NGVL        SMALLDATETIME,\n",
                "    HESO        NUMERIC(4,2),\n",
                "    MUCLUONG    MONEY,\n",
                "    MAKHOA      VARCHAR(4),\n",
                "    PRIMARY KEY (MAGV),\n",
                "    FOREIGN KEY (MAKHOA) REFERENCES KHOA(MAKHOA),\n",
                ")\n",
                "\n",
                "CREATE TABLE LOP (\n",
                "    MALOP   CHAR(3),\n",
                "    TENLOP  VARCHAR(40),\n",
                "    TRGLOP  CHAR(5),\n",
                "    SISO    TINYINT,\n",
                "    MAGVCN  CHAR(4),\n",
                "    PRIMARY KEY (MALOP),\n",
                ")\n",
                "\n",
                "CREATE TABLE HOCVIEN (\n",
                "    MAHV        CHAR(5),\n",
                "    HO          VARCHAR(40),\n",
                "    TEN         VARCHAR(10),\n",
                "    NGSINH      SMALLDATETIME,\n",
                "    GIOITINH    VARCHAR(3),\n",
                "    NOISINH     VARCHAR(40),\n",
                "    MALOP       CHAR(3),\n",
                "    PRIMARY KEY (MAHV),\n",
                "    FOREIGN KEY (MALOP) REFERENCES LOP(MALOP)\n",
                ")\n",
                "\n",
                "CREATE TABLE GIANGDAY (\n",
                "    MALOP   CHAR(3),\n",
                "    MAMH    VARCHAR(10),\n",
                "    MAGV    CHAR(4),\n",
                "    HOCKY   TINYINT,\n",
                "    NAM     SMALLINT,\n",
                "    TUNGAY  SMALLDATETIME,\n",
                "    DENNGAY SMALLDATETIME,\n",
                "    PRIMARY KEY (MALOP, MAMH),\n",
                "    FOREIGN KEY (MALOP) REFERENCES LOP(MALOP),\n",
                "    FOREIGN KEY (MAMH) REFERENCES MONHOC(MAMH),\n",
                "    FOREIGN KEY (MAGV) REFERENCES GIAOVIEN(MAGV),\n",
                ")\n",
                "\n",
                "CREATE TABLE KETQUATHI (\n",
                "    MAHV    CHAR(5),\n",
                "    MAMH    VARCHAR(10),\n",
                "    LANTHI  TINYINT,\n",
                "    NGTHI   SMALLDATETIME,\n",
                "    DIEM    NUMERIC(4, 2),\n",
                "    KQUA    VARCHAR(10),\n",
                "    PRIMARY KEY (MAHV, MAMH, LANTHI),\n",
                "    FOREIGN KEY (MAMH) REFERENCES MONHOC(MAMH),\n",
                "    FOREIGN KEY (MAHV) REFERENCES HOCVIEN(MAHV)\n",
                ")"
            ]
        },
        {
            "cell_type": "code",
            "execution_count": null,
            "metadata": {
                "azdata_cell_guid": "9fed9277-c18d-408c-820c-5b0d52b157d1",
                "language": "sql",
                "tags": [
                    "hide_input"
                ]
            },
            "outputs": [],
            "source": [
                "INSERT INTO KHOA VALUES ('KHMT', 'Khoa hoc may tinh', '7/6/2005', 'GV01')\n",
                "INSERT INTO KHOA VALUES ('HTTT', 'He thong thong tin', '7/6/2005', 'GV02')\n",
                "INSERT INTO KHOA VALUES ('CNPM', 'Cong nghe phan mem', '7/6/2005', 'GV04')\n",
                "INSERT INTO KHOA VALUES ('MTT', 'Mang va truyen thong', '20/10/2005', 'GV03')\n",
                "INSERT INTO KHOA VALUES ('KTMT', 'Ky thuat may tinh', '20/12/2005', NULL)"
            ]
        },
        {
            "cell_type": "code",
            "execution_count": null,
            "metadata": {
                "azdata_cell_guid": "7b428aff-4f4a-42b3-96cf-76cc50c57a52",
                "language": "sql",
                "tags": []
            },
            "outputs": [],
            "source": [
                "INSERT INTO GIAOVIEN VALUES ('GV01', 'Ho Thanh Son', 'PTS', 'GS', 'Nam', '2/5/1950', '11/1/2004', 5.00, 2250000, 'KHMT')\n",
                "INSERT INTO GIAOVIEN VALUES ('GV02', 'Tran Tam Thanh', 'TS', 'PGS', 'Nam', '17/12/1965', '20/4/2004', 4.50, 2025000, 'HTTT')\n",
                "INSERT INTO GIAOVIEN VALUES ('GV03', 'Do Nghiem Phung', 'TS', 'GS', 'Nu', '1/8/1950', '23/9/2004', 4.00, 1800000, 'CNPM')\n",
                "INSERT INTO GIAOVIEN VALUES ('GV04', 'Tran Nam Son', 'TS', 'PGS', 'Nam', '22/2/1961', '12/1/2005', 4.50, 2025000, 'KTMT')\n",
                "INSERT INTO GIAOVIEN VALUES ('GV05', 'Mai Thanh Danh', 'ThS', 'GV', 'Nam', '12/3/1958', '12/1/2005', 3.00, 1350000, 'HTTT')\n",
                "INSERT INTO GIAOVIEN VALUES ('GV06', 'Tran Doan Hung', 'TS', 'GV', 'Nam', '11/3/1953', '12/1/2005', 4.50, 2025000, 'KHMT')\n",
                "INSERT INTO GIAOVIEN VALUES ('GV07', 'Nguyen Minh Tien', 'ThS', 'GV', 'Nam', '23/11/1971', '1/3/2005', 4.00, 1800000, 'KHMT')\n",
                "INSERT INTO GIAOVIEN VALUES ('GV08', 'Le Thi Tran', 'KS', 'Null', 'Nu', '26/3/1974', '1/3/2005', 1.69, 760500, 'KHMT')\n",
                "INSERT INTO GIAOVIEN VALUES ('GV09', 'Nguyen To Lan', 'ThS', 'GV', 'Nu', '31/12/1966', '1/3/2005', 4.00, 1800000, 'HTTT')\n",
                "INSERT INTO GIAOVIEN VALUES ('GV10', 'Le Tran Anh Loan', 'KS', 'Null', 'Nu', '17/7/1972', '1/3/2005', 1.86, 837000, 'CNPM')\n",
                "INSERT INTO GIAOVIEN VALUES ('GV11', 'Ho Thanh Tung', 'CN', 'GV', 'Nam', '12/1/1980', '15/5/2005', 2.67, 1201500, 'MTT')\n",
                "INSERT INTO GIAOVIEN VALUES ('GV12', 'Tran Van Anh', 'CN', 'Null', 'Nu', '29/3/1981', '15/5/2005', 1.69, 760500, 'CNPM')\n",
                "INSERT INTO GIAOVIEN VALUES ('GV13', 'Nguyen Linh Dan', 'CN', 'Null', 'Nu', '23/5/1980', '15/5/2005', 1.69, 760500, 'KTMT')\n",
                "INSERT INTO GIAOVIEN VALUES ('GV14', 'Truong Minh Chau', 'ThS', 'GV', 'Nu', '30/11/1976', '15/5/2005', 3.00, 1350000, 'MTT')\n",
                "INSERT INTO GIAOVIEN VALUES ('GV15', 'Le Ha Thanh', 'ThS', 'GV', 'Nam', '4/5/1978', '15/5/2005', 3.00, 1350000, 'KHMT')"
            ]
        },
        {
            "cell_type": "code",
            "execution_count": null,
            "metadata": {
                "azdata_cell_guid": "5a37979a-e375-403b-a6a7-5c84f8aac869",
                "language": "sql",
                "tags": []
            },
            "outputs": [],
            "source": [
                "INSERT INTO LOP VALUES ('K11', 'Lop 1 khoa 1', 'K1108', 11, 'GV07')\n",
                "INSERT INTO LOP VALUES ('K12', 'Lop 2 khoa 1', 'K1205', 12, 'GV09')\n",
                "INSERT INTO LOP VALUES ('K13', 'Lop 3 khoa 1', 'K1305', 12, 'GV14')"
            ]
        },
        {
            "cell_type": "code",
            "execution_count": null,
            "metadata": {
                "azdata_cell_guid": "46c98947-0fbc-43ec-81d3-0b435046407e",
                "language": "sql",
                "tags": [
                    "hide_input"
                ]
            },
            "outputs": [],
            "source": [
                "INSERT INTO MONHOC VALUES ('THDC', 'Tin hoc dai cuong', 4, 1, 'KHMT')\n",
                "INSERT INTO MONHOC VALUES ('CTRR', 'Cau truc roi rac', 5, 0, 'KHMT')\n",
                "INSERT INTO MONHOC VALUES ('CSDL', 'Co so du lieu', 3, 1, 'HTTT')\n",
                "INSERT INTO MONHOC VALUES ('CTDLGT', 'Cau truc du lieu va giai thuat', 3, 1, 'KHMT')\n",
                "INSERT INTO MONHOC VALUES ('PTTKTT', 'Phan tich thiet ke thuat toan', 3, 0, 'KHMT')\n",
                "INSERT INTO MONHOC VALUES ('DHMT', 'Do hoa may tinh', 3, 1, 'KHMT')\n",
                "INSERT INTO MONHOC VALUES ('KTMT', 'Kien truc may tinh', 3, 0, 'KTMT')\n",
                "INSERT INTO MONHOC VALUES ('TKCSDL', 'Thiet ke CO so du lieu', 3, 1, 'HTTT')\n",
                "INSERT INTO MONHOC VALUES ('PTTKHTTT', 'Phan tich thiet ke he thong thong tin', 4, 1, 'HTTT')\n",
                "INSERT INTO MONHOC VALUES ('HDH', 'He dieu hanh', 4, 0, 'KTMT')\n",
                "INSERT INTO MONHOC VALUES ('NMCNPM', 'Nhap mon cong nghe phan mem', 3, 0, 'CNPM')\n",
                "INSERT INTO MONHOC VALUES ('LTCFW', 'Lap trinh C for win', 3, 1, 'CNPM')\n",
                "INSERT INTO MONHOC VALUES ('LTHDT', 'Lap trinh huong doi tuong', 3, 1, 'CNPM')"
            ]
        },
        {
            "cell_type": "code",
            "execution_count": null,
            "metadata": {
                "azdata_cell_guid": "7b15cfd3-79c4-4625-a668-460430c23ae9",
                "language": "sql",
                "tags": [
                    "hide_input"
                ]
            },
            "outputs": [],
            "source": [
                "INSERT INTO GIANGDAY VALUES ('K11', 'THDC', 'GV07', 1, 2006, '2/1/2006', '12/5/2006')\n",
                "INSERT INTO GIANGDAY VALUES ('K12', 'THDC', 'GV06', 1, 2006, '2/1/2006', '12/5/2006')\n",
                "INSERT INTO GIANGDAY VALUES ('K13', 'THDC', 'GV15', 1, 2006, '2/1/2006', '12/5/2006')\n",
                "INSERT INTO GIANGDAY VALUES ('K11', 'CTRR', 'GV02', 1, 2006, '9/1/2006', '17/5/2006')\n",
                "INSERT INTO GIANGDAY VALUES ('K12', 'CTRR', 'GV02', 1, 2006, '9/1/2006', '17/5/2006')\n",
                "INSERT INTO GIANGDAY VALUES ('K13', 'CTRR', 'GV08', 1, 2006, '9/1/2006', '17/5/2006')\n",
                "INSERT INTO GIANGDAY VALUES ('K11', 'CSDL', 'GV05', 2, 2006, '1/6/2006', '15/7/2006')\n",
                "INSERT INTO GIANGDAY VALUES ('K12', 'CSDL', 'GV09', 2, 2006, '1/6/2006', '15/7/2006')\n",
                "INSERT INTO GIANGDAY VALUES ('K13', 'CTDLGT', 'GV15', 2, 2006, '1/6/2006', '15/7/2006')\n",
                "INSERT INTO GIANGDAY VALUES ('K13', 'CSDL', 'GV05', 3, 2006, '1/8/2006', '15/12/2006')\n",
                "INSERT INTO GIANGDAY VALUES ('K13', 'DHMT', 'GV07', 3, 2006, '1/8/2006', '15/12/2006')\n",
                "INSERT INTO GIANGDAY VALUES ('K11', 'CTDLGT', 'GV15', 3, 2006, '1/8/2006', '15/12/2006')\n",
                "INSERT INTO GIANGDAY VALUES ('K12', 'CTDLGT', 'GV15', 3, 2006, '1/8/2006', '15/12/2006')\n",
                "INSERT INTO GIANGDAY VALUES ('K11', 'HDH', 'GV04', 1, 2007, '2/1/2007', '18/2/2007')\n",
                "INSERT INTO GIANGDAY VALUES ('K12', 'HDH', 'GV04', 1, 2007, '2/1/2007', '20/3/2007')\n",
                "INSERT INTO GIANGDAY VALUES ('K11', 'DHMT', 'GV07', 1, 2007, '18/2/2007', '20/3/2007')"
            ]
        },
        {
            "cell_type": "code",
            "execution_count": null,
            "metadata": {
                "azdata_cell_guid": "03207716-7c60-4724-b605-36a7c2e94111",
                "language": "sql",
                "tags": [
                    "hide_input"
                ]
            },
            "outputs": [],
            "source": [
                "INSERT INTO DIEUKIEN VALUES ('CSDL', 'CTRR')\n",
                "INSERT INTO DIEUKIEN VALUES ('CSDL', 'CTDLGT')\n",
                "INSERT INTO DIEUKIEN VALUES ('CTDLGT', 'THDC')\n",
                "INSERT INTO DIEUKIEN VALUES ('PTTKTT', 'THDC')\n",
                "INSERT INTO DIEUKIEN VALUES ('PTTKTT', 'CTDLGT')\n",
                "INSERT INTO DIEUKIEN VALUES ('DHMT', 'THDC')\n",
                "INSERT INTO DIEUKIEN VALUES ('LTHDT', 'THDC')\n",
                "INSERT INTO DIEUKIEN VALUES ('PTTKHTTT', 'CSDL')"
            ]
        },
        {
            "cell_type": "code",
            "execution_count": null,
            "metadata": {
                "azdata_cell_guid": "46c25f31-c15b-486b-b56d-bd51d6c2a8ab",
                "language": "sql",
                "tags": [
                    "hide_input"
                ]
            },
            "outputs": [],
            "source": [
                "INSERT INTO HOCVIEN VALUES ('K1101', 'Nguyen Van', 'A', '27/1/1986', 'Nam', 'TpHCM', 'K11')\n",
                "INSERT INTO HOCVIEN VALUES ('K1102', 'Tran Ngoc', 'Han', '14/3/1986', 'Nu', 'Kien Giang', 'K11')\n",
                "INSERT INTO HOCVIEN VALUES ('K1103', 'Ha Duy', 'Lap', '18/4/1986', 'Nam', 'Nghe An', 'K11')\n",
                "INSERT INTO HOCVIEN VALUES ('K1104', 'Tran Ngoc', 'Linh', '30/3/1986', 'Nu', 'Tay Ninh', 'K11')\n",
                "INSERT INTO HOCVIEN VALUES ('K1105', 'Tran Minh', 'Long', '27/2/1986', 'Nam', 'TpHCM', 'K11')\n",
                "INSERT INTO HOCVIEN VALUES ('K1106', 'Le Nhat', 'Minh', '24/1/1986', 'Nam', 'TpHCM', 'K11')\n",
                "INSERT INTO HOCVIEN VALUES ('K1107', 'Nguyen Nhu', 'Nhut', '27/1/1986', 'Nam', 'Ha Noi', 'K11')\n",
                "INSERT INTO HOCVIEN VALUES ('K1108', 'Nguyen Manh', 'Tam', '27/2/1986', 'Nam', 'Kien Giang', 'K11')\n",
                "INSERT INTO HOCVIEN VALUES ('K1109', 'Phan Thi Thanh', 'Tam', '27/1/1986', 'Nu', 'Vinh Long', 'K11')\n",
                "INSERT INTO HOCVIEN VALUES ('K1110', 'Le Hoai', 'Thuong', '5/2/1986', 'Nu', 'Can Tho', 'K11')\n",
                "INSERT INTO HOCVIEN VALUES ('K1111', 'Le Ha', 'Vinh', '25/12/1986', 'Nam', 'Vinh Long', 'K11')\n",
                "INSERT INTO HOCVIEN VALUES ('K1201', 'Nguyen Van', 'B', '11/2/1986', 'Nam', 'TpHCM', 'K12')\n",
                "INSERT INTO HOCVIEN VALUES ('K1202', 'Nguyen Thi Kim', 'Duyen', '18/1/1986', 'Nu', 'TpHCM', 'K12')\n",
                "INSERT INTO HOCVIEN VALUES ('K1203', 'Tran Thi Kim', 'Duyen', '17/9/1986', 'Nu', 'TpHCM', 'K12')\n",
                "INSERT INTO HOCVIEN VALUES ('K1204', 'Truong My', 'Hanh', '19/5/1986', 'Nu', 'Dong Nai', 'K12')\n",
                "INSERT INTO HOCVIEN VALUES ('K1205', 'Nguyen Thanh', 'Nam', '17/4/1986', 'Nam', 'TpHCM', 'K12')\n",
                "INSERT INTO HOCVIEN VALUES ('K1206', 'Nguyen Thi Truc', 'Thanh', '4/3/1986', 'Nu', 'Kien Giang', 'K12')\n",
                "INSERT INTO HOCVIEN VALUES ('K1207', 'Tran Thi Bich', 'Thuy', '8/2/1986', 'Nu', 'Nghe An', 'K12')\n",
                "INSERT INTO HOCVIEN VALUES ('K1208', 'Huynh Thi Kim', 'Trieu', '8/4/1986', 'Nu', 'Tay Ninh', 'K12')\n",
                "INSERT INTO HOCVIEN VALUES ('K1209', 'Pham Thanh', 'Trieu', '23/2/1986', 'Nam', 'TpHCM', 'K12')\n",
                "INSERT INTO HOCVIEN VALUES ('K1210', 'Ngo Thanh', 'Tuan', '14/2/1986', 'Nam', 'TpHCM', 'K12')\n",
                "INSERT INTO HOCVIEN VALUES ('K1211', 'Do Thi', 'Xuan', '9/3/1986', 'Nu', 'Ha Noi', 'K12')\n",
                "INSERT INTO HOCVIEN VALUES ('K1212', 'Le Thi Phi', 'Yen', '12/3/1986', 'Nu', 'TpHCM', 'K12')\n",
                "INSERT INTO HOCVIEN VALUES ('K1301', 'Nguyen Thi Kim', 'Cuc', '9/6/1986', 'Nu', 'Kien Giang', 'K13')\n",
                "INSERT INTO HOCVIEN VALUES ('K1302', 'Truong Thi My', 'Hien', '18/3/1986', 'Nu', 'Nghe An', 'K13')\n",
                "INSERT INTO HOCVIEN VALUES ('K1303', 'Le Duc', 'Hien', '21/3/1986', 'Nam', 'Tay Ninh', 'K13')\n",
                "INSERT INTO HOCVIEN VALUES ('K1304', 'Le Quang', 'Hien', '18/4/1986', 'Nam', 'TpHCM', 'K13')\n",
                "INSERT INTO HOCVIEN VALUES ('K1305', 'Le Thi', 'Huong', '27/3/1986', 'Nu', 'TpHCM', 'K13')\n",
                "INSERT INTO HOCVIEN VALUES ('K1306', 'Nguyen Thai', 'Huu', '30/3/1986', 'Nam', 'Ha Noi', 'K13')\n",
                "INSERT INTO HOCVIEN VALUES ('K1307', 'Tran Minh', 'Man', '28/5/1986', 'Nam', 'TpHCM', 'K13')\n",
                "INSERT INTO HOCVIEN VALUES ('K1308', 'Nguyen Hieu', 'Nghia', '8/4/1986', 'Nam', 'Kien Giang', 'K13')\n",
                "INSERT INTO HOCVIEN VALUES ('K1309', 'Nguyen Trung', 'Nghia', '18/1/1987', 'Nam', 'Nghe An', 'K13')\n",
                "INSERT INTO HOCVIEN VALUES ('K1310', 'Tran Thi Hong', 'Tham', '22/4/1986', 'Nu', 'Tay Ninh', 'K13')\n",
                "INSERT INTO HOCVIEN VALUES ('K1311', 'Tran Minh', 'Thuc', '4/4/1986', 'Nam', 'TpHCM', 'K13')\n",
                "INSERT INTO HOCVIEN VALUES ('K1312', 'Nguyen Thi Kim', 'Yen', '7/9/1986', 'Nu', 'TpHCM', 'K13')"
            ]
        },
        {
            "cell_type": "code",
            "execution_count": null,
            "metadata": {
                "azdata_cell_guid": "8b2c5c05-45de-4568-b844-e8ac888469b4",
                "language": "sql",
                "tags": []
            },
            "outputs": [],
            "source": [
                "INSERT INTO KETQUATHI VALUES ('K1101', 'CSDL', 1, '20/7/2006', 10.00, 'Dat')\n",
                "INSERT INTO KETQUATHI VALUES ('K1101', 'CTDLGT', 1, '28/12/2006', 9.00, 'Dat')\n",
                "INSERT INTO KETQUATHI VALUES ('K1101', 'THDC', 1, '20/5/2006', 9.00, 'Dat')\n",
                "INSERT INTO KETQUATHI VALUES ('K1101', 'CTRR', 1, '13/5/2006', 9.50, 'Dat')\n",
                "INSERT INTO KETQUATHI VALUES ('K1102', 'CSDL', 1, '20/7/2006', 4.00, 'Khong Dat')\n",
                "INSERT INTO KETQUATHI VALUES ('K1102', 'CSDL', 2, '27/7/2006', 4.25, 'Khong Dat')\n",
                "INSERT INTO KETQUATHI VALUES ('K1102', 'CSDL', 3, '10/8/2006', 4.50, 'Khong Dat')\n",
                "INSERT INTO KETQUATHI VALUES ('K1102', 'CTDLGT', 1, '28/12/2006', 4.50, 'Khong Dat')\n",
                "INSERT INTO KETQUATHI VALUES ('K1102', 'CTDLGT', 2, '5/1/2007', 4.00, 'Khong Dat')\n",
                "INSERT INTO KETQUATHI VALUES ('K1102', 'CTDLGT', 3, '15/1/2007', 6.00, 'Dat')\n",
                "INSERT INTO KETQUATHI VALUES ('K1102', 'THDC', 1, '20/5/2006', 5.00, 'Dat')\n",
                "INSERT INTO KETQUATHI VALUES ('K1102', 'CTRR', 1, '13/5/2006', 7.00, 'Dat')\n",
                "INSERT INTO KETQUATHI VALUES ('K1103', 'CSDL', 1, '20/7/2006', 3.50, 'Khong Dat')\n",
                "INSERT INTO KETQUATHI VALUES ('K1103', 'CSDL', 2, '27/7/2006', 8.25, 'Dat')\n",
                "INSERT INTO KETQUATHI VALUES ('K1103', 'CTDLGT', 1, '28/12/2006', 7.00, 'Dat')\n",
                "INSERT INTO KETQUATHI VALUES ('K1103', 'THDC', 1, '20/5/2006', 8.00, 'Dat')\n",
                "INSERT INTO KETQUATHI VALUES ('K1103', 'CTRR', 1, '13/5/2006', 6.50, 'Dat')\n",
                "INSERT INTO KETQUATHI VALUES ('K1104', 'CSDL', 1, '20/7/2006', 3.75, 'Khong Dat')\n",
                "INSERT INTO KETQUATHI VALUES ('K1104', 'CTDLGT', 1, '28/12/2006', 4.00, 'Khong Dat')\n",
                "INSERT INTO KETQUATHI VALUES ('K1104', 'THDC', 1, '20/5/2006', 4.00, 'Khong Dat')\n",
                "INSERT INTO KETQUATHI VALUES ('K1104', 'CTRR', 1, '13/5/2006', 4.00, 'Khong Dat')\n",
                "INSERT INTO KETQUATHI VALUES ('K1104', 'CTRR', 2, '20/5/2006', 3.50, 'Khong Dat')\n",
                "INSERT INTO KETQUATHI VALUES ('K1104', 'CTRR', 3, '30/6/2006', 4.00, 'Khong Dat')\n",
                "INSERT INTO KETQUATHI VALUES ('K1201', 'CSDL', 1, '20/7/2006', 6.00, 'Dat')\n",
                "INSERT INTO KETQUATHI VALUES ('K1201', 'CTDLGT', 1, '28/12/2006', 5.00, 'Dat')\n",
                "INSERT INTO KETQUATHI VALUES ('K1201', 'THDC', 1, '20/5/2006', 8.50, 'Dat')\n",
                "INSERT INTO KETQUATHI VALUES ('K1201', 'CTRR', 1, '13/5/2006', 9.00, 'Dat')\n",
                "INSERT INTO KETQUATHI VALUES ('K1202', 'CSDL', 1, '20/7/2006', 8.00, 'Dat')\n",
                "INSERT INTO KETQUATHI VALUES ('K1202', 'CTDLGT', 1, '28/12/2006', 4.00, 'Khong Dat')\n",
                "INSERT INTO KETQUATHI VALUES ('K1202', 'CTDLGT', 2, '5/1/2007', 5.00, 'Dat')\n",
                "INSERT INTO KETQUATHI VALUES ('K1202', 'THDC', 1, '20/5/2006', 4.00, 'Khong Dat')\n",
                "INSERT INTO KETQUATHI VALUES ('K1202', 'THDC', 2, '27/5/2006', 4.00, 'Khong Dat')\n",
                "INSERT INTO KETQUATHI VALUES ('K1202', 'CTRR', 1, '13/5/2006', 3.00, 'Khong Dat')\n",
                "INSERT INTO KETQUATHI VALUES ('K1202', 'CTRR', 2, '20/5/2006', 4.00, 'Khong Dat')\n",
                "INSERT INTO KETQUATHI VALUES ('K1202', 'CTRR', 3, '30/6/2006', 6.25, 'Dat')\n",
                "INSERT INTO KETQUATHI VALUES ('K1203', 'CSDL', 1, '20/7/2006', 9.25, 'Dat')\n",
                "INSERT INTO KETQUATHI VALUES ('K1203', 'CTDLGT', 1, '28/12/2006', 9.50, 'Dat')\n",
                "INSERT INTO KETQUATHI VALUES ('K1203', 'THDC', 1, '20/5/2006', 10.00, 'Dat')\n",
                "INSERT INTO KETQUATHI VALUES ('K1203', 'CTRR', 1, '13/5/2006', 10.00, 'Dat')\n",
                "INSERT INTO KETQUATHI VALUES ('K1204', 'CSDL', 1, '20/7/2006', 8.50, 'Dat')\n",
                "INSERT INTO KETQUATHI VALUES ('K1204', 'CTDLGT', 1, '28/12/2006', 6.75, 'Dat')\n",
                "INSERT INTO KETQUATHI VALUES ('K1204', 'THDC', 1, '20/5/2006', 4.00, 'Khong Dat')\n",
                "INSERT INTO KETQUATHI VALUES ('K1204', 'CTRR', 1, '13/5/2006', 6.00, 'Dat')\n",
                "INSERT INTO KETQUATHI VALUES ('K1301', 'CSDL', 1, '20/12/2006', 4.25, 'Khong Dat')\n",
                "INSERT INTO KETQUATHI VALUES ('K1301', 'CTDLGT', 1, '25/7/2006', 8.00, 'Dat')\n",
                "INSERT INTO KETQUATHI VALUES ('K1301', 'THDC', 1, '20/5/2006', 7.75, 'Dat')\n",
                "INSERT INTO KETQUATHI VALUES ('K1301', 'CTRR', 1, '13/5/2006', 8.00, 'Dat')\n",
                "INSERT INTO KETQUATHI VALUES ('K1302', 'CSDL', 1, '20/12/2006', 6.75, 'Dat')\n",
                "INSERT INTO KETQUATHI VALUES ('K1302', 'CTDLGT', 1, '25/7/2006', 5.00, 'Dat')\n",
                "INSERT INTO KETQUATHI VALUES ('K1302', 'THDC', 1, '20/5/2006', 8.00, 'Dat')\n",
                "INSERT INTO KETQUATHI VALUES ('K1302', 'CTRR', 1, '13/5/2006', 8.50, 'Dat')\n",
                "INSERT INTO KETQUATHI VALUES ('K1303', 'CSDL', 1, '20/12/2006', 4.00, 'Khong Dat')\n",
                "INSERT INTO KETQUATHI VALUES ('K1303', 'CTDLGT', 1, '25/7/2006', 4.50, 'Khong Dat')\n",
                "INSERT INTO KETQUATHI VALUES ('K1303', 'CTDLGT', 2, '7/8/2006', 4.00, 'Khong Dat')\n",
                "INSERT INTO KETQUATHI VALUES ('K1303', 'CTDLGT', 3, '15/8/2006', 4.25, 'Khong Dat')\n",
                "INSERT INTO KETQUATHI VALUES ('K1303', 'THDC', 1, '20/5/2006', 4.50, 'Khong Dat')\n",
                "INSERT INTO KETQUATHI VALUES ('K1303', 'CTRR', 1, '13/5/2006', 3.25, 'Khong Dat')\n",
                "INSERT INTO KETQUATHI VALUES ('K1303', 'CTRR', 2, '20/5/2006', 5.00, 'Dat')\n",
                "INSERT INTO KETQUATHI VALUES ('K1304', 'CSDL', 1, '20/12/2006', 7.75, 'Dat')\n",
                "INSERT INTO KETQUATHI VALUES ('K1304', 'CTDLGT', 1, '25/7/2006', 9.75, 'Dat')\n",
                "INSERT INTO KETQUATHI VALUES ('K1304', 'THDC', 1, '20/5/2006', 5.50, 'Dat')\n",
                "INSERT INTO KETQUATHI VALUES ('K1304', 'CTRR', 1, '13/5/2006', 5.00, 'Dat')\n",
                "INSERT INTO KETQUATHI VALUES ('K1305', 'CSDL', 1, '20/12/2006', 9.25, 'Dat')\n",
                "INSERT INTO KETQUATHI VALUES ('K1305', 'CTDLGT', 1, '25/7/2006', 10.00, 'Dat')\n",
                "INSERT INTO KETQUATHI VALUES ('K1305', 'THDC', 1, '20/5/2006', 8.00, 'Dat')\n",
                "INSERT INTO KETQUATHI VALUES ('K1305', 'CTRR', 1, '13/5/2006', 10.00, 'Dat')"
            ]
        },
        {
            "cell_type": "code",
            "execution_count": null,
            "metadata": {
                "azdata_cell_guid": "c03615b7-6987-4502-83cf-51057166b454",
                "language": "sql",
                "tags": []
            },
            "outputs": [],
            "source": [
                "-- I. 1: Tạo quan hệ và khai báo tất cả các ràng buộc khóa chính, khóa ngoại. Thêm vào 3 thuộc tính GHICHU, DIEMTB, XEPLOAI cho quan hệ HOCVIEN.\n",
                "\n",
                "ALTER TABLE HOCVIEN ADD \n",
                "    GHICHU VARCHAR(1000),\n",
                "    DIEMTB NUMERIC(4,2),\n",
                "    XEPLOAI VARCHAR(20)"
            ]
        },
        {
            "cell_type": "code",
            "execution_count": null,
            "metadata": {
                "azdata_cell_guid": "f584a97b-14c4-4738-9c08-1ab7f26c1ca6",
                "language": "sql",
                "tags": []
            },
            "outputs": [],
            "source": [
                "-- I. 3: Thuộc tính GIOITINH chỉ có giá trị là “Nam” hoặc “Nu”.\n",
                "\n",
                "ALTER TABLE HOCVIEN ADD CONSTRAINT GIOITINH CHECK (GIOITINH IN ('Nam', 'Nu'))"
            ]
        },
        {
            "cell_type": "code",
            "execution_count": 2,
            "metadata": {
                "azdata_cell_guid": "dd57a898-31c5-4655-83b2-898ddc228a08",
                "language": "sql",
                "tags": []
            },
            "outputs": [
                {
                    "ename": "",
                    "evalue": "Msg 2714, Level 16, State 5, Line 3\nThere is already an object named 'DIEM' in the database.",
                    "output_type": "error",
                    "traceback": []
                },
                {
                    "ename": "",
                    "evalue": "Msg 1750, Level 16, State 1, Line 3\nCould not create constraint or index. See previous errors.",
                    "output_type": "error",
                    "traceback": []
                },
                {
                    "data": {
                        "text/html": [
                            "Total execution time: 00:00:00.001"
                        ]
                    },
                    "metadata": {},
                    "output_type": "display_data"
                }
            ],
            "source": [
                "-- I. 4: Điểm số của một lần thi có giá trị từ 0 đến 10 và cần lưu đến 2 số lẽ (VD: 6.22).\n",
                "\n",
                "ALTER TABLE KETQUATHI ADD CONSTRAINT DIEM CHECK (DIEM >= 0 AND DIEM <= 10)\n",
                "ALTER TABLE KETQUATHI ALTER COLUMN DIEM NUMERIC (2, 2)"
            ]
        },
        {
            "cell_type": "code",
            "execution_count": 12,
            "metadata": {
                "azdata_cell_guid": "17de93ec-83e9-42ec-8f60-5f38a3620dee",
                "language": "sql"
            },
            "outputs": [
                {
                    "data": {
                        "text/html": [
                            "(4 rows affected)"
                        ]
                    },
                    "metadata": {},
                    "output_type": "display_data"
                },
                {
                    "data": {
                        "text/html": [
                            "Total execution time: 00:00:00.006"
                        ]
                    },
                    "metadata": {},
                    "output_type": "display_data"
                }
            ],
            "source": [
                "-- II. 1: Tăng hệ số lương thêm 0.2 cho những giáo viên là trưởng khoa.\n",
                "\n",
                "UPDATE GIAOVIEN SET HESO = HESO + 0.2 WHERE (MAGV IN (SELECT TRGKHOA FROM KHOA))"
            ]
        },
        {
            "cell_type": "code",
            "execution_count": 51,
            "metadata": {
                "azdata_cell_guid": "f5700096-addb-40dd-9824-fbbaf362e5b7",
                "language": "sql"
            },
            "outputs": [
                {
                    "data": {
                        "text/html": [
                            "(13 rows affected)"
                        ]
                    },
                    "metadata": {},
                    "output_type": "display_data"
                },
                {
                    "data": {
                        "text/html": [
                            "(35 rows affected)"
                        ]
                    },
                    "metadata": {},
                    "output_type": "display_data"
                },
                {
                    "data": {
                        "text/html": [
                            "(35 rows affected)"
                        ]
                    },
                    "metadata": {},
                    "output_type": "display_data"
                },
                {
                    "data": {
                        "text/html": [
                            "Total execution time: 00:00:00.010"
                        ]
                    },
                    "metadata": {},
                    "output_type": "display_data"
                },
                {
                    "data": {
                        "application/vnd.dataresource+json": {
                            "data": [
                                {
                                    "0": "K1101",
                                    "1": "Nguyen Van",
                                    "2": "A",
                                    "3": "1986-01-27 00:00:00",
                                    "4": "Nam",
                                    "5": "TpHCM",
                                    "6": "K11",
                                    "7": "NULL",
                                    "8": "9.38",
                                    "9": "NULL"
                                },
                                {
                                    "0": "K1102",
                                    "1": "Tran Ngoc",
                                    "2": "Han",
                                    "3": "1986-03-14 00:00:00",
                                    "4": "Nu",
                                    "5": "Kien Giang",
                                    "6": "K11",
                                    "7": "Cam thi",
                                    "8": "5.63",
                                    "9": "NULL"
                                },
                                {
                                    "0": "K1103",
                                    "1": "Ha Duy",
                                    "2": "Lap",
                                    "3": "1986-04-18 00:00:00",
                                    "4": "Nam",
                                    "5": "Nghe An",
                                    "6": "K11",
                                    "7": "NULL",
                                    "8": "7.44",
                                    "9": "NULL"
                                },
                                {
                                    "0": "K1104",
                                    "1": "Tran Ngoc",
                                    "2": "Linh",
                                    "3": "1986-03-30 00:00:00",
                                    "4": "Nu",
                                    "5": "Tay Ninh",
                                    "6": "K11",
                                    "7": "Cam thi",
                                    "8": "3.94",
                                    "9": "NULL"
                                },
                                {
                                    "0": "K1105",
                                    "1": "Tran Minh",
                                    "2": "Long",
                                    "3": "1986-02-27 00:00:00",
                                    "4": "Nam",
                                    "5": "TpHCM",
                                    "6": "K11",
                                    "7": "NULL",
                                    "8": "NULL",
                                    "9": "NULL"
                                },
                                {
                                    "0": "K1106",
                                    "1": "Le Nhat",
                                    "2": "Minh",
                                    "3": "1986-01-24 00:00:00",
                                    "4": "Nam",
                                    "5": "TpHCM",
                                    "6": "K11",
                                    "7": "NULL",
                                    "8": "NULL",
                                    "9": "NULL"
                                },
                                {
                                    "0": "K1107",
                                    "1": "Nguyen Nhu",
                                    "2": "Nhut",
                                    "3": "1986-01-27 00:00:00",
                                    "4": "Nam",
                                    "5": "Ha Noi",
                                    "6": "K11",
                                    "7": "NULL",
                                    "8": "NULL",
                                    "9": "NULL"
                                },
                                {
                                    "0": "K1108",
                                    "1": "Nguyen Manh",
                                    "2": "Tam",
                                    "3": "1986-02-27 00:00:00",
                                    "4": "Nam",
                                    "5": "Kien Giang",
                                    "6": "K11",
                                    "7": "NULL",
                                    "8": "NULL",
                                    "9": "NULL"
                                },
                                {
                                    "0": "K1109",
                                    "1": "Phan Thi Thanh",
                                    "2": "Tam",
                                    "3": "1986-01-27 00:00:00",
                                    "4": "Nu",
                                    "5": "Vinh Long",
                                    "6": "K11",
                                    "7": "NULL",
                                    "8": "NULL",
                                    "9": "NULL"
                                },
                                {
                                    "0": "K1110",
                                    "1": "Le Hoai",
                                    "2": "Thuong",
                                    "3": "1986-02-05 00:00:00",
                                    "4": "Nu",
                                    "5": "Can Tho",
                                    "6": "K11",
                                    "7": "NULL",
                                    "8": "NULL",
                                    "9": "NULL"
                                },
                                {
                                    "0": "K1111",
                                    "1": "Le Ha",
                                    "2": "Vinh",
                                    "3": "1986-12-25 00:00:00",
                                    "4": "Nam",
                                    "5": "Vinh Long",
                                    "6": "K11",
                                    "7": "NULL",
                                    "8": "NULL",
                                    "9": "NULL"
                                },
                                {
                                    "0": "K1201",
                                    "1": "Nguyen Van",
                                    "2": "B",
                                    "3": "1986-02-11 00:00:00",
                                    "4": "Nam",
                                    "5": "TpHCM",
                                    "6": "K12",
                                    "7": "NULL",
                                    "8": "7.13",
                                    "9": "NULL"
                                },
                                {
                                    "0": "K1202",
                                    "1": "Nguyen Thi Kim",
                                    "2": "Duyen",
                                    "3": "1986-01-18 00:00:00",
                                    "4": "Nu",
                                    "5": "TpHCM",
                                    "6": "K12",
                                    "7": "NULL",
                                    "8": "5.81",
                                    "9": "NULL"
                                },
                                {
                                    "0": "K1203",
                                    "1": "Tran Thi Kim",
                                    "2": "Duyen",
                                    "3": "1986-09-17 00:00:00",
                                    "4": "Nu",
                                    "5": "TpHCM",
                                    "6": "K12",
                                    "7": "NULL",
                                    "8": "9.69",
                                    "9": "NULL"
                                },
                                {
                                    "0": "K1204",
                                    "1": "Truong My",
                                    "2": "Hanh",
                                    "3": "1986-05-19 00:00:00",
                                    "4": "Nu",
                                    "5": "Dong Nai",
                                    "6": "K12",
                                    "7": "NULL",
                                    "8": "6.31",
                                    "9": "NULL"
                                },
                                {
                                    "0": "K1205",
                                    "1": "Nguyen Thanh",
                                    "2": "Nam",
                                    "3": "1986-04-17 00:00:00",
                                    "4": "Nam",
                                    "5": "TpHCM",
                                    "6": "K12",
                                    "7": "NULL",
                                    "8": "NULL",
                                    "9": "NULL"
                                },
                                {
                                    "0": "K1206",
                                    "1": "Nguyen Thi Truc",
                                    "2": "Thanh",
                                    "3": "1986-03-04 00:00:00",
                                    "4": "Nu",
                                    "5": "Kien Giang",
                                    "6": "K12",
                                    "7": "NULL",
                                    "8": "NULL",
                                    "9": "NULL"
                                },
                                {
                                    "0": "K1207",
                                    "1": "Tran Thi Bich",
                                    "2": "Thuy",
                                    "3": "1986-02-08 00:00:00",
                                    "4": "Nu",
                                    "5": "Nghe An",
                                    "6": "K12",
                                    "7": "NULL",
                                    "8": "NULL",
                                    "9": "NULL"
                                },
                                {
                                    "0": "K1208",
                                    "1": "Huynh Thi Kim",
                                    "2": "Trieu",
                                    "3": "1986-04-08 00:00:00",
                                    "4": "Nu",
                                    "5": "Tay Ninh",
                                    "6": "K12",
                                    "7": "NULL",
                                    "8": "NULL",
                                    "9": "NULL"
                                },
                                {
                                    "0": "K1209",
                                    "1": "Pham Thanh",
                                    "2": "Trieu",
                                    "3": "1986-02-23 00:00:00",
                                    "4": "Nam",
                                    "5": "TpHCM",
                                    "6": "K12",
                                    "7": "NULL",
                                    "8": "NULL",
                                    "9": "NULL"
                                },
                                {
                                    "0": "K1210",
                                    "1": "Ngo Thanh",
                                    "2": "Tuan",
                                    "3": "1986-02-14 00:00:00",
                                    "4": "Nam",
                                    "5": "TpHCM",
                                    "6": "K12",
                                    "7": "NULL",
                                    "8": "NULL",
                                    "9": "NULL"
                                },
                                {
                                    "0": "K1211",
                                    "1": "Do Thi",
                                    "2": "Xuan",
                                    "3": "1986-03-09 00:00:00",
                                    "4": "Nu",
                                    "5": "Ha Noi",
                                    "6": "K12",
                                    "7": "NULL",
                                    "8": "NULL",
                                    "9": "NULL"
                                },
                                {
                                    "0": "K1212",
                                    "1": "Le Thi Phi",
                                    "2": "Yen",
                                    "3": "1986-03-12 00:00:00",
                                    "4": "Nu",
                                    "5": "TpHCM",
                                    "6": "K12",
                                    "7": "NULL",
                                    "8": "NULL",
                                    "9": "NULL"
                                },
                                {
                                    "0": "K1301",
                                    "1": "Nguyen Thi Kim",
                                    "2": "Cuc",
                                    "3": "1986-06-09 00:00:00",
                                    "4": "Nu",
                                    "5": "Kien Giang",
                                    "6": "K13",
                                    "7": "NULL",
                                    "8": "7.00",
                                    "9": "NULL"
                                },
                                {
                                    "0": "K1302",
                                    "1": "Truong Thi My",
                                    "2": "Hien",
                                    "3": "1986-03-18 00:00:00",
                                    "4": "Nu",
                                    "5": "Nghe An",
                                    "6": "K13",
                                    "7": "NULL",
                                    "8": "7.06",
                                    "9": "NULL"
                                },
                                {
                                    "0": "K1303",
                                    "1": "Le Duc",
                                    "2": "Hien",
                                    "3": "1986-03-21 00:00:00",
                                    "4": "Nam",
                                    "5": "Tay Ninh",
                                    "6": "K13",
                                    "7": "Cam thi",
                                    "8": "4.44",
                                    "9": "NULL"
                                },
                                {
                                    "0": "K1304",
                                    "1": "Le Quang",
                                    "2": "Hien",
                                    "3": "1986-04-18 00:00:00",
                                    "4": "Nam",
                                    "5": "TpHCM",
                                    "6": "K13",
                                    "7": "NULL",
                                    "8": "7.00",
                                    "9": "NULL"
                                },
                                {
                                    "0": "K1305",
                                    "1": "Le Thi",
                                    "2": "Huong",
                                    "3": "1986-03-27 00:00:00",
                                    "4": "Nu",
                                    "5": "TpHCM",
                                    "6": "K13",
                                    "7": "NULL",
                                    "8": "9.31",
                                    "9": "NULL"
                                },
                                {
                                    "0": "K1306",
                                    "1": "Nguyen Thai",
                                    "2": "Huu",
                                    "3": "1986-03-30 00:00:00",
                                    "4": "Nam",
                                    "5": "Ha Noi",
                                    "6": "K13",
                                    "7": "NULL",
                                    "8": "NULL",
                                    "9": "NULL"
                                },
                                {
                                    "0": "K1307",
                                    "1": "Tran Minh",
                                    "2": "Man",
                                    "3": "1986-05-28 00:00:00",
                                    "4": "Nam",
                                    "5": "TpHCM",
                                    "6": "K13",
                                    "7": "NULL",
                                    "8": "NULL",
                                    "9": "NULL"
                                },
                                {
                                    "0": "K1308",
                                    "1": "Nguyen Hieu",
                                    "2": "Nghia",
                                    "3": "1986-04-08 00:00:00",
                                    "4": "Nam",
                                    "5": "Kien Giang",
                                    "6": "K13",
                                    "7": "NULL",
                                    "8": "NULL",
                                    "9": "NULL"
                                },
                                {
                                    "0": "K1309",
                                    "1": "Nguyen Trung",
                                    "2": "Nghia",
                                    "3": "1987-01-18 00:00:00",
                                    "4": "Nam",
                                    "5": "Nghe An",
                                    "6": "K13",
                                    "7": "NULL",
                                    "8": "NULL",
                                    "9": "NULL"
                                },
                                {
                                    "0": "K1310",
                                    "1": "Tran Thi Hong",
                                    "2": "Tham",
                                    "3": "1986-04-22 00:00:00",
                                    "4": "Nu",
                                    "5": "Tay Ninh",
                                    "6": "K13",
                                    "7": "NULL",
                                    "8": "NULL",
                                    "9": "NULL"
                                },
                                {
                                    "0": "K1311",
                                    "1": "Tran Minh",
                                    "2": "Thuc",
                                    "3": "1986-04-04 00:00:00",
                                    "4": "Nam",
                                    "5": "TpHCM",
                                    "6": "K13",
                                    "7": "NULL",
                                    "8": "NULL",
                                    "9": "NULL"
                                },
                                {
                                    "0": "K1312",
                                    "1": "Nguyen Thi Kim",
                                    "2": "Yen",
                                    "3": "1986-09-07 00:00:00",
                                    "4": "Nu",
                                    "5": "TpHCM",
                                    "6": "K13",
                                    "7": "NULL",
                                    "8": "NULL",
                                    "9": "NULL"
                                }
                            ],
                            "schema": {
                                "fields": [
                                    {
                                        "name": "MAHV"
                                    },
                                    {
                                        "name": "HO"
                                    },
                                    {
                                        "name": "TEN"
                                    },
                                    {
                                        "name": "NGSINH"
                                    },
                                    {
                                        "name": "GIOITINH"
                                    },
                                    {
                                        "name": "NOISINH"
                                    },
                                    {
                                        "name": "MALOP"
                                    },
                                    {
                                        "name": "GHICHU"
                                    },
                                    {
                                        "name": "DIEMTB"
                                    },
                                    {
                                        "name": "XEPLOAI"
                                    }
                                ]
                            }
                        },
                        "text/html": [
                            "<table><tr><th>MAHV</th><th>HO</th><th>TEN</th><th>NGSINH</th><th>GIOITINH</th><th>NOISINH</th><th>MALOP</th><th>GHICHU</th><th>DIEMTB</th><th>XEPLOAI</th></tr><tr><td>K1101</td><td>Nguyen Van</td><td>A</td><td>1986-01-27 00:00:00</td><td>Nam</td><td>TpHCM</td><td>K11</td><td>NULL</td><td>9.38</td><td>NULL</td></tr><tr><td>K1102</td><td>Tran Ngoc</td><td>Han</td><td>1986-03-14 00:00:00</td><td>Nu</td><td>Kien Giang</td><td>K11</td><td>Cam thi</td><td>5.63</td><td>NULL</td></tr><tr><td>K1103</td><td>Ha Duy</td><td>Lap</td><td>1986-04-18 00:00:00</td><td>Nam</td><td>Nghe An</td><td>K11</td><td>NULL</td><td>7.44</td><td>NULL</td></tr><tr><td>K1104</td><td>Tran Ngoc</td><td>Linh</td><td>1986-03-30 00:00:00</td><td>Nu</td><td>Tay Ninh</td><td>K11</td><td>Cam thi</td><td>3.94</td><td>NULL</td></tr><tr><td>K1105</td><td>Tran Minh</td><td>Long</td><td>1986-02-27 00:00:00</td><td>Nam</td><td>TpHCM</td><td>K11</td><td>NULL</td><td>NULL</td><td>NULL</td></tr><tr><td>K1106</td><td>Le Nhat</td><td>Minh</td><td>1986-01-24 00:00:00</td><td>Nam</td><td>TpHCM</td><td>K11</td><td>NULL</td><td>NULL</td><td>NULL</td></tr><tr><td>K1107</td><td>Nguyen Nhu</td><td>Nhut</td><td>1986-01-27 00:00:00</td><td>Nam</td><td>Ha Noi</td><td>K11</td><td>NULL</td><td>NULL</td><td>NULL</td></tr><tr><td>K1108</td><td>Nguyen Manh</td><td>Tam</td><td>1986-02-27 00:00:00</td><td>Nam</td><td>Kien Giang</td><td>K11</td><td>NULL</td><td>NULL</td><td>NULL</td></tr><tr><td>K1109</td><td>Phan Thi Thanh</td><td>Tam</td><td>1986-01-27 00:00:00</td><td>Nu</td><td>Vinh Long</td><td>K11</td><td>NULL</td><td>NULL</td><td>NULL</td></tr><tr><td>K1110</td><td>Le Hoai</td><td>Thuong</td><td>1986-02-05 00:00:00</td><td>Nu</td><td>Can Tho</td><td>K11</td><td>NULL</td><td>NULL</td><td>NULL</td></tr><tr><td>K1111</td><td>Le Ha</td><td>Vinh</td><td>1986-12-25 00:00:00</td><td>Nam</td><td>Vinh Long</td><td>K11</td><td>NULL</td><td>NULL</td><td>NULL</td></tr><tr><td>K1201</td><td>Nguyen Van</td><td>B</td><td>1986-02-11 00:00:00</td><td>Nam</td><td>TpHCM</td><td>K12</td><td>NULL</td><td>7.13</td><td>NULL</td></tr><tr><td>K1202</td><td>Nguyen Thi Kim</td><td>Duyen</td><td>1986-01-18 00:00:00</td><td>Nu</td><td>TpHCM</td><td>K12</td><td>NULL</td><td>5.81</td><td>NULL</td></tr><tr><td>K1203</td><td>Tran Thi Kim</td><td>Duyen</td><td>1986-09-17 00:00:00</td><td>Nu</td><td>TpHCM</td><td>K12</td><td>NULL</td><td>9.69</td><td>NULL</td></tr><tr><td>K1204</td><td>Truong My</td><td>Hanh</td><td>1986-05-19 00:00:00</td><td>Nu</td><td>Dong Nai</td><td>K12</td><td>NULL</td><td>6.31</td><td>NULL</td></tr><tr><td>K1205</td><td>Nguyen Thanh</td><td>Nam</td><td>1986-04-17 00:00:00</td><td>Nam</td><td>TpHCM</td><td>K12</td><td>NULL</td><td>NULL</td><td>NULL</td></tr><tr><td>K1206</td><td>Nguyen Thi Truc</td><td>Thanh</td><td>1986-03-04 00:00:00</td><td>Nu</td><td>Kien Giang</td><td>K12</td><td>NULL</td><td>NULL</td><td>NULL</td></tr><tr><td>K1207</td><td>Tran Thi Bich</td><td>Thuy</td><td>1986-02-08 00:00:00</td><td>Nu</td><td>Nghe An</td><td>K12</td><td>NULL</td><td>NULL</td><td>NULL</td></tr><tr><td>K1208</td><td>Huynh Thi Kim</td><td>Trieu</td><td>1986-04-08 00:00:00</td><td>Nu</td><td>Tay Ninh</td><td>K12</td><td>NULL</td><td>NULL</td><td>NULL</td></tr><tr><td>K1209</td><td>Pham Thanh</td><td>Trieu</td><td>1986-02-23 00:00:00</td><td>Nam</td><td>TpHCM</td><td>K12</td><td>NULL</td><td>NULL</td><td>NULL</td></tr><tr><td>K1210</td><td>Ngo Thanh</td><td>Tuan</td><td>1986-02-14 00:00:00</td><td>Nam</td><td>TpHCM</td><td>K12</td><td>NULL</td><td>NULL</td><td>NULL</td></tr><tr><td>K1211</td><td>Do Thi</td><td>Xuan</td><td>1986-03-09 00:00:00</td><td>Nu</td><td>Ha Noi</td><td>K12</td><td>NULL</td><td>NULL</td><td>NULL</td></tr><tr><td>K1212</td><td>Le Thi Phi</td><td>Yen</td><td>1986-03-12 00:00:00</td><td>Nu</td><td>TpHCM</td><td>K12</td><td>NULL</td><td>NULL</td><td>NULL</td></tr><tr><td>K1301</td><td>Nguyen Thi Kim</td><td>Cuc</td><td>1986-06-09 00:00:00</td><td>Nu</td><td>Kien Giang</td><td>K13</td><td>NULL</td><td>7.00</td><td>NULL</td></tr><tr><td>K1302</td><td>Truong Thi My</td><td>Hien</td><td>1986-03-18 00:00:00</td><td>Nu</td><td>Nghe An</td><td>K13</td><td>NULL</td><td>7.06</td><td>NULL</td></tr><tr><td>K1303</td><td>Le Duc</td><td>Hien</td><td>1986-03-21 00:00:00</td><td>Nam</td><td>Tay Ninh</td><td>K13</td><td>Cam thi</td><td>4.44</td><td>NULL</td></tr><tr><td>K1304</td><td>Le Quang</td><td>Hien</td><td>1986-04-18 00:00:00</td><td>Nam</td><td>TpHCM</td><td>K13</td><td>NULL</td><td>7.00</td><td>NULL</td></tr><tr><td>K1305</td><td>Le Thi</td><td>Huong</td><td>1986-03-27 00:00:00</td><td>Nu</td><td>TpHCM</td><td>K13</td><td>NULL</td><td>9.31</td><td>NULL</td></tr><tr><td>K1306</td><td>Nguyen Thai</td><td>Huu</td><td>1986-03-30 00:00:00</td><td>Nam</td><td>Ha Noi</td><td>K13</td><td>NULL</td><td>NULL</td><td>NULL</td></tr><tr><td>K1307</td><td>Tran Minh</td><td>Man</td><td>1986-05-28 00:00:00</td><td>Nam</td><td>TpHCM</td><td>K13</td><td>NULL</td><td>NULL</td><td>NULL</td></tr><tr><td>K1308</td><td>Nguyen Hieu</td><td>Nghia</td><td>1986-04-08 00:00:00</td><td>Nam</td><td>Kien Giang</td><td>K13</td><td>NULL</td><td>NULL</td><td>NULL</td></tr><tr><td>K1309</td><td>Nguyen Trung</td><td>Nghia</td><td>1987-01-18 00:00:00</td><td>Nam</td><td>Nghe An</td><td>K13</td><td>NULL</td><td>NULL</td><td>NULL</td></tr><tr><td>K1310</td><td>Tran Thi Hong</td><td>Tham</td><td>1986-04-22 00:00:00</td><td>Nu</td><td>Tay Ninh</td><td>K13</td><td>NULL</td><td>NULL</td><td>NULL</td></tr><tr><td>K1311</td><td>Tran Minh</td><td>Thuc</td><td>1986-04-04 00:00:00</td><td>Nam</td><td>TpHCM</td><td>K13</td><td>NULL</td><td>NULL</td><td>NULL</td></tr><tr><td>K1312</td><td>Nguyen Thi Kim</td><td>Yen</td><td>1986-09-07 00:00:00</td><td>Nu</td><td>TpHCM</td><td>K13</td><td>NULL</td><td>NULL</td><td>NULL</td></tr></table>"
                        ]
                    },
                    "execution_count": 51,
                    "metadata": {},
                    "output_type": "execute_result"
                },
                {
                    "ename": "",
                    "evalue": "Msg 3701, Level 11, State 5, Line 7\nCannot drop the table 'DIEM_TABLE', because it does not exist or you do not have permission.",
                    "output_type": "error",
                    "traceback": []
                }
            ],
            "source": [
                "-- II. 2: Cập nhật giá trị điểm trung bình tất cả các môn học (DIEMTB) của mỗi học viên (tất cả các môn\n",
                "-- học đều có hệ số 1 và nếu học viên thi một môn nhiều lần, chỉ lấy điểm của lần thi sau cùng).\n",
                "\n",
                "SELECT MAHV, MAMH, MAX(LANTHI) AS LANTHI INTO TEMP FROM KETQUATHI GROUP BY MAHV, MAMH\n",
                "\n",
                "SELECT KETQUATHI.MAHV, AVG(DIEM) AS DIEM INTO DIEM_TABLE FROM KETQUATHI\n",
                "JOIN TEMP ON KETQUATHI.MAHV = TEMP.MAHV AND KETQUATHI.MAMH = TEMP.MAMH AND KETQUATHI.LANTHI = TEMP.LANTHI \n",
                "GROUP BY KETQUATHI.MAHV \n",
                " \n",
                "UPDATE HOCVIEN SET DIEMTB = (SELECT DIEM FROM DIEM_TABLE WHERE HOCVIEN.MAHV = DIEM_TABLE.MAHV) \n",
                "SELECT * FROM HOCVIEN\n",
                "\n",
                "DROP TABLE TEMP\n",
                "DROP TABLE DIEM_TABLE"
            ]
        },
        {
            "cell_type": "code",
            "execution_count": 3,
            "metadata": {
                "azdata_cell_guid": "dad7f7a5-ec71-4446-9e5a-920330a66e2e",
                "language": "sql"
            },
            "outputs": [
                {
                    "data": {
                        "text/html": [
                            "(3 rows affected)"
                        ]
                    },
                    "metadata": {},
                    "output_type": "display_data"
                },
                {
                    "data": {
                        "text/html": [
                            "Total execution time: 00:00:00.012"
                        ]
                    },
                    "metadata": {},
                    "output_type": "display_data"
                }
            ],
            "source": [
                "-- II. 3: Cập nhật giá trị cho cột GHICHU là “Cam thi” đối với trường hợp: học viên có một môn bất kỳ thi\n",
                "-- lần thứ 3 dưới 5 điểm.\n",
                "\n",
                "UPDATE HOCVIEN SET GHICHU='Cam thi' \n",
                "WHERE (MAHV IN (SELECT MAHV FROM KETQUATHI WHERE LANTHI = 3 AND DIEM < 5))"
            ]
        },
        {
            "cell_type": "code",
            "execution_count": 4,
            "metadata": {
                "azdata_cell_guid": "fff9a2b5-a974-4149-9baf-340816c22490",
                "language": "sql"
            },
            "outputs": [
                {
                    "data": {
                        "text/html": [
                            "(3 rows affected)"
                        ]
                    },
                    "metadata": {},
                    "output_type": "display_data"
                },
                {
                    "data": {
                        "text/html": [
                            "Total execution time: 00:00:00.006"
                        ]
                    },
                    "metadata": {},
                    "output_type": "display_data"
                },
                {
                    "data": {
                        "application/vnd.dataresource+json": {
                            "data": [
                                {
                                    "0": "K1108",
                                    "1": "Nguyen Manh",
                                    "2": "Tam",
                                    "3": "1986-02-27 00:00:00",
                                    "4": "K11"
                                },
                                {
                                    "0": "K1205",
                                    "1": "Nguyen Thanh",
                                    "2": "Nam",
                                    "3": "1986-04-17 00:00:00",
                                    "4": "K12"
                                },
                                {
                                    "0": "K1305",
                                    "1": "Le Thi",
                                    "2": "Huong",
                                    "3": "1986-03-27 00:00:00",
                                    "4": "K13"
                                }
                            ],
                            "schema": {
                                "fields": [
                                    {
                                        "name": "MAHV"
                                    },
                                    {
                                        "name": "HO"
                                    },
                                    {
                                        "name": "TEN"
                                    },
                                    {
                                        "name": "NGSINH"
                                    },
                                    {
                                        "name": "MALOP"
                                    }
                                ]
                            }
                        },
                        "text/html": [
                            "<table><tr><th>MAHV</th><th>HO</th><th>TEN</th><th>NGSINH</th><th>MALOP</th></tr><tr><td>K1108</td><td>Nguyen Manh</td><td>Tam</td><td>1986-02-27 00:00:00</td><td>K11</td></tr><tr><td>K1205</td><td>Nguyen Thanh</td><td>Nam</td><td>1986-04-17 00:00:00</td><td>K12</td></tr><tr><td>K1305</td><td>Le Thi</td><td>Huong</td><td>1986-03-27 00:00:00</td><td>K13</td></tr></table>"
                        ]
                    },
                    "execution_count": 4,
                    "metadata": {},
                    "output_type": "execute_result"
                }
            ],
            "source": [
                "-- III. 1: In ra danh sách (mã học viên, họ tên, ngày sinh, mã lớp) lớp trưởng của các lớp.\n",
                "\n",
                "SELECT MAHV, HO, TEN, NGSINH, MALOP FROM HOCVIEN \n",
                "WHERE MAHV IN (SELECT TRGLOP FROM LOP)"
            ]
        },
        {
            "cell_type": "code",
            "execution_count": 9,
            "metadata": {
                "azdata_cell_guid": "45471abf-1d58-4ffd-9ca7-4efce033a9b7",
                "language": "sql",
                "tags": []
            },
            "outputs": [
                {
                    "data": {
                        "text/html": [
                            "(6 rows affected)"
                        ]
                    },
                    "metadata": {},
                    "output_type": "display_data"
                },
                {
                    "data": {
                        "text/html": [
                            "Total execution time: 00:00:00.007"
                        ]
                    },
                    "metadata": {},
                    "output_type": "display_data"
                },
                {
                    "data": {
                        "application/vnd.dataresource+json": {
                            "data": [
                                {
                                    "0": "K1201",
                                    "1": "Nguyen Van",
                                    "2": "B",
                                    "3": "1",
                                    "4": "9.00"
                                },
                                {
                                    "0": "K1202",
                                    "1": "Nguyen Thi Kim",
                                    "2": "Duyen",
                                    "3": "1",
                                    "4": "3.00"
                                },
                                {
                                    "0": "K1202",
                                    "1": "Nguyen Thi Kim",
                                    "2": "Duyen",
                                    "3": "2",
                                    "4": "4.00"
                                },
                                {
                                    "0": "K1202",
                                    "1": "Nguyen Thi Kim",
                                    "2": "Duyen",
                                    "3": "3",
                                    "4": "6.25"
                                },
                                {
                                    "0": "K1203",
                                    "1": "Tran Thi Kim",
                                    "2": "Duyen",
                                    "3": "1",
                                    "4": "10.00"
                                },
                                {
                                    "0": "K1204",
                                    "1": "Truong My",
                                    "2": "Hanh",
                                    "3": "1",
                                    "4": "6.00"
                                }
                            ],
                            "schema": {
                                "fields": [
                                    {
                                        "name": "MAHV"
                                    },
                                    {
                                        "name": "HO"
                                    },
                                    {
                                        "name": "TEN"
                                    },
                                    {
                                        "name": "LANTHI"
                                    },
                                    {
                                        "name": "DIEM"
                                    }
                                ]
                            }
                        },
                        "text/html": [
                            "<table><tr><th>MAHV</th><th>HO</th><th>TEN</th><th>LANTHI</th><th>DIEM</th></tr><tr><td>K1201</td><td>Nguyen Van</td><td>B</td><td>1</td><td>9.00</td></tr><tr><td>K1202</td><td>Nguyen Thi Kim</td><td>Duyen</td><td>1</td><td>3.00</td></tr><tr><td>K1202</td><td>Nguyen Thi Kim</td><td>Duyen</td><td>2</td><td>4.00</td></tr><tr><td>K1202</td><td>Nguyen Thi Kim</td><td>Duyen</td><td>3</td><td>6.25</td></tr><tr><td>K1203</td><td>Tran Thi Kim</td><td>Duyen</td><td>1</td><td>10.00</td></tr><tr><td>K1204</td><td>Truong My</td><td>Hanh</td><td>1</td><td>6.00</td></tr></table>"
                        ]
                    },
                    "execution_count": 9,
                    "metadata": {},
                    "output_type": "execute_result"
                }
            ],
            "source": [
                "-- III. 2: In ra bảng điểm khi thi (mã học viên, họ tên , lần thi, điểm số) môn CTRR của lớp “K12”, sắp xếp\n",
                "-- theo tên, họ học viên.  \n",
                "\n",
                "SELECT HOCVIEN.MAHV, HOCVIEN.HO, HOCVIEN.TEN, KETQUATHI.LANTHI, KETQUATHI.DIEM \n",
                "FROM HOCVIEN JOIN KETQUATHI ON HOCVIEN.MAHV = KETQUATHI.MAHV\n",
                "WHERE HOCVIEN.MALOP = 'K12' AND KETQUATHI.MAMH = 'CTRR'\n",
                "ORDER BY HOCVIEN.TEN, HOCVIEN.HO"
            ]
        },
        {
            "cell_type": "code",
            "execution_count": 7,
            "metadata": {
                "azdata_cell_guid": "739e0e21-27de-4e37-87aa-6279f68bf484",
                "language": "sql"
            },
            "outputs": [
                {
                    "data": {
                        "text/html": [
                            "(36 rows affected)"
                        ]
                    },
                    "metadata": {},
                    "output_type": "display_data"
                },
                {
                    "data": {
                        "text/html": [
                            "Total execution time: 00:00:00.005"
                        ]
                    },
                    "metadata": {},
                    "output_type": "display_data"
                },
                {
                    "data": {
                        "application/vnd.dataresource+json": {
                            "data": [
                                {
                                    "0": "K1101",
                                    "1": "Nguyen Van",
                                    "2": "A",
                                    "3": "CSDL"
                                },
                                {
                                    "0": "K1101",
                                    "1": "Nguyen Van",
                                    "2": "A",
                                    "3": "CTDLGT"
                                },
                                {
                                    "0": "K1101",
                                    "1": "Nguyen Van",
                                    "2": "A",
                                    "3": "CTRR"
                                },
                                {
                                    "0": "K1101",
                                    "1": "Nguyen Van",
                                    "2": "A",
                                    "3": "THDC"
                                },
                                {
                                    "0": "K1102",
                                    "1": "Tran Ngoc",
                                    "2": "Han",
                                    "3": "CTRR"
                                },
                                {
                                    "0": "K1102",
                                    "1": "Tran Ngoc",
                                    "2": "Han",
                                    "3": "THDC"
                                },
                                {
                                    "0": "K1103",
                                    "1": "Ha Duy",
                                    "2": "Lap",
                                    "3": "CTDLGT"
                                },
                                {
                                    "0": "K1103",
                                    "1": "Ha Duy",
                                    "2": "Lap",
                                    "3": "CTRR"
                                },
                                {
                                    "0": "K1103",
                                    "1": "Ha Duy",
                                    "2": "Lap",
                                    "3": "THDC"
                                },
                                {
                                    "0": "K1201",
                                    "1": "Nguyen Van",
                                    "2": "B",
                                    "3": "CSDL"
                                },
                                {
                                    "0": "K1201",
                                    "1": "Nguyen Van",
                                    "2": "B",
                                    "3": "CTDLGT"
                                },
                                {
                                    "0": "K1201",
                                    "1": "Nguyen Van",
                                    "2": "B",
                                    "3": "CTRR"
                                },
                                {
                                    "0": "K1201",
                                    "1": "Nguyen Van",
                                    "2": "B",
                                    "3": "THDC"
                                },
                                {
                                    "0": "K1202",
                                    "1": "Nguyen Thi Kim",
                                    "2": "Duyen",
                                    "3": "CSDL"
                                },
                                {
                                    "0": "K1203",
                                    "1": "Tran Thi Kim",
                                    "2": "Duyen",
                                    "3": "CSDL"
                                },
                                {
                                    "0": "K1203",
                                    "1": "Tran Thi Kim",
                                    "2": "Duyen",
                                    "3": "CTDLGT"
                                },
                                {
                                    "0": "K1203",
                                    "1": "Tran Thi Kim",
                                    "2": "Duyen",
                                    "3": "CTRR"
                                },
                                {
                                    "0": "K1203",
                                    "1": "Tran Thi Kim",
                                    "2": "Duyen",
                                    "3": "THDC"
                                },
                                {
                                    "0": "K1204",
                                    "1": "Truong My",
                                    "2": "Hanh",
                                    "3": "CSDL"
                                },
                                {
                                    "0": "K1204",
                                    "1": "Truong My",
                                    "2": "Hanh",
                                    "3": "CTDLGT"
                                },
                                {
                                    "0": "K1204",
                                    "1": "Truong My",
                                    "2": "Hanh",
                                    "3": "CTRR"
                                },
                                {
                                    "0": "K1301",
                                    "1": "Nguyen Thi Kim",
                                    "2": "Cuc",
                                    "3": "CTDLGT"
                                },
                                {
                                    "0": "K1301",
                                    "1": "Nguyen Thi Kim",
                                    "2": "Cuc",
                                    "3": "CTRR"
                                },
                                {
                                    "0": "K1301",
                                    "1": "Nguyen Thi Kim",
                                    "2": "Cuc",
                                    "3": "THDC"
                                },
                                {
                                    "0": "K1302",
                                    "1": "Truong Thi My",
                                    "2": "Hien",
                                    "3": "CSDL"
                                },
                                {
                                    "0": "K1302",
                                    "1": "Truong Thi My",
                                    "2": "Hien",
                                    "3": "CTDLGT"
                                },
                                {
                                    "0": "K1302",
                                    "1": "Truong Thi My",
                                    "2": "Hien",
                                    "3": "CTRR"
                                },
                                {
                                    "0": "K1302",
                                    "1": "Truong Thi My",
                                    "2": "Hien",
                                    "3": "THDC"
                                },
                                {
                                    "0": "K1304",
                                    "1": "Le Quang",
                                    "2": "Hien",
                                    "3": "CSDL"
                                },
                                {
                                    "0": "K1304",
                                    "1": "Le Quang",
                                    "2": "Hien",
                                    "3": "CTDLGT"
                                },
                                {
                                    "0": "K1304",
                                    "1": "Le Quang",
                                    "2": "Hien",
                                    "3": "CTRR"
                                },
                                {
                                    "0": "K1304",
                                    "1": "Le Quang",
                                    "2": "Hien",
                                    "3": "THDC"
                                },
                                {
                                    "0": "K1305",
                                    "1": "Le Thi",
                                    "2": "Huong",
                                    "3": "CSDL"
                                },
                                {
                                    "0": "K1305",
                                    "1": "Le Thi",
                                    "2": "Huong",
                                    "3": "CTDLGT"
                                },
                                {
                                    "0": "K1305",
                                    "1": "Le Thi",
                                    "2": "Huong",
                                    "3": "CTRR"
                                },
                                {
                                    "0": "K1305",
                                    "1": "Le Thi",
                                    "2": "Huong",
                                    "3": "THDC"
                                }
                            ],
                            "schema": {
                                "fields": [
                                    {
                                        "name": "MAHV"
                                    },
                                    {
                                        "name": "HO"
                                    },
                                    {
                                        "name": "TEN"
                                    },
                                    {
                                        "name": "MAMH"
                                    }
                                ]
                            }
                        },
                        "text/html": [
                            "<table><tr><th>MAHV</th><th>HO</th><th>TEN</th><th>MAMH</th></tr><tr><td>K1101</td><td>Nguyen Van</td><td>A</td><td>CSDL</td></tr><tr><td>K1101</td><td>Nguyen Van</td><td>A</td><td>CTDLGT</td></tr><tr><td>K1101</td><td>Nguyen Van</td><td>A</td><td>CTRR</td></tr><tr><td>K1101</td><td>Nguyen Van</td><td>A</td><td>THDC</td></tr><tr><td>K1102</td><td>Tran Ngoc</td><td>Han</td><td>CTRR</td></tr><tr><td>K1102</td><td>Tran Ngoc</td><td>Han</td><td>THDC</td></tr><tr><td>K1103</td><td>Ha Duy</td><td>Lap</td><td>CTDLGT</td></tr><tr><td>K1103</td><td>Ha Duy</td><td>Lap</td><td>CTRR</td></tr><tr><td>K1103</td><td>Ha Duy</td><td>Lap</td><td>THDC</td></tr><tr><td>K1201</td><td>Nguyen Van</td><td>B</td><td>CSDL</td></tr><tr><td>K1201</td><td>Nguyen Van</td><td>B</td><td>CTDLGT</td></tr><tr><td>K1201</td><td>Nguyen Van</td><td>B</td><td>CTRR</td></tr><tr><td>K1201</td><td>Nguyen Van</td><td>B</td><td>THDC</td></tr><tr><td>K1202</td><td>Nguyen Thi Kim</td><td>Duyen</td><td>CSDL</td></tr><tr><td>K1203</td><td>Tran Thi Kim</td><td>Duyen</td><td>CSDL</td></tr><tr><td>K1203</td><td>Tran Thi Kim</td><td>Duyen</td><td>CTDLGT</td></tr><tr><td>K1203</td><td>Tran Thi Kim</td><td>Duyen</td><td>CTRR</td></tr><tr><td>K1203</td><td>Tran Thi Kim</td><td>Duyen</td><td>THDC</td></tr><tr><td>K1204</td><td>Truong My</td><td>Hanh</td><td>CSDL</td></tr><tr><td>K1204</td><td>Truong My</td><td>Hanh</td><td>CTDLGT</td></tr><tr><td>K1204</td><td>Truong My</td><td>Hanh</td><td>CTRR</td></tr><tr><td>K1301</td><td>Nguyen Thi Kim</td><td>Cuc</td><td>CTDLGT</td></tr><tr><td>K1301</td><td>Nguyen Thi Kim</td><td>Cuc</td><td>CTRR</td></tr><tr><td>K1301</td><td>Nguyen Thi Kim</td><td>Cuc</td><td>THDC</td></tr><tr><td>K1302</td><td>Truong Thi My</td><td>Hien</td><td>CSDL</td></tr><tr><td>K1302</td><td>Truong Thi My</td><td>Hien</td><td>CTDLGT</td></tr><tr><td>K1302</td><td>Truong Thi My</td><td>Hien</td><td>CTRR</td></tr><tr><td>K1302</td><td>Truong Thi My</td><td>Hien</td><td>THDC</td></tr><tr><td>K1304</td><td>Le Quang</td><td>Hien</td><td>CSDL</td></tr><tr><td>K1304</td><td>Le Quang</td><td>Hien</td><td>CTDLGT</td></tr><tr><td>K1304</td><td>Le Quang</td><td>Hien</td><td>CTRR</td></tr><tr><td>K1304</td><td>Le Quang</td><td>Hien</td><td>THDC</td></tr><tr><td>K1305</td><td>Le Thi</td><td>Huong</td><td>CSDL</td></tr><tr><td>K1305</td><td>Le Thi</td><td>Huong</td><td>CTDLGT</td></tr><tr><td>K1305</td><td>Le Thi</td><td>Huong</td><td>CTRR</td></tr><tr><td>K1305</td><td>Le Thi</td><td>Huong</td><td>THDC</td></tr></table>"
                        ]
                    },
                    "execution_count": 7,
                    "metadata": {},
                    "output_type": "execute_result"
                }
            ],
            "source": [
                "-- III. 3: In ra danh sách những học viên (mã học viên, họ tên) và những môn học mà học viên đó thi lần thứ\n",
                "-- nhất đã đạt.\n",
                "\n",
                "SELECT HOCVIEN.MAHV, HOCVIEN.HO, HOCVIEN.TEN, KETQUATHI.MAMH\n",
                "FROM HOCVIEN JOIN KETQUATHI ON HOCVIEN.MAHV = KETQUATHI.MAHV\n",
                "WHERE KETQUATHI.LANTHI = 1 AND KETQUATHI.KQUA = 'Dat'"
            ]
        },
        {
            "cell_type": "code",
            "execution_count": 6,
            "metadata": {
                "azdata_cell_guid": "c4a3e404-cf78-4325-b9a0-a7980f62ecb5",
                "language": "sql",
                "tags": []
            },
            "outputs": [
                {
                    "data": {
                        "text/html": [
                            "(1 row affected)"
                        ]
                    },
                    "metadata": {},
                    "output_type": "display_data"
                },
                {
                    "data": {
                        "text/html": [
                            "Total execution time: 00:00:00.002"
                        ]
                    },
                    "metadata": {},
                    "output_type": "display_data"
                },
                {
                    "data": {
                        "application/vnd.dataresource+json": {
                            "data": [
                                {
                                    "0": "K1104",
                                    "1": "Tran Ngoc",
                                    "2": "Linh"
                                }
                            ],
                            "schema": {
                                "fields": [
                                    {
                                        "name": "MAHV"
                                    },
                                    {
                                        "name": "HO"
                                    },
                                    {
                                        "name": "TEN"
                                    }
                                ]
                            }
                        },
                        "text/html": [
                            "<table><tr><th>MAHV</th><th>HO</th><th>TEN</th></tr><tr><td>K1104</td><td>Tran Ngoc</td><td>Linh</td></tr></table>"
                        ]
                    },
                    "execution_count": 6,
                    "metadata": {},
                    "output_type": "execute_result"
                }
            ],
            "source": [
                "-- III. 4: In ra danh sách học viên (mã học viên, họ tên) của lớp “K11” thi môn CTRR không đạt (ở lần thi 1).\n",
                "\n",
                "SELECT HOCVIEN.MAHV, HOCVIEN.HO, HOCVIEN.TEN \n",
                "FROM HOCVIEN JOIN KETQUATHI ON HOCVIEN.MAHV = KETQUATHI.MAHV\n",
                "WHERE HOCVIEN.MALOP = 'K11' AND KETQUATHI.MAMH = 'CTRR' AND KETQUATHI.KQUA = 'Khong Dat' and KETQUATHI.LANTHI = 1"
            ]
        },
        {
            "cell_type": "code",
            "execution_count": 2,
            "metadata": {
                "azdata_cell_guid": "91cd45eb-8517-4584-8e28-b973c777d8e4",
                "language": "sql"
            },
            "outputs": [
                {
                    "data": {
                        "text/html": [
                            "(41 rows affected)"
                        ]
                    },
                    "metadata": {},
                    "output_type": "display_data"
                },
                {
                    "data": {
                        "text/html": [
                            "(25 rows affected)"
                        ]
                    },
                    "metadata": {},
                    "output_type": "display_data"
                },
                {
                    "data": {
                        "text/html": [
                            "Total execution time: 00:00:00.005"
                        ]
                    },
                    "metadata": {},
                    "output_type": "display_data"
                }
            ],
            "source": [
                "-- I. 5: Kết quả thi là “Dat” nếu điểm từ 5 đến 10 và “Khong dat” nếu điểm nhỏ hơn 5.\n",
                "\n",
                "UPDATE KETQUATHI SET KQUA = 'Dat'\n",
                "WHERE DIEM BETWEEN 5 AND 10\n",
                "\n",
                "UPDATE KETQUATHI SET KQUA = 'Khong dat'\n",
                "WHERE DIEM < 5"
            ]
        },
        {
            "cell_type": "code",
            "execution_count": 4,
            "metadata": {
                "azdata_cell_guid": "6cdf73ee-0376-4437-b031-ffd4bbc8c53f",
                "language": "sql"
            },
            "outputs": [
                {
                    "data": {
                        "text/html": [
                            "Commands completed successfully."
                        ]
                    },
                    "metadata": {},
                    "output_type": "display_data"
                },
                {
                    "data": {
                        "text/html": [
                            "Total execution time: 00:00:00.004"
                        ]
                    },
                    "metadata": {},
                    "output_type": "display_data"
                }
            ],
            "source": [
                "-- I. 6: Học viên thi một môn tối đa 3 lần.\n",
                "\n",
                "ALTER TABLE KETQUATHI\n",
                "ADD CONSTRAINT CHK_LANTHI CHECK (LANTHI < 4)"
            ]
        },
        {
            "cell_type": "code",
            "execution_count": null,
            "metadata": {
                "azdata_cell_guid": "bf508514-986e-4070-880a-b0a4c28c5752",
                "language": "sql"
            },
            "outputs": [],
            "source": [
                "-- I. 7: Học kỳ chỉ có giá trị từ 1 đến 3.\n",
                "\n",
                "ALTER TABLE GIANGDAY\n",
                "ADD CONSTRAINT CHK_HOCKY CHECK (HOCKY BETWEEN 1 AND 3)"
            ]
        },
        {
            "cell_type": "code",
            "execution_count": 5,
            "metadata": {
                "azdata_cell_guid": "216e27c5-ede2-4dfc-aae6-5031607d3c86",
                "language": "sql"
            },
            "outputs": [
                {
                    "data": {
                        "text/html": [
                            "Commands completed successfully."
                        ]
                    },
                    "metadata": {},
                    "output_type": "display_data"
                },
                {
                    "data": {
                        "text/html": [
                            "Total execution time: 00:00:00.003"
                        ]
                    },
                    "metadata": {},
                    "output_type": "display_data"
                }
            ],
            "source": [
                "-- I. 8: Học vị của giáo viên chỉ có thể là “CN”, “KS”, “Ths”, ”TS”, ”PTS”.\n",
                "\n",
                "ALTER TABLE GIAOVIEN\n",
                "ADD CONSTRAINT CHK_HOCVI CHECK (HOCVI IN ('CN', 'KS', 'ThS', 'TS', 'PTS'))"
            ]
        },
        {
            "cell_type": "code",
            "execution_count": 56,
            "metadata": {
                "azdata_cell_guid": "81cb413b-4e20-40d5-be0c-d930e207ba4b",
                "language": "sql"
            },
            "outputs": [
                {
                    "data": {
                        "text/html": [
                            "(0 rows affected)"
                        ]
                    },
                    "metadata": {},
                    "output_type": "display_data"
                },
                {
                    "data": {
                        "text/html": [
                            "Total execution time: 00:00:00.010"
                        ]
                    },
                    "metadata": {},
                    "output_type": "display_data"
                },
                {
                    "data": {
                        "application/vnd.dataresource+json": {
                            "data": [],
                            "schema": {
                                "fields": [
                                    {
                                        "name": "MAHV"
                                    },
                                    {
                                        "name": "HO"
                                    },
                                    {
                                        "name": "TEN"
                                    }
                                ]
                            }
                        },
                        "text/html": [
                            "<table><tr><th>MAHV</th><th>HO</th><th>TEN</th></tr></table>"
                        ]
                    },
                    "execution_count": 56,
                    "metadata": {},
                    "output_type": "execute_result"
                }
            ],
            "source": [
                "-- III. 5: * Danh sách học viên (mã học viên, họ tên) của lớp “K” thi môn CTRR không đạt (ở tất cả các lần thi).\n",
                "\n",
                "SELECT HOCVIEN.MAHV, HOCVIEN.HO, HOCVIEN.TEN FROM LOP \n",
                "JOIN HOCVIEN ON LOP.MALOP = HOCVIEN.MALOP \n",
                "JOIN KETQUATHI ON HOCVIEN.MAHV = KETQUATHI.MAHV \n",
                "WHERE LOP.TENLOP = 'K' AND KETQUATHI.MAMH = 'CTRR' AND KETQUATHI.KQUA = 'Khong dat'\n",
                "GROUP BY HOCVIEN.MAHV, HOCVIEN.HO, HOCVIEN.TEN\n",
                "HAVING COUNT(DISTINCT KETQUATHI.LANTHI) = (\n",
                "    SELECT COUNT(DISTINCT LANTHI) FROM KETQUATHI AS KQ\n",
                "    WHERE HOCVIEN.MAHV = KQ.MAHV AND KQ.MAMH = 'CTRR'\n",
                ")"
            ]
        },
        {
            "cell_type": "code",
            "execution_count": 7,
            "metadata": {
                "azdata_cell_guid": "4f89cac1-85d0-49bf-9874-50c134e39034",
                "language": "sql"
            },
            "outputs": [
                {
                    "data": {
                        "text/html": [
                            "(1 row affected)"
                        ]
                    },
                    "metadata": {},
                    "output_type": "display_data"
                },
                {
                    "data": {
                        "text/html": [
                            "Total execution time: 00:00:00.005"
                        ]
                    },
                    "metadata": {},
                    "output_type": "display_data"
                },
                {
                    "data": {
                        "application/vnd.dataresource+json": {
                            "data": [
                                {
                                    "0": "CTRR"
                                }
                            ],
                            "schema": {
                                "fields": [
                                    {
                                        "name": "MAMH"
                                    }
                                ]
                            }
                        },
                        "text/html": [
                            "<table><tr><th>MAMH</th></tr><tr><td>CTRR</td></tr></table>"
                        ]
                    },
                    "execution_count": 7,
                    "metadata": {},
                    "output_type": "execute_result"
                }
            ],
            "source": [
                "-- III. 6: Tìm tên những môn học mà giáo viên có tên “Tran Tam Thanh” dạy trong học kỳ 1 năm 2006.\n",
                "\n",
                "SELECT DISTINCT MAMH FROM GIANGDAY\n",
                "INNER JOIN GIAOVIEN ON GIAOVIEN.MAGV = GIANGDAY.MAGV\n",
                "WHERE HOTEN = 'Tran Tam Thanh' AND HOCKY = 1 AND NAM = 2006"
            ]
        },
        {
            "cell_type": "code",
            "execution_count": 16,
            "metadata": {
                "azdata_cell_guid": "72816c8c-6910-499b-a945-234a9fc4147e",
                "language": "sql"
            },
            "outputs": [
                {
                    "data": {
                        "text/html": [
                            "(1 row affected)"
                        ]
                    },
                    "metadata": {},
                    "output_type": "display_data"
                },
                {
                    "data": {
                        "text/html": [
                            "Total execution time: 00:00:00.004"
                        ]
                    },
                    "metadata": {},
                    "output_type": "display_data"
                },
                {
                    "data": {
                        "application/vnd.dataresource+json": {
                            "data": [
                                {
                                    "0": "THDC",
                                    "1": "Tin hoc dai cuong"
                                }
                            ],
                            "schema": {
                                "fields": [
                                    {
                                        "name": "MAMH"
                                    },
                                    {
                                        "name": "TENMH"
                                    }
                                ]
                            }
                        },
                        "text/html": [
                            "<table><tr><th>MAMH</th><th>TENMH</th></tr><tr><td>THDC</td><td>Tin hoc dai cuong</td></tr></table>"
                        ]
                    },
                    "execution_count": 16,
                    "metadata": {},
                    "output_type": "execute_result"
                }
            ],
            "source": [
                "-- III. 7: Tìm những môn học (mã môn học, tên môn học) mà giáo viên chủ nhiệm lớp “K11” dạy trong học kỳ 1 năm 2006.\n",
                "\n",
                "SELECT MONHOC.MAMH, MONHOC.TENMH FROM GIANGDAY  \n",
                "INNER JOIN GIAOVIEN ON GIANGDAY.MAGV = GIAOVIEN.MAGV\n",
                "INNER JOIN MONHOC ON GIANGDAY.MAMH = MONHOC.MAMH\n",
                "INNER JOIN LOP ON LOP.MALOP = GIANGDAY.MALOP\n",
                "WHERE LOP.MALOP = 'K11' AND LOP.MAGVCN = GIAOVIEN.MAGV AND GIANGDAY.HOCKY = 1 AND GIANGDAY.NAM = 2006"
            ]
        },
        {
            "cell_type": "code",
            "execution_count": 21,
            "metadata": {
                "azdata_cell_guid": "6616dcc0-0311-4ae4-b011-a5869fc63d7a",
                "language": "sql"
            },
            "outputs": [
                {
                    "data": {
                        "text/html": [
                            "(1 row affected)"
                        ]
                    },
                    "metadata": {},
                    "output_type": "display_data"
                },
                {
                    "data": {
                        "text/html": [
                            "Total execution time: 00:00:00.003"
                        ]
                    },
                    "metadata": {},
                    "output_type": "display_data"
                },
                {
                    "data": {
                        "application/vnd.dataresource+json": {
                            "data": [
                                {
                                    "0": "Nguyen Thanh",
                                    "1": "Nam"
                                }
                            ],
                            "schema": {
                                "fields": [
                                    {
                                        "name": "HO"
                                    },
                                    {
                                        "name": "TEN"
                                    }
                                ]
                            }
                        },
                        "text/html": [
                            "<table><tr><th>HO</th><th>TEN</th></tr><tr><td>Nguyen Thanh</td><td>Nam</td></tr></table>"
                        ]
                    },
                    "execution_count": 21,
                    "metadata": {},
                    "output_type": "execute_result"
                }
            ],
            "source": [
                "-- III. 8:  Tìm họ tên lớp trưởng của các lớp mà giáo viên có tên “Nguyen To Lan” dạy môn “Co So Du Lieu”.\n",
                "\n",
                "SELECT HOCVIEN.HO, HOCVIEN.TEN FROM GIANGDAY  \n",
                "INNER JOIN GIAOVIEN ON GIANGDAY.MAGV = GIAOVIEN.MAGV\n",
                "INNER JOIN MONHOC ON GIANGDAY.MAMH = MONHOC.MAMH\n",
                "INNER JOIN LOP ON LOP.MALOP = GIANGDAY.MALOP\n",
                "INNER JOIN HOCVIEN ON HOCVIEN.MAHV = LOP.TRGLOP\n",
                "WHERE GIAOVIEN.HOTEN = 'Nguyen To Lan' AND MONHOC.TENMH = 'Co So Du Lieu'"
            ]
        },
        {
            "cell_type": "code",
            "execution_count": 26,
            "metadata": {
                "azdata_cell_guid": "56f42497-7ea9-45cf-8d58-1250cef25c5f",
                "language": "sql"
            },
            "outputs": [
                {
                    "data": {
                        "text/html": [
                            "(2 rows affected)"
                        ]
                    },
                    "metadata": {},
                    "output_type": "display_data"
                },
                {
                    "data": {
                        "text/html": [
                            "Total execution time: 00:00:00.006"
                        ]
                    },
                    "metadata": {},
                    "output_type": "display_data"
                },
                {
                    "data": {
                        "application/vnd.dataresource+json": {
                            "data": [
                                {
                                    "0": "CTDLGT",
                                    "1": "Cau truc du lieu va giai thuat"
                                },
                                {
                                    "0": "CTRR",
                                    "1": "Cau truc roi rac"
                                }
                            ],
                            "schema": {
                                "fields": [
                                    {
                                        "name": "MAMH"
                                    },
                                    {
                                        "name": "TENMH"
                                    }
                                ]
                            }
                        },
                        "text/html": [
                            "<table><tr><th>MAMH</th><th>TENMH</th></tr><tr><td>CTDLGT</td><td>Cau truc du lieu va giai thuat</td></tr><tr><td>CTRR</td><td>Cau truc roi rac</td></tr></table>"
                        ]
                    },
                    "execution_count": 26,
                    "metadata": {},
                    "output_type": "execute_result"
                }
            ],
            "source": [
                "-- III. 9: In ra danh sách những môn học (mã môn học, tên môn học) phải học liền trước môn “Co So Du Lieu”.\n",
                "\n",
                "SELECT MAMH, TENMH FROM MONHOC \n",
                "WHERE MAMH IN (\n",
                "    SELECT DISTINCT MAMH_TRUOC FROM MONHOC \n",
                "    INNER JOIN DIEUKIEN ON DIEUKIEN.MAMH = MONHOC.MAMH \n",
                "    WHERE MONHOC.TENMH = 'Co So Du Lieu'\n",
                ")"
            ]
        },
        {
            "cell_type": "code",
            "execution_count": 35,
            "metadata": {
                "azdata_cell_guid": "fc804e19-4cf3-4d55-ba93-1f66f986a40c",
                "language": "sql"
            },
            "outputs": [
                {
                    "data": {
                        "text/html": [
                            "(1 row affected)"
                        ]
                    },
                    "metadata": {},
                    "output_type": "display_data"
                },
                {
                    "data": {
                        "text/html": [
                            "Total execution time: 00:00:00.003"
                        ]
                    },
                    "metadata": {},
                    "output_type": "display_data"
                },
                {
                    "data": {
                        "application/vnd.dataresource+json": {
                            "data": [
                                {
                                    "0": "CSDL",
                                    "1": "Co so du lieu"
                                }
                            ],
                            "schema": {
                                "fields": [
                                    {
                                        "name": "MAMH"
                                    },
                                    {
                                        "name": "TENMH"
                                    }
                                ]
                            }
                        },
                        "text/html": [
                            "<table><tr><th>MAMH</th><th>TENMH</th></tr><tr><td>CSDL</td><td>Co so du lieu</td></tr></table>"
                        ]
                    },
                    "execution_count": 35,
                    "metadata": {},
                    "output_type": "execute_result"
                }
            ],
            "source": [
                "-- III. 10: Môn “Cau Truc Roi Rac” là môn bắt buộc phải học liền trước những môn học (mã môn học, tên môn học) nào.\n",
                "\n",
                "SELECT DIEUKIEN.MAMH, MONHOC.TENMH FROM DIEUKIEN \n",
                "INNER JOIN MONHOC ON MONHOC.MAMH = DIEUKIEN.MAMH\n",
                "WHERE MAMH_TRUOC = (\n",
                "    SELECT MAMH FROM MONHOC \n",
                "    WHERE TENMH = 'Cau Truc Roi Rac'\n",
                ")"
            ]
        },
        {
            "cell_type": "code",
            "execution_count": 29,
            "metadata": {
                "azdata_cell_guid": "d05f590a-b38f-4f0b-8093-90a77b41e62c",
                "language": "sql"
            },
            "outputs": [
                {
                    "data": {
                        "text/html": [
                            "(3 rows affected)"
                        ]
                    },
                    "metadata": {},
                    "output_type": "display_data"
                },
                {
                    "data": {
                        "text/html": [
                            "Total execution time: 00:00:00.006"
                        ]
                    },
                    "metadata": {},
                    "output_type": "display_data"
                },
                {
                    "data": {
                        "application/vnd.dataresource+json": {
                            "data": [
                                {
                                    "0": "Tran Tam Thanh"
                                },
                                {
                                    "0": "Tran Nam Son"
                                },
                                {
                                    "0": "Le Ha Thanh"
                                }
                            ],
                            "schema": {
                                "fields": [
                                    {
                                        "name": "HOTEN"
                                    }
                                ]
                            }
                        },
                        "text/html": [
                            "<table><tr><th>HOTEN</th></tr><tr><td>Tran Tam Thanh</td></tr><tr><td>Tran Nam Son</td></tr><tr><td>Le Ha Thanh</td></tr></table>"
                        ]
                    },
                    "execution_count": 29,
                    "metadata": {},
                    "output_type": "execute_result"
                }
            ],
            "source": [
                "--  III. 11: Tìm họ tên giáo viên dạy môn CTRR cho cả hai lớp “K11” và “K12” trong cùng học kỳ 1 năm 2006.\n",
                "\n",
                "SELECT HOTEN FROM GIAOVIEN\n",
                "WHERE MAGV IN (\n",
                "    SELECT MAGV FROM GIANGDAY WHERE MALOP = 'K11'\n",
                "    INTERSECT\n",
                "    SELECT MAGV FROM GIANGDAY WHERE MALOP = 'K12'\n",
                ")"
            ]
        },
        {
            "cell_type": "code",
            "execution_count": 43,
            "metadata": {
                "azdata_cell_guid": "447c5109-b22a-4117-b973-9ef7b40a5085",
                "language": "sql",
                "tags": []
            },
            "outputs": [
                {
                    "data": {
                        "text/html": [
                            "(16 rows affected)"
                        ]
                    },
                    "metadata": {},
                    "output_type": "display_data"
                },
                {
                    "data": {
                        "text/html": [
                            "Total execution time: 00:00:00.002"
                        ]
                    },
                    "metadata": {},
                    "output_type": "display_data"
                },
                {
                    "data": {
                        "application/vnd.dataresource+json": {
                            "data": [
                                {
                                    "0": "K1102",
                                    "1": "Tran Ngoc",
                                    "2": "Han"
                                },
                                {
                                    "0": "K1102",
                                    "1": "Tran Ngoc",
                                    "2": "Han"
                                },
                                {
                                    "0": "K1103",
                                    "1": "Ha Duy",
                                    "2": "Lap"
                                },
                                {
                                    "0": "K1104",
                                    "1": "Tran Ngoc",
                                    "2": "Linh"
                                },
                                {
                                    "0": "K1104",
                                    "1": "Tran Ngoc",
                                    "2": "Linh"
                                },
                                {
                                    "0": "K1104",
                                    "1": "Tran Ngoc",
                                    "2": "Linh"
                                },
                                {
                                    "0": "K1104",
                                    "1": "Tran Ngoc",
                                    "2": "Linh"
                                },
                                {
                                    "0": "K1202",
                                    "1": "Nguyen Thi Kim",
                                    "2": "Duyen"
                                },
                                {
                                    "0": "K1202",
                                    "1": "Nguyen Thi Kim",
                                    "2": "Duyen"
                                },
                                {
                                    "0": "K1202",
                                    "1": "Nguyen Thi Kim",
                                    "2": "Duyen"
                                },
                                {
                                    "0": "K1204",
                                    "1": "Truong My",
                                    "2": "Hanh"
                                },
                                {
                                    "0": "K1301",
                                    "1": "Nguyen Thi Kim",
                                    "2": "Cuc"
                                },
                                {
                                    "0": "K1303",
                                    "1": "Le Duc",
                                    "2": "Hien"
                                },
                                {
                                    "0": "K1303",
                                    "1": "Le Duc",
                                    "2": "Hien"
                                },
                                {
                                    "0": "K1303",
                                    "1": "Le Duc",
                                    "2": "Hien"
                                },
                                {
                                    "0": "K1303",
                                    "1": "Le Duc",
                                    "2": "Hien"
                                }
                            ],
                            "schema": {
                                "fields": [
                                    {
                                        "name": "MAHV"
                                    },
                                    {
                                        "name": "HO"
                                    },
                                    {
                                        "name": "TEN"
                                    }
                                ]
                            }
                        },
                        "text/html": [
                            "<table><tr><th>MAHV</th><th>HO</th><th>TEN</th></tr><tr><td>K1102</td><td>Tran Ngoc</td><td>Han</td></tr><tr><td>K1102</td><td>Tran Ngoc</td><td>Han</td></tr><tr><td>K1103</td><td>Ha Duy</td><td>Lap</td></tr><tr><td>K1104</td><td>Tran Ngoc</td><td>Linh</td></tr><tr><td>K1104</td><td>Tran Ngoc</td><td>Linh</td></tr><tr><td>K1104</td><td>Tran Ngoc</td><td>Linh</td></tr><tr><td>K1104</td><td>Tran Ngoc</td><td>Linh</td></tr><tr><td>K1202</td><td>Nguyen Thi Kim</td><td>Duyen</td></tr><tr><td>K1202</td><td>Nguyen Thi Kim</td><td>Duyen</td></tr><tr><td>K1202</td><td>Nguyen Thi Kim</td><td>Duyen</td></tr><tr><td>K1204</td><td>Truong My</td><td>Hanh</td></tr><tr><td>K1301</td><td>Nguyen Thi Kim</td><td>Cuc</td></tr><tr><td>K1303</td><td>Le Duc</td><td>Hien</td></tr><tr><td>K1303</td><td>Le Duc</td><td>Hien</td></tr><tr><td>K1303</td><td>Le Duc</td><td>Hien</td></tr><tr><td>K1303</td><td>Le Duc</td><td>Hien</td></tr></table>"
                        ]
                    },
                    "execution_count": 43,
                    "metadata": {},
                    "output_type": "execute_result"
                }
            ],
            "source": [
                "--  III. 12: Tìm những học viên (mã học viên, họ tên) thi không đạt môn CSDL ở lần thi thứ 1 nhưng chưa thi lại môn này.\n",
                "\n",
                "SELECT KETQUATHI.MAHV, HOCVIEN.HO, HOCVIEN.TEN FROM KETQUATHI \n",
                "INNER JOIN HOCVIEN ON HOCVIEN.MAHV = KETQUATHI.MAHV\n",
                "WHERE LANTHI = 1 AND KQUA = 'Khong dat'"
            ]
        },
        {
            "cell_type": "code",
            "execution_count": 46,
            "metadata": {
                "azdata_cell_guid": "eb9ed704-e7af-4943-9e62-8e066005e330",
                "language": "sql"
            },
            "outputs": [
                {
                    "data": {
                        "text/html": [
                            "(7 rows affected)"
                        ]
                    },
                    "metadata": {},
                    "output_type": "display_data"
                },
                {
                    "data": {
                        "text/html": [
                            "Total execution time: 00:00:00.004"
                        ]
                    },
                    "metadata": {},
                    "output_type": "display_data"
                },
                {
                    "data": {
                        "application/vnd.dataresource+json": {
                            "data": [
                                {
                                    "0": "GV01",
                                    "1": "Ho Thanh Son"
                                },
                                {
                                    "0": "GV03",
                                    "1": "Do Nghiem Phung"
                                },
                                {
                                    "0": "GV10",
                                    "1": "Le Tran Anh Loan"
                                },
                                {
                                    "0": "GV11",
                                    "1": "Ho Thanh Tung"
                                },
                                {
                                    "0": "GV12",
                                    "1": "Tran Van Anh"
                                },
                                {
                                    "0": "GV13",
                                    "1": "Nguyen Linh Dan"
                                },
                                {
                                    "0": "GV14",
                                    "1": "Truong Minh Chau"
                                }
                            ],
                            "schema": {
                                "fields": [
                                    {
                                        "name": "MAGV"
                                    },
                                    {
                                        "name": "HOTEN"
                                    }
                                ]
                            }
                        },
                        "text/html": [
                            "<table><tr><th>MAGV</th><th>HOTEN</th></tr><tr><td>GV01</td><td>Ho Thanh Son</td></tr><tr><td>GV03</td><td>Do Nghiem Phung</td></tr><tr><td>GV10</td><td>Le Tran Anh Loan</td></tr><tr><td>GV11</td><td>Ho Thanh Tung</td></tr><tr><td>GV12</td><td>Tran Van Anh</td></tr><tr><td>GV13</td><td>Nguyen Linh Dan</td></tr><tr><td>GV14</td><td>Truong Minh Chau</td></tr></table>"
                        ]
                    },
                    "execution_count": 46,
                    "metadata": {},
                    "output_type": "execute_result"
                }
            ],
            "source": [
                "-- III. 13: Tìm giáo viên (mã giáo viên, họ tên) không được phân công giảng dạy bất kỳ môn học nào.\n",
                "\n",
                "SELECT MAGV, HOTEN FROM GIAOVIEN \n",
                "WHERE MAGV IN (\n",
                "    SELECT MAGV FROM GIAOVIEN\n",
                "    EXCEPT\n",
                "    SELECT MAGV FROM GIANGDAY\n",
                ")"
            ]
        },
        {
            "cell_type": "code",
            "execution_count": 55,
            "metadata": {
                "azdata_cell_guid": "4a571b39-c893-4f46-95ae-16a09bf30a10",
                "language": "sql",
                "tags": []
            },
            "outputs": [
                {
                    "data": {
                        "text/html": [
                            "(8 rows affected)"
                        ]
                    },
                    "metadata": {},
                    "output_type": "display_data"
                },
                {
                    "data": {
                        "text/html": [
                            "Total execution time: 00:00:00.005"
                        ]
                    },
                    "metadata": {},
                    "output_type": "display_data"
                },
                {
                    "data": {
                        "application/vnd.dataresource+json": {
                            "data": [
                                {
                                    "0": "GV01",
                                    "1": "Ho Thanh Son"
                                },
                                {
                                    "0": "GV02",
                                    "1": "Tran Tam Thanh"
                                },
                                {
                                    "0": "GV03",
                                    "1": "Do Nghiem Phung"
                                },
                                {
                                    "0": "GV10",
                                    "1": "Le Tran Anh Loan"
                                },
                                {
                                    "0": "GV11",
                                    "1": "Ho Thanh Tung"
                                },
                                {
                                    "0": "GV12",
                                    "1": "Tran Van Anh"
                                },
                                {
                                    "0": "GV13",
                                    "1": "Nguyen Linh Dan"
                                },
                                {
                                    "0": "GV14",
                                    "1": "Truong Minh Chau"
                                }
                            ],
                            "schema": {
                                "fields": [
                                    {
                                        "name": "MAGV"
                                    },
                                    {
                                        "name": "HOTEN"
                                    }
                                ]
                            }
                        },
                        "text/html": [
                            "<table><tr><th>MAGV</th><th>HOTEN</th></tr><tr><td>GV01</td><td>Ho Thanh Son</td></tr><tr><td>GV02</td><td>Tran Tam Thanh</td></tr><tr><td>GV03</td><td>Do Nghiem Phung</td></tr><tr><td>GV10</td><td>Le Tran Anh Loan</td></tr><tr><td>GV11</td><td>Ho Thanh Tung</td></tr><tr><td>GV12</td><td>Tran Van Anh</td></tr><tr><td>GV13</td><td>Nguyen Linh Dan</td></tr><tr><td>GV14</td><td>Truong Minh Chau</td></tr></table>"
                        ]
                    },
                    "execution_count": 55,
                    "metadata": {},
                    "output_type": "execute_result"
                }
            ],
            "source": [
                "-- III. 14: Tìm giáo viên (mã giáo viên, họ tên) không được phân công giảng dạy bất kỳ môn học nào thuộc khoa giáo viên đó phụ trách.\n",
                "\n",
                "SELECT MAGV, HOTEN FROM GIAOVIEN\n",
                "WHERE NOT EXISTS (\n",
                "        SELECT * FROM GIANGDAY\n",
                "        WHERE GIANGDAY.MAGV = GIAOVIEN.MAGV AND GIANGDAY.MAMH IN (\n",
                "            SELECT MAMH FROM MONHOC \n",
                "            WHERE MONHOC.MAKHOA = GIAOVIEN.MAKHOA\n",
                "        )\n",
                ")"
            ]
        },
        {
            "cell_type": "code",
            "execution_count": 64,
            "metadata": {
                "azdata_cell_guid": "4f4d31ee-5856-43d3-8d50-5b07ae069fed",
                "language": "sql"
            },
            "outputs": [
                {
                    "data": {
                        "text/html": [
                            "(3 rows affected)"
                        ]
                    },
                    "metadata": {},
                    "output_type": "display_data"
                },
                {
                    "data": {
                        "text/html": [
                            "Total execution time: 00:00:00.003"
                        ]
                    },
                    "metadata": {},
                    "output_type": "display_data"
                },
                {
                    "data": {
                        "application/vnd.dataresource+json": {
                            "data": [
                                {
                                    "0": "K1102"
                                },
                                {
                                    "0": "K1104"
                                },
                                {
                                    "0": "K1303"
                                }
                            ],
                            "schema": {
                                "fields": [
                                    {
                                        "name": "MAHV"
                                    }
                                ]
                            }
                        },
                        "text/html": [
                            "<table><tr><th>MAHV</th></tr><tr><td>K1102</td></tr><tr><td>K1104</td></tr><tr><td>K1303</td></tr></table>"
                        ]
                    },
                    "execution_count": 64,
                    "metadata": {},
                    "output_type": "execute_result"
                }
            ],
            "source": [
                "-- III. 15: Tìm họ tên các học viên thuộc lớp “K11” thi một môn bất kỳ quá 3 lần vẫn “Khong dat” hoặc thi lần thứ 2 môn CTRR được 5 điểm.\n",
                "\n",
                "SELECT DISTINCT KETQUATHI.MAHV FROM KETQUATHI \n",
                "WHERE LANTHI = 3 AND KQUA = 'Khong dat'\n",
                "UNION\n",
                "SELECT DISTINCT KETQUATHI.MAHV FROM KETQUATHI \n",
                "INNER JOIN HOCVIEN ON KETQUATHI.MAHV = HOCVIEN.MAHV\n",
                "WHERE MALOP = 'K11' AND LANTHI = 2 AND DIEM = 5 AND MAMH = 'CTRR'"
            ]
        },
        {
            "cell_type": "code",
            "execution_count": 70,
            "metadata": {
                "azdata_cell_guid": "53195a49-22d3-4aa7-b737-c2c3b7adf408",
                "language": "sql"
            },
            "outputs": [
                {
                    "data": {
                        "text/html": [
                            "(1 row affected)"
                        ]
                    },
                    "metadata": {},
                    "output_type": "display_data"
                },
                {
                    "data": {
                        "text/html": [
                            "Total execution time: 00:00:00.002"
                        ]
                    },
                    "metadata": {},
                    "output_type": "display_data"
                },
                {
                    "data": {
                        "application/vnd.dataresource+json": {
                            "data": [
                                {
                                    "0": "GV02",
                                    "1": "2"
                                }
                            ],
                            "schema": {
                                "fields": [
                                    {
                                        "name": "MAGV"
                                    },
                                    {
                                        "name": "(No column name)"
                                    }
                                ]
                            }
                        },
                        "text/html": [
                            "<table><tr><th>MAGV</th><th>(No column name)</th></tr><tr><td>GV02</td><td>2</td></tr></table>"
                        ]
                    },
                    "execution_count": 70,
                    "metadata": {},
                    "output_type": "execute_result"
                }
            ],
            "source": [
                "-- III. 16: Tìm họ tên giáo viên dạy môn CTRR cho ít nhất hai lớp trong cùng một học kỳ của một năm học.\n",
                "\n",
                "SELECT MAGV, COUNT(MALOP) FROM GIANGDAY\n",
                "WHERE MAMH = 'CTRR'\n",
                "GROUP BY MAGV, HOCKY, NAM\n",
                "HAVING COUNT(MALOP) >= 2"
            ]
        },
        {
            "cell_type": "code",
            "execution_count": 77,
            "metadata": {
                "azdata_cell_guid": "2f6197ac-0db5-4595-96e0-91ebf18aaf9d",
                "language": "sql"
            },
            "outputs": [
                {
                    "data": {
                        "text/html": [
                            "(13 rows affected)"
                        ]
                    },
                    "metadata": {},
                    "output_type": "display_data"
                },
                {
                    "data": {
                        "text/html": [
                            "Total execution time: 00:00:00.003"
                        ]
                    },
                    "metadata": {},
                    "output_type": "display_data"
                },
                {
                    "data": {
                        "application/vnd.dataresource+json": {
                            "data": [
                                {
                                    "0": "K1305"
                                },
                                {
                                    "0": "K1304"
                                },
                                {
                                    "0": "K1303"
                                },
                                {
                                    "0": "K1302"
                                },
                                {
                                    "0": "K1301"
                                },
                                {
                                    "0": "K1204"
                                },
                                {
                                    "0": "K1203"
                                },
                                {
                                    "0": "K1202"
                                },
                                {
                                    "0": "K1201"
                                },
                                {
                                    "0": "K1104"
                                },
                                {
                                    "0": "K1103"
                                },
                                {
                                    "0": "K1102"
                                },
                                {
                                    "0": "K1101"
                                }
                            ],
                            "schema": {
                                "fields": [
                                    {
                                        "name": "MAHV"
                                    }
                                ]
                            }
                        },
                        "text/html": [
                            "<table><tr><th>MAHV</th></tr><tr><td>K1305</td></tr><tr><td>K1304</td></tr><tr><td>K1303</td></tr><tr><td>K1302</td></tr><tr><td>K1301</td></tr><tr><td>K1204</td></tr><tr><td>K1203</td></tr><tr><td>K1202</td></tr><tr><td>K1201</td></tr><tr><td>K1104</td></tr><tr><td>K1103</td></tr><tr><td>K1102</td></tr><tr><td>K1101</td></tr></table>"
                        ]
                    },
                    "execution_count": 77,
                    "metadata": {},
                    "output_type": "execute_result"
                }
            ],
            "source": [
                "-- III. 17: Danh sách học viên và điểm thi môn CSDL (chỉ lấy điểm của lần thi sau cùng).\n",
                "\n",
                "SELECT MAHV FROM KETQUATHI AS KQ\n",
                "WHERE MAMH = 'CSDL' AND LANTHI = (\n",
                "    SELECT MAX(LANTHI) FROM KETQUATHI\n",
                "    WHERE MAMH = 'CSDL'\n",
                "    GROUP BY MAHV\n",
                "    HAVING MAHV = KQ.MAHV\n",
                ")"
            ]
        },
        {
            "cell_type": "code",
            "execution_count": 85,
            "metadata": {
                "azdata_cell_guid": "4d0182cd-7d9f-42ea-abd3-3faf2bc205d9",
                "language": "sql"
            },
            "outputs": [
                {
                    "data": {
                        "text/html": [
                            "(13 rows affected)"
                        ]
                    },
                    "metadata": {},
                    "output_type": "display_data"
                },
                {
                    "data": {
                        "text/html": [
                            "Total execution time: 00:00:00.003"
                        ]
                    },
                    "metadata": {},
                    "output_type": "display_data"
                },
                {
                    "data": {
                        "application/vnd.dataresource+json": {
                            "data": [
                                {
                                    "0": "K1101",
                                    "1": "10.00"
                                },
                                {
                                    "0": "K1102",
                                    "1": "4.50"
                                },
                                {
                                    "0": "K1103",
                                    "1": "8.25"
                                },
                                {
                                    "0": "K1104",
                                    "1": "3.75"
                                },
                                {
                                    "0": "K1201",
                                    "1": "6.00"
                                },
                                {
                                    "0": "K1202",
                                    "1": "8.00"
                                },
                                {
                                    "0": "K1203",
                                    "1": "9.25"
                                },
                                {
                                    "0": "K1204",
                                    "1": "8.50"
                                },
                                {
                                    "0": "K1301",
                                    "1": "4.25"
                                },
                                {
                                    "0": "K1302",
                                    "1": "6.75"
                                },
                                {
                                    "0": "K1303",
                                    "1": "4.00"
                                },
                                {
                                    "0": "K1304",
                                    "1": "7.75"
                                },
                                {
                                    "0": "K1305",
                                    "1": "9.25"
                                }
                            ],
                            "schema": {
                                "fields": [
                                    {
                                        "name": "MAHV"
                                    },
                                    {
                                        "name": "DIEM"
                                    }
                                ]
                            }
                        },
                        "text/html": [
                            "<table><tr><th>MAHV</th><th>DIEM</th></tr><tr><td>K1101</td><td>10.00</td></tr><tr><td>K1102</td><td>4.50</td></tr><tr><td>K1103</td><td>8.25</td></tr><tr><td>K1104</td><td>3.75</td></tr><tr><td>K1201</td><td>6.00</td></tr><tr><td>K1202</td><td>8.00</td></tr><tr><td>K1203</td><td>9.25</td></tr><tr><td>K1204</td><td>8.50</td></tr><tr><td>K1301</td><td>4.25</td></tr><tr><td>K1302</td><td>6.75</td></tr><tr><td>K1303</td><td>4.00</td></tr><tr><td>K1304</td><td>7.75</td></tr><tr><td>K1305</td><td>9.25</td></tr></table>"
                        ]
                    },
                    "execution_count": 85,
                    "metadata": {},
                    "output_type": "execute_result"
                }
            ],
            "source": [
                "-- III. 18: Danh sách học viên và điểm thi môn “Co So Du Lieu” (chỉ lấy điểm cao nhất của các lần thi).\n",
                "\n",
                "SELECT KETQUATHI.MAHV, MAX(DIEM) AS DIEM FROM KETQUATHI\n",
                "INNER JOIN MONHOC ON KETQUATHI.MAMH = MONHOC.MAMH\n",
                "WHERE TENMH = 'Co so du lieu'\n",
                "GROUP BY MAHV\n"
            ]
        },
        {
            "cell_type": "code",
            "execution_count": 89,
            "metadata": {
                "azdata_cell_guid": "936dd0ba-83ee-4369-9867-78eb56ce09e8",
                "language": "sql"
            },
            "outputs": [
                {
                    "data": {
                        "text/html": [
                            "(3 rows affected)"
                        ]
                    },
                    "metadata": {},
                    "output_type": "display_data"
                },
                {
                    "data": {
                        "text/html": [
                            "Total execution time: 00:00:00.003"
                        ]
                    },
                    "metadata": {},
                    "output_type": "display_data"
                },
                {
                    "data": {
                        "application/vnd.dataresource+json": {
                            "data": [
                                {
                                    "0": "CNPM",
                                    "1": "Cong nghe phan mem"
                                },
                                {
                                    "0": "HTTT",
                                    "1": "He thong thong tin"
                                },
                                {
                                    "0": "KHMT",
                                    "1": "Khoa hoc may tinh"
                                }
                            ],
                            "schema": {
                                "fields": [
                                    {
                                        "name": "MAKHOA"
                                    },
                                    {
                                        "name": "TENKHOA"
                                    }
                                ]
                            }
                        },
                        "text/html": [
                            "<table><tr><th>MAKHOA</th><th>TENKHOA</th></tr><tr><td>CNPM</td><td>Cong nghe phan mem</td></tr><tr><td>HTTT</td><td>He thong thong tin</td></tr><tr><td>KHMT</td><td>Khoa hoc may tinh</td></tr></table>"
                        ]
                    },
                    "execution_count": 89,
                    "metadata": {},
                    "output_type": "execute_result"
                }
            ],
            "source": [
                "-- III. 19: Khoa nào (mã khoa, tên khoa) được thành lập sớm nhất.\n",
                "\n",
                "SELECT MAKHOA, TENKHOA FROM KHOA \n",
                "WHERE NGTLAP <= ALL (\n",
                "    SELECT NGTLAP FROM KHOA\n",
                ")"
            ]
        },
        {
            "cell_type": "code",
            "execution_count": 92,
            "metadata": {
                "azdata_cell_guid": "43f8d397-b963-4d85-b8ae-122ffb6db487",
                "language": "sql"
            },
            "outputs": [
                {
                    "data": {
                        "text/html": [
                            "(2 rows affected)"
                        ]
                    },
                    "metadata": {},
                    "output_type": "display_data"
                },
                {
                    "data": {
                        "text/html": [
                            "Total execution time: 00:00:00.002"
                        ]
                    },
                    "metadata": {},
                    "output_type": "display_data"
                },
                {
                    "data": {
                        "application/vnd.dataresource+json": {
                            "data": [
                                {
                                    "0": "GS",
                                    "1": "2"
                                },
                                {
                                    "0": "PGS",
                                    "1": "2"
                                }
                            ],
                            "schema": {
                                "fields": [
                                    {
                                        "name": "HOCHAM"
                                    },
                                    {
                                        "name": "SOGV"
                                    }
                                ]
                            }
                        },
                        "text/html": [
                            "<table><tr><th>HOCHAM</th><th>SOGV</th></tr><tr><td>GS</td><td>2</td></tr><tr><td>PGS</td><td>2</td></tr></table>"
                        ]
                    },
                    "execution_count": 92,
                    "metadata": {},
                    "output_type": "execute_result"
                }
            ],
            "source": [
                "-- III. 20: Có bao nhiêu giáo viên có học hàm là “GS” hoặc “PGS”.\n",
                "\n",
                "SELECT HOCHAM, COUNT(MAGV) AS SOGV FROM GIAOVIEN\n",
                "GROUP BY HOCHAM\n",
                "HAVING HOCHAM IN ('GS', 'PGS')"
            ]
        },
        {
            "cell_type": "code",
            "execution_count": 5,
            "metadata": {
                "azdata_cell_guid": "f30e5bf0-ca8e-4e4d-a2df-4e48ba823fbf",
                "language": "sql"
            },
            "outputs": [
                {
                    "data": {
                        "text/html": [
                            "(13 rows affected)"
                        ]
                    },
                    "metadata": {},
                    "output_type": "display_data"
                },
                {
                    "data": {
                        "text/html": [
                            "Total execution time: 00:00:00.003"
                        ]
                    },
                    "metadata": {},
                    "output_type": "display_data"
                },
                {
                    "data": {
                        "application/vnd.dataresource+json": {
                            "data": [
                                {
                                    "0": "CNPM",
                                    "1": "CN",
                                    "2": "1"
                                },
                                {
                                    "0": "CNPM",
                                    "1": "KS",
                                    "2": "1"
                                },
                                {
                                    "0": "CNPM",
                                    "1": "TS",
                                    "2": "1"
                                },
                                {
                                    "0": "HTTT",
                                    "1": "ThS",
                                    "2": "2"
                                },
                                {
                                    "0": "HTTT",
                                    "1": "TS",
                                    "2": "1"
                                },
                                {
                                    "0": "KHMT",
                                    "1": "KS",
                                    "2": "1"
                                },
                                {
                                    "0": "KHMT",
                                    "1": "PTS",
                                    "2": "1"
                                },
                                {
                                    "0": "KHMT",
                                    "1": "ThS",
                                    "2": "2"
                                },
                                {
                                    "0": "KHMT",
                                    "1": "TS",
                                    "2": "1"
                                },
                                {
                                    "0": "KTMT",
                                    "1": "CN",
                                    "2": "1"
                                },
                                {
                                    "0": "KTMT",
                                    "1": "TS",
                                    "2": "1"
                                },
                                {
                                    "0": "MTT",
                                    "1": "CN",
                                    "2": "1"
                                },
                                {
                                    "0": "MTT",
                                    "1": "ThS",
                                    "2": "1"
                                }
                            ],
                            "schema": {
                                "fields": [
                                    {
                                        "name": "MAKHOA"
                                    },
                                    {
                                        "name": "HOCVI"
                                    },
                                    {
                                        "name": "(No column name)"
                                    }
                                ]
                            }
                        },
                        "text/html": [
                            "<table><tr><th>MAKHOA</th><th>HOCVI</th><th>(No column name)</th></tr><tr><td>CNPM</td><td>CN</td><td>1</td></tr><tr><td>CNPM</td><td>KS</td><td>1</td></tr><tr><td>CNPM</td><td>TS</td><td>1</td></tr><tr><td>HTTT</td><td>ThS</td><td>2</td></tr><tr><td>HTTT</td><td>TS</td><td>1</td></tr><tr><td>KHMT</td><td>KS</td><td>1</td></tr><tr><td>KHMT</td><td>PTS</td><td>1</td></tr><tr><td>KHMT</td><td>ThS</td><td>2</td></tr><tr><td>KHMT</td><td>TS</td><td>1</td></tr><tr><td>KTMT</td><td>CN</td><td>1</td></tr><tr><td>KTMT</td><td>TS</td><td>1</td></tr><tr><td>MTT</td><td>CN</td><td>1</td></tr><tr><td>MTT</td><td>ThS</td><td>1</td></tr></table>"
                        ]
                    },
                    "execution_count": 5,
                    "metadata": {},
                    "output_type": "execute_result"
                }
            ],
            "source": [
                "-- III. 21: Thống kê có bao nhiêu giáo viên có học vị là “CN”, “KS”, “Ths”, “TS”, “PTS” trong mỗi khoa.\n",
                "\n",
                "SELECT MAKHOA, HOCVI, COUNT(MAGV) FROM GIAOVIEN\n",
                "GROUP BY MAKHOA, HOCVI\n",
                "ORDER BY MAKHOA"
            ]
        },
        {
            "cell_type": "code",
            "execution_count": 14,
            "metadata": {
                "azdata_cell_guid": "711f4482-5563-49b6-89a5-f5877ccf1631",
                "language": "sql",
                "tags": []
            },
            "outputs": [
                {
                    "data": {
                        "text/html": [
                            "(8 rows affected)"
                        ]
                    },
                    "metadata": {},
                    "output_type": "display_data"
                },
                {
                    "data": {
                        "text/html": [
                            "Total execution time: 00:00:00.008"
                        ]
                    },
                    "metadata": {},
                    "output_type": "display_data"
                },
                {
                    "data": {
                        "application/vnd.dataresource+json": {
                            "data": [
                                {
                                    "0": "CSDL",
                                    "1": "Dat",
                                    "2": "9"
                                },
                                {
                                    "0": "CTDLGT",
                                    "1": "Dat",
                                    "2": "11"
                                },
                                {
                                    "0": "CTRR",
                                    "1": "Dat",
                                    "2": "12"
                                },
                                {
                                    "0": "THDC",
                                    "1": "Dat",
                                    "2": "9"
                                },
                                {
                                    "0": "CSDL",
                                    "1": "Khong dat",
                                    "2": "4"
                                },
                                {
                                    "0": "CTDLGT",
                                    "1": "Khong dat",
                                    "2": "2"
                                },
                                {
                                    "0": "CTRR",
                                    "1": "Khong dat",
                                    "2": "1"
                                },
                                {
                                    "0": "THDC",
                                    "1": "Khong dat",
                                    "2": "4"
                                }
                            ],
                            "schema": {
                                "fields": [
                                    {
                                        "name": "MAMH"
                                    },
                                    {
                                        "name": "KQUA"
                                    },
                                    {
                                        "name": "(No column name)"
                                    }
                                ]
                            }
                        },
                        "text/html": [
                            "<table><tr><th>MAMH</th><th>KQUA</th><th>(No column name)</th></tr><tr><td>CSDL</td><td>Dat</td><td>9</td></tr><tr><td>CTDLGT</td><td>Dat</td><td>11</td></tr><tr><td>CTRR</td><td>Dat</td><td>12</td></tr><tr><td>THDC</td><td>Dat</td><td>9</td></tr><tr><td>CSDL</td><td>Khong dat</td><td>4</td></tr><tr><td>CTDLGT</td><td>Khong dat</td><td>2</td></tr><tr><td>CTRR</td><td>Khong dat</td><td>1</td></tr><tr><td>THDC</td><td>Khong dat</td><td>4</td></tr></table>"
                        ]
                    },
                    "execution_count": 14,
                    "metadata": {},
                    "output_type": "execute_result"
                }
            ],
            "source": [
                "-- III. 22: Mỗi môn học thống kê số lượng học viên theo kết quả (đạt và không đạt).\n",
                "\n",
                "-- Note: Lấy kết quả của lần thi cuối cùng\n",
                "\n",
                "SELECT MAMH, KQUA, COUNT(MAHV) FROM KETQUATHI AS KQ\n",
                "WHERE LANTHI IN (\n",
                "    SELECT MAX(LANTHI) FROM KETQUATHI\n",
                "    GROUP BY MAHV, MAMH\n",
                "    HAVING MAHV = KQ.MAHV AND MAMH = KQ.MAMH\n",
                ")\n",
                "GROUP BY MAMH, KQUA"
            ]
        },
        {
            "cell_type": "code",
            "execution_count": 20,
            "metadata": {
                "azdata_cell_guid": "2b9c90eb-2550-4b41-8e59-b009b432a104",
                "language": "sql"
            },
            "outputs": [
                {
                    "data": {
                        "text/html": [
                            "(2 rows affected)"
                        ]
                    },
                    "metadata": {},
                    "output_type": "display_data"
                },
                {
                    "data": {
                        "text/html": [
                            "Total execution time: 00:00:00.009"
                        ]
                    },
                    "metadata": {},
                    "output_type": "display_data"
                },
                {
                    "data": {
                        "application/vnd.dataresource+json": {
                            "data": [
                                {
                                    "0": "GV07",
                                    "1": "Nguyen Minh Tien"
                                },
                                {
                                    "0": "GV09",
                                    "1": "Nguyen To Lan"
                                }
                            ],
                            "schema": {
                                "fields": [
                                    {
                                        "name": "MAGV"
                                    },
                                    {
                                        "name": "HOTEN"
                                    }
                                ]
                            }
                        },
                        "text/html": [
                            "<table><tr><th>MAGV</th><th>HOTEN</th></tr><tr><td>GV07</td><td>Nguyen Minh Tien</td></tr><tr><td>GV09</td><td>Nguyen To Lan</td></tr></table>"
                        ]
                    },
                    "execution_count": 20,
                    "metadata": {},
                    "output_type": "execute_result"
                }
            ],
            "source": [
                "-- III. 23: Tìm giáo viên (mã giáo viên, họ tên) là giáo viên chủ nhiệm của một lớp, đồng thời dạy cho lớp đó ít nhất một môn học.\n",
                "\n",
                "SELECT MAGV, HOTEN FROM LOP\n",
                "INNER JOIN GIAOVIEN ON LOP.MAGVCN = GIAOVIEN.MAGV\n",
                "WHERE EXISTS (\n",
                "    SELECT * FROM GIANGDAY \n",
                "    WHERE MAGV = LOP.MAGVCN AND MALOP = LOP.MALOP\n",
                ")"
            ]
        },
        {
            "cell_type": "code",
            "execution_count": 5,
            "metadata": {
                "azdata_cell_guid": "656e0ea6-700a-4831-b24b-158b16f1e86f",
                "language": "sql"
            },
            "outputs": [
                {
                    "data": {
                        "text/html": [
                            "(2 rows affected)"
                        ]
                    },
                    "metadata": {},
                    "output_type": "display_data"
                },
                {
                    "data": {
                        "text/html": [
                            "Total execution time: 00:00:00.003"
                        ]
                    },
                    "metadata": {},
                    "output_type": "display_data"
                },
                {
                    "data": {
                        "application/vnd.dataresource+json": {
                            "data": [
                                {
                                    "0": "K1205"
                                },
                                {
                                    "0": "K1305"
                                }
                            ],
                            "schema": {
                                "fields": [
                                    {
                                        "name": "TRGLOP"
                                    }
                                ]
                            }
                        },
                        "text/html": [
                            "<table><tr><th>TRGLOP</th></tr><tr><td>K1205</td></tr><tr><td>K1305</td></tr></table>"
                        ]
                    },
                    "execution_count": 5,
                    "metadata": {},
                    "output_type": "execute_result"
                }
            ],
            "source": [
                "-- III. 24: Tìm họ tên lớp trưởng của lớp có sỉ số cao nhất.\n",
                "\n",
                "SELECT TRGLOP FROM LOP \n",
                "WHERE SISO >= ALL (\n",
                "    SELECT SISO FROM LOP\n",
                ")"
            ]
        },
        {
            "cell_type": "code",
            "execution_count": 14,
            "metadata": {
                "azdata_cell_guid": "27b5ca7e-dea2-4e29-af02-18391d4a2848",
                "language": "sql"
            },
            "outputs": [
                {
                    "data": {
                        "text/html": [
                            "(1 row affected)"
                        ]
                    },
                    "metadata": {},
                    "output_type": "display_data"
                },
                {
                    "data": {
                        "text/html": [
                            "Total execution time: 00:00:00.010"
                        ]
                    },
                    "metadata": {},
                    "output_type": "display_data"
                },
                {
                    "data": {
                        "application/vnd.dataresource+json": {
                            "data": [
                                {
                                    "0": "K1101",
                                    "1": "Nguyen Van",
                                    "2": "A"
                                }
                            ],
                            "schema": {
                                "fields": [
                                    {
                                        "name": "MAHV"
                                    },
                                    {
                                        "name": "HO"
                                    },
                                    {
                                        "name": "TEN"
                                    }
                                ]
                            }
                        },
                        "text/html": [
                            "<table><tr><th>MAHV</th><th>HO</th><th>TEN</th></tr><tr><td>K1101</td><td>Nguyen Van</td><td>A</td></tr></table>"
                        ]
                    },
                    "execution_count": 14,
                    "metadata": {},
                    "output_type": "execute_result"
                }
            ],
            "source": [
                "-- III. 26: Tìm học viên (mã học viên, họ tên) có số môn đạt điểm 9,10 nhiều nhất.\n",
                "\n",
                "SELECT HOCVIEN.MAHV, HOCVIEN.HO, HOCVIEN.TEN FROM HOCVIEN\n",
                "INNER JOIN KETQUATHI ON KETQUATHI.MAHV = HOCVIEN.MAHV\n",
                "WHERE KETQUATHI.DIEM >= 9\n",
                "GROUP BY HOCVIEN.MAHV, HOCVIEN.HO, HOCVIEN.TEN\n",
                "HAVING COUNT(KETQUATHI.DIEM) >= ALL (\n",
                "    SELECT COUNT(DIEM) FROM KETQUATHI\n",
                "    WHERE DIEM = 9 OR DIEM = 10\n",
                "    GROUP BY MAHV\n",
                ")"
            ]
        },
        {
            "cell_type": "code",
            "execution_count": 31,
            "metadata": {
                "azdata_cell_guid": "91cccae1-93be-473e-80fd-0cadc9d8512c",
                "language": "sql"
            },
            "outputs": [
                {
                    "data": {
                        "text/html": [
                            "(3 rows affected)"
                        ]
                    },
                    "metadata": {},
                    "output_type": "display_data"
                },
                {
                    "data": {
                        "text/html": [
                            "Total execution time: 00:00:00.002"
                        ]
                    },
                    "metadata": {},
                    "output_type": "display_data"
                },
                {
                    "data": {
                        "application/vnd.dataresource+json": {
                            "data": [
                                {
                                    "0": "K1101",
                                    "1": "Nguyen Van",
                                    "2": "A"
                                },
                                {
                                    "0": "K1203",
                                    "1": "Tran Thi Kim",
                                    "2": "Duyen"
                                },
                                {
                                    "0": "K1305",
                                    "1": "Le Thi",
                                    "2": "Huong"
                                }
                            ],
                            "schema": {
                                "fields": [
                                    {
                                        "name": "MAHV"
                                    },
                                    {
                                        "name": "HO"
                                    },
                                    {
                                        "name": "TEN"
                                    }
                                ]
                            }
                        },
                        "text/html": [
                            "<table><tr><th>MAHV</th><th>HO</th><th>TEN</th></tr><tr><td>K1101</td><td>Nguyen Van</td><td>A</td></tr><tr><td>K1203</td><td>Tran Thi Kim</td><td>Duyen</td></tr><tr><td>K1305</td><td>Le Thi</td><td>Huong</td></tr></table>"
                        ]
                    },
                    "execution_count": 31,
                    "metadata": {},
                    "output_type": "execute_result"
                }
            ],
            "source": [
                "-- III. 27:  Trong từng lớp, tìm học viên (mã học viên, họ tên) có số môn đạt điểm 9,10 nhiều nhất.\n",
                "\n",
                "SELECT HOCVIEN.MAHV, HOCVIEN.HO, HOCVIEN.TEN FROM HOCVIEN \n",
                "WHERE HOCVIEN.MAHV IN (\n",
                "    SELECT HV.MAHV FROM KETQUATHI\n",
                "    INNER JOIN HOCVIEN AS HV ON HV.MAHV = KETQUATHI.MAHV\n",
                "    WHERE (KETQUATHI.DIEM >= 9) AND HV.MALOP = HOCVIEN.MALOP\n",
                "    GROUP BY HV.MAHV\n",
                "    HAVING COUNT(KETQUATHI.DIEM) >= ALL (\n",
                "        SELECT COUNT(KQ2.DIEM) FROM KETQUATHI AS KQ2\n",
                "        INNER JOIN HOCVIEN AS HV2 ON HV2.MAHV = KQ2.MAHV\n",
                "        WHERE KQ2.DIEM >= 9 AND HV2.MALOP = HOCVIEN.MALOP\n",
                "        GROUP BY HV2.MAHV\n",
                "    )\n",
                ")"
            ]
        },
        {
            "cell_type": "code",
            "execution_count": 33,
            "metadata": {
                "azdata_cell_guid": "82a92cc7-e15c-4da3-b844-ad40b3a52432",
                "language": "sql"
            },
            "outputs": [
                {
                    "data": {
                        "text/html": [
                            "(13 rows affected)"
                        ]
                    },
                    "metadata": {},
                    "output_type": "display_data"
                },
                {
                    "data": {
                        "text/html": [
                            "Total execution time: 00:00:00.007"
                        ]
                    },
                    "metadata": {},
                    "output_type": "display_data"
                },
                {
                    "data": {
                        "application/vnd.dataresource+json": {
                            "data": [
                                {
                                    "0": "GV02",
                                    "1": "Tran Tam Thanh",
                                    "2": "2006",
                                    "3": "1",
                                    "4": "1",
                                    "5": "2"
                                },
                                {
                                    "0": "GV04",
                                    "1": "Tran Nam Son",
                                    "2": "2007",
                                    "3": "1",
                                    "4": "1",
                                    "5": "2"
                                },
                                {
                                    "0": "GV05",
                                    "1": "Mai Thanh Danh",
                                    "2": "2006",
                                    "3": "2",
                                    "4": "1",
                                    "5": "1"
                                },
                                {
                                    "0": "GV05",
                                    "1": "Mai Thanh Danh",
                                    "2": "2006",
                                    "3": "3",
                                    "4": "1",
                                    "5": "1"
                                },
                                {
                                    "0": "GV06",
                                    "1": "Tran Doan Hung",
                                    "2": "2006",
                                    "3": "1",
                                    "4": "1",
                                    "5": "1"
                                },
                                {
                                    "0": "GV07",
                                    "1": "Nguyen Minh Tien",
                                    "2": "2006",
                                    "3": "1",
                                    "4": "1",
                                    "5": "1"
                                },
                                {
                                    "0": "GV07",
                                    "1": "Nguyen Minh Tien",
                                    "2": "2006",
                                    "3": "3",
                                    "4": "1",
                                    "5": "1"
                                },
                                {
                                    "0": "GV07",
                                    "1": "Nguyen Minh Tien",
                                    "2": "2007",
                                    "3": "1",
                                    "4": "1",
                                    "5": "1"
                                },
                                {
                                    "0": "GV08",
                                    "1": "Le Thi Tran",
                                    "2": "2006",
                                    "3": "1",
                                    "4": "1",
                                    "5": "1"
                                },
                                {
                                    "0": "GV09",
                                    "1": "Nguyen To Lan",
                                    "2": "2006",
                                    "3": "2",
                                    "4": "1",
                                    "5": "1"
                                },
                                {
                                    "0": "GV15",
                                    "1": "Le Ha Thanh",
                                    "2": "2006",
                                    "3": "1",
                                    "4": "1",
                                    "5": "1"
                                },
                                {
                                    "0": "GV15",
                                    "1": "Le Ha Thanh",
                                    "2": "2006",
                                    "3": "2",
                                    "4": "1",
                                    "5": "1"
                                },
                                {
                                    "0": "GV15",
                                    "1": "Le Ha Thanh",
                                    "2": "2006",
                                    "3": "3",
                                    "4": "1",
                                    "5": "2"
                                }
                            ],
                            "schema": {
                                "fields": [
                                    {
                                        "name": "MAGV"
                                    },
                                    {
                                        "name": "HOTEN"
                                    },
                                    {
                                        "name": "NAM"
                                    },
                                    {
                                        "name": "HOCKY"
                                    },
                                    {
                                        "name": "SOMON"
                                    },
                                    {
                                        "name": "SOLOP"
                                    }
                                ]
                            }
                        },
                        "text/html": [
                            "<table><tr><th>MAGV</th><th>HOTEN</th><th>NAM</th><th>HOCKY</th><th>SOMON</th><th>SOLOP</th></tr><tr><td>GV02</td><td>Tran Tam Thanh</td><td>2006</td><td>1</td><td>1</td><td>2</td></tr><tr><td>GV04</td><td>Tran Nam Son</td><td>2007</td><td>1</td><td>1</td><td>2</td></tr><tr><td>GV05</td><td>Mai Thanh Danh</td><td>2006</td><td>2</td><td>1</td><td>1</td></tr><tr><td>GV05</td><td>Mai Thanh Danh</td><td>2006</td><td>3</td><td>1</td><td>1</td></tr><tr><td>GV06</td><td>Tran Doan Hung</td><td>2006</td><td>1</td><td>1</td><td>1</td></tr><tr><td>GV07</td><td>Nguyen Minh Tien</td><td>2006</td><td>1</td><td>1</td><td>1</td></tr><tr><td>GV07</td><td>Nguyen Minh Tien</td><td>2006</td><td>3</td><td>1</td><td>1</td></tr><tr><td>GV07</td><td>Nguyen Minh Tien</td><td>2007</td><td>1</td><td>1</td><td>1</td></tr><tr><td>GV08</td><td>Le Thi Tran</td><td>2006</td><td>1</td><td>1</td><td>1</td></tr><tr><td>GV09</td><td>Nguyen To Lan</td><td>2006</td><td>2</td><td>1</td><td>1</td></tr><tr><td>GV15</td><td>Le Ha Thanh</td><td>2006</td><td>1</td><td>1</td><td>1</td></tr><tr><td>GV15</td><td>Le Ha Thanh</td><td>2006</td><td>2</td><td>1</td><td>1</td></tr><tr><td>GV15</td><td>Le Ha Thanh</td><td>2006</td><td>3</td><td>1</td><td>2</td></tr></table>"
                        ]
                    },
                    "execution_count": 33,
                    "metadata": {},
                    "output_type": "execute_result"
                }
            ],
            "source": [
                "-- III. 28: Trong từng học kỳ của từng năm, mỗi giáo viên phân công dạy bao nhiêu môn học, bao nhiêu lớp.\n",
                "\n",
                "SELECT GIAOVIEN.MAGV, GIAOVIEN.HOTEN, GIANGDAY.NAM, GIANGDAY.HOCKY, COUNT(DISTINCT GIANGDAY.MAMH) AS SOMON, COUNT(DISTINCT GIANGDAY.MALOP) AS SOLOP FROM GIANGDAY  \n",
                "INNER JOIN GIAOVIEN ON GIANGDAY.MAGV = GIAOVIEN.MAGV\n",
                "GROUP BY GIAOVIEN.MAGV, GIAOVIEN.HOTEN, GIANGDAY.NAM, GIANGDAY.HOCKY"
            ]
        },
        {
            "cell_type": "code",
            "execution_count": 35,
            "metadata": {
                "azdata_cell_guid": "910ba62a-700b-42e6-b4a9-5670bf177e99",
                "language": "sql"
            },
            "outputs": [
                {
                    "data": {
                        "text/html": [
                            "(6 rows affected)"
                        ]
                    },
                    "metadata": {},
                    "output_type": "display_data"
                },
                {
                    "data": {
                        "text/html": [
                            "Total execution time: 00:00:00.009"
                        ]
                    },
                    "metadata": {},
                    "output_type": "display_data"
                },
                {
                    "data": {
                        "application/vnd.dataresource+json": {
                            "data": [
                                {
                                    "0": "2006",
                                    "1": "1",
                                    "2": "GV02",
                                    "3": "Tran Tam Thanh",
                                    "4": "2"
                                },
                                {
                                    "0": "2006",
                                    "1": "2",
                                    "2": "GV05",
                                    "3": "Mai Thanh Danh",
                                    "4": "1"
                                },
                                {
                                    "0": "2006",
                                    "1": "2",
                                    "2": "GV09",
                                    "3": "Nguyen To Lan",
                                    "4": "1"
                                },
                                {
                                    "0": "2006",
                                    "1": "2",
                                    "2": "GV15",
                                    "3": "Le Ha Thanh",
                                    "4": "1"
                                },
                                {
                                    "0": "2006",
                                    "1": "3",
                                    "2": "GV15",
                                    "3": "Le Ha Thanh",
                                    "4": "2"
                                },
                                {
                                    "0": "2007",
                                    "1": "1",
                                    "2": "GV04",
                                    "3": "Tran Nam Son",
                                    "4": "2"
                                }
                            ],
                            "schema": {
                                "fields": [
                                    {
                                        "name": "NAM"
                                    },
                                    {
                                        "name": "HOCKY"
                                    },
                                    {
                                        "name": "MAGV"
                                    },
                                    {
                                        "name": "HOTEN"
                                    },
                                    {
                                        "name": "(No column name)"
                                    }
                                ]
                            }
                        },
                        "text/html": [
                            "<table><tr><th>NAM</th><th>HOCKY</th><th>MAGV</th><th>HOTEN</th><th>(No column name)</th></tr><tr><td>2006</td><td>1</td><td>GV02</td><td>Tran Tam Thanh</td><td>2</td></tr><tr><td>2006</td><td>2</td><td>GV05</td><td>Mai Thanh Danh</td><td>1</td></tr><tr><td>2006</td><td>2</td><td>GV09</td><td>Nguyen To Lan</td><td>1</td></tr><tr><td>2006</td><td>2</td><td>GV15</td><td>Le Ha Thanh</td><td>1</td></tr><tr><td>2006</td><td>3</td><td>GV15</td><td>Le Ha Thanh</td><td>2</td></tr><tr><td>2007</td><td>1</td><td>GV04</td><td>Tran Nam Son</td><td>2</td></tr></table>"
                        ]
                    },
                    "execution_count": 35,
                    "metadata": {},
                    "output_type": "execute_result"
                }
            ],
            "source": [
                "-- III. 29: Trong từng học kỳ của từng năm, tìm giáo viên (mã giáo viên, họ tên) giảng dạy nhiều nhất.\n",
                "\n",
                "SELECT GIANGDAY.NAM, GIANGDAY.HOCKY, GIAOVIEN.MAGV, GIAOVIEN.HOTEN FROM GIANGDAY\n",
                "JOIN GIAOVIEN ON GIANGDAY.MAGV = GIAOVIEN.MAGV\n",
                "GROUP BY GIAOVIEN.MAGV, GIAOVIEN.HOTEN, GIANGDAY.NAM, GIANGDAY.HOCKY\n",
                "HAVING COUNT(MAMH) >= ALL (\n",
                "    SELECT COUNT(MAMH) FROM GIANGDAY AS GD\n",
                "    WHERE GD.NAM = GIANGDAY.NAM AND GIANGDAY.HOCKY = GD.HOCKY\n",
                "    GROUP BY GD.MAGV\n",
                ")"
            ]
        },
        {
            "cell_type": "code",
            "execution_count": 43,
            "metadata": {
                "azdata_cell_guid": "22ecc8da-f3f0-4595-8bac-3dac12f652c5",
                "language": "sql",
                "tags": []
            },
            "outputs": [
                {
                    "data": {
                        "text/html": [
                            "(1 row affected)"
                        ]
                    },
                    "metadata": {},
                    "output_type": "display_data"
                },
                {
                    "data": {
                        "text/html": [
                            "Total execution time: 00:00:00.011"
                        ]
                    },
                    "metadata": {},
                    "output_type": "display_data"
                },
                {
                    "data": {
                        "application/vnd.dataresource+json": {
                            "data": [
                                {
                                    "0": "CSDL",
                                    "1": "Co so du lieu"
                                }
                            ],
                            "schema": {
                                "fields": [
                                    {
                                        "name": "MAMH"
                                    },
                                    {
                                        "name": "TENMH"
                                    }
                                ]
                            }
                        },
                        "text/html": [
                            "<table><tr><th>MAMH</th><th>TENMH</th></tr><tr><td>CSDL</td><td>Co so du lieu</td></tr></table>"
                        ]
                    },
                    "execution_count": 43,
                    "metadata": {},
                    "output_type": "execute_result"
                }
            ],
            "source": [
                "-- III. 30: Tìm môn học (mã môn học, tên môn học) có nhiều học viên thi không đạt (ở lần thi thứ 1) nhất.\n",
                "\n",
                "SELECT MONHOC.MAMH, MONHOC.TENMH FROM KETQUATHI \n",
                "JOIN MONHOC ON KETQUATHI.MAMH = MONHOC.MAMH\n",
                "WHERE LANTHI = 1 AND KQUA = 'Khong dat'\n",
                "GROUP BY MONHOC.MAMH, MONHOC.TENMH\n",
                "HAVING COUNT(LANTHI) >= ALL (\n",
                "    SELECT COUNT(LANTHI) FROM KETQUATHI AS KQ \n",
                "    JOIN MONHOC AS MH ON KQ.MAMH = MH.MAMH\n",
                "    WHERE LANTHI = 1 AND KQUA = 'Khong dat'\n",
                "    GROUP BY MH.MAMH, MH.TENMH\n",
                ")"
            ]
        },
        {
            "cell_type": "code",
            "execution_count": 47,
            "metadata": {
                "azdata_cell_guid": "caea8ffb-74e2-492d-a5b3-76a76fda317a",
                "language": "sql"
            },
            "outputs": [
                {
                    "data": {
                        "text/html": [
                            "(6 rows affected)"
                        ]
                    },
                    "metadata": {},
                    "output_type": "display_data"
                },
                {
                    "data": {
                        "text/html": [
                            "Total execution time: 00:00:00.008"
                        ]
                    },
                    "metadata": {},
                    "output_type": "display_data"
                },
                {
                    "data": {
                        "application/vnd.dataresource+json": {
                            "data": [
                                {
                                    "0": "K1101",
                                    "1": "Nguyen Van",
                                    "2": "A"
                                },
                                {
                                    "0": "K1201",
                                    "1": "Nguyen Van",
                                    "2": "B"
                                },
                                {
                                    "0": "K1203",
                                    "1": "Tran Thi Kim",
                                    "2": "Duyen"
                                },
                                {
                                    "0": "K1302",
                                    "1": "Truong Thi My",
                                    "2": "Hien"
                                },
                                {
                                    "0": "K1304",
                                    "1": "Le Quang",
                                    "2": "Hien"
                                },
                                {
                                    "0": "K1305",
                                    "1": "Le Thi",
                                    "2": "Huong"
                                }
                            ],
                            "schema": {
                                "fields": [
                                    {
                                        "name": "MAHV"
                                    },
                                    {
                                        "name": "HO"
                                    },
                                    {
                                        "name": "TEN"
                                    }
                                ]
                            }
                        },
                        "text/html": [
                            "<table><tr><th>MAHV</th><th>HO</th><th>TEN</th></tr><tr><td>K1101</td><td>Nguyen Van</td><td>A</td></tr><tr><td>K1201</td><td>Nguyen Van</td><td>B</td></tr><tr><td>K1203</td><td>Tran Thi Kim</td><td>Duyen</td></tr><tr><td>K1302</td><td>Truong Thi My</td><td>Hien</td></tr><tr><td>K1304</td><td>Le Quang</td><td>Hien</td></tr><tr><td>K1305</td><td>Le Thi</td><td>Huong</td></tr></table>"
                        ]
                    },
                    "execution_count": 47,
                    "metadata": {},
                    "output_type": "execute_result"
                }
            ],
            "source": [
                "-- III. 31: Tìm học viên (mã học viên, họ tên) thi môn nào cũng đạt (chỉ xét lần thi thứ 1).\n",
                "\n",
                "SELECT HOCVIEN.MAHV, HOCVIEN.HO, HOCVIEN.TEN FROM KETQUATHI\n",
                "JOIN HOCVIEN ON KETQUATHI.MAHV = HOCVIEN.MAHV \n",
                "WHERE LANTHI = 1 AND KQUA = 'Dat'\n",
                "GROUP BY HOCVIEN.MAHV, HOCVIEN.HO, HOCVIEN.TEN\n",
                "HAVING COUNT(DISTINCT KETQUATHI.MAMH) = (\n",
                "    SELECT COUNT(DISTINCT KETQUATHI.MAMH) FROM KETQUATHI \n",
                "    WHERE MAHV = HOCVIEN.MAHV\n",
                ")\n"
            ]
        },
        {
            "cell_type": "code",
            "execution_count": 53,
            "metadata": {
                "azdata_cell_guid": "952fdfb3-014a-4b76-9376-9757356e2814",
                "language": "sql"
            },
            "outputs": [
                {
                    "data": {
                        "text/html": [
                            "(7 rows affected)"
                        ]
                    },
                    "metadata": {},
                    "output_type": "display_data"
                },
                {
                    "data": {
                        "text/html": [
                            "Total execution time: 00:00:00.016"
                        ]
                    },
                    "metadata": {},
                    "output_type": "display_data"
                },
                {
                    "data": {
                        "application/vnd.dataresource+json": {
                            "data": [
                                {
                                    "0": "K1101",
                                    "1": "Nguyen Van",
                                    "2": "A"
                                },
                                {
                                    "0": "K1103",
                                    "1": "Ha Duy",
                                    "2": "Lap"
                                },
                                {
                                    "0": "K1201",
                                    "1": "Nguyen Van",
                                    "2": "B"
                                },
                                {
                                    "0": "K1203",
                                    "1": "Tran Thi Kim",
                                    "2": "Duyen"
                                },
                                {
                                    "0": "K1302",
                                    "1": "Truong Thi My",
                                    "2": "Hien"
                                },
                                {
                                    "0": "K1304",
                                    "1": "Le Quang",
                                    "2": "Hien"
                                },
                                {
                                    "0": "K1305",
                                    "1": "Le Thi",
                                    "2": "Huong"
                                }
                            ],
                            "schema": {
                                "fields": [
                                    {
                                        "name": "MAHV"
                                    },
                                    {
                                        "name": "HO"
                                    },
                                    {
                                        "name": "TEN"
                                    }
                                ]
                            }
                        },
                        "text/html": [
                            "<table><tr><th>MAHV</th><th>HO</th><th>TEN</th></tr><tr><td>K1101</td><td>Nguyen Van</td><td>A</td></tr><tr><td>K1103</td><td>Ha Duy</td><td>Lap</td></tr><tr><td>K1201</td><td>Nguyen Van</td><td>B</td></tr><tr><td>K1203</td><td>Tran Thi Kim</td><td>Duyen</td></tr><tr><td>K1302</td><td>Truong Thi My</td><td>Hien</td></tr><tr><td>K1304</td><td>Le Quang</td><td>Hien</td></tr><tr><td>K1305</td><td>Le Thi</td><td>Huong</td></tr></table>"
                        ]
                    },
                    "execution_count": 53,
                    "metadata": {},
                    "output_type": "execute_result"
                }
            ],
            "source": [
                "-- III. 32*: Tìm học viên (mã học viên, họ tên) thi môn nào cũng đạt (chỉ xét lần thi sau cùng).\n",
                "\n",
                "SELECT HOCVIEN.MAHV, HOCVIEN.HO, HOCVIEN.TEN FROM KETQUATHI\n",
                "JOIN HOCVIEN ON KETQUATHI.MAHV = HOCVIEN.MAHV \n",
                "WHERE LANTHI = (\n",
                "    SELECT MAX(LANTHI) FROM KETQUATHI AS KQ\n",
                "    WHERE KQ.MAHV = KETQUATHI.MAHV AND KQ.MAMH = KETQUATHI.MAMH\n",
                ") AND KQUA = 'Dat'\n",
                "GROUP BY HOCVIEN.MAHV, HOCVIEN.HO, HOCVIEN.TEN\n",
                "HAVING COUNT(DISTINCT KETQUATHI.MAMH) = (\n",
                "    SELECT COUNT(DISTINCT KETQUATHI.MAMH) FROM KETQUATHI \n",
                "    WHERE MAHV = HOCVIEN.MAHV\n",
                ")"
            ]
        },
        {
            "cell_type": "code",
            "execution_count": 52,
            "metadata": {
                "azdata_cell_guid": "90ec1775-3fdf-4a5b-a09a-336823c18994",
                "language": "sql"
            },
            "outputs": [
                {
                    "data": {
                        "text/html": [
                            "(1 row affected)"
                        ]
                    },
                    "metadata": {},
                    "output_type": "display_data"
                },
                {
                    "data": {
                        "text/html": [
                            "(13 rows affected)"
                        ]
                    },
                    "metadata": {},
                    "output_type": "display_data"
                },
                {
                    "data": {
                        "text/html": [
                            "Total execution time: 00:00:00.004"
                        ]
                    },
                    "metadata": {},
                    "output_type": "display_data"
                },
                {
                    "data": {
                        "application/vnd.dataresource+json": {
                            "data": [
                                {
                                    "0": "13"
                                }
                            ],
                            "schema": {
                                "fields": [
                                    {
                                        "name": "(No column name)"
                                    }
                                ]
                            }
                        },
                        "text/html": [
                            "<table><tr><th>(No column name)</th></tr><tr><td>13</td></tr></table>"
                        ]
                    },
                    "execution_count": 52,
                    "metadata": {},
                    "output_type": "execute_result"
                },
                {
                    "data": {
                        "application/vnd.dataresource+json": {
                            "data": [
                                {
                                    "0": "CSDL",
                                    "1": "Co so du lieu",
                                    "2": "3",
                                    "3": "1",
                                    "4": "HTTT"
                                },
                                {
                                    "0": "CTDLGT",
                                    "1": "Cau truc du lieu va giai thuat",
                                    "2": "3",
                                    "3": "1",
                                    "4": "KHMT"
                                },
                                {
                                    "0": "CTRR",
                                    "1": "Cau truc roi rac",
                                    "2": "5",
                                    "3": "0",
                                    "4": "KHMT"
                                },
                                {
                                    "0": "DHMT",
                                    "1": "Do hoa may tinh",
                                    "2": "3",
                                    "3": "1",
                                    "4": "KHMT"
                                },
                                {
                                    "0": "HDH",
                                    "1": "He dieu hanh",
                                    "2": "4",
                                    "3": "0",
                                    "4": "KTMT"
                                },
                                {
                                    "0": "KTMT",
                                    "1": "Kien truc may tinh",
                                    "2": "3",
                                    "3": "0",
                                    "4": "KTMT"
                                },
                                {
                                    "0": "LTCFW",
                                    "1": "Lap trinh C for win",
                                    "2": "3",
                                    "3": "1",
                                    "4": "CNPM"
                                },
                                {
                                    "0": "LTHDT",
                                    "1": "Lap trinh huong doi tuong",
                                    "2": "3",
                                    "3": "1",
                                    "4": "CNPM"
                                },
                                {
                                    "0": "NMCNPM",
                                    "1": "Nhap mon cong nghe phan mem",
                                    "2": "3",
                                    "3": "0",
                                    "4": "CNPM"
                                },
                                {
                                    "0": "PTTKHTTT",
                                    "1": "Phan tich thiet ke he thong thong tin",
                                    "2": "4",
                                    "3": "1",
                                    "4": "HTTT"
                                },
                                {
                                    "0": "PTTKTT",
                                    "1": "Phan tich thiet ke thuat toan",
                                    "2": "3",
                                    "3": "0",
                                    "4": "KHMT"
                                },
                                {
                                    "0": "THDC",
                                    "1": "Tin hoc dai cuong",
                                    "2": "4",
                                    "3": "1",
                                    "4": "KHMT"
                                },
                                {
                                    "0": "TKCSDL",
                                    "1": "Thiet ke CO so du lieu",
                                    "2": "3",
                                    "3": "1",
                                    "4": "HTTT"
                                }
                            ],
                            "schema": {
                                "fields": [
                                    {
                                        "name": "MAMH"
                                    },
                                    {
                                        "name": "TENMH"
                                    },
                                    {
                                        "name": "TCLT"
                                    },
                                    {
                                        "name": "TCTH"
                                    },
                                    {
                                        "name": "MAKHOA"
                                    }
                                ]
                            }
                        },
                        "text/html": [
                            "<table><tr><th>MAMH</th><th>TENMH</th><th>TCLT</th><th>TCTH</th><th>MAKHOA</th></tr><tr><td>CSDL</td><td>Co so du lieu</td><td>3</td><td>1</td><td>HTTT</td></tr><tr><td>CTDLGT</td><td>Cau truc du lieu va giai thuat</td><td>3</td><td>1</td><td>KHMT</td></tr><tr><td>CTRR</td><td>Cau truc roi rac</td><td>5</td><td>0</td><td>KHMT</td></tr><tr><td>DHMT</td><td>Do hoa may tinh</td><td>3</td><td>1</td><td>KHMT</td></tr><tr><td>HDH</td><td>He dieu hanh</td><td>4</td><td>0</td><td>KTMT</td></tr><tr><td>KTMT</td><td>Kien truc may tinh</td><td>3</td><td>0</td><td>KTMT</td></tr><tr><td>LTCFW</td><td>Lap trinh C for win</td><td>3</td><td>1</td><td>CNPM</td></tr><tr><td>LTHDT</td><td>Lap trinh huong doi tuong</td><td>3</td><td>1</td><td>CNPM</td></tr><tr><td>NMCNPM</td><td>Nhap mon cong nghe phan mem</td><td>3</td><td>0</td><td>CNPM</td></tr><tr><td>PTTKHTTT</td><td>Phan tich thiet ke he thong thong tin</td><td>4</td><td>1</td><td>HTTT</td></tr><tr><td>PTTKTT</td><td>Phan tich thiet ke thuat toan</td><td>3</td><td>0</td><td>KHMT</td></tr><tr><td>THDC</td><td>Tin hoc dai cuong</td><td>4</td><td>1</td><td>KHMT</td></tr><tr><td>TKCSDL</td><td>Thiet ke CO so du lieu</td><td>3</td><td>1</td><td>HTTT</td></tr></table>"
                        ]
                    },
                    "execution_count": 52,
                    "metadata": {},
                    "output_type": "execute_result"
                }
            ],
            "source": [
                "-- III. 33: *Tìm học viên (mã học viên, họ tên) đã thi tất cả các môn đều đạt (chỉ xét lần thi thứ 1).\n",
                "\n",
                "SELECT HOCVIEN.MAHV, HOCVIEN.HO, HOCVIEN.TEN FROM KETQUATHI\n",
                "JOIN HOCVIEN ON KETQUATHI.MAHV = HOCVIEN.MAHV \n",
                "WHERE LANTHI = 1 AND KQUA = 'Dat'\n",
                "GROUP BY HOCVIEN.MAHV, HOCVIEN.HO, HOCVIEN.TEN\n",
                "HAVING COUNT(DISTINCT KETQUATHI.MAMH) = (\n",
                "    SELECT COUNT(DISTINCT MAMH) FROM MONHOC\n",
                ")"
            ]
        },
        {
            "cell_type": "code",
            "execution_count": 54,
            "metadata": {
                "azdata_cell_guid": "c4abfb02-3cf0-42ec-9806-c457ecd25e0a",
                "language": "sql"
            },
            "outputs": [
                {
                    "data": {
                        "text/html": [
                            "(0 rows affected)"
                        ]
                    },
                    "metadata": {},
                    "output_type": "display_data"
                },
                {
                    "data": {
                        "text/html": [
                            "Total execution time: 00:00:00.012"
                        ]
                    },
                    "metadata": {},
                    "output_type": "display_data"
                },
                {
                    "data": {
                        "application/vnd.dataresource+json": {
                            "data": [],
                            "schema": {
                                "fields": [
                                    {
                                        "name": "MAHV"
                                    },
                                    {
                                        "name": "HO"
                                    },
                                    {
                                        "name": "TEN"
                                    }
                                ]
                            }
                        },
                        "text/html": [
                            "<table><tr><th>MAHV</th><th>HO</th><th>TEN</th></tr></table>"
                        ]
                    },
                    "execution_count": 54,
                    "metadata": {},
                    "output_type": "execute_result"
                }
            ],
            "source": [
                "-- III. 34: * Tìm học viên (mã học viên, họ tên) đã thi tất cả các môn đều đạt (chỉ xét lần thi sau cùng).\n",
                "\n",
                "SELECT HOCVIEN.MAHV, HOCVIEN.HO, HOCVIEN.TEN FROM KETQUATHI\n",
                "JOIN HOCVIEN ON KETQUATHI.MAHV = HOCVIEN.MAHV \n",
                "WHERE LANTHI = (\n",
                "    SELECT MAX(LANTHI) FROM KETQUATHI AS KQ\n",
                "    WHERE KQ.MAHV = KETQUATHI.MAHV AND KQ.MAMH = KETQUATHI.MAMH\n",
                ") AND KQUA = 'Dat'\n",
                "GROUP BY HOCVIEN.MAHV, HOCVIEN.HO, HOCVIEN.TEN\n",
                "HAVING COUNT(DISTINCT KETQUATHI.MAMH) = (\n",
                "    SELECT COUNT(DISTINCT MAMH) FROM MONHOC\n",
                ")"
            ]
        },
        {
            "cell_type": "code",
            "execution_count": 5,
            "metadata": {
                "azdata_cell_guid": "96f76b73-8a20-4c96-be23-1d10636d82a1",
                "language": "sql"
            },
            "outputs": [
                {
                    "data": {
                        "text/html": [
                            "Commands completed successfully."
                        ]
                    },
                    "metadata": {},
                    "output_type": "display_data"
                },
                {
                    "data": {
                        "text/html": [
                            "Total execution time: 00:00:00.002"
                        ]
                    },
                    "metadata": {},
                    "output_type": "display_data"
                }
            ],
            "source": [
                "-- I. 9: Lớp trưởng của một lớp phải là học viên của lớp đó.\n",
                "\n",
                "CREATE TRIGGER CHECK_TRG_LOP ON LOP\n",
                "AFTER UPDATE, INSERT AS \n",
                "BEGIN\n",
                "    IF NOT EXISTS(\n",
                "        SELECT * FROM HOCVIEN, inserted\n",
                "        WHERE inserted.TRGLOP = HOCVIEN.MAHV AND HOCVIEN.MALOP = inserted.MALOP\n",
                "    )\n",
                "    BEGIN\n",
                "        PRINT 'Lớp trưởng của một lớp phải là học viên của lớp đó.'\n",
                "        ROLLBACK TRANSACTION\n",
                "    END\n",
                "END"
            ]
        },
        {
            "cell_type": "code",
            "execution_count": 6,
            "metadata": {
                "azdata_cell_guid": "02be2dd4-6fa1-42c6-9bf4-93f8573807dc",
                "language": "sql"
            },
            "outputs": [
                {
                    "data": {
                        "text/html": [
                            "Commands completed successfully."
                        ]
                    },
                    "metadata": {},
                    "output_type": "display_data"
                },
                {
                    "data": {
                        "text/html": [
                            "Total execution time: 00:00:00.003"
                        ]
                    },
                    "metadata": {},
                    "output_type": "display_data"
                }
            ],
            "source": [
                "-- I. 10: Trưởng khoa phải là giáo viên thuộc khoa và có học vị “TS” hoặc “PTS”.\n",
                "\n",
                "CREATE TRIGGER CHECK_TRG_KHOA ON KHOA\n",
                "AFTER UPDATE, INSERT AS \n",
                "BEGIN\n",
                "    IF (NOT EXISTS(\n",
                "        SELECT * FROM GIAOVIEN, inserted\n",
                "        WHERE inserted.TRGKHOA = GIAOVIEN.MAGV AND GIAOVIEN.MAKHOA = inserted.MAKHOA AND GIAOVIEN.HOCVI IN ('TS', 'PTS')\n",
                "    )) \n",
                "    BEGIN\n",
                "        PRINT 'Trưởng khoa phải là giáo viên thuộc khoa và có học vị “TS” hoặc “PTS”.'\n",
                "        ROLLBACK TRANSACTION\n",
                "    END\n",
                "END"
            ]
        },
        {
            "cell_type": "code",
            "execution_count": 12,
            "metadata": {
                "azdata_cell_guid": "a0d7a061-8a94-455d-927a-472167c25034",
                "language": "sql",
                "tags": []
            },
            "outputs": [
                {
                    "ename": "",
                    "evalue": "Msg 195, Level 15, State 10, Procedure CHECK_TUOI_HV, Line 8\n'TIMESTAMPDIFF' is not a recognized built-in function name.",
                    "output_type": "error",
                    "traceback": []
                },
                {
                    "data": {
                        "text/html": [
                            "Total execution time: 00:00:00"
                        ]
                    },
                    "metadata": {},
                    "output_type": "display_data"
                }
            ],
            "source": [
                "-- I. 11: Học viên ít nhất là 18 tuổi.\n",
                "\n",
                "ALTER TABLE HOCVIEN ADD CONSTRAINT CHECK_TUOI_HV CHECK (YEAR(GETDATE()) - YEAR(NGSINH) >= 18)"
            ]
        },
        {
            "cell_type": "code",
            "execution_count": 8,
            "metadata": {
                "azdata_cell_guid": "388616e3-a8f2-481a-9ba4-faac25e1aba6",
                "language": "sql"
            },
            "outputs": [
                {
                    "data": {
                        "text/html": [
                            "Commands completed successfully."
                        ]
                    },
                    "metadata": {},
                    "output_type": "display_data"
                },
                {
                    "data": {
                        "text/html": [
                            "Total execution time: 00:00:00.002"
                        ]
                    },
                    "metadata": {},
                    "output_type": "display_data"
                }
            ],
            "source": [
                "-- I. 12: Giảng dạy một môn học ngày bắt đầu (TUNGAY) phải nhỏ hơn ngày kết thúc (DENNGAY).\n",
                "\n",
                "ALTER TABLE GIANGDAY ADD CONSTRAINT CHECK_NGAY_GD CHECK (TUNGAY < DENNGAY)"
            ]
        },
        {
            "cell_type": "code",
            "execution_count": null,
            "metadata": {
                "azdata_cell_guid": "265bbe69-8b03-4a1d-9a3b-ea2e501eba51",
                "language": "sql"
            },
            "outputs": [],
            "source": [
                "-- I. 13: Giáo viên khi vào làm ít nhất là 22 tuổi.\n",
                "\n",
                "ALTER TABLE GIAOVIEN ADD CONSTRAINT CHECK_TUOI_GV CHECK (YEAR(NGVL) - YEAR(NGSINH) >= 22)"
            ]
        },
        {
            "cell_type": "code",
            "execution_count": 13,
            "metadata": {
                "azdata_cell_guid": "868b7a3a-0d39-4612-967d-50532ef15a91",
                "language": "sql"
            },
            "outputs": [
                {
                    "data": {
                        "text/html": [
                            "Commands completed successfully."
                        ]
                    },
                    "metadata": {},
                    "output_type": "display_data"
                },
                {
                    "data": {
                        "text/html": [
                            "Total execution time: 00:00:00.002"
                        ]
                    },
                    "metadata": {},
                    "output_type": "display_data"
                }
            ],
            "source": [
                "-- I. 14: Tất cả các môn học đều có số tín chỉ lý thuyết và tín chỉ thực hành chênh lệch nhau không quá 3.\n",
                "\n",
                "ALTER TABLE MONHOC ADD CONSTRAINT CHECK_TINCHI CHECK (\n",
                "    ABS(TCTH - TCLT) <= 3 OR TCTH = 0\n",
                ")"
            ]
        },
        {
            "cell_type": "code",
            "execution_count": null,
            "metadata": {
                "azdata_cell_guid": "09684493-e489-467a-8e47-28d9fc7b4e64",
                "language": "sql"
            },
            "outputs": [],
            "source": [
                "-- -- I. 15: Học viên chỉ được thi một môn học nào đó khi lớp của học viên đã học xong môn học này.\n",
                "\n",
                "CREATE TRIGGER CHECK_THI_MON_HOC_XONG ON KETQUATHI\n",
                "AFTER UPDATE, INSERT AS \n",
                "BEGIN\n",
                "    DECLARE @MAMH VARCHAR(10),\n",
                "            @MAHV CHAR(5), \n",
                "            @MALOP CHAR(3),\n",
                "            @NGTHI SMALLDATETIME,\n",
                "            @DENNGAY SMALLDATETIME\n",
                "\n",
                "    SELECT @MAMH = MAMH, @MAHV = MAHV, @NGTHI = NGTHI FROM inserted\n",
                "    SELECT @MALOP = MALOP FROM HOCVIEN\n",
                "    WHERE HOCVIEN.MAHV = @MAHV\n",
                "\n",
                "    SELECT @DENNGAY = DENNGAY FROM GIANGDAY\n",
                "    WHERE MALOP = @MALOP AND MAMH = @MAMH\n",
                "\n",
                "    IF @NGTHI < @DENNGAY\n",
                "    BEGIN\n",
                "        PRINT 'Học viên chỉ được thi những môn mà lớp của học viên đó đã học xong.'\n",
                "        ROLLBACK TRANSACTION\n",
                "    END  \n",
                "END"
            ]
        },
        {
            "cell_type": "code",
            "execution_count": 10,
            "metadata": {
                "azdata_cell_guid": "b5ca4dbb-8803-41a1-9ac2-690eb1275701",
                "language": "sql"
            },
            "outputs": [
                {
                    "data": {
                        "text/html": [
                            "Commands completed successfully."
                        ]
                    },
                    "metadata": {},
                    "output_type": "display_data"
                },
                {
                    "data": {
                        "text/html": [
                            "Total execution time: 00:00:00.002"
                        ]
                    },
                    "metadata": {},
                    "output_type": "display_data"
                }
            ],
            "source": [
                "-- I. 16: Mỗi học kỳ của một năm học, một lớp chỉ được học tối đa 3 môn.\n",
                "\n",
                "CREATE TRIGGER CHECK_GIANGDAY_MONHOC ON GIANGDAY\n",
                "AFTER INSERT, UPDATE AS\n",
                "BEGIN\n",
                "    DECLARE\t@SL INT\n",
                "\n",
                "    SELECT @SL = COUNT(*) FROM GIANGDAY, inserted\n",
                "\tWHERE GIANGDAY.MALOP = inserted.MALOP AND GIANGDAY.HOCKY = inserted.HOCKY AND GIANGDAY.NAM = inserted.NAM\n",
                "\n",
                "    IF @SL > 3\n",
                "    BEGIN\n",
                "        ROLLBACK TRANSACTION\n",
                "        PRINT 'Mỗi học kỳ của một năm học, một lớp chỉ được học tối đa 3 môn.'\n",
                "    END\n",
                "END"
            ]
        },
        {
            "cell_type": "code",
            "execution_count": 10,
            "metadata": {
                "azdata_cell_guid": "3fb5916e-7d75-4b7b-88a1-f79772f31818",
                "language": "sql"
            },
            "outputs": [
                {
                    "ename": "",
                    "evalue": "Msg 2714, Level 16, State 2, Procedure CHECK_LOP_SS, Line 3\nThere is already an object named 'CHECK_LOP_SS' in the database.",
                    "output_type": "error",
                    "traceback": []
                },
                {
                    "data": {
                        "text/html": [
                            "Total execution time: 00:00:00.001"
                        ]
                    },
                    "metadata": {},
                    "output_type": "display_data"
                }
            ],
            "source": [
                "-- I. 17: Sỉ số của một lớp bằng với số lượng học viên thuộc lớp đó.\n",
                "\n",
                "CREATE TRIGGER CHECK_LOP_SS ON LOP\n",
                "AFTER UPDATE, INSERT AS \n",
                "BEGIN\n",
                "    DECLARE @SL INT,\n",
                "            @SISO INT,\n",
                "            @LOP CHAR(3)\n",
                "\n",
                "    SELECT @LOP = MALOP FROM inserted\n",
                "    \n",
                "    SELECT @SL = COUNT(*) FROM HOCVIEN\n",
                "    WHERE MALOP = @LOP\n",
                "\n",
                "    SELECT @SISO = SISO FROM inserted\n",
                "\n",
                "    IF @SL <> @SISO\n",
                "    BEGIN\n",
                "        PRINT 'Sỉ số của một lớp bằng với số lượng học viên thuộc lớp đó.'\n",
                "        ROLLBACK TRANSACTION\n",
                "    END\n",
                "END"
            ]
        },
        {
            "cell_type": "code",
            "execution_count": 3,
            "metadata": {
                "azdata_cell_guid": "c0378646-5ebd-4308-8691-cbed126bb5c0",
                "language": "sql"
            },
            "outputs": [
                {
                    "data": {
                        "text/html": [
                            "Commands completed successfully."
                        ]
                    },
                    "metadata": {},
                    "output_type": "display_data"
                },
                {
                    "data": {
                        "text/html": [
                            "Total execution time: 00:00:00.003"
                        ]
                    },
                    "metadata": {},
                    "output_type": "display_data"
                }
            ],
            "source": [
                "-- I. 18: Trong quan hệ DIEUKIEN giá trị của thuộc tính MAMH và MAMH_TRUOC trong cùng một bộ\n",
                "-- không được giống nhau (“A”,”A”) và cũng không tồn tại hai bộ (“A”,”B”) và (“B”,”A”).\n",
                "\n",
                "CREATE TRIGGER CHECK_DIEU_KIEN ON DIEUKIEN\n",
                "AFTER UPDATE, INSERT AS \n",
                "BEGIN\n",
                "    DECLARE @TRUOC VARCHAR(10), @SAU VARCHAR(10)\n",
                "\n",
                "    SELECT @TRUOC = MAMH_TRUOC, @SAU = MAMH FROM inserted\n",
                "\n",
                "    IF (@TRUOC = @SAU) OR (EXISTS(\n",
                "        SELECT * FROM DIEUKIEN \n",
                "        WHERE MAMH_TRUOC = @SAU AND MAMH = @TRUOC\n",
                "    )) \n",
                "    BEGIN\n",
                "        PRINT 'Trong quan hệ DIEUKIEN giá trị của thuộc tính MAMH và MAMH_TRUOC trong cùng một bộ không được giống nhau (“A”,”A”) và cũng không tồn tại hai bộ (“A”,”B”) và (“B”,”A”).'\n",
                "        ROLLBACK TRANSACTION\n",
                "    END\n",
                "END "
            ]
        },
        {
            "cell_type": "code",
            "execution_count": 17,
            "metadata": {
                "azdata_cell_guid": "1eb1c4b1-8658-491e-8a44-81671f508cc6",
                "language": "sql"
            },
            "outputs": [
                {
                    "data": {
                        "text/html": [
                            "Commands completed successfully."
                        ]
                    },
                    "metadata": {},
                    "output_type": "display_data"
                },
                {
                    "data": {
                        "text/html": [
                            "Total execution time: 00:00:00.002"
                        ]
                    },
                    "metadata": {},
                    "output_type": "display_data"
                }
            ],
            "source": [
                "-- I. 19: Các giáo viên có cùng học vị, học hàm, hệ số lương thì mức lương bằng nhau.\n",
                "\n",
                "CREATE TRIGGER CHECK_GV_LUONG ON GIAOVIEN\n",
                "AFTER UPDATE, INSERT AS \n",
                "BEGIN\n",
                "    IF (EXISTS(\n",
                "        SELECT * FROM inserted, GIAOVIEN\n",
                "        WHERE inserted.HOCHAM = GIAOVIEN.HOCHAM AND inserted.HOCVI = GIAOVIEN.HOCVI AND inserted.MUCLUONG <> GIAOVIEN.MUCLUONG\n",
                "    ))\n",
                "    BEGIN\n",
                "        PRINT 'Các giáo viên có cùng học vị, học hàm, hệ số lương thì mức lương bằng nhau.'\n",
                "        ROLLBACK TRANSACTION\n",
                "    END\n",
                "END\n",
                "GO"
            ]
        },
        {
            "cell_type": "code",
            "execution_count": 9,
            "metadata": {
                "azdata_cell_guid": "18c32152-c566-4417-acb4-44d8dbe16977",
                "language": "sql"
            },
            "outputs": [
                {
                    "ename": "",
                    "evalue": "Msg 2714, Level 16, State 2, Procedure CHECK_THI_LAI, Line 3\nThere is already an object named 'CHECK_THI_LAI' in the database.",
                    "output_type": "error",
                    "traceback": []
                },
                {
                    "data": {
                        "text/html": [
                            "Total execution time: 00:00:00.001"
                        ]
                    },
                    "metadata": {},
                    "output_type": "display_data"
                }
            ],
            "source": [
                "-- I. 20: Học viên chỉ được thi lại (lần thi >1) khi điểm của lần thi trước đó dưới 5.\n",
                "\n",
                "CREATE TRIGGER CHECK_THI_LAI ON KETQUATHI\n",
                "AFTER UPDATE, INSERT AS \n",
                "BEGIN\n",
                "    DECLARE @DIEM NUMERIC(4, 2)\n",
                "    DECLARE @LANTHIHT INT\n",
                "\n",
                "    SELECT @LANTHIHT = LANTHI FROM inserted\n",
                "\n",
                "    IF @LANTHIHT > 1 \n",
                "    BEGIN\n",
                "        SELECT @DIEM = KETQUATHI.DIEM FROM KETQUATHI, inserted\n",
                "        WHERE KETQUATHI.LANTHI = @LANTHIHT - 1 AND inserted.MAHV = KETQUATHI.MAHV AND inserted.MAMH = KETQUATHI.MAMH\n",
                "\n",
                "        IF @DIEM >= 5 \n",
                "        BEGIN\n",
                "            PRINT 'Học viên chỉ được thi lại (lần thi >1) khi điểm của lần thi trước đó dưới 5.'\n",
                "            ROLLBACK TRANSACTION\n",
                "        END\n",
                "    END\n",
                "END\n",
                "GO"
            ]
        },
        {
            "cell_type": "code",
            "execution_count": 19,
            "metadata": {
                "azdata_cell_guid": "5b6359e4-d289-4371-99c0-001ee84f208f",
                "language": "sql",
                "tags": []
            },
            "outputs": [
                {
                    "data": {
                        "text/html": [
                            "Commands completed successfully."
                        ]
                    },
                    "metadata": {},
                    "output_type": "display_data"
                },
                {
                    "data": {
                        "text/html": [
                            "Total execution time: 00:00:00.002"
                        ]
                    },
                    "metadata": {},
                    "output_type": "display_data"
                }
            ],
            "source": [
                "-- I. 21: Ngày thi của lần thi sau phải lớn hơn ngày thi của lần thi trước (cùng học viên, cùng môn học).\n",
                "\n",
                "CREATE TRIGGER CHECK_NG_THI ON KETQUATHI\n",
                "AFTER UPDATE, INSERT AS \n",
                "BEGIN\n",
                "    DECLARE @NG_THI_HT SMALLDATETIME,\n",
                "            @NG_THI_TRUOC SMALLDATETIME,\n",
                "            @LANTHIHT INT\n",
                "    \n",
                "    SELECT @LANTHIHT = LANTHI, @NG_THI_HT = NGTHI FROM inserted\n",
                "\n",
                "    IF @LANTHIHT > 1 \n",
                "    BEGIN\n",
                "        SELECT @NG_THI_TRUOC = KETQUATHI.NGTHI FROM KETQUATHI, inserted\n",
                "        WHERE KETQUATHI.LANTHI = @LANTHIHT - 1 AND inserted.MAHV = KETQUATHI.MAHV AND inserted.MAMH = KETQUATHI.MAMH\n",
                "        \n",
                "        IF @NG_THI_HT <= @NG_THI_TRUOC \n",
                "        BEGIN\n",
                "            PRINT 'Ngày thi của lần thi sau phải lớn hơn ngày thi của lần thi trước (cùng học viên, cùng môn học).'\n",
                "            ROLLBACK TRANSACTION\n",
                "        END\n",
                "    END\n",
                "END\n",
                "GO"
            ]
        },
        {
            "cell_type": "code",
            "execution_count": 2,
            "metadata": {
                "azdata_cell_guid": "90e67251-3207-44f3-8dde-0b310935479c",
                "language": "sql"
            },
            "outputs": [
                {
                    "data": {
                        "text/html": [
                            "Commands completed successfully."
                        ]
                    },
                    "metadata": {},
                    "output_type": "display_data"
                },
                {
                    "data": {
                        "text/html": [
                            "Total execution time: 00:00:00.003"
                        ]
                    },
                    "metadata": {},
                    "output_type": "display_data"
                }
            ],
            "source": [
                "-- I. 22: Học viên chỉ được thi những môn mà lớp của học viên đó đã học xong.\n",
                "\n",
                "CREATE TRIGGER CHECK_THI_MON_HOC_XONG ON KETQUATHI\n",
                "AFTER UPDATE, INSERT AS \n",
                "BEGIN\n",
                "    DECLARE @MAMH VARCHAR(10),\n",
                "            @MAHV CHAR(5), \n",
                "            @MALOP CHAR(3),\n",
                "            @NGTHI SMALLDATETIME,\n",
                "            @DENNGAY SMALLDATETIME\n",
                "\n",
                "    SELECT @MAMH = MAMH, @MAHV = MAHV, @NGTHI = NGTHI FROM inserted\n",
                "    SELECT @MALOP = MALOP FROM HOCVIEN\n",
                "    WHERE HOCVIEN.MAHV = @MAHV\n",
                "\n",
                "    SELECT @DENNGAY = DENNGAY FROM GIANGDAY\n",
                "    WHERE MALOP = @MALOP AND MAMH = @MAMH\n",
                "\n",
                "    IF @NGTHI < @DENNGAY\n",
                "    BEGIN\n",
                "        PRINT 'Học viên chỉ được thi những môn mà lớp của học viên đó đã học xong.'\n",
                "        ROLLBACK TRANSACTION\n",
                "    END  \n",
                "END\n",
                "GO"
            ]
        },
        {
            "cell_type": "code",
            "execution_count": 8,
            "metadata": {
                "azdata_cell_guid": "bbdf0bd1-936e-4a9e-a59a-f5c9a73a1693",
                "language": "sql"
            },
            "outputs": [
                {
                    "ename": "",
                    "evalue": "Msg 2714, Level 16, State 2, Procedure TRG_PHANCONG_GIANGDAY, Line 4\nThere is already an object named 'TRG_PHANCONG_GIANGDAY' in the database.",
                    "output_type": "error",
                    "traceback": []
                },
                {
                    "data": {
                        "text/html": [
                            "Total execution time: 00:00:00.001"
                        ]
                    },
                    "metadata": {},
                    "output_type": "display_data"
                }
            ],
            "source": [
                "-- I. 23: Khi phân công giảng dạy một môn học, phải xét đến thứ tự trước sau giữa các môn học (sau khi học\n",
                "-- xong những môn học phải học trước mới được học những môn liền sau)..\n",
                "\n",
                "CREATE TRIGGER TRG_PHANCONG_GIANGDAY ON GIANGDAY\n",
                "AFTER INSERT, UPDATE AS\n",
                "BEGIN\n",
                "\tDECLARE @MAMH CHAR(10), \n",
                "            @MALOP CHAR(3),\n",
                "            @MAMH_TRUOC CHAR(10)\n",
                "\t\n",
                "\tSELECT @MALOP = MALOP, @MAMH = MAMH FROM inserted \n",
                "\tSELECT @MAMH_TRUOC = MAMH_TRUOC FROM DIEUKIEN WHERE @MAMH = MAMH\n",
                "\n",
                "\tIF (@MAMH_TRUOC IS NOT NULL) AND (NOT EXISTS (\n",
                "        SELECT * FROM GIANGDAY WHERE\n",
                "        MAMH = @MAMH_TRUOC AND MALOP = @MALOP\n",
                "    ))\n",
                "\tBEGIN\n",
                "\t\tPRINT 'Khi phân công giảng dạy một môn học, phải xét đến thứ tự trước sau giữa các môn học (sau khi học xong những môn học phải học trước mới được học những môn liền sau)..'\n",
                "\t\tROLLBACK TRANSACTION\n",
                "\tEND\n",
                "END"
            ]
        },
        {
            "cell_type": "code",
            "execution_count": 5,
            "metadata": {
                "azdata_cell_guid": "680c957f-40f4-44ba-a4fb-8b19c5db2787",
                "language": "sql"
            },
            "outputs": [
                {
                    "ename": "",
                    "evalue": "Msg 2714, Level 16, State 2, Procedure CHECK_PHAN_CONG_GD, Line 3\nThere is already an object named 'CHECK_PHAN_CONG_GD' in the database.",
                    "output_type": "error",
                    "traceback": []
                },
                {
                    "data": {
                        "text/html": [
                            "Total execution time: 00:00:00.001"
                        ]
                    },
                    "metadata": {},
                    "output_type": "display_data"
                }
            ],
            "source": [
                "-- I. 24: Giáo viên chỉ được phân công dạy những môn thuộc khoa giáo viên đó phụ trách.\n",
                "\n",
                "CREATE TRIGGER CHECK_PHAN_CONG_GD ON GIANGDAY\n",
                "AFTER INSERT, UPDATE AS\n",
                "BEGIN\n",
                "    DECLARE\t@MAKHOA_MON CHAR(4), @MAKHOA_GV CHAR(4)\n",
                "\n",
                "\tSELECT @MAKHOA_MON = MONHOC.MAKHOA, @MAKHOA_GV = GIAOVIEN.MAKHOA FROM INSERTED, MONHOC, GIAOVIEN\n",
                "\tWHERE inserted.MAMH = MONHOC.MAMH AND inserted.MAGV = GIAOVIEN.MAGV\n",
                "\n",
                "    IF @MAKHOA_GV <> @MAKHOA_MON\n",
                "    BEGIN\n",
                "        PRINT 'Giáo viên chỉ được phân công dạy những môn thuộc khoa giáo viên đó phụ trách.'\n",
                "        ROLLBACK TRANSACTION\n",
                "    END\n",
                "END"
            ]
        },
        {
            "cell_type": "code",
            "execution_count": 5,
            "metadata": {
                "azdata_cell_guid": "0cc1f9ff-f91a-4f93-8cec-577a04eb0557",
                "language": "sql"
            },
            "outputs": [
                {
                    "ename": "",
                    "evalue": "Msg 2714, Level 16, State 2, Procedure UPDATE_DIEMTB, Line 4\nThere is already an object named 'UPDATE_DIEMTB' in the database.",
                    "output_type": "error",
                    "traceback": []
                },
                {
                    "data": {
                        "text/html": [
                            "Commands completed successfully."
                        ]
                    },
                    "metadata": {},
                    "output_type": "display_data"
                },
                {
                    "data": {
                        "text/html": [
                            "Total execution time: 00:00:00.008"
                        ]
                    },
                    "metadata": {},
                    "output_type": "display_data"
                }
            ],
            "source": [
                "-- II. 2: Cập nhật giá trị điểm trung bình tất cả các môn học (DIEMTB) của mỗi học viên (tất cả các môn\n",
                "-- học đều có hệ số 1 và nếu học viên thi một môn nhiều lần, chỉ lấy điểm của lần thi sau cùng).\n",
                "\n",
                "CREATE TRIGGER UPDATE_DIEMTB ON KETQUATHI\n",
                "AFTER INSERT, UPDATE AS\n",
                "BEGIN\n",
                "    DECLARE @DIEM_TB NUMERIC(4, 2)\n",
                "    DECLARE @MAHV CHAR(5)\n",
                "\n",
                "    SELECT @MAHV = MAHV FROM inserted\n",
                "\n",
                "    SELECT @DIEM_TB = AVG(DIEM) FROM KETQUATHI\n",
                "    WHERE MAHV = @MAHV AND LANTHI = (\n",
                "        SELECT MAX(LANTHI) FROM KETQUATHI AS KQ\n",
                "        WHERE KQ.MAHV = KETQUATHI.MAHV AND KQ.MAHV = MAHV\n",
                "    )\n",
                "\n",
                "    UPDATE HOCVIEN SET DIEMTB = @DIEM_TB\n",
                "END\n",
                "GO\n",
                "\n",
                "CREATE TRIGGER UPDATE_DIEMTB_DEL ON KETQUATHI\n",
                "AFTER DELETE AS\n",
                "BEGIN\n",
                "    DECLARE @DIEM_TB NUMERIC(4, 2)\n",
                "    DECLARE @MAHV CHAR(5)\n",
                "\n",
                "    SELECT @MAHV = MAHV FROM deleted\n",
                "\n",
                "    SELECT @DIEM_TB = AVG(DIEM) FROM KETQUATHI\n",
                "    WHERE MAHV = @MAHV AND LANTHI = (\n",
                "        SELECT MAX(LANTHI) FROM KETQUATHI AS KQ\n",
                "        WHERE KQ.MAHV = KETQUATHI.MAHV AND KQ.MAHV = MAHV\n",
                "    )\n",
                "\n",
                "    UPDATE HOCVIEN SET DIEMTB = @DIEM_TB \n",
                "    WHERE MAHV = @MAHV\n",
                "END\n",
                "GO"
            ]
        },
        {
            "cell_type": "code",
            "execution_count": 4,
            "metadata": {
                "azdata_cell_guid": "bb66a27a-7d27-46ae-9dbf-49eebfbc4ba5",
                "language": "sql"
            },
            "outputs": [
                {
                    "ename": "",
                    "evalue": "Msg 2714, Level 16, State 2, Procedure UPDATE_XEPLOAI_INSERT, Line 9\nThere is already an object named 'UPDATE_XEPLOAI_INSERT' in the database.",
                    "output_type": "error",
                    "traceback": []
                },
                {
                    "data": {
                        "text/html": [
                            "Total execution time: 00:00:00.003"
                        ]
                    },
                    "metadata": {},
                    "output_type": "display_data"
                }
            ],
            "source": [
                "-- II. 2: Cập nhật giá trị cho cột XEPLOAI trong quan hệ HOCVIEN như sau:\n",
                "\n",
                "-- o Nếu DIEMTB  9 thì XEPLOAI =”XS”\n",
                "-- o Nếu 8  DIEMTB < 9 thì XEPLOAI = “G”\n",
                "-- o Nếu 6.5  DIEMTB < 8 thì XEPLOAI = “K”\n",
                "-- o Nếu 5  DIEMTB < 6.5 thì XEPLOAI = “TB”\n",
                "-- o Nếu DIEMTB < 5 thì XEPLOAI = ”Y”\n",
                "\n",
                "CREATE TRIGGER TRG_XEPLOAI_UPDATE ON HOCVIEN\n",
                "AFTER UPDATE AS\n",
                "BEGIN\n",
                "    DECLARE @DIEM_HT NUMERIC(4, 2)\n",
                "    DECLARE @MAHV CHAR(5)\n",
                "    DECLARE @DIEM_TRUOC NUMERIC(4, 2)\n",
                "\n",
                "    SELECT @DIEM_HT = DIEMTB, @MAHV = MAHV FROM inserted\n",
                "    SELECT @DIEM_TRUOC = DIEMTB FROM deleted\n",
                "\n",
                "    IF @DIEM_HT <> @DIEM_TRUOC\n",
                "    BEGIN\n",
                "        IF @DIEM_HT >= 9 \n",
                "            UPDATE HOCVIEN SET XEPLOAI = 'XS' WHERE MAHV = @MAHV \n",
                "\n",
                "        IF @DIEM_HT >= 8 AND @DIEM_HT < 9 \n",
                "            UPDATE HOCVIEN SET XEPLOAI = 'G' WHERE MAHV = @MAHV \n",
                "        \n",
                "        IF @DIEM_HT >= 6.5 AND @DIEM_HT < 8 \n",
                "            UPDATE HOCVIEN SET XEPLOAI = 'K' WHERE MAHV = @MAHV \n",
                "        \n",
                "        IF @DIEM_HT >= 5 AND @DIEM_HT < 6.5 \n",
                "            UPDATE HOCVIEN SET XEPLOAI = 'TB' WHERE MAHV = @MAHV \n",
                "        \n",
                "        IF @DIEM_HT < 5\n",
                "            UPDATE HOCVIEN SET XEPLOAI = 'Y' WHERE MAHV = @MAHV \n",
                "    END\n",
                "END\n",
                "\n",
                "-- hoac\n",
                "\n",
                "UPDATE HOCVIEN SET XEPLOAI = 'XS' WHERE DIEMTB >= 9\n",
                "UPDATE HOCVIEN SET XEPLOAI = 'G' WHERE DIEMTB >= 8 AND DIEMTB < 9\n",
                "UPDATE HOCVIEN SET XEPLOAI = 'K' WHERE DIEMTB >= 6.5 AND DIEMTB < 8\n",
                "UPDATE HOCVIEN SET XEPLOAI = 'TB' WHERE DIEMTB >= 5 AND DIEMTB < 6.5\n",
                "UPDATE HOCVIEN SET XEPLOAI = 'Y' WHERE DIEMTB < 5"
            ]
        }
    ],
    "metadata": {
        "kernelspec": {
            "display_name": "SQL",
            "language": "sql",
            "name": "SQL"
        },
        "language_info": {
            "name": "sql",
            "version": ""
        }
    },
    "nbformat": 4,
    "nbformat_minor": 2
}

{
 "cells": [
  {
   "cell_type": "code",
   "execution_count": null,
   "metadata": {
    "vscode": {
     "languageId": "sql"
    }
   },
   "outputs": [],
   "source": [
    "-- 1.2 De 2 CK"
   ]
  },
  {
   "cell_type": "code",
   "execution_count": null,
   "metadata": {
    "vscode": {
     "languageId": "sql"
    }
   },
   "outputs": [],
   "source": [
    "-- a) Cho biết thông tin khách hàng (MAKH, TENKH, DIACHILH) thuộc loại ‘Cơ quan-sự nghiệp’ hoặc ‘bệnh viện’ và tên khách hàng có chứa chữ ‘Trường’.\n",
    "SELECT  MAKH\n",
    "       ,TENKH\n",
    "       ,DIACHILH\n",
    "FROM KHACHHANG\n",
    "WHERE (LOAIKH = 'Cơ quan-sự nghiệp' OR LOAIKH = 'Bệnh viện')\n",
    "AND TENKH LIKE '%Trường%';"
   ]
  },
  {
   "cell_type": "code",
   "execution_count": null,
   "metadata": {
    "vscode": {
     "languageId": "sql"
    }
   },
   "outputs": [],
   "source": [
    "-- b) Cho biết thông tin công tơ điện (MACTD, NGAYLD, DIACHILD) thuộc loại công tơ điện có tên loại là ‘3 pha trực tiếp 20(40)A’ do công ty điện lực có tên là ‘Công ty Điện lực Gia Định’ quản lý.\n",
    "SELECT  MACTD\n",
    "       ,NGAYLD\n",
    "       ,DIACHILD\n",
    "FROM CONGTODIEN\n",
    "INNER JOIN LOAICT\n",
    "ON CONGTODIEN.MALOAICT = LOAICT.MALOAICT\n",
    "INNER JOIN CTYDIENLUC\n",
    "ON CONGTODIEN.MACTY = CTYDIENLUC.MACTY\n",
    "WHERE LOAICT.TENLOAI = '3 pha trực tiếp 20(40)A'\n",
    "AND CTYDIENLUC.TENCTY = 'Công ty Điện lực Gia Định';"
   ]
  },
  {
   "cell_type": "code",
   "execution_count": null,
   "metadata": {
    "vscode": {
     "languageId": "sql"
    }
   },
   "outputs": [],
   "source": [
    "-- c) Cho biết tổng số tiền đã thanh toán cho từng công tơ điện trong năm 2023. Thông tin hiển thị bao gồm: MACTD, TONGSOTIEN. Sắp xếp theo TONGSOTIEN tăng dần.\n",
    "SELECT  MACTD\n",
    "       ,SUM(HOADONDIEN.SOTIENTT) AS TONGSOTIEN\n",
    "FROM GHICSD\n",
    "INNER JOIN HOADONDIEN\n",
    "ON GHICSD.MAGCSD = HOADONDIEN.MAGCSD\n",
    "WHERE YEAR(HOADONDIEN.NGAYTT) = 2023\n",
    "GROUP BY  MACTD\n",
    "ORDER BY TONGSOTIEN ASC;"
   ]
  },
  {
   "cell_type": "code",
   "execution_count": null,
   "metadata": {
    "vscode": {
     "languageId": "sql"
    }
   },
   "outputs": [],
   "source": [
    "-- d) Tìm thông tin công tơ điện (MACTD, MAKH, DIACHILD) đã có thông tin ghi chỉ số điện trong tháng 6 năm 2023 nhưng chưa được lập hóa đơn thanh toán tiền điện cho thông tin ghi chỉ số điện đó.\n",
    "SELECT  CONGTODIEN.MACTD\n",
    "       ,MAKH\n",
    "       ,DIACHILD\n",
    "FROM CONGTODIEN\n",
    "INNER JOIN GHICSD\n",
    "ON CONGTODIEN.MACTD = GHICSD.MACTD\n",
    "WHERE MONTH(NGAYGCSD) = 6\n",
    "AND YEAR(NGAYGCSD) = 2023\n",
    "AND GHICSD.MAGCSD NOT IN ( SELECT HOADONDIEN.MAGCSD FROM HOADONDIEN);"
   ]
  },
  {
   "cell_type": "code",
   "execution_count": null,
   "metadata": {
    "vscode": {
     "languageId": "sql"
    }
   },
   "outputs": [],
   "source": [
    "-- e) Tìm thông tin loại công tơ điện (MALOAICT, TENLOAICT) có thông số điện áp là ‘220V’ và tần số ‘50Hz’ đã được tất cả các khách hàng thuộc loại ‘Cá nhân’ lắp đặt.\n",
    "SELECT  LOAICTD.MALOAICT\n",
    "       ,TENLOAICT\n",
    "FROM LOAICT\n",
    "WHERE DIENAP = '220V'\n",
    "AND TANSO = '50Hz'\n",
    "AND NOT EXISTS (\n",
    "SELECT  *\n",
    "FROM KHACHANG\n",
    "WHERE LOAIKH = 'Cá nhân'\n",
    "AND NOT EXISTS (\n",
    "SELECT  *\n",
    "FROM CONGTODIEN\n",
    "WHERE CONGTODIEN.MALOAICT = LOAICT.MALOAICT\n",
    "AND CONGTODIEN.MAKH = KHACHANG.MAKH));"
   ]
  },
  {
   "cell_type": "code",
   "execution_count": null,
   "metadata": {
    "vscode": {
     "languageId": "sql"
    }
   },
   "outputs": [],
   "source": [
    "-- f) Trong các công tơ điện thuộc loại có tên là ‘3 pha gián tiếp 10(20)A’ được lắp đặt năm 2023, tìm công ty điện lực có số lượng công tơ điện được lắp đặt nhiều hơn 100 cái. Thông tin hiển thị bao gồm: CT.MACTY, TENCTY, SLCTD\n",
    "SELECT  CTYDIENLUC.MACTY\n",
    "       ,TENCTY\n",
    "       ,COUNT(CONGTODIEN.MACT) AS SLCTD\n",
    "FROM CTYDIENLUC\n",
    "INNER JOIN CONGTODIEN\n",
    "ON CTYDIENLUC.MACTY = CONGTODIEN.MACTY\n",
    "INNER JOIN LOAICT\n",
    "ON CONGTODIEN.MALOAICT = LOAICT.MALOAICT\n",
    "WHERE LOAICT.TENLOAICT = '3 pha gián tiếp 10(20)A'\n",
    "AND YEAR(NGAYLD) = 2023\n",
    "GROUP BY  CTYDIENLUC.MACTY\n",
    "         ,TENCTY\n",
    "HAVING SLCTD > 100;"
   ]
  }
 ],
 "metadata": {
  "language_info": {
   "name": "python"
  },
  "orig_nbformat": 4
 },
 "nbformat": 4,
 "nbformat_minor": 2
}

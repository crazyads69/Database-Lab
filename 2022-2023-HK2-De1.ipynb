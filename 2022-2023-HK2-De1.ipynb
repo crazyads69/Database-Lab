{
 "cells": [
  {
   "cell_type": "code",
   "execution_count": null,
   "metadata": {
    "vscode": {
     "languageId": "sql"
    }
   },
   "outputs": [],
   "source": [
    "-- 1.2 Đề 1 CK"
   ]
  },
  {
   "cell_type": "code",
   "execution_count": null,
   "metadata": {
    "vscode": {
     "languageId": "sql"
    }
   },
   "outputs": [],
   "source": [
    "-- a) Cho biết thông tin các hóa đơn điện (MAHD, MAGCSD, NGAYTT) thanh toán trong tháng 6 năm 2023 và có chỉ số tiêu thụ điện từ 800 đến 1.000.\n",
    "SELECT  MAHD\n",
    "       ,MAGCSD\n",
    "       ,NGAYTT\n",
    "FROM HOADONDIEN\n",
    "WHERE MONTH(NGAYTT) = 6\n",
    "AND YEAR(NGAYTT) = 2023\n",
    "AND CSDTIEUTHU BETWEEN 800 AND 1000;"
   ]
  },
  {
   "cell_type": "code",
   "execution_count": null,
   "metadata": {
    "vscode": {
     "languageId": "sql"
    }
   },
   "outputs": [],
   "source": [
    "-- b) Cho biết thông tin khách hàng (MAKH, TENKH, DIACHILH) thuộc loại ‘Cá nhân’ đã lắp đặt các công tơ điện thuộc loại công tơ điện có tên loại là ‘1 pha điện tử 10(40)A’.\n",
    "SELECT  KHACHHANG.MAKH\n",
    "       ,TENKH\n",
    "       ,DIACHILH\n",
    "FROM KHACHHANG\n",
    "INNER JOIN CONGTODIEN\n",
    "ON KHACHHANG.MAKH = CONGTODIEN.MAKH\n",
    "INNER JOIN LOAICTD\n",
    "ON CONGTODIEN.MALOAICT = LOAICTD.MALOAICT\n",
    "WHERE KHACHHANG.LOAIKH = 'Cá nhân'\n",
    "AND LOAICTD.TENLOAICT = '1 pha điện tử 10(40)A';"
   ]
  },
  {
   "cell_type": "code",
   "execution_count": null,
   "metadata": {
    "vscode": {
     "languageId": "sql"
    }
   },
   "outputs": [],
   "source": [
    "-- c) Cho biết tổng chỉ số điện tiêu thụ của từng công tơ điện trong năm 2023. Thông tin hiển thị bao gồm: MACTD, TONGSODIEN. Sắp xếp theo TONGSODIEN tăng dần.\n",
    "SELECT  MACTD\n",
    "       ,SUM(HOADONDIEN.CSDTIEUTHU) AS TONGSODIEN\n",
    "FROM GHICSD\n",
    "INNER JOIN HOADONDIEN\n",
    "ON GHICSD.MAGCSD = HOADONDIEN.MAGCSD\n",
    "WHERE YEAR(NGAYGCSD) = 2023\n",
    "GROUP BY  MACTD\n",
    "ORDER BY TONGSODIEN ASC;"
   ]
  },
  {
   "cell_type": "code",
   "execution_count": null,
   "metadata": {
    "vscode": {
     "languageId": "sql"
    }
   },
   "outputs": [],
   "source": [
    "-- d) Liệt kê thông tin của những khách hàng (MAKH, TENKH, DIACHILH) đã lắp đặt cả hai loại công tơ điện có tên loại là “1 pha cơ 10(20)A” và “1 pha điện tử 20(40)A” trong năm 2023. (\n",
    "SELECT  KHACHHANG.MAKH\n",
    "       ,TENKH\n",
    "       ,DIACHILH\n",
    "FROM KHACHHANG\n",
    "INNER JOIN CONGTODIEN\n",
    "ON KHACHHANG.MAKH = CONGTODIEN.MAKH\n",
    "INNER JOIN LOAICTD\n",
    "ON CONGTODIEN.MALOAICT = LOAICTD.MALOAICT\n",
    "WHERE LOAICTD.TENLOAICT = '1 pha cơ 10(20)A'\n",
    "AND YEAR(CONGTODIEN.NGAYLD) = 2023 INTERSECT\n",
    "SELECT  KHACHHANG.MAKH\n",
    "       ,TENKH\n",
    "       ,DIACHILH\n",
    "FROM KHACHHANG\n",
    "INNER JOIN CONGTODIEN\n",
    "ON KHACHHANG.MAKH = CONGTODIEN.MAKH\n",
    "INNER JOIN LOAICTD\n",
    "ON CONGTODIEN.MALOAICT = LOAICTD.MALOAICT\n",
    "WHERE LOAICTD.TENLOAICT = '1 pha cơ 20(40)A'\n",
    "AND YEAR(CONGTODIEN.NGAYLD) = 2023;"
   ]
  },
  {
   "cell_type": "code",
   "execution_count": null,
   "metadata": {
    "vscode": {
     "languageId": "sql"
    }
   },
   "outputs": [],
   "source": [
    "-- e) Tìm thông tin công ty điện lực (MACTY, TENCTY) thuộc loại công ty ‘Thành viên’ đã lắp đặt tất cả các loại công tơ điện có điện áp ’220V’ và tần số ‘50Hz’.\n",
    "SELECT  CTYDIENLUC.MACTY\n",
    "       ,TENCTY\n",
    "FROM CTYDIENLUC\n",
    "WHERE LOAICTY = 'Thành viên'\n",
    "AND NOT EXISTS (\n",
    "SELECT  *\n",
    "FROM LOAICTD\n",
    "WHERE NOT EXISTS (\n",
    "SELECT  *\n",
    "FROM CONGTODIEN\n",
    "WHERE CONGTODIEN.MALOAICT = LOAICTD.MALOAICT\n",
    "AND CONGTODIEN.MACTY = CTYDIENLUC.MACTY\n",
    "AND LOAICTD.DIENAP = '220V'\n",
    "AND LOAICTD.TANSO = '50Hz'))"
   ]
  },
  {
   "cell_type": "code",
   "execution_count": null,
   "metadata": {
    "vscode": {
     "languageId": "sql"
    }
   },
   "outputs": [],
   "source": [
    "-- f) Trong các công tơ điện do công ty điện lực có tên là ‘Công ty Điện lực Phú Thọ’ quản lý được lắp đặt năm 2023, tìm loại công tơ điện có số lượng công tơ điện được lắp đặt nhiều hơn 100 cái. Thông tin hiển thị bao gồm: MALOAICT, TENLOAICT, SLCTD.\n",
    "SELECT  CONGTODIEN.MALOAICT\n",
    "       ,LOAICTD.TENLOAICT\n",
    "       ,COUNT(MACT) AS SLCTD\n",
    "FROM CONGTODIEN\n",
    "INNER JOIN CTYDIENLUC\n",
    "ON CONGTODIEN.MACTY = CTYDIENLUC.MACTY\n",
    "INNER JOIN LOAICTD\n",
    "ON CONGTODIEN.MALOAICT = LOAICTD.MALOAICT\n",
    "WHERE TENCTY = 'Công ty Điện lực Phú Thọ'\n",
    "AND YEAR(CONGTODIEN.NGAYLD) = 2023\n",
    "GROUP BY  CONGTODIEN.MALOAICT\n",
    "         ,LOAICTD.TENLOAICT\n",
    "HAVING SLCTD > 100;"
   ]
  }
 ],
 "metadata": {
  "language_info": {
   "name": "python"
  },
  "orig_nbformat": 4
 },
 "nbformat": 4,
 "nbformat_minor": 2
}

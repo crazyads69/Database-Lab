{
    "cells": [
        {
            "cell_type": "code",
            "execution_count": null,
            "metadata": {
                "azdata_cell_guid": "87bebf48-7e21-411a-a36b-7980514ba06f",
                "language": "sql",
                "tags": []
            },
            "outputs": [],
            "source": [
                "CREATE DATABASE QuanLyBanHang;"
            ]
        },
        {
            "cell_type": "code",
            "execution_count": 1,
            "metadata": {
                "azdata_cell_guid": "04612698-d59b-4469-99ef-bc9055e83b50",
                "language": "sql"
            },
            "outputs": [
                {
                    "data": {
                        "text/html": [
                            "Commands completed successfully."
                        ]
                    },
                    "metadata": {},
                    "output_type": "display_data"
                },
                {
                    "data": {
                        "text/html": [
                            "Total execution time: 00:00:00.008"
                        ]
                    },
                    "metadata": {},
                    "output_type": "display_data"
                }
            ],
            "source": [
                "USE QuanLyBanHang;"
            ]
        },
        {
            "cell_type": "code",
            "execution_count": null,
            "metadata": {
                "azdata_cell_guid": "0581ab50-cde6-414a-9561-d8e2d9093a2e",
                "language": "sql",
                "tags": []
            },
            "outputs": [],
            "source": [
                "CREATE TABLE KHACHHANG (\n",
                "    MAKH    CHAR(4),\n",
                "    HOTEN   VARCHAR(40),\n",
                "    DCHI    VARCHAR(50),\n",
                "    SODT    VARCHAR(20),\n",
                "    NGSINH  SMALLDATETIME,\n",
                "    DOANHSO MONEY,\n",
                "    NGDK    SMALLDATETIME,\n",
                "    PRIMARY KEY (MAKH)\n",
                ")\n",
                "\n",
                "CREATE TABLE NHANVIEN (\n",
                "    MANV    CHAR(4),\n",
                "    HOTEN   VARCHAR(40),\n",
                "    SODT    VARCHAR(20),\n",
                "    NGVL    SMALLDATETIME,\n",
                "    PRIMARY KEY(MANV)\n",
                ")\n",
                "\n",
                "CREATE TABLE SANPHAM (\n",
                "    MASP    CHAR(4),\n",
                "    TENSP   VARCHAR(40),\n",
                "    DVT     VARCHAR(20),\n",
                "    NUOCSX  VARCHAR(40),\n",
                "    GIA     MONEY,\n",
                "    PRIMARY KEY (MASP)\n",
                ")\n",
                "\n",
                "CREATE TABLE HOADON (\n",
                "    SOHD    INT,\n",
                "    NGHD    SMALLDATETIME,\n",
                "    MAKH    CHAR(4),\n",
                "    MANV    CHAR(4),\n",
                "    TRIGIA  MONEY,\n",
                "    PRIMARY KEY (SOHD),\n",
                "    FOREIGN KEY (MANV) REFERENCES NHANVIEN(MANV),\n",
                "    FOREIGN KEY (MAKH) REFERENCES KHACHHANG(MAKH)\n",
                ")\n",
                "\n",
                "CREATE TABLE CTHD (\n",
                "    SOHD    INT,\n",
                "    MASP    CHAR(4),\n",
                "    SL      INT,\n",
                "    PRIMARY KEY(SOHD, MASP),\n",
                "    FOREIGN KEY (MASP) REFERENCES SANPHAM(MASP),\n",
                "    FOREIGN KEY (SOHD) REFERENCES HOADON(SOHD)\n",
                ")"
            ]
        },
        {
            "cell_type": "code",
            "execution_count": null,
            "metadata": {
                "azdata_cell_guid": "98187d32-27b0-4e24-99ee-8fc2bbae8ff5",
                "language": "sql",
                "tags": [
                    "hide_input"
                ]
            },
            "outputs": [],
            "source": [
                "INSERT INTO NHANVIEN VALUES ('NV01', 'Nguyen Nhu Nhut', 0927345678, '4/13/2006')\n",
                "INSERT INTO NHANVIEN VALUES ('NV02', 'Le Thi Phi Yen', 0987567390, '4/21/2006')\n",
                "INSERT INTO NHANVIEN VALUES ('NV03', 'Nguyen Van B', 0997047382, '4/27/2006')\n",
                "INSERT INTO NHANVIEN VALUES ('NV04', 'Ngo Thanh Tuan', 0913758498, '6/24/2006')\n",
                "INSERT INTO NHANVIEN VALUES ('NV05', 'Nguyen Thi Truc Thanh', 0918590387, '7/20/2006')"
            ]
        },
        {
            "cell_type": "code",
            "execution_count": null,
            "metadata": {
                "azdata_cell_guid": "2b0a493a-86a6-49dc-8dcc-c5625a302ffa",
                "language": "sql",
                "tags": [
                    "hide_input"
                ]
            },
            "outputs": [],
            "source": [
                "INSERT INTO KHACHHANG VALUES ('KH01', 'Nguyen Van A', '731 Tran Hung Dao, Q5, TpHCM', '08823451', '10/22/1960', 13060000, '7/22/2006')\n",
                "INSERT INTO KHACHHANG VALUES ('KH02', 'Tran Ngoc Han', '23/5 Nguyen Trai, Q5, TpHCM', '0908256478', '4/3/1974', 280000, '7/30/2006')\n",
                "INSERT INTO KHACHHANG VALUES ('KH03', 'Tran Ngoc Linh', '45 Nguyen Canh Chan, Q1, TpHCM', '0938776266', '6/12/1980', 3860000, '8/5/2006')\n",
                "INSERT INTO KHACHHANG VALUES ('KH04', 'Tran Minh Long', '50/34 Le Dai Hanh, Q10, TpHCM', '0917325476', '3/9/1965', 250000, '10/2/2006')\n",
                "INSERT INTO KHACHHANG VALUES ('KH05', 'Le Nhat Minh', '34 Truong Dinh, Q3, TpHCM', '08246108', '3/10/1950', 21000, '10/28/2006')\n",
                "INSERT INTO KHACHHANG VALUES ('KH06', 'Le Hoai Thuong', '227 Nguyen Van Cu, Q5, TpHCM', '08631738', '12/31/1981', 915000, '11/24/2006')\n",
                "INSERT INTO KHACHHANG VALUES ('KH07', 'Nguyen Van Tam', '32/3 Tran Binh Trong, Q5, TpHCM', '0916783565', '4/6/1971', 12500, '12/1/2006')\n",
                "INSERT INTO KHACHHANG VALUES ('KH08', 'Phan Thi Thanh', '45/2 An Duong Vuong, Q5, TpHCM', '0938435756', '1/10/1971', 365000, '12/13/2006')\n",
                "INSERT INTO KHACHHANG VALUES ('KH09', 'Le Ha Vinh', '873 Le Hong Phong, Q5, TpHCM', '08654763', '9/3/1979', 70000, '1/14/2007')\n",
                "INSERT INTO KHACHHANG VALUES ('KH10', 'Ha Duy Lap', '34/34B Nguyen Trai, Q1, TpHCM', '08768904', '5/2/1983', 67500, '1/16/2007')"
            ]
        },
        {
            "cell_type": "code",
            "execution_count": null,
            "metadata": {
                "azdata_cell_guid": "154096ee-bcc4-46c1-b377-32de35eda3ce",
                "language": "sql",
                "tags": [
                    "hide_input"
                ]
            },
            "outputs": [],
            "source": [
                "INSERT INTO SANPHAM VALUES ('BC01', 'But chi', 'cay', 'Singapore', 3000)\n",
                "INSERT INTO SANPHAM VALUES ('BC02', 'But chi', 'cay', 'Singapore', 5000)\n",
                "INSERT INTO SANPHAM VALUES ('BC03', 'But chi', 'cay', 'Viet Nam', 3500)\n",
                "INSERT INTO SANPHAM VALUES ('BC04', 'But chi', 'hop', 'Viet Nam', 30000)\n",
                "INSERT INTO SANPHAM VALUES ('BB01', 'But bi', 'cay', 'Viet Nam', 5000)\n",
                "INSERT INTO SANPHAM VALUES ('BB02', 'But bi', 'cay', 'Trung Quoc', 7000)\n",
                "INSERT INTO SANPHAM VALUES ('BB03', 'But bi', 'hop', 'Thai Lan', 100000)\n",
                "INSERT INTO SANPHAM VALUES ('TV01', 'Tap 100 giay mong', 'quyen', 'Trung Quoc', 2500)\n",
                "INSERT INTO SANPHAM VALUES ('TV02', 'Tap 200 giay mong', 'quyen', 'Trung Quoc', 4500)\n",
                "INSERT INTO SANPHAM VALUES ('TV03', 'Tap 100 giay tot', 'quyen', 'Viet Nam', 3000)\n",
                "INSERT INTO SANPHAM VALUES ('TV04', 'Tap 200 giay tot', 'quyen', 'Viet Nam', 5500)\n",
                "INSERT INTO SANPHAM VALUES ('TV05', 'Tap 100 trang', 'chuc', 'Viet Nam', 23000)\n",
                "INSERT INTO SANPHAM VALUES ('TV06', 'Tap 200 trang', 'chuc', 'Viet Nam', 53000)\n",
                "INSERT INTO SANPHAM VALUES ('TV07', 'Tap 100 trang', 'chuc', 'Trung Quoc', 34000)\n",
                "INSERT INTO SANPHAM VALUES ('ST01', 'So tay 500 trang', 'quyen', 'Trung Quoc', 40000)\n",
                "INSERT INTO SANPHAM VALUES ('ST02', 'So tay loai 1', 'quyen', 'Viet Nam', 55000)\n",
                "INSERT INTO SANPHAM VALUES ('ST03', 'So tay loai 2', 'quyen', 'Viet Nam', 51000)\n",
                "INSERT INTO SANPHAM VALUES ('ST04', 'So tay', 'quyen', 'Thai Lan', 55000)\n",
                "INSERT INTO SANPHAM VALUES ('ST05', 'So tay mong', 'quyen', 'Thai Lan', 20000)\n",
                "INSERT INTO SANPHAM VALUES ('ST06', 'Phan viet bang', 'hop', 'Viet Nam', 5000)\n",
                "INSERT INTO SANPHAM VALUES ('ST07', 'Phan khong bui', 'hop', 'Viet Nam', 7000)\n",
                "INSERT INTO SANPHAM VALUES ('ST08', 'Bong bang', 'cai', 'Viet Nam', 1000)\n",
                "INSERT INTO SANPHAM VALUES ('ST09', 'But long', 'cay', 'Viet Nam', 5000)\n",
                "INSERT INTO SANPHAM VALUES ('ST10', 'But long', 'cay', 'Trung Quoc', 7000)  "
            ]
        },
        {
            "cell_type": "code",
            "execution_count": null,
            "metadata": {
                "azdata_cell_guid": "0767e11b-8c56-4c79-9b3d-5401445f5dc2",
                "language": "sql",
                "tags": [
                    "hide_input"
                ]
            },
            "outputs": [],
            "source": [
                "INSERT INTO HOADON VALUES (1001, '7/23/2006', 'KH01', 'NV01', 320000)\n",
                "INSERT INTO HOADON VALUES (1002, '8/12/2006', 'KH01', 'NV02', 840000)\n",
                "INSERT INTO HOADON VALUES (1003, '8/23/2006', 'KH02', 'NV01', 100000)\n",
                "INSERT INTO HOADON VALUES (1004, '9/1/2006', 'KH02', 'NV01', 180000)\n",
                "INSERT INTO HOADON VALUES (1005, '10/20/2006', 'KH01', 'NV02', 3800000)\n",
                "INSERT INTO HOADON VALUES (1006, '10/16/2006', 'KH01', 'NV03', 2430000)\n",
                "INSERT INTO HOADON VALUES (1007, '10/28/2006', 'KH03', 'NV03', 510000)\n",
                "INSERT INTO HOADON VALUES (1008, '10/28/2006', 'KH01', 'NV03', 440000)\n",
                "INSERT INTO HOADON VALUES (1009, '10/28/2006', 'KH03', 'NV04', 200000)\n",
                "INSERT INTO HOADON VALUES (1010, '11/1/2006', 'KH01', 'NV01', 5200000)\n",
                "INSERT INTO HOADON VALUES (1011, '11/4/2006', 'KH04', 'NV03', 250000)\n",
                "INSERT INTO HOADON VALUES (1012, '11/30/2006', 'KH05', 'NV03', 21000)\n",
                "INSERT INTO HOADON VALUES (1013, '12/12/2006', 'KH06', 'NV01', 5000)\n",
                "INSERT INTO HOADON VALUES (1014, '12/31/2006', 'KH03', 'NV02', 3150000)\n",
                "INSERT INTO HOADON VALUES (1015, '1/1/2007', 'KH06', 'NV01', 910000)\n",
                "INSERT INTO HOADON VALUES (1016, '1/1/2007', 'KH07', 'NV02', 12500)\n",
                "INSERT INTO HOADON VALUES (1017, '1/2/2007', 'KH08', 'NV03', 35000)\n",
                "INSERT INTO HOADON VALUES (1018, '1/13/2007', 'KH08', 'NV03', 330000)\n",
                "INSERT INTO HOADON VALUES (1019, '1/13/2007', 'KH01', 'NV03', 30000)\n",
                "INSERT INTO HOADON VALUES (1020, '1/14/2007', 'KH09', 'NV04', 70000)\n",
                "INSERT INTO HOADON VALUES (1021, '1/16/2007', 'KH10', 'NV03', 67500)\n",
                "INSERT INTO HOADON VALUES (1022, '1/16/2007', NULL, 'NV03', 7000)\n",
                "INSERT INTO HOADON VALUES (1023, '1/17/2007', NULL, 'NV01', 330000)\n"
            ]
        },
        {
            "cell_type": "code",
            "execution_count": null,
            "metadata": {
                "azdata_cell_guid": "80f25424-ea4d-44e0-b21b-4caabdc4c88f",
                "language": "sql",
                "tags": [
                    "hide_input"
                ]
            },
            "outputs": [],
            "source": [
                "INSERT INTO CTHD VALUES (1001, 'TV02', 10)\n",
                "INSERT INTO CTHD VALUES (1001, 'ST01', 5)\n",
                "INSERT INTO CTHD VALUES (1001, 'BC01', 5)\n",
                "INSERT INTO CTHD VALUES (1001, 'BC02', 10)\n",
                "INSERT INTO CTHD VALUES (1001, 'ST08', 10)\n",
                "INSERT INTO CTHD VALUES (1002, 'BC04', 20)\n",
                "INSERT INTO CTHD VALUES (1002, 'BB01', 20)\n",
                "INSERT INTO CTHD VALUES (1002, 'BB02', 20)\n",
                "INSERT INTO CTHD VALUES (1003, 'BB03', 10)\n",
                "INSERT INTO CTHD VALUES (1004, 'TV01', 20)\n",
                "INSERT INTO CTHD VALUES (1004, 'TV02', 10)\n",
                "INSERT INTO CTHD VALUES (1004, 'TV03', 10)\n",
                "INSERT INTO CTHD VALUES (1004, 'TV04', 10)\n",
                "INSERT INTO CTHD VALUES (1005, 'TV05', 50)\n",
                "INSERT INTO CTHD VALUES (1005, 'TV06', 50)\n",
                "INSERT INTO CTHD VALUES (1006, 'TV07', 20)\n",
                "INSERT INTO CTHD VALUES (1006, 'ST01', 30)\n",
                "INSERT INTO CTHD VALUES (1006, 'ST02', 10)\n",
                "INSERT INTO CTHD VALUES (1007, 'ST03', 10)\n",
                "INSERT INTO CTHD VALUES (1008, 'ST04', 8)\n",
                "INSERT INTO CTHD VALUES (1009, 'ST05', 10)\n",
                "INSERT INTO CTHD VALUES (1010, 'TV07', 50)\n",
                "INSERT INTO CTHD VALUES (1010, 'ST07', 50)\n",
                "INSERT INTO CTHD VALUES (1010, 'ST08', 100)\n",
                "INSERT INTO CTHD VALUES (1010, 'ST04', 50)\n",
                "INSERT INTO CTHD VALUES (1010, 'TV03', 100)\n",
                "INSERT INTO CTHD VALUES (1011, 'ST06', 50)\n",
                "INSERT INTO CTHD VALUES (1012, 'ST07', 3)\n",
                "INSERT INTO CTHD VALUES (1013, 'ST08', 5)\n",
                "INSERT INTO CTHD VALUES (1014, 'BC02', 80)\n",
                "INSERT INTO CTHD VALUES (1014, 'BB02', 100)\n",
                "INSERT INTO CTHD VALUES (1014, 'BC04', 60)\n",
                "INSERT INTO CTHD VALUES (1014, 'BB01', 50)\n",
                "INSERT INTO CTHD VALUES (1015, 'BB02', 30)\n",
                "INSERT INTO CTHD VALUES (1015, 'BB03', 7)\n",
                "INSERT INTO CTHD VALUES (1016, 'TV01', 5)\n",
                "INSERT INTO CTHD VALUES (1017, 'TV02', 1)\n",
                "INSERT INTO CTHD VALUES (1017, 'TV03', 1)\n",
                "INSERT INTO CTHD VALUES (1017, 'TV04', 5)\n",
                "INSERT INTO CTHD VALUES (1018, 'ST04', 6)\n",
                "INSERT INTO CTHD VALUES (1019, 'ST05', 1)\n",
                "INSERT INTO CTHD VALUES (1019, 'ST06', 2)\n",
                "INSERT INTO CTHD VALUES (1020, 'ST07', 10)\n",
                "INSERT INTO CTHD VALUES (1021, 'ST08', 5)\n",
                "INSERT INTO CTHD VALUES (1021, 'TV01', 7)\n",
                "INSERT INTO CTHD VALUES (1021, 'TV02', 10)\n",
                "INSERT INTO CTHD VALUES (1022, 'ST07', 1)\n",
                "INSERT INTO CTHD VALUES (1023, 'ST04', 6)"
            ]
        },
        {
            "cell_type": "code",
            "execution_count": null,
            "metadata": {
                "azdata_cell_guid": "9f94ae97-ead4-4d11-95d5-373094ed51d1",
                "language": "sql"
            },
            "outputs": [],
            "source": [
                "-- Cau 2: Thêm vào thuộc tính GHICHU có kiểu dữ liệu varchar(20) cho quan hệ SANPHAM.\n",
                "\n",
                "ALTER TABLE SANPHAM ADD GHICHU VARCHAR(20)  "
            ]
        },
        {
            "cell_type": "code",
            "execution_count": null,
            "metadata": {
                "azdata_cell_guid": "97d82f8f-d980-455b-8cd5-b5033a04ab84",
                "language": "sql"
            },
            "outputs": [],
            "source": [
                "-- Cau 3: Thêm vào thuộc tính LOAIKH có kiểu dữ liệu là tinyint cho quan hệ KHACHHANG.\n",
                "\n",
                "ALTER TABLE KHACHHANG ADD LOAIKH TINYINT  "
            ]
        },
        {
            "cell_type": "code",
            "execution_count": null,
            "metadata": {
                "azdata_cell_guid": "1a1a98bc-080d-4f74-931a-94c77f980222",
                "language": "sql"
            },
            "outputs": [],
            "source": [
                "-- Cau 4: Sửa kiểu dữ liệu của thuộc tính GHICHU trong quan hệ SANPHAM thành varchar(100).\n",
                "\n",
                "ALTER TABLE SANPHAM ALTER COLUMN GHICHU VARCHAR(100)"
            ]
        },
        {
            "cell_type": "code",
            "execution_count": null,
            "metadata": {
                "azdata_cell_guid": "b760a336-c516-4d08-a928-0b251c0f521a",
                "language": "sql"
            },
            "outputs": [],
            "source": [
                "-- Cau 5: Xóa thuộc tính GHICHU trong quan hệ SANPHAM.\n",
                "\n",
                "ALTER TABLE SANPHAM DROP COLUMN GHICHU"
            ]
        },
        {
            "cell_type": "code",
            "execution_count": null,
            "metadata": {
                "azdata_cell_guid": "bcc01025-182f-44dd-b375-ce324aa0a0df",
                "language": "sql",
                "tags": []
            },
            "outputs": [],
            "source": [
                "-- Cau 6: Làm thế nào để thuộc tính LOAIKH trong quan hệ KHACHHANG có thể lưu các giá trị là: “Vang lai”, “Thuong xuyen”, “Vip”, ...\n",
                "\n",
                "ALTER TABLE KHACHHANG ALTER COLUMN LOAIKH VARCHAR(20)"
            ]
        },
        {
            "cell_type": "code",
            "execution_count": null,
            "metadata": {
                "azdata_cell_guid": "b0fc8b54-4e73-4140-b055-dfda0e68a199",
                "language": "sql"
            },
            "outputs": [],
            "source": [
                "-- Cau 7: Đơn vị tính của sản phẩm chỉ có thể là (“cay”,”hop”,”cai”,”quyen”,”chuc”)\n",
                "\n",
                "ALTER TABLE SANPHAM ADD CONSTRAINT DVT CHECK (DVT IN ('cay', 'hop', 'cai', 'quyen', 'chuc'))"
            ]
        },
        {
            "cell_type": "code",
            "execution_count": null,
            "metadata": {
                "azdata_cell_guid": "1ae72e6d-c1e4-4ddf-ba25-39e2facb92b5",
                "language": "sql"
            },
            "outputs": [],
            "source": [
                "-- Cau 8: Giá bán của sản phẩm từ 500 đồng trở lên.\n",
                "\n",
                "ALTER TABLE SANPHAM ADD CONSTRAINT GIA CHECK (GIA >= 500)"
            ]
        },
        {
            "cell_type": "code",
            "execution_count": null,
            "metadata": {
                "azdata_cell_guid": "74a055a6-97d6-4af1-9bdf-6b1a247ebd91",
                "language": "sql"
            },
            "outputs": [],
            "source": [
                "-- Cau 9: Mỗi lần mua hàng, khách hàng phải mua ít nhất 1 sản phẩm.\n",
                "\n",
                "ALTER TABLE CTHD ADD CONSTRAINT SL CHECK (SL >= 1)"
            ]
        },
        {
            "cell_type": "code",
            "execution_count": null,
            "metadata": {
                "azdata_cell_guid": "6279118c-d789-403f-bfce-e9e6654cac84",
                "language": "sql",
                "tags": []
            },
            "outputs": [],
            "source": [
                "-- Cau 10: Ngày khách hàng đăng ký là khách hàng thành viên phải lớn hơn ngày sinh của người đó.\n",
                "\n",
                "ALTER TABLE KHACHHANG ADD CONSTRAINT NGDK CHECK (NGDK > NGSINH)"
            ]
        },
        {
            "cell_type": "code",
            "execution_count": 9,
            "metadata": {
                "azdata_cell_guid": "5fe782e0-cc40-422b-bc50-aefc0e30b965",
                "language": "sql",
                "tags": []
            },
            "outputs": [
                {
                    "data": {
                        "text/html": [
                            "(24 rows affected)"
                        ]
                    },
                    "metadata": {},
                    "output_type": "display_data"
                },
                {
                    "data": {
                        "text/html": [
                            "(10 rows affected)"
                        ]
                    },
                    "metadata": {},
                    "output_type": "display_data"
                },
                {
                    "data": {
                        "text/html": [
                            "Total execution time: 00:00:00.006"
                        ]
                    },
                    "metadata": {},
                    "output_type": "display_data"
                }
            ],
            "source": [
                "-- II. 2: Tạo quan hệ SANPHAM1 chứa toàn bộ dữ liệu của quan hệ SANPHAM. Tạo quan hệ KHACHHANG1 chứa toàn bộ dữ liệu của quan hệ KHACHHANG.\n",
                "\n",
                "SELECT * INTO SANPHAM1 FROM SANPHAM\n",
                "SELECT * INTO KHACHHANG1 FROM KHACHHANG"
            ]
        },
        {
            "cell_type": "code",
            "execution_count": 10,
            "metadata": {
                "azdata_cell_guid": "fa6311a7-42a3-45ca-a2c1-8015bd7c3385",
                "language": "sql"
            },
            "outputs": [
                {
                    "data": {
                        "text/html": [
                            "(3 rows affected)"
                        ]
                    },
                    "metadata": {},
                    "output_type": "display_data"
                },
                {
                    "data": {
                        "text/html": [
                            "Total execution time: 00:00:00.004"
                        ]
                    },
                    "metadata": {},
                    "output_type": "display_data"
                }
            ],
            "source": [
                "-- II. 3: Cập nhật giá tăng 5% đối với những sản phẩm do “Thai Lan” sản xuất (cho quan hệ SANPHAM1)\n",
                "UPDATE SANPHAM1 SET GIA = GIA + GIA * 0.05 WHERE NUOCSX='Thai Lan'"
            ]
        },
        {
            "cell_type": "code",
            "execution_count": 25,
            "metadata": {
                "azdata_cell_guid": "5e5d147c-6b46-4e72-946d-7d4a5d43db96",
                "language": "sql"
            },
            "outputs": [
                {
                    "ename": "",
                    "evalue": "Msg 156, Level 15, State 1, Line 2\nIncorrect syntax near the keyword 'WHERE'.",
                    "output_type": "error",
                    "traceback": []
                },
                {
                    "data": {
                        "text/html": [
                            "Total execution time: 00:00:00.001"
                        ]
                    },
                    "metadata": {},
                    "output_type": "display_data"
                }
            ],
            "source": [
                "-- II. 4: Cập nhật giá giảm 5% đối với những sản phẩm do “Trung Quoc” sản xuất có giá từ 10.000 trở xuống (cho quan hệ SANPHAM1).\n",
                "UPDATE SANPHAM1 SET GIA = GIA - GIA * 0.05 WHERE NUOCSX='Trung Quoc' AND GIA < 10000"
            ]
        },
        {
            "cell_type": "code",
            "execution_count": 14,
            "metadata": {
                "azdata_cell_guid": "3dafbc44-483b-4422-a03f-24bc9f83aaa9",
                "language": "sql"
            },
            "outputs": [
                {
                    "data": {
                        "text/html": [
                            "(1 row affected)"
                        ]
                    },
                    "metadata": {},
                    "output_type": "display_data"
                },
                {
                    "data": {
                        "text/html": [
                            "Total execution time: 00:00:00.007"
                        ]
                    },
                    "metadata": {},
                    "output_type": "display_data"
                }
            ],
            "source": [
                "-- II. 5: Cập nhật giá trị LOAIKH là “Vip” đối với những khách hàng đăng ký thành viên trước\n",
                "-- ngày 1/1/2007 có doanh số từ 10.000.000 trở lên hoặc khách hàng đăng ký thành viên từ\n",
                "-- 1/1/2007 trở về sau có doanh số từ 2.000.000 trở lên (cho quan hệ KHACHHANG1).\n",
                "\n",
                "UPDATE KHACHHANG1 SET LOAIKH='Vip' WHERE (NGDK < '1/1/2007' AND DOANHSO >= 10000000) OR (NGDK >= '1/1/2007' AND DOANHSO >= 2000000)"
            ]
        },
        {
            "cell_type": "code",
            "execution_count": 16,
            "metadata": {
                "azdata_cell_guid": "7c53d2dd-5bcf-4349-a529-5d7862393370",
                "language": "sql"
            },
            "outputs": [
                {
                    "data": {
                        "text/html": [
                            "(6 rows affected)"
                        ]
                    },
                    "metadata": {},
                    "output_type": "display_data"
                },
                {
                    "data": {
                        "text/html": [
                            "Total execution time: 00:00:00.002"
                        ]
                    },
                    "metadata": {},
                    "output_type": "display_data"
                },
                {
                    "data": {
                        "application/vnd.dataresource+json": {
                            "data": [
                                {
                                    "0": "BB02",
                                    "1": "But bi"
                                },
                                {
                                    "0": "ST01",
                                    "1": "So tay 500 trang"
                                },
                                {
                                    "0": "ST10",
                                    "1": "But long"
                                },
                                {
                                    "0": "TV01",
                                    "1": "Tap 100 giay mong"
                                },
                                {
                                    "0": "TV02",
                                    "1": "Tap 200 giay mong"
                                },
                                {
                                    "0": "TV07",
                                    "1": "Tap 100 trang"
                                }
                            ],
                            "schema": {
                                "fields": [
                                    {
                                        "name": "MASP"
                                    },
                                    {
                                        "name": "TENSP"
                                    }
                                ]
                            }
                        },
                        "text/html": [
                            "<table><tr><th>MASP</th><th>TENSP</th></tr><tr><td>BB02</td><td>But bi</td></tr><tr><td>ST01</td><td>So tay 500 trang</td></tr><tr><td>ST10</td><td>But long</td></tr><tr><td>TV01</td><td>Tap 100 giay mong</td></tr><tr><td>TV02</td><td>Tap 200 giay mong</td></tr><tr><td>TV07</td><td>Tap 100 trang</td></tr></table>"
                        ]
                    },
                    "execution_count": 16,
                    "metadata": {},
                    "output_type": "execute_result"
                }
            ],
            "source": [
                "-- III. 1: In ra danh sách các sản phẩm (MASP,TENSP) do “Trung Quoc” sản xuất.\n",
                "\n",
                "SELECT MASP, TENSP FROM SANPHAM1 WHERE NUOCSX='Trung Quoc'"
            ]
        },
        {
            "cell_type": "code",
            "execution_count": 4,
            "metadata": {
                "azdata_cell_guid": "fbcf8b49-e896-4f2a-89f8-27ab32b475a6",
                "language": "sql",
                "tags": []
            },
            "outputs": [
                {
                    "data": {
                        "text/html": [
                            "Commands completed successfully."
                        ]
                    },
                    "metadata": {},
                    "output_type": "display_data"
                },
                {
                    "data": {
                        "text/html": [
                            "Total execution time: 00:00:00.003"
                        ]
                    },
                    "metadata": {},
                    "output_type": "display_data"
                }
            ],
            "source": [
                "-- III. 2: In ra danh sách các sản phẩm (MASP,TENSP) có mã sản phẩm bắt đầu là “B” và kết thúc là “01”.\n",
                "\n",
                "SELECT MASP, TENSP FROM SANPHAM1 WHERE DVT='cay' OR DVT='quyen'"
            ]
        },
        {
            "cell_type": "code",
            "execution_count": 6,
            "metadata": {
                "azdata_cell_guid": "03a0733e-7989-47d4-b242-133bdcef0ea0",
                "language": "sql"
            },
            "outputs": [
                {
                    "ename": "",
                    "evalue": "Msg 2714, Level 16, State 3, Procedure Cau3, Line 3\nThere is already an object named 'Cau3' in the database.",
                    "output_type": "error",
                    "traceback": []
                },
                {
                    "data": {
                        "text/html": [
                            "Total execution time: 00:00:00.001"
                        ]
                    },
                    "metadata": {},
                    "output_type": "display_data"
                }
            ],
            "source": [
                "-- III. 3: In ra danh sách các sản phẩm (MASP,TENSP) có mã sản phẩm bắt đầu là “B” và kết thúc là “01”.\n",
                "\n",
                "SELECT MASP, TENSP FROM SANPHAM1 WHERE MASP LIKE 'B%01'"
            ]
        },
        {
            "cell_type": "code",
            "execution_count": 7,
            "metadata": {
                "azdata_cell_guid": "a26d0bb6-652a-4013-b6c1-0adfd9c1ee39",
                "language": "sql"
            },
            "outputs": [
                {
                    "data": {
                        "text/html": [
                            "(2 rows affected)"
                        ]
                    },
                    "metadata": {},
                    "output_type": "display_data"
                },
                {
                    "data": {
                        "text/html": [
                            "Total execution time: 00:00:00.002"
                        ]
                    },
                    "metadata": {},
                    "output_type": "display_data"
                },
                {
                    "data": {
                        "application/vnd.dataresource+json": {
                            "data": [
                                {
                                    "0": "ST01",
                                    "1": "So tay 500 trang",
                                    "2": "quyen",
                                    "3": "Trung Quoc",
                                    "4": "40000.00"
                                },
                                {
                                    "0": "TV07",
                                    "1": "Tap 100 trang",
                                    "2": "chuc",
                                    "3": "Trung Quoc",
                                    "4": "34000.00"
                                }
                            ],
                            "schema": {
                                "fields": [
                                    {
                                        "name": "MASP"
                                    },
                                    {
                                        "name": "TENSP"
                                    },
                                    {
                                        "name": "DVT"
                                    },
                                    {
                                        "name": "NUOCSX"
                                    },
                                    {
                                        "name": "GIA"
                                    }
                                ]
                            }
                        },
                        "text/html": [
                            "<table><tr><th>MASP</th><th>TENSP</th><th>DVT</th><th>NUOCSX</th><th>GIA</th></tr><tr><td>ST01</td><td>So tay 500 trang</td><td>quyen</td><td>Trung Quoc</td><td>40000.00</td></tr><tr><td>TV07</td><td>Tap 100 trang</td><td>chuc</td><td>Trung Quoc</td><td>34000.00</td></tr></table>"
                        ]
                    },
                    "execution_count": 7,
                    "metadata": {},
                    "output_type": "execute_result"
                }
            ],
            "source": [
                "-- III. 4: In ra danh sách các sản phẩm (MASP,TENSP) do “Trung Quốc” sản xuất có giá từ 30.000 đến 40.000.\n",
                "\n",
                "SELECT MASP, TENSP FROM SANPHAM \n",
                "WHERE NUOCSX = 'Trung Quoc' AND GIA BETWEEN 30000 AND 40000;"
            ]
        },
        {
            "cell_type": "code",
            "execution_count": 9,
            "metadata": {
                "azdata_cell_guid": "fab28c21-c0a3-40f2-9b74-f5d044dc8bdb",
                "language": "sql"
            },
            "outputs": [
                {
                    "data": {
                        "text/html": [
                            "(2 rows affected)"
                        ]
                    },
                    "metadata": {},
                    "output_type": "display_data"
                },
                {
                    "data": {
                        "text/html": [
                            "Total execution time: 00:00:00.002"
                        ]
                    },
                    "metadata": {},
                    "output_type": "display_data"
                },
                {
                    "data": {
                        "application/vnd.dataresource+json": {
                            "data": [
                                {
                                    "0": "ST01",
                                    "1": "So tay 500 trang",
                                    "2": "quyen",
                                    "3": "Trung Quoc",
                                    "4": "40000.00"
                                },
                                {
                                    "0": "TV07",
                                    "1": "Tap 100 trang",
                                    "2": "chuc",
                                    "3": "Trung Quoc",
                                    "4": "34000.00"
                                }
                            ],
                            "schema": {
                                "fields": [
                                    {
                                        "name": "MASP"
                                    },
                                    {
                                        "name": "TENSP"
                                    },
                                    {
                                        "name": "DVT"
                                    },
                                    {
                                        "name": "NUOCSX"
                                    },
                                    {
                                        "name": "GIA"
                                    }
                                ]
                            }
                        },
                        "text/html": [
                            "<table><tr><th>MASP</th><th>TENSP</th><th>DVT</th><th>NUOCSX</th><th>GIA</th></tr><tr><td>ST01</td><td>So tay 500 trang</td><td>quyen</td><td>Trung Quoc</td><td>40000.00</td></tr><tr><td>TV07</td><td>Tap 100 trang</td><td>chuc</td><td>Trung Quoc</td><td>34000.00</td></tr></table>"
                        ]
                    },
                    "execution_count": 9,
                    "metadata": {},
                    "output_type": "execute_result"
                }
            ],
            "source": [
                "-- III. 5: In ra danh sách các sản phẩm (MASP,TENSP) do “Trung Quoc” hoặc “Thai Lan” sản xuất có giá từ 30.000 đến 40.000.\n",
                "\n",
                "SELECT MASP FROM SANPHAM \n",
                "WHERE (NUOCSX = 'Trung Quoc' OR NUOCSX = 'Thai Lan') AND GIA BETWEEN 30000 AND 40000;"
            ]
        },
        {
            "cell_type": "code",
            "execution_count": 14,
            "metadata": {
                "azdata_cell_guid": "c628de69-8ec9-43cf-8798-28d1cadff829",
                "language": "sql"
            },
            "outputs": [
                {
                    "data": {
                        "text/html": [
                            "(3 rows affected)"
                        ]
                    },
                    "metadata": {},
                    "output_type": "display_data"
                },
                {
                    "data": {
                        "text/html": [
                            "Total execution time: 00:00:00.003"
                        ]
                    },
                    "metadata": {},
                    "output_type": "display_data"
                },
                {
                    "data": {
                        "application/vnd.dataresource+json": {
                            "data": [
                                {
                                    "0": "1015",
                                    "1": "2007-01-01 00:00:00",
                                    "2": "KH06",
                                    "3": "NV01",
                                    "4": "910000.00"
                                },
                                {
                                    "0": "1016",
                                    "1": "2007-01-01 00:00:00",
                                    "2": "KH07",
                                    "3": "NV02",
                                    "4": "12500.00"
                                },
                                {
                                    "0": "1017",
                                    "1": "2007-01-02 00:00:00",
                                    "2": "KH08",
                                    "3": "NV03",
                                    "4": "35000.00"
                                }
                            ],
                            "schema": {
                                "fields": [
                                    {
                                        "name": "SOHD"
                                    },
                                    {
                                        "name": "NGHD"
                                    },
                                    {
                                        "name": "MAKH"
                                    },
                                    {
                                        "name": "MANV"
                                    },
                                    {
                                        "name": "TRIGIA"
                                    }
                                ]
                            }
                        },
                        "text/html": [
                            "<table><tr><th>SOHD</th><th>NGHD</th><th>MAKH</th><th>MANV</th><th>TRIGIA</th></tr><tr><td>1015</td><td>2007-01-01 00:00:00</td><td>KH06</td><td>NV01</td><td>910000.00</td></tr><tr><td>1016</td><td>2007-01-01 00:00:00</td><td>KH07</td><td>NV02</td><td>12500.00</td></tr><tr><td>1017</td><td>2007-01-02 00:00:00</td><td>KH08</td><td>NV03</td><td>35000.00</td></tr></table>"
                        ]
                    },
                    "execution_count": 14,
                    "metadata": {},
                    "output_type": "execute_result"
                }
            ],
            "source": [
                "-- III. 6: In ra các số hóa đơn, trị giá hóa đơn bán ra trong ngày 1/1/2007 và ngày 2/1/2007.\n",
                "\n",
                "SET DATEFORMAT DMY\n",
                "\n",
                "SELECT SOHD, TRIGIA FROM HOADON\n",
                "WHERE NGHD IN ('1/1/2007', '2/1/2007')"
            ]
        },
        {
            "cell_type": "code",
            "execution_count": 15,
            "metadata": {
                "azdata_cell_guid": "d3e5278f-0c50-4e5c-b08d-31b2e6c47505",
                "language": "sql"
            },
            "outputs": [
                {
                    "data": {
                        "text/html": [
                            "(9 rows affected)"
                        ]
                    },
                    "metadata": {},
                    "output_type": "display_data"
                },
                {
                    "data": {
                        "text/html": [
                            "Total execution time: 00:00:00.002"
                        ]
                    },
                    "metadata": {},
                    "output_type": "display_data"
                },
                {
                    "data": {
                        "application/vnd.dataresource+json": {
                            "data": [
                                {
                                    "0": "1015",
                                    "1": "2007-01-01 00:00:00",
                                    "2": "KH06",
                                    "3": "NV01",
                                    "4": "910000.00"
                                },
                                {
                                    "0": "1018",
                                    "1": "2007-01-13 00:00:00",
                                    "2": "KH08",
                                    "3": "NV03",
                                    "4": "330000.00"
                                },
                                {
                                    "0": "1023",
                                    "1": "2007-01-17 00:00:00",
                                    "2": "NULL",
                                    "3": "NV01",
                                    "4": "330000.00"
                                },
                                {
                                    "0": "1020",
                                    "1": "2007-01-14 00:00:00",
                                    "2": "KH09",
                                    "3": "NV04",
                                    "4": "70000.00"
                                },
                                {
                                    "0": "1021",
                                    "1": "2007-01-16 00:00:00",
                                    "2": "KH10",
                                    "3": "NV03",
                                    "4": "67500.00"
                                },
                                {
                                    "0": "1017",
                                    "1": "2007-01-02 00:00:00",
                                    "2": "KH08",
                                    "3": "NV03",
                                    "4": "35000.00"
                                },
                                {
                                    "0": "1019",
                                    "1": "2007-01-13 00:00:00",
                                    "2": "KH01",
                                    "3": "NV03",
                                    "4": "30000.00"
                                },
                                {
                                    "0": "1016",
                                    "1": "2007-01-01 00:00:00",
                                    "2": "KH07",
                                    "3": "NV02",
                                    "4": "12500.00"
                                },
                                {
                                    "0": "1022",
                                    "1": "2007-01-16 00:00:00",
                                    "2": "NULL",
                                    "3": "NV03",
                                    "4": "7000.00"
                                }
                            ],
                            "schema": {
                                "fields": [
                                    {
                                        "name": "SOHD"
                                    },
                                    {
                                        "name": "NGHD"
                                    },
                                    {
                                        "name": "MAKH"
                                    },
                                    {
                                        "name": "MANV"
                                    },
                                    {
                                        "name": "TRIGIA"
                                    }
                                ]
                            }
                        },
                        "text/html": [
                            "<table><tr><th>SOHD</th><th>NGHD</th><th>MAKH</th><th>MANV</th><th>TRIGIA</th></tr><tr><td>1015</td><td>2007-01-01 00:00:00</td><td>KH06</td><td>NV01</td><td>910000.00</td></tr><tr><td>1018</td><td>2007-01-13 00:00:00</td><td>KH08</td><td>NV03</td><td>330000.00</td></tr><tr><td>1023</td><td>2007-01-17 00:00:00</td><td>NULL</td><td>NV01</td><td>330000.00</td></tr><tr><td>1020</td><td>2007-01-14 00:00:00</td><td>KH09</td><td>NV04</td><td>70000.00</td></tr><tr><td>1021</td><td>2007-01-16 00:00:00</td><td>KH10</td><td>NV03</td><td>67500.00</td></tr><tr><td>1017</td><td>2007-01-02 00:00:00</td><td>KH08</td><td>NV03</td><td>35000.00</td></tr><tr><td>1019</td><td>2007-01-13 00:00:00</td><td>KH01</td><td>NV03</td><td>30000.00</td></tr><tr><td>1016</td><td>2007-01-01 00:00:00</td><td>KH07</td><td>NV02</td><td>12500.00</td></tr><tr><td>1022</td><td>2007-01-16 00:00:00</td><td>NULL</td><td>NV03</td><td>7000.00</td></tr></table>"
                        ]
                    },
                    "execution_count": 15,
                    "metadata": {},
                    "output_type": "execute_result"
                }
            ],
            "source": [
                "-- III. 7: In ra các số hóa đơn, trị giá hóa đơn trong tháng 1/2007, sắp xếp theo ngày (tăng dần) và trị giá của hóa đơn (giảm dần).\n",
                "\n",
                "SELECT SOHD, TRIGIA FROM HOADON\n",
                "WHERE MONTH(NGHD) = 1 AND YEAR(NGHD) = 2007\n",
                "ORDER BY TRIGIA DESC"
            ]
        },
        {
            "cell_type": "code",
            "execution_count": 18,
            "metadata": {
                "azdata_cell_guid": "6751d437-5f61-488e-a91b-1cc8e7210007",
                "language": "sql"
            },
            "outputs": [
                {
                    "data": {
                        "text/html": [
                            "(2 rows affected)"
                        ]
                    },
                    "metadata": {},
                    "output_type": "display_data"
                },
                {
                    "data": {
                        "text/html": [
                            "Total execution time: 00:00:00.001"
                        ]
                    },
                    "metadata": {},
                    "output_type": "display_data"
                },
                {
                    "data": {
                        "application/vnd.dataresource+json": {
                            "data": [
                                {
                                    "0": "KH06",
                                    "1": "Le Hoai Thuong"
                                },
                                {
                                    "0": "KH07",
                                    "1": "Nguyen Van Tam"
                                }
                            ],
                            "schema": {
                                "fields": [
                                    {
                                        "name": "MAKH"
                                    },
                                    {
                                        "name": "HOTEN"
                                    }
                                ]
                            }
                        },
                        "text/html": [
                            "<table><tr><th>MAKH</th><th>HOTEN</th></tr><tr><td>KH06</td><td>Le Hoai Thuong</td></tr><tr><td>KH07</td><td>Nguyen Van Tam</td></tr></table>"
                        ]
                    },
                    "execution_count": 18,
                    "metadata": {},
                    "output_type": "execute_result"
                }
            ],
            "source": [
                "-- III. 8: In ra danh sách các khách hàng (MAKH, HOTEN) đã mua hàng trong ngày 1/1/2007.\n",
                "\n",
                "SET DATEFORMAT DMY\n",
                "\n",
                "SELECT KHACHHANG.MAKH, KHACHHANG.HOTEN FROM KHACHHANG\n",
                "INNER JOIN HOADON ON KHACHHANG.MAKH = HOADON.MAKH\n",
                "WHERE HOADON.NGHD = '1/1/2007'"
            ]
        },
        {
            "cell_type": "code",
            "execution_count": 21,
            "metadata": {
                "azdata_cell_guid": "1e2d78f7-1524-4133-9e14-25002a62cc66",
                "language": "sql"
            },
            "outputs": [
                {
                    "data": {
                        "text/html": [
                            "(2 rows affected)"
                        ]
                    },
                    "metadata": {},
                    "output_type": "display_data"
                },
                {
                    "data": {
                        "text/html": [
                            "Total execution time: 00:00:00.001"
                        ]
                    },
                    "metadata": {},
                    "output_type": "display_data"
                },
                {
                    "data": {
                        "application/vnd.dataresource+json": {
                            "data": [
                                {
                                    "0": "1007",
                                    "1": "510000.00"
                                },
                                {
                                    "0": "1008",
                                    "1": "440000.00"
                                }
                            ],
                            "schema": {
                                "fields": [
                                    {
                                        "name": "SOHD"
                                    },
                                    {
                                        "name": "TRIGIA"
                                    }
                                ]
                            }
                        },
                        "text/html": [
                            "<table><tr><th>SOHD</th><th>TRIGIA</th></tr><tr><td>1007</td><td>510000.00</td></tr><tr><td>1008</td><td>440000.00</td></tr></table>"
                        ]
                    },
                    "execution_count": 21,
                    "metadata": {},
                    "output_type": "execute_result"
                }
            ],
            "source": [
                "-- III. 9: In ra số hóa đơn, trị giá các hóa đơn do nhân viên có tên “Nguyen Van B” lập trong ngày 28/10/2006.\n",
                "\n",
                "SET DATEFORMAT DMY\n",
                "\n",
                "SELECT HOADON.SOHD, HOADON.TRIGIA FROM HOADON\n",
                "INNER JOIN NHANVIEN ON HOADON.MANV = NHANVIEN.MANV\n",
                "WHERE NHANVIEN.HOTEN = 'Nguyen Van B' AND NGHD = '28/10/2006'"
            ]
        },
        {
            "cell_type": "code",
            "execution_count": 30,
            "metadata": {
                "azdata_cell_guid": "615cc4ad-cea0-4596-bc1d-b28dd65606c2",
                "language": "sql"
            },
            "outputs": [
                {
                    "data": {
                        "text/html": [
                            "(6 rows affected)"
                        ]
                    },
                    "metadata": {},
                    "output_type": "display_data"
                },
                {
                    "data": {
                        "text/html": [
                            "Total execution time: 00:00:00.003"
                        ]
                    },
                    "metadata": {},
                    "output_type": "display_data"
                },
                {
                    "data": {
                        "application/vnd.dataresource+json": {
                            "data": [
                                {
                                    "0": "TV05",
                                    "1": "Tap 100 trang"
                                },
                                {
                                    "0": "TV06",
                                    "1": "Tap 200 trang"
                                },
                                {
                                    "0": "ST01",
                                    "1": "So tay 500 trang"
                                },
                                {
                                    "0": "ST02",
                                    "1": "So tay loai 1"
                                },
                                {
                                    "0": "TV07",
                                    "1": "Tap 100 trang"
                                },
                                {
                                    "0": "ST04",
                                    "1": "So tay"
                                }
                            ],
                            "schema": {
                                "fields": [
                                    {
                                        "name": "MASP"
                                    },
                                    {
                                        "name": "TENSP"
                                    }
                                ]
                            }
                        },
                        "text/html": [
                            "<table><tr><th>MASP</th><th>TENSP</th></tr><tr><td>TV05</td><td>Tap 100 trang</td></tr><tr><td>TV06</td><td>Tap 200 trang</td></tr><tr><td>ST01</td><td>So tay 500 trang</td></tr><tr><td>ST02</td><td>So tay loai 1</td></tr><tr><td>TV07</td><td>Tap 100 trang</td></tr><tr><td>ST04</td><td>So tay</td></tr></table>"
                        ]
                    },
                    "execution_count": 30,
                    "metadata": {},
                    "output_type": "execute_result"
                }
            ],
            "source": [
                "-- III. 10: In ra danh sách các sản phẩm (MASP,TENSP) được khách hàng có tên “Nguyen Van A” mua trong tháng 10/2006.\n",
                "\n",
                "SELECT SANPHAM.MASP, SANPHAM.TENSP FROM SANPHAM\n",
                "INNER JOIN CTHD ON SANPHAM.MASP = CTHD.MASP\n",
                "INNER JOIN HOADON ON CTHD.SOHD = HOADON.SOHD\n",
                "INNER JOIN KHACHHANG ON HOADON.MAKH = KHACHHANG.MAKH\n",
                "WHERE KHACHHANG.HOTEN = 'Nguyen Van A' AND MONTH(HOADON.NGHD) = 10 AND YEAR(HOADON.NGHD) = 2006"
            ]
        },
        {
            "cell_type": "code",
            "execution_count": 33,
            "metadata": {
                "azdata_cell_guid": "91c221f7-6b78-4493-93d2-e9ab931b5299",
                "language": "sql"
            },
            "outputs": [
                {
                    "data": {
                        "text/html": [
                            "(5 rows affected)"
                        ]
                    },
                    "metadata": {},
                    "output_type": "display_data"
                },
                {
                    "data": {
                        "text/html": [
                            "Total execution time: 00:00:00.001"
                        ]
                    },
                    "metadata": {},
                    "output_type": "display_data"
                },
                {
                    "data": {
                        "application/vnd.dataresource+json": {
                            "data": [
                                {
                                    "0": "1002"
                                },
                                {
                                    "0": "1002"
                                },
                                {
                                    "0": "1014"
                                },
                                {
                                    "0": "1014"
                                },
                                {
                                    "0": "1015"
                                }
                            ],
                            "schema": {
                                "fields": [
                                    {
                                        "name": "SOHD"
                                    }
                                ]
                            }
                        },
                        "text/html": [
                            "<table><tr><th>SOHD</th></tr><tr><td>1002</td></tr><tr><td>1002</td></tr><tr><td>1014</td></tr><tr><td>1014</td></tr><tr><td>1015</td></tr></table>"
                        ]
                    },
                    "execution_count": 33,
                    "metadata": {},
                    "output_type": "execute_result"
                }
            ],
            "source": [
                "-- III. 11: Tìm các số hóa đơn đã mua sản phẩm có mã số “BB01” hoặc “BB02”.\n",
                "\n",
                "SELECT SOHD FROM CTHD \n",
                "WHERE MASP IN ('BB01', 'BB02')"
            ]
        },
        {
            "cell_type": "code",
            "execution_count": 3,
            "metadata": {
                "azdata_cell_guid": "915a59fa-345a-43c2-9227-b7289f514593",
                "language": "sql"
            },
            "outputs": [
                {
                    "data": {
                        "text/html": [
                            "(1 row affected)"
                        ]
                    },
                    "metadata": {},
                    "output_type": "display_data"
                },
                {
                    "data": {
                        "text/html": [
                            "Total execution time: 00:00:00.003"
                        ]
                    },
                    "metadata": {},
                    "output_type": "display_data"
                },
                {
                    "data": {
                        "application/vnd.dataresource+json": {
                            "data": [
                                {
                                    "0": "1002"
                                }
                            ],
                            "schema": {
                                "fields": [
                                    {
                                        "name": "SOHD"
                                    }
                                ]
                            }
                        },
                        "text/html": [
                            "<table><tr><th>SOHD</th></tr><tr><td>1002</td></tr></table>"
                        ]
                    },
                    "execution_count": 3,
                    "metadata": {},
                    "output_type": "execute_result"
                }
            ],
            "source": [
                "-- III. 12: Tìm các số hóa đơn đã mua sản phẩm có mã số “BB01” hoặc “BB02”, mỗi sản phẩm mua với số lượng từ 10 đến 20.\n",
                "\n",
                "SELECT DISTINCT SOHD FROM CTHD \n",
                "WHERE MASP IN ('BB01', 'BB02') AND SL BETWEEN 10 AND 20"
            ]
        },
        {
            "cell_type": "code",
            "execution_count": 4,
            "metadata": {
                "azdata_cell_guid": "b14cf55e-8bf2-483e-b0b0-03f23b301d8e",
                "language": "sql"
            },
            "outputs": [
                {
                    "data": {
                        "text/html": [
                            "(1 row affected)"
                        ]
                    },
                    "metadata": {},
                    "output_type": "display_data"
                },
                {
                    "data": {
                        "text/html": [
                            "Total execution time: 00:00:00.004"
                        ]
                    },
                    "metadata": {},
                    "output_type": "display_data"
                },
                {
                    "data": {
                        "application/vnd.dataresource+json": {
                            "data": [
                                {
                                    "0": "1002"
                                }
                            ],
                            "schema": {
                                "fields": [
                                    {
                                        "name": "SOHD"
                                    }
                                ]
                            }
                        },
                        "text/html": [
                            "<table><tr><th>SOHD</th></tr><tr><td>1002</td></tr></table>"
                        ]
                    },
                    "execution_count": 4,
                    "metadata": {},
                    "output_type": "execute_result"
                }
            ],
            "source": [
                "-- III. 13: Tìm các số hóa đơn mua cùng lúc 2 sản phẩm có mã số “BB01” và “BB02”, mỗi sản phẩm mua với số lượng từ 10 đến 20.\n",
                "\n",
                "SELECT SOHD FROM CTHD \n",
                "WHERE MASP = 'BB01' AND SL BETWEEN 10 AND 20\n",
                "INTERSECT\n",
                "SELECT SOHD FROM CTHD \n",
                "WHERE MASP = 'BB02' AND SL BETWEEN 10 AND 20"
            ]
        },
        {
            "cell_type": "code",
            "execution_count": 2,
            "metadata": {
                "azdata_cell_guid": "6c991b80-ed64-45e7-b76d-403d83f2209f",
                "language": "sql",
                "tags": []
            },
            "outputs": [
                {
                    "data": {
                        "text/html": [
                            "(7 rows affected)"
                        ]
                    },
                    "metadata": {},
                    "output_type": "display_data"
                },
                {
                    "data": {
                        "text/html": [
                            "Total execution time: 00:00:00.023"
                        ]
                    },
                    "metadata": {},
                    "output_type": "display_data"
                },
                {
                    "data": {
                        "application/vnd.dataresource+json": {
                            "data": [
                                {
                                    "0": "BB02",
                                    "1": "But bi"
                                },
                                {
                                    "0": "BB03",
                                    "1": "But bi"
                                },
                                {
                                    "0": "ST01",
                                    "1": "So tay 500 trang"
                                },
                                {
                                    "0": "ST10",
                                    "1": "But long"
                                },
                                {
                                    "0": "TV01",
                                    "1": "Tap 100 giay mong"
                                },
                                {
                                    "0": "TV02",
                                    "1": "Tap 200 giay mong"
                                },
                                {
                                    "0": "TV07",
                                    "1": "Tap 100 trang"
                                }
                            ],
                            "schema": {
                                "fields": [
                                    {
                                        "name": "MASP"
                                    },
                                    {
                                        "name": "TENSP"
                                    }
                                ]
                            }
                        },
                        "text/html": [
                            "<table><tr><th>MASP</th><th>TENSP</th></tr><tr><td>BB02</td><td>But bi</td></tr><tr><td>BB03</td><td>But bi</td></tr><tr><td>ST01</td><td>So tay 500 trang</td></tr><tr><td>ST10</td><td>But long</td></tr><tr><td>TV01</td><td>Tap 100 giay mong</td></tr><tr><td>TV02</td><td>Tap 200 giay mong</td></tr><tr><td>TV07</td><td>Tap 100 trang</td></tr></table>"
                        ]
                    },
                    "execution_count": 2,
                    "metadata": {},
                    "output_type": "execute_result"
                }
            ],
            "source": [
                "-- III. 14: In ra danh sách các sản phẩm (MASP,TENSP) do “Trung Quoc” sản xuất hoặc các sản phẩm được bán ra trong ngày 1/1/2007.\n",
                "\n",
                "SET DATEFORMAT DMY\n",
                "\n",
                "SELECT MASP, TENSP FROM SANPHAM\n",
                "WHERE NUOCSX = 'Trung Quoc'\n",
                "UNION\n",
                "SELECT SANPHAM.MASP, SANPHAM.TENSP FROM SANPHAM\n",
                "INNER JOIN CTHD ON CTHD.MASP = SANPHAM.MASP\n",
                "INNER JOIN HOADON ON CTHD.SOHD = HOADON.SOHD\n",
                "WHERE HOADON.NGHD = '1/1/2007'"
            ]
        },
        {
            "cell_type": "code",
            "execution_count": 12,
            "metadata": {
                "azdata_cell_guid": "20c04d0d-d06b-42ed-b44b-f3a2b2cf562a",
                "language": "sql"
            },
            "outputs": [
                {
                    "data": {
                        "text/html": [
                            "(3 rows affected)"
                        ]
                    },
                    "metadata": {},
                    "output_type": "display_data"
                },
                {
                    "data": {
                        "text/html": [
                            "Total execution time: 00:00:00.007"
                        ]
                    },
                    "metadata": {},
                    "output_type": "display_data"
                },
                {
                    "data": {
                        "application/vnd.dataresource+json": {
                            "data": [
                                {
                                    "0": "BC03",
                                    "1": "But chi"
                                },
                                {
                                    "0": "ST09",
                                    "1": "But long"
                                },
                                {
                                    "0": "ST10",
                                    "1": "But long"
                                }
                            ],
                            "schema": {
                                "fields": [
                                    {
                                        "name": "MASP"
                                    },
                                    {
                                        "name": "TENSP"
                                    }
                                ]
                            }
                        },
                        "text/html": [
                            "<table><tr><th>MASP</th><th>TENSP</th></tr><tr><td>BC03</td><td>But chi</td></tr><tr><td>ST09</td><td>But long</td></tr><tr><td>ST10</td><td>But long</td></tr></table>"
                        ]
                    },
                    "execution_count": 12,
                    "metadata": {},
                    "output_type": "execute_result"
                }
            ],
            "source": [
                "-- III. 15 : In ra danh sách các sản phẩm (MASP,TENSP) không bán được.\n",
                "\n",
                "SELECT MASP, TENSP FROM SANPHAM\n",
                "WHERE MASP IN (\n",
                "    SELECT MASP FROM SANPHAM\n",
                "    EXCEPT \n",
                "    SELECT MASP FROM CTHD\n",
                ")"
            ]
        },
        {
            "cell_type": "code",
            "execution_count": 15,
            "metadata": {
                "azdata_cell_guid": "5648352d-e53f-42f6-a577-2bc57ac45e0e",
                "language": "sql"
            },
            "outputs": [
                {
                    "data": {
                        "text/html": [
                            "(3 rows affected)"
                        ]
                    },
                    "metadata": {},
                    "output_type": "display_data"
                },
                {
                    "data": {
                        "text/html": [
                            "Total execution time: 00:00:00.007"
                        ]
                    },
                    "metadata": {},
                    "output_type": "display_data"
                },
                {
                    "data": {
                        "application/vnd.dataresource+json": {
                            "data": [
                                {
                                    "0": "BC03",
                                    "1": "But chi"
                                },
                                {
                                    "0": "ST09",
                                    "1": "But long"
                                },
                                {
                                    "0": "ST10",
                                    "1": "But long"
                                }
                            ],
                            "schema": {
                                "fields": [
                                    {
                                        "name": "MASP"
                                    },
                                    {
                                        "name": "TENSP"
                                    }
                                ]
                            }
                        },
                        "text/html": [
                            "<table><tr><th>MASP</th><th>TENSP</th></tr><tr><td>BC03</td><td>But chi</td></tr><tr><td>ST09</td><td>But long</td></tr><tr><td>ST10</td><td>But long</td></tr></table>"
                        ]
                    },
                    "execution_count": 15,
                    "metadata": {},
                    "output_type": "execute_result"
                }
            ],
            "source": [
                "-- III. 16: In ra danh sách các sản phẩm (MASP,TENSP) không bán được trong năm 2006.\n",
                "\n",
                "SELECT MASP, TENSP FROM SANPHAM\n",
                "WHERE MASP IN (\n",
                "    SELECT MASP FROM SANPHAM\n",
                "    EXCEPT \n",
                "    (\n",
                "        SELECT MASP FROM CTHD \n",
                "        WHERE SOHD IN (\n",
                "            SELECT SOHD FROM HOADON \n",
                "            WHERE YEAR(NGHD) = 2006\n",
                "        ) \n",
                "    )\n",
                ")"
            ]
        },
        {
            "cell_type": "code",
            "execution_count": 16,
            "metadata": {
                "azdata_cell_guid": "119f6da4-58c9-4ecc-b5c2-f9ad32fe85b4",
                "language": "sql"
            },
            "outputs": [
                {
                    "data": {
                        "text/html": [
                            "(1 row affected)"
                        ]
                    },
                    "metadata": {},
                    "output_type": "display_data"
                },
                {
                    "data": {
                        "text/html": [
                            "Total execution time: 00:00:00.011"
                        ]
                    },
                    "metadata": {},
                    "output_type": "display_data"
                },
                {
                    "data": {
                        "application/vnd.dataresource+json": {
                            "data": [
                                {
                                    "0": "ST10",
                                    "1": "But long"
                                }
                            ],
                            "schema": {
                                "fields": [
                                    {
                                        "name": "MASP"
                                    },
                                    {
                                        "name": "TENSP"
                                    }
                                ]
                            }
                        },
                        "text/html": [
                            "<table><tr><th>MASP</th><th>TENSP</th></tr><tr><td>ST10</td><td>But long</td></tr></table>"
                        ]
                    },
                    "execution_count": 16,
                    "metadata": {},
                    "output_type": "execute_result"
                }
            ],
            "source": [
                "-- III. 17: In ra danh sách các sản phẩm (MASP,TENSP) do “Trung Quoc” sản xuất không bán được trong năm 2006.\n",
                "\n",
                "SELECT MASP, TENSP FROM SANPHAM\n",
                "WHERE MASP IN (\n",
                "    (\n",
                "        SELECT MASP FROM SANPHAM\n",
                "        WHERE NUOCSX = 'Trung Quoc'\n",
                "    )\n",
                "    EXCEPT \n",
                "    (\n",
                "        SELECT MASP FROM CTHD \n",
                "        WHERE SOHD IN (\n",
                "            SELECT SOHD FROM HOADON \n",
                "            WHERE YEAR(NGHD) = 2006\n",
                "        ) \n",
                "    )\n",
                ")"
            ]
        },
        {
            "cell_type": "code",
            "execution_count": 2,
            "metadata": {
                "azdata_cell_guid": "20bce1f1-6054-4bcb-ad63-13f10bffeb51",
                "language": "sql"
            },
            "outputs": [
                {
                    "data": {
                        "text/html": [
                            "(1 row affected)"
                        ]
                    },
                    "metadata": {},
                    "output_type": "display_data"
                },
                {
                    "data": {
                        "text/html": [
                            "Total execution time: 00:00:00.018"
                        ]
                    },
                    "metadata": {},
                    "output_type": "display_data"
                },
                {
                    "data": {
                        "application/vnd.dataresource+json": {
                            "data": [
                                {
                                    "0": "1001"
                                }
                            ],
                            "schema": {
                                "fields": [
                                    {
                                        "name": "SOHD"
                                    }
                                ]
                            }
                        },
                        "text/html": [
                            "<table><tr><th>SOHD</th></tr><tr><td>1001</td></tr></table>"
                        ]
                    },
                    "execution_count": 2,
                    "metadata": {},
                    "output_type": "execute_result"
                }
            ],
            "source": [
                "-- III. 18: Tìm số hóa đơn đã mua tất cả các sản phẩm do Singapore sản xuất.\n",
                "\n",
                "SELECT HOADON.SOHD FROM HOADON\n",
                "INNER JOIN CTHD ON HOADON.SOHD = CTHD.SOHD\n",
                "INNER JOIN SANPHAM ON CTHD.MASP = SANPHAM.MASP\n",
                "WHERE SANPHAM.NUOCSX = 'Singapore'\n",
                "GROUP BY HOADON.SOHD\n",
                "HAVING COUNT(DISTINCT SANPHAM.MASP) = (\n",
                "    SELECT COUNT(DISTINCT MASP)\n",
                "    FROM SANPHAM\n",
                "    WHERE NUOCSX = 'Singapore'\n",
                ")"
            ]
        },
        {
            "cell_type": "code",
            "execution_count": 5,
            "metadata": {
                "azdata_cell_guid": "dd2a9b23-e347-41bc-a2bb-9c91154f71d9",
                "language": "sql"
            },
            "outputs": [
                {
                    "data": {
                        "text/html": [
                            "(1 row affected)"
                        ]
                    },
                    "metadata": {},
                    "output_type": "display_data"
                },
                {
                    "data": {
                        "text/html": [
                            "Total execution time: 00:00:00.006"
                        ]
                    },
                    "metadata": {},
                    "output_type": "display_data"
                },
                {
                    "data": {
                        "application/vnd.dataresource+json": {
                            "data": [
                                {
                                    "0": "1001"
                                }
                            ],
                            "schema": {
                                "fields": [
                                    {
                                        "name": "SOHD"
                                    }
                                ]
                            }
                        },
                        "text/html": [
                            "<table><tr><th>SOHD</th></tr><tr><td>1001</td></tr></table>"
                        ]
                    },
                    "execution_count": 5,
                    "metadata": {},
                    "output_type": "execute_result"
                }
            ],
            "source": [
                "-- III. 19: Tìm số hóa đơn trong năm 2006 đã mua ít nhất tất cả các sản phẩm do Singapore sản xuất.\n",
                "\n",
                "SELECT HOADON.SOHD FROM HOADON\n",
                "INNER JOIN CTHD ON HOADON.SOHD = CTHD.SOHD\n",
                "INNER JOIN SANPHAM ON CTHD.MASP = SANPHAM.MASP\n",
                "WHERE YEAR(HOADON.NGHD) = 2006 AND SANPHAM.NUOCSX = 'Singapore'\n",
                "GROUP BY HOADON.SOHD\n",
                "HAVING COUNT(DISTINCT SANPHAM.MASP) = (\n",
                "    SELECT COUNT(DISTINCT MASP)\n",
                "    FROM SANPHAM\n",
                "    WHERE NUOCSX = 'Singapore'\n",
                ")"
            ]
        },
        {
            "cell_type": "code",
            "execution_count": 10,
            "metadata": {
                "azdata_cell_guid": "b6eb3c44-74e4-4348-956e-5287d9b0356e",
                "language": "sql"
            },
            "outputs": [
                {
                    "data": {
                        "text/html": [
                            "Warning: Null value is eliminated by an aggregate or other SET operation."
                        ]
                    },
                    "metadata": {},
                    "output_type": "display_data"
                },
                {
                    "data": {
                        "text/html": [
                            "(1 row affected)"
                        ]
                    },
                    "metadata": {},
                    "output_type": "display_data"
                },
                {
                    "data": {
                        "text/html": [
                            "Total execution time: 00:00:00.002"
                        ]
                    },
                    "metadata": {},
                    "output_type": "display_data"
                },
                {
                    "data": {
                        "application/vnd.dataresource+json": {
                            "data": [
                                {
                                    "0": "0"
                                }
                            ],
                            "schema": {
                                "fields": [
                                    {
                                        "name": "SOHOADON"
                                    }
                                ]
                            }
                        },
                        "text/html": [
                            "<table><tr><th>SOHOADON</th></tr><tr><td>0</td></tr></table>"
                        ]
                    },
                    "execution_count": 10,
                    "metadata": {},
                    "output_type": "execute_result"
                }
            ],
            "source": [
                "-- III. 20: Có bao nhiêu hóa đơn không phải của khách hàng đăng ký thành viên mua?\n",
                "\n",
                "SELECT COUNT(MAKH) AS SOHOADON FROM HOADON\n",
                "WHERE NOT EXISTS (\n",
                "    SELECT MAKH FROM KHACHHANG\n",
                "    WHERE KHACHHANG.MAKH = HOADON.MAKH\n",
                ")"
            ]
        },
        {
            "cell_type": "code",
            "execution_count": null,
            "metadata": {
                "azdata_cell_guid": "de72eb3e-ae8b-4ed3-93a8-4ac407f4537e",
                "language": "sql"
            },
            "outputs": [],
            "source": [
                "-- III. 21: Có bao nhiêu sản phẩm khác nhau được bán ra trong năm 2006.\n",
                "\n",
                "SELECT COUNT (DISTINCT CTHD.MASP) AS SoSanPham FROM CTHD\n",
                "INNER JOIN HOADON ON CTHD.SOHD = HOADON.SOHD\n",
                "WHERE YEAR(HOADON.NGHD) = 2006"
            ]
        },
        {
            "cell_type": "code",
            "execution_count": 12,
            "metadata": {
                "azdata_cell_guid": "13fea1e5-150a-475e-80c0-be80de5dc75e",
                "language": "sql",
                "tags": [
                    "hide_input"
                ]
            },
            "outputs": [
                {
                    "data": {
                        "text/html": [
                            "(1 row affected)"
                        ]
                    },
                    "metadata": {},
                    "output_type": "display_data"
                },
                {
                    "data": {
                        "text/html": [
                            "Total execution time: 00:00:00.006"
                        ]
                    },
                    "metadata": {},
                    "output_type": "display_data"
                },
                {
                    "data": {
                        "application/vnd.dataresource+json": {
                            "data": [
                                {
                                    "0": "5200000.00",
                                    "1": "5000.00"
                                }
                            ],
                            "schema": {
                                "fields": [
                                    {
                                        "name": "(No column name)"
                                    },
                                    {
                                        "name": "(No column name)"
                                    }
                                ]
                            }
                        },
                        "text/html": [
                            "<table><tr><th>(No column name)</th><th>(No column name)</th></tr><tr><td>5200000.00</td><td>5000.00</td></tr></table>"
                        ]
                    },
                    "execution_count": 12,
                    "metadata": {},
                    "output_type": "execute_result"
                }
            ],
            "source": [
                "-- III. 22: Cho biết trị giá hóa đơn cao nhất, thấp nhất là bao nhiêu ?\n",
                "\n",
                "SELECT MAX(HOADON.TRIGIA), MIN(HOADON.TRIGIA) FROM HOADON"
            ]
        },
        {
            "cell_type": "code",
            "execution_count": 13,
            "metadata": {
                "azdata_cell_guid": "7ba2e394-3324-48e6-ae31-2844cf88794f",
                "language": "sql"
            },
            "outputs": [
                {
                    "data": {
                        "text/html": [
                            "(1 row affected)"
                        ]
                    },
                    "metadata": {},
                    "output_type": "display_data"
                },
                {
                    "data": {
                        "text/html": [
                            "Total execution time: 00:00:00.001"
                        ]
                    },
                    "metadata": {},
                    "output_type": "display_data"
                },
                {
                    "data": {
                        "application/vnd.dataresource+json": {
                            "data": [
                                {
                                    "0": "1246142.8571"
                                }
                            ],
                            "schema": {
                                "fields": [
                                    {
                                        "name": "(No column name)"
                                    }
                                ]
                            }
                        },
                        "text/html": [
                            "<table><tr><th>(No column name)</th></tr><tr><td>1246142.8571</td></tr></table>"
                        ]
                    },
                    "execution_count": 13,
                    "metadata": {},
                    "output_type": "execute_result"
                }
            ],
            "source": [
                "-- III. 23: Trị giá trung bình của tất cả các hóa đơn được bán ra trong năm 2006 là bao nhiêu?\n",
                "\n",
                "SELECT AVG(TRIGIA) FROM HOADON\n",
                "WHERE YEAR(NGHD) = 2006"
            ]
        },
        {
            "cell_type": "code",
            "execution_count": 14,
            "metadata": {
                "azdata_cell_guid": "78f3665f-408c-4b70-81c0-e0c37489203b",
                "language": "sql",
                "tags": []
            },
            "outputs": [
                {
                    "data": {
                        "text/html": [
                            "(1 row affected)"
                        ]
                    },
                    "metadata": {},
                    "output_type": "display_data"
                },
                {
                    "data": {
                        "text/html": [
                            "Total execution time: 00:00:00.001"
                        ]
                    },
                    "metadata": {},
                    "output_type": "display_data"
                },
                {
                    "data": {
                        "application/vnd.dataresource+json": {
                            "data": [
                                {
                                    "0": "17446000.00"
                                }
                            ],
                            "schema": {
                                "fields": [
                                    {
                                        "name": "(No column name)"
                                    }
                                ]
                            }
                        },
                        "text/html": [
                            "<table><tr><th>(No column name)</th></tr><tr><td>17446000.00</td></tr></table>"
                        ]
                    },
                    "execution_count": 14,
                    "metadata": {},
                    "output_type": "execute_result"
                }
            ],
            "source": [
                "-- III. 24: Tính doanh thu bán hàng trong năm 2006.\n",
                "\n",
                "SELECT SUM(TRIGIA) FROM HOADON\n",
                "WHERE YEAR(NGHD) = 2006"
            ]
        },
        {
            "cell_type": "code",
            "execution_count": 15,
            "metadata": {
                "azdata_cell_guid": "18de083c-4652-468c-9f3b-604469512100",
                "language": "sql"
            },
            "outputs": [
                {
                    "data": {
                        "text/html": [
                            "(1 row affected)"
                        ]
                    },
                    "metadata": {},
                    "output_type": "display_data"
                },
                {
                    "data": {
                        "text/html": [
                            "Total execution time: 00:00:00.003"
                        ]
                    },
                    "metadata": {},
                    "output_type": "display_data"
                },
                {
                    "data": {
                        "application/vnd.dataresource+json": {
                            "data": [
                                {
                                    "0": "1010"
                                }
                            ],
                            "schema": {
                                "fields": [
                                    {
                                        "name": "SOHD"
                                    }
                                ]
                            }
                        },
                        "text/html": [
                            "<table><tr><th>SOHD</th></tr><tr><td>1010</td></tr></table>"
                        ]
                    },
                    "execution_count": 15,
                    "metadata": {},
                    "output_type": "execute_result"
                }
            ],
            "source": [
                "-- III. 25: Tìm số hóa đơn có trị giá cao nhất trong năm 2006.\n",
                "\n",
                "SELECT SOHD FROM HOADON\n",
                "WHERE YEAR(NGHD) = 2006 AND HOADON.TRIGIA = (SELECT MAX(TRIGIA) FROM HOADON)"
            ]
        },
        {
            "cell_type": "code",
            "execution_count": 16,
            "metadata": {
                "azdata_cell_guid": "6e2d4ff2-6d94-4f0d-b785-9a1e3c3b2df0",
                "language": "sql"
            },
            "outputs": [
                {
                    "data": {
                        "text/html": [
                            "(1 row affected)"
                        ]
                    },
                    "metadata": {},
                    "output_type": "display_data"
                },
                {
                    "data": {
                        "text/html": [
                            "Total execution time: 00:00:00.005"
                        ]
                    },
                    "metadata": {},
                    "output_type": "display_data"
                },
                {
                    "data": {
                        "application/vnd.dataresource+json": {
                            "data": [
                                {
                                    "0": "Nguyen Van A"
                                }
                            ],
                            "schema": {
                                "fields": [
                                    {
                                        "name": "HOTEN"
                                    }
                                ]
                            }
                        },
                        "text/html": [
                            "<table><tr><th>HOTEN</th></tr><tr><td>Nguyen Van A</td></tr></table>"
                        ]
                    },
                    "execution_count": 16,
                    "metadata": {},
                    "output_type": "execute_result"
                }
            ],
            "source": [
                "-- III. 26: Tìm họ tên khách hàng đã mua hóa đơn có trị giá cao nhất trong năm 2006.\n",
                "\n",
                "SELECT KHACHHANG.HOTEN FROM KHACHHANG\n",
                "INNER JOIN HOADON ON HOADON.MAKH = KHACHHANG.MAKH\n",
                "WHERE TRIGIA = (SELECT MAX(TRIGIA) FROM HOADON WHERE YEAR(NGHD) = 2006) "
            ]
        },
        {
            "cell_type": "code",
            "execution_count": 17,
            "metadata": {
                "azdata_cell_guid": "a42d35b7-35e7-4dc8-a3df-be767765c925",
                "language": "sql"
            },
            "outputs": [
                {
                    "data": {
                        "text/html": [
                            "(3 rows affected)"
                        ]
                    },
                    "metadata": {},
                    "output_type": "display_data"
                },
                {
                    "data": {
                        "text/html": [
                            "Total execution time: 00:00:00.001"
                        ]
                    },
                    "metadata": {},
                    "output_type": "display_data"
                },
                {
                    "data": {
                        "application/vnd.dataresource+json": {
                            "data": [
                                {
                                    "0": "KH01",
                                    "1": "Nguyen Van A"
                                },
                                {
                                    "0": "KH03",
                                    "1": "Tran Ngoc Linh"
                                },
                                {
                                    "0": "KH06",
                                    "1": "Le Hoai Thuong"
                                }
                            ],
                            "schema": {
                                "fields": [
                                    {
                                        "name": "MAKH"
                                    },
                                    {
                                        "name": "HOTEN"
                                    }
                                ]
                            }
                        },
                        "text/html": [
                            "<table><tr><th>MAKH</th><th>HOTEN</th></tr><tr><td>KH01</td><td>Nguyen Van A</td></tr><tr><td>KH03</td><td>Tran Ngoc Linh</td></tr><tr><td>KH06</td><td>Le Hoai Thuong</td></tr></table>"
                        ]
                    },
                    "execution_count": 17,
                    "metadata": {},
                    "output_type": "execute_result"
                }
            ],
            "source": [
                "-- III. 27: In ra danh sách 3 khách hàng đầu tiên (MAKH, HOTEN) sắp xếp theo doanh số giảm dần.\n",
                "\n",
                "SELECT TOP 3 MAKH, HOTEN FROM KHACHHANG ORDER BY DOANHSO DESC"
            ]
        },
        {
            "cell_type": "code",
            "execution_count": 19,
            "metadata": {
                "azdata_cell_guid": "fb563553-715d-4a30-8903-6f19603673e7",
                "language": "sql"
            },
            "outputs": [
                {
                    "data": {
                        "text/html": [
                            "(3 rows affected)"
                        ]
                    },
                    "metadata": {},
                    "output_type": "display_data"
                },
                {
                    "data": {
                        "text/html": [
                            "Total execution time: 00:00:00.001"
                        ]
                    },
                    "metadata": {},
                    "output_type": "display_data"
                },
                {
                    "data": {
                        "application/vnd.dataresource+json": {
                            "data": [
                                {
                                    "0": "BB03",
                                    "1": "But bi"
                                },
                                {
                                    "0": "ST02",
                                    "1": "So tay loai 1"
                                },
                                {
                                    "0": "ST04",
                                    "1": "So tay"
                                }
                            ],
                            "schema": {
                                "fields": [
                                    {
                                        "name": "MASP"
                                    },
                                    {
                                        "name": "TENSP"
                                    }
                                ]
                            }
                        },
                        "text/html": [
                            "<table><tr><th>MASP</th><th>TENSP</th></tr><tr><td>BB03</td><td>But bi</td></tr><tr><td>ST02</td><td>So tay loai 1</td></tr><tr><td>ST04</td><td>So tay</td></tr></table>"
                        ]
                    },
                    "execution_count": 19,
                    "metadata": {},
                    "output_type": "execute_result"
                }
            ],
            "source": [
                "-- III. 28: In ra danh sách các sản phẩm (MASP, TENSP) có giá bán bằng 1 trong 3 mức giá cao nhất.\n",
                "\n",
                "SELECT MASP, TENSP FROM SANPHAM\n",
                "WHERE GIA IN (SELECT TOP 3 GIA FROM SANPHAM ORDER BY GIA DESC)"
            ]
        },
        {
            "cell_type": "code",
            "execution_count": 20,
            "metadata": {
                "azdata_cell_guid": "d5337e23-f171-4f24-907a-18a53502b80a",
                "language": "sql"
            },
            "outputs": [
                {
                    "data": {
                        "text/html": [
                            "(2 rows affected)"
                        ]
                    },
                    "metadata": {},
                    "output_type": "display_data"
                },
                {
                    "data": {
                        "text/html": [
                            "Total execution time: 00:00:00.003"
                        ]
                    },
                    "metadata": {},
                    "output_type": "display_data"
                },
                {
                    "data": {
                        "application/vnd.dataresource+json": {
                            "data": [
                                {
                                    "0": "BB03",
                                    "1": "But bi"
                                },
                                {
                                    "0": "ST04",
                                    "1": "So tay"
                                }
                            ],
                            "schema": {
                                "fields": [
                                    {
                                        "name": "MASP"
                                    },
                                    {
                                        "name": "TENSP"
                                    }
                                ]
                            }
                        },
                        "text/html": [
                            "<table><tr><th>MASP</th><th>TENSP</th></tr><tr><td>BB03</td><td>But bi</td></tr><tr><td>ST04</td><td>So tay</td></tr></table>"
                        ]
                    },
                    "execution_count": 20,
                    "metadata": {},
                    "output_type": "execute_result"
                }
            ],
            "source": [
                "-- III. 29: In ra danh sách các sản phẩm (MASP, TENSP) do “Thai Lan” sản xuất có giá bằng 1 trong 3 mức giá cao nhất (của tất cả các sản phẩm).\n",
                "\n",
                "SELECT MASP, TENSP FROM SANPHAM \n",
                "WHERE GIA IN (SELECT TOP 3 GIA FROM SANPHAM ORDER BY GIA DESC) AND NUOCSX = 'Thai Lan'"
            ]
        },
        {
            "cell_type": "code",
            "execution_count": 22,
            "metadata": {
                "azdata_cell_guid": "3bcec216-e795-4003-8a20-3b12f4f98c17",
                "language": "sql"
            },
            "outputs": [
                {
                    "data": {
                        "text/html": [
                            "(4 rows affected)"
                        ]
                    },
                    "metadata": {},
                    "output_type": "display_data"
                },
                {
                    "data": {
                        "text/html": [
                            "Total execution time: 00:00:00.001"
                        ]
                    },
                    "metadata": {},
                    "output_type": "display_data"
                },
                {
                    "data": {
                        "application/vnd.dataresource+json": {
                            "data": [
                                {
                                    "0": "BB02",
                                    "1": "But bi"
                                },
                                {
                                    "0": "ST01",
                                    "1": "So tay 500 trang"
                                },
                                {
                                    "0": "ST10",
                                    "1": "But long"
                                },
                                {
                                    "0": "TV07",
                                    "1": "Tap 100 trang"
                                }
                            ],
                            "schema": {
                                "fields": [
                                    {
                                        "name": "MASP"
                                    },
                                    {
                                        "name": "TENSP"
                                    }
                                ]
                            }
                        },
                        "text/html": [
                            "<table><tr><th>MASP</th><th>TENSP</th></tr><tr><td>BB02</td><td>But bi</td></tr><tr><td>ST01</td><td>So tay 500 trang</td></tr><tr><td>ST10</td><td>But long</td></tr><tr><td>TV07</td><td>Tap 100 trang</td></tr></table>"
                        ]
                    },
                    "execution_count": 22,
                    "metadata": {},
                    "output_type": "execute_result"
                }
            ],
            "source": [
                "-- III. 30: In ra danh sách các sản phẩm (MASP, TENSP) do “Trung Quoc” sản xuất có giá bằng 1 trong 3 mức giá cao nhất (của sản phẩm do “Trung Quoc” sản xuất).\n",
                "\n",
                "SELECT MASP, TENSP FROM SANPHAM \n",
                "WHERE GIA IN (SELECT TOP 3 GIA FROM SANPHAM WHERE NUOCSX = 'Trung Quoc' ORDER BY GIA DESC) AND NUOCSX = 'Trung Quoc'"
            ]
        },
        {
            "cell_type": "code",
            "execution_count": 23,
            "metadata": {
                "azdata_cell_guid": "a6b533f1-1cfc-4532-aba4-0fc438211a9f",
                "language": "sql"
            },
            "outputs": [
                {
                    "data": {
                        "text/html": [
                            "(3 rows affected)"
                        ]
                    },
                    "metadata": {},
                    "output_type": "display_data"
                },
                {
                    "data": {
                        "text/html": [
                            "Total execution time: 00:00:00.003"
                        ]
                    },
                    "metadata": {},
                    "output_type": "display_data"
                },
                {
                    "data": {
                        "application/vnd.dataresource+json": {
                            "data": [
                                {
                                    "0": "KH01",
                                    "1": "Nguyen Van A",
                                    "2": "731 Tran Hung Dao, Q5, TpHCM",
                                    "3": "08823451",
                                    "4": "1960-10-22 00:00:00",
                                    "5": "13060000.00",
                                    "6": "2006-07-22 00:00:00",
                                    "7": "NULL"
                                },
                                {
                                    "0": "KH03",
                                    "1": "Tran Ngoc Linh",
                                    "2": "45 Nguyen Canh Chan, Q1, TpHCM",
                                    "3": "0938776266",
                                    "4": "1980-06-12 00:00:00",
                                    "5": "3860000.00",
                                    "6": "2006-08-05 00:00:00",
                                    "7": "NULL"
                                },
                                {
                                    "0": "KH06",
                                    "1": "Le Hoai Thuong",
                                    "2": "227 Nguyen Van Cu, Q5, TpHCM",
                                    "3": "08631738",
                                    "4": "1981-12-31 00:00:00",
                                    "5": "915000.00",
                                    "6": "2006-11-24 00:00:00",
                                    "7": "NULL"
                                }
                            ],
                            "schema": {
                                "fields": [
                                    {
                                        "name": "MAKH"
                                    },
                                    {
                                        "name": "HOTEN"
                                    },
                                    {
                                        "name": "DCHI"
                                    },
                                    {
                                        "name": "SODT"
                                    },
                                    {
                                        "name": "NGSINH"
                                    },
                                    {
                                        "name": "DOANHSO"
                                    },
                                    {
                                        "name": "NGDK"
                                    },
                                    {
                                        "name": "LOAIKH"
                                    }
                                ]
                            }
                        },
                        "text/html": [
                            "<table><tr><th>MAKH</th><th>HOTEN</th><th>DCHI</th><th>SODT</th><th>NGSINH</th><th>DOANHSO</th><th>NGDK</th><th>LOAIKH</th></tr><tr><td>KH01</td><td>Nguyen Van A</td><td>731 Tran Hung Dao, Q5, TpHCM</td><td>08823451</td><td>1960-10-22 00:00:00</td><td>13060000.00</td><td>2006-07-22 00:00:00</td><td>NULL</td></tr><tr><td>KH03</td><td>Tran Ngoc Linh</td><td>45 Nguyen Canh Chan, Q1, TpHCM</td><td>0938776266</td><td>1980-06-12 00:00:00</td><td>3860000.00</td><td>2006-08-05 00:00:00</td><td>NULL</td></tr><tr><td>KH06</td><td>Le Hoai Thuong</td><td>227 Nguyen Van Cu, Q5, TpHCM</td><td>08631738</td><td>1981-12-31 00:00:00</td><td>915000.00</td><td>2006-11-24 00:00:00</td><td>NULL</td></tr></table>"
                        ]
                    },
                    "execution_count": 23,
                    "metadata": {},
                    "output_type": "execute_result"
                }
            ],
            "source": [
                "-- III. 31: * In ra danh sách khách hàng nằm trong 3 hạng cao nhất (xếp hạng theo doanh số).\n",
                "\n",
                "SELECT tOP 3 * FROM KHACHHANG ORDER BY DOANHSO DESC"
            ]
        },
        {
            "cell_type": "code",
            "execution_count": 24,
            "metadata": {
                "azdata_cell_guid": "4a456adb-32ac-4dc0-a698-2b8cad19656a",
                "language": "sql"
            },
            "outputs": [
                {
                    "data": {
                        "text/html": [
                            "(1 row affected)"
                        ]
                    },
                    "metadata": {},
                    "output_type": "display_data"
                },
                {
                    "data": {
                        "text/html": [
                            "Total execution time: 00:00:00.001"
                        ]
                    },
                    "metadata": {},
                    "output_type": "display_data"
                },
                {
                    "data": {
                        "application/vnd.dataresource+json": {
                            "data": [
                                {
                                    "0": "6"
                                }
                            ],
                            "schema": {
                                "fields": [
                                    {
                                        "name": "(No column name)"
                                    }
                                ]
                            }
                        },
                        "text/html": [
                            "<table><tr><th>(No column name)</th></tr><tr><td>6</td></tr></table>"
                        ]
                    },
                    "execution_count": 24,
                    "metadata": {},
                    "output_type": "execute_result"
                }
            ],
            "source": [
                "-- III. 32: Tính tổng số sản phẩm do “Trung Quoc” sản xuất.\n",
                "\n",
                "SELECT COUNT(MASP) FROM SANPHAM\n",
                "WHERE NUOCSX = 'Trung Quoc'"
            ]
        },
        {
            "cell_type": "code",
            "execution_count": 25,
            "metadata": {
                "azdata_cell_guid": "8a2c7984-9348-40f9-a26e-7f87d5ccb7fa",
                "language": "sql"
            },
            "outputs": [
                {
                    "data": {
                        "text/html": [
                            "(4 rows affected)"
                        ]
                    },
                    "metadata": {},
                    "output_type": "display_data"
                },
                {
                    "data": {
                        "text/html": [
                            "Total execution time: 00:00:00.002"
                        ]
                    },
                    "metadata": {},
                    "output_type": "display_data"
                },
                {
                    "data": {
                        "application/vnd.dataresource+json": {
                            "data": [
                                {
                                    "0": "Singapore",
                                    "1": "2"
                                },
                                {
                                    "0": "Thai Lan",
                                    "1": "3"
                                },
                                {
                                    "0": "Trung Quoc",
                                    "1": "6"
                                },
                                {
                                    "0": "Viet Nam",
                                    "1": "13"
                                }
                            ],
                            "schema": {
                                "fields": [
                                    {
                                        "name": "NUOCSX"
                                    },
                                    {
                                        "name": "(No column name)"
                                    }
                                ]
                            }
                        },
                        "text/html": [
                            "<table><tr><th>NUOCSX</th><th>(No column name)</th></tr><tr><td>Singapore</td><td>2</td></tr><tr><td>Thai Lan</td><td>3</td></tr><tr><td>Trung Quoc</td><td>6</td></tr><tr><td>Viet Nam</td><td>13</td></tr></table>"
                        ]
                    },
                    "execution_count": 25,
                    "metadata": {},
                    "output_type": "execute_result"
                }
            ],
            "source": [
                "-- III. 33: Tính tổng số sản phẩm của từng nước sản xuất.\n",
                "\n",
                "SELECT NUOCSX, COUNT(MASP) FROM SANPHAM GROUP BY NUOCSX"
            ]
        },
        {
            "cell_type": "code",
            "execution_count": 26,
            "metadata": {
                "azdata_cell_guid": "5fc74757-6385-45a2-a3c9-0ab968b966be",
                "language": "sql"
            },
            "outputs": [
                {
                    "data": {
                        "text/html": [
                            "(4 rows affected)"
                        ]
                    },
                    "metadata": {},
                    "output_type": "display_data"
                },
                {
                    "data": {
                        "text/html": [
                            "Total execution time: 00:00:00.002"
                        ]
                    },
                    "metadata": {},
                    "output_type": "display_data"
                },
                {
                    "data": {
                        "application/vnd.dataresource+json": {
                            "data": [
                                {
                                    "0": "Singapore",
                                    "1": "5000.00",
                                    "2": "3000.00",
                                    "3": "4000.00"
                                },
                                {
                                    "0": "Thai Lan",
                                    "1": "100000.00",
                                    "2": "20000.00",
                                    "3": "58333.3333"
                                },
                                {
                                    "0": "Trung Quoc",
                                    "1": "40000.00",
                                    "2": "2500.00",
                                    "3": "15833.3333"
                                },
                                {
                                    "0": "Viet Nam",
                                    "1": "55000.00",
                                    "2": "1000.00",
                                    "3": "19000.00"
                                }
                            ],
                            "schema": {
                                "fields": [
                                    {
                                        "name": "NUOCSX"
                                    },
                                    {
                                        "name": "(No column name)"
                                    },
                                    {
                                        "name": "(No column name)"
                                    },
                                    {
                                        "name": "(No column name)"
                                    }
                                ]
                            }
                        },
                        "text/html": [
                            "<table><tr><th>NUOCSX</th><th>(No column name)</th><th>(No column name)</th><th>(No column name)</th></tr><tr><td>Singapore</td><td>5000.00</td><td>3000.00</td><td>4000.00</td></tr><tr><td>Thai Lan</td><td>100000.00</td><td>20000.00</td><td>58333.3333</td></tr><tr><td>Trung Quoc</td><td>40000.00</td><td>2500.00</td><td>15833.3333</td></tr><tr><td>Viet Nam</td><td>55000.00</td><td>1000.00</td><td>19000.00</td></tr></table>"
                        ]
                    },
                    "execution_count": 26,
                    "metadata": {},
                    "output_type": "execute_result"
                }
            ],
            "source": [
                "-- III. 34: Với từng nước sản xuất, tìm giá bán cao nhất, thấp nhất, trung bình của các sản phẩm.\n",
                "\n",
                "SELECT NUOCSX, MAX(GIA), MIN(GIA), AVG(GIA) FROM SANPHAM GROUP BY NUOCSX"
            ]
        },
        {
            "cell_type": "code",
            "execution_count": 27,
            "metadata": {
                "azdata_cell_guid": "1723fb71-43f9-4038-ad0c-fa1644a570d9",
                "language": "sql"
            },
            "outputs": [
                {
                    "data": {
                        "text/html": [
                            "(18 rows affected)"
                        ]
                    },
                    "metadata": {},
                    "output_type": "display_data"
                },
                {
                    "data": {
                        "text/html": [
                            "Total execution time: 00:00:00.002"
                        ]
                    },
                    "metadata": {},
                    "output_type": "display_data"
                },
                {
                    "data": {
                        "application/vnd.dataresource+json": {
                            "data": [
                                {
                                    "0": "2006-07-23 00:00:00",
                                    "1": "320000.00"
                                },
                                {
                                    "0": "2006-08-12 00:00:00",
                                    "1": "840000.00"
                                },
                                {
                                    "0": "2006-08-23 00:00:00",
                                    "1": "100000.00"
                                },
                                {
                                    "0": "2006-09-01 00:00:00",
                                    "1": "180000.00"
                                },
                                {
                                    "0": "2006-10-16 00:00:00",
                                    "1": "2430000.00"
                                },
                                {
                                    "0": "2006-10-20 00:00:00",
                                    "1": "3800000.00"
                                },
                                {
                                    "0": "2006-10-28 00:00:00",
                                    "1": "1150000.00"
                                },
                                {
                                    "0": "2006-11-01 00:00:00",
                                    "1": "5200000.00"
                                },
                                {
                                    "0": "2006-11-04 00:00:00",
                                    "1": "250000.00"
                                },
                                {
                                    "0": "2006-11-30 00:00:00",
                                    "1": "21000.00"
                                },
                                {
                                    "0": "2006-12-12 00:00:00",
                                    "1": "5000.00"
                                },
                                {
                                    "0": "2006-12-31 00:00:00",
                                    "1": "3150000.00"
                                },
                                {
                                    "0": "2007-01-01 00:00:00",
                                    "1": "922500.00"
                                },
                                {
                                    "0": "2007-01-02 00:00:00",
                                    "1": "35000.00"
                                },
                                {
                                    "0": "2007-01-13 00:00:00",
                                    "1": "360000.00"
                                },
                                {
                                    "0": "2007-01-14 00:00:00",
                                    "1": "70000.00"
                                },
                                {
                                    "0": "2007-01-16 00:00:00",
                                    "1": "74500.00"
                                },
                                {
                                    "0": "2007-01-17 00:00:00",
                                    "1": "330000.00"
                                }
                            ],
                            "schema": {
                                "fields": [
                                    {
                                        "name": "NGHD"
                                    },
                                    {
                                        "name": "(No column name)"
                                    }
                                ]
                            }
                        },
                        "text/html": [
                            "<table><tr><th>NGHD</th><th>(No column name)</th></tr><tr><td>2006-07-23 00:00:00</td><td>320000.00</td></tr><tr><td>2006-08-12 00:00:00</td><td>840000.00</td></tr><tr><td>2006-08-23 00:00:00</td><td>100000.00</td></tr><tr><td>2006-09-01 00:00:00</td><td>180000.00</td></tr><tr><td>2006-10-16 00:00:00</td><td>2430000.00</td></tr><tr><td>2006-10-20 00:00:00</td><td>3800000.00</td></tr><tr><td>2006-10-28 00:00:00</td><td>1150000.00</td></tr><tr><td>2006-11-01 00:00:00</td><td>5200000.00</td></tr><tr><td>2006-11-04 00:00:00</td><td>250000.00</td></tr><tr><td>2006-11-30 00:00:00</td><td>21000.00</td></tr><tr><td>2006-12-12 00:00:00</td><td>5000.00</td></tr><tr><td>2006-12-31 00:00:00</td><td>3150000.00</td></tr><tr><td>2007-01-01 00:00:00</td><td>922500.00</td></tr><tr><td>2007-01-02 00:00:00</td><td>35000.00</td></tr><tr><td>2007-01-13 00:00:00</td><td>360000.00</td></tr><tr><td>2007-01-14 00:00:00</td><td>70000.00</td></tr><tr><td>2007-01-16 00:00:00</td><td>74500.00</td></tr><tr><td>2007-01-17 00:00:00</td><td>330000.00</td></tr></table>"
                        ]
                    },
                    "execution_count": 27,
                    "metadata": {},
                    "output_type": "execute_result"
                }
            ],
            "source": [
                "-- III. 35: Tính doanh thu bán hàng mỗi ngày.\n",
                "\n",
                "SELECT NGHD, SUM(TRIGIA) FROM HOADON GROUP BY NGHD"
            ]
        },
        {
            "cell_type": "code",
            "execution_count": 28,
            "metadata": {
                "azdata_cell_guid": "58fec831-c3d5-4fb1-84d8-3ec30ae290d2",
                "language": "sql",
                "tags": []
            },
            "outputs": [
                {
                    "data": {
                        "text/html": [
                            "(8 rows affected)"
                        ]
                    },
                    "metadata": {},
                    "output_type": "display_data"
                },
                {
                    "data": {
                        "text/html": [
                            "Total execution time: 00:00:00.005"
                        ]
                    },
                    "metadata": {},
                    "output_type": "display_data"
                },
                {
                    "data": {
                        "application/vnd.dataresource+json": {
                            "data": [
                                {
                                    "0": "ST01",
                                    "1": "30"
                                },
                                {
                                    "0": "ST02",
                                    "1": "10"
                                },
                                {
                                    "0": "ST03",
                                    "1": "10"
                                },
                                {
                                    "0": "ST04",
                                    "1": "8"
                                },
                                {
                                    "0": "ST05",
                                    "1": "10"
                                },
                                {
                                    "0": "TV05",
                                    "1": "50"
                                },
                                {
                                    "0": "TV06",
                                    "1": "50"
                                },
                                {
                                    "0": "TV07",
                                    "1": "20"
                                }
                            ],
                            "schema": {
                                "fields": [
                                    {
                                        "name": "MASP"
                                    },
                                    {
                                        "name": "(No column name)"
                                    }
                                ]
                            }
                        },
                        "text/html": [
                            "<table><tr><th>MASP</th><th>(No column name)</th></tr><tr><td>ST01</td><td>30</td></tr><tr><td>ST02</td><td>10</td></tr><tr><td>ST03</td><td>10</td></tr><tr><td>ST04</td><td>8</td></tr><tr><td>ST05</td><td>10</td></tr><tr><td>TV05</td><td>50</td></tr><tr><td>TV06</td><td>50</td></tr><tr><td>TV07</td><td>20</td></tr></table>"
                        ]
                    },
                    "execution_count": 28,
                    "metadata": {},
                    "output_type": "execute_result"
                }
            ],
            "source": [
                "-- III. 36: Tính tổng số lượng của từng sản phẩm bán ra trong tháng 10/2006.\n",
                "\n",
                "SELECT MASP, SUM(SL) FROM CTHD\n",
                "INNER JOIN HOADON ON CTHD.SOHD = HOADON.SOHD\n",
                "WHERE MONTH(NGHD) = 10 AND YEAR(NGHD) = 2006\n",
                "GROUP BY MASP"
            ]
        },
        {
            "cell_type": "code",
            "execution_count": 29,
            "metadata": {
                "azdata_cell_guid": "390e7540-f9a0-45ea-87a6-4d35da325c97",
                "language": "sql"
            },
            "outputs": [
                {
                    "data": {
                        "text/html": [
                            "(6 rows affected)"
                        ]
                    },
                    "metadata": {},
                    "output_type": "display_data"
                },
                {
                    "data": {
                        "text/html": [
                            "Total execution time: 00:00:00.002"
                        ]
                    },
                    "metadata": {},
                    "output_type": "display_data"
                },
                {
                    "data": {
                        "application/vnd.dataresource+json": {
                            "data": [
                                {
                                    "0": "7",
                                    "1": "320000.00"
                                },
                                {
                                    "0": "8",
                                    "1": "940000.00"
                                },
                                {
                                    "0": "9",
                                    "1": "180000.00"
                                },
                                {
                                    "0": "10",
                                    "1": "7380000.00"
                                },
                                {
                                    "0": "11",
                                    "1": "5471000.00"
                                },
                                {
                                    "0": "12",
                                    "1": "3155000.00"
                                }
                            ],
                            "schema": {
                                "fields": [
                                    {
                                        "name": "(No column name)"
                                    },
                                    {
                                        "name": "(No column name)"
                                    }
                                ]
                            }
                        },
                        "text/html": [
                            "<table><tr><th>(No column name)</th><th>(No column name)</th></tr><tr><td>7</td><td>320000.00</td></tr><tr><td>8</td><td>940000.00</td></tr><tr><td>9</td><td>180000.00</td></tr><tr><td>10</td><td>7380000.00</td></tr><tr><td>11</td><td>5471000.00</td></tr><tr><td>12</td><td>3155000.00</td></tr></table>"
                        ]
                    },
                    "execution_count": 29,
                    "metadata": {},
                    "output_type": "execute_result"
                }
            ],
            "source": [
                "-- III. 37: Tính doanh thu bán hàng của từng tháng trong năm 2006.\n",
                "\n",
                "SELECT DISTINCT MONTH(NGHD), SUM(TRIGIA) FROM HOADON \n",
                "WHERE YEAR(NGHD) = 2006 \n",
                "GROUP BY MONTH(NGHD)"
            ]
        },
        {
            "cell_type": "code",
            "execution_count": null,
            "metadata": {
                "azdata_cell_guid": "1822f36e-fc5a-49b0-8e7d-62f49d4c38ac",
                "language": "sql"
            },
            "outputs": [],
            "source": [
                "-- III. 38: Tìm hóa đơn có mua ít nhất 4 sản phẩm khác nhau.\n",
                "\n",
                "SELECT SOHD FROM CTHD\n",
                "GROUP BY SOHD\n",
                "HAVING COUNT(DISTINCT MASP) >= 4"
            ]
        },
        {
            "cell_type": "code",
            "execution_count": 30,
            "metadata": {
                "azdata_cell_guid": "01161832-1ddb-41a9-9987-ec3054fb3e27",
                "language": "sql"
            },
            "outputs": [
                {
                    "data": {
                        "text/html": [
                            "(1 row affected)"
                        ]
                    },
                    "metadata": {},
                    "output_type": "display_data"
                },
                {
                    "data": {
                        "text/html": [
                            "Total execution time: 00:00:00.003"
                        ]
                    },
                    "metadata": {},
                    "output_type": "display_data"
                },
                {
                    "data": {
                        "application/vnd.dataresource+json": {
                            "data": [
                                {
                                    "0": "1010"
                                }
                            ],
                            "schema": {
                                "fields": [
                                    {
                                        "name": "SOHD"
                                    }
                                ]
                            }
                        },
                        "text/html": [
                            "<table><tr><th>SOHD</th></tr><tr><td>1010</td></tr></table>"
                        ]
                    },
                    "execution_count": 30,
                    "metadata": {},
                    "output_type": "execute_result"
                }
            ],
            "source": [
                "-- III. 39: Tìm hóa đơn có mua 3 sản phẩm do “Viet Nam” sản xuất (3 sản phẩm khác nhau).\n",
                "\n",
                "SELECT SOHD FROM CTHD\n",
                "INNER JOIN SANPHAM ON SANPHAM.MASP = CTHD.MASP\n",
                "WHERE NUOCSX = 'Viet Nam'\n",
                "GROUP BY SOHD\n",
                "HAVING COUNT(DISTINCT SANPHAM.MASP) = 3 "
            ]
        },
        {
            "cell_type": "code",
            "execution_count": 70,
            "metadata": {
                "azdata_cell_guid": "e571f72a-6ca0-406e-821a-dfeb22185cbf",
                "language": "sql",
                "tags": []
            },
            "outputs": [
                {
                    "data": {
                        "text/html": [
                            "(1 row affected)"
                        ]
                    },
                    "metadata": {},
                    "output_type": "display_data"
                },
                {
                    "data": {
                        "text/html": [
                            "(1 row affected)"
                        ]
                    },
                    "metadata": {},
                    "output_type": "display_data"
                },
                {
                    "data": {
                        "text/html": [
                            "Total execution time: 00:00:00.006"
                        ]
                    },
                    "metadata": {},
                    "output_type": "display_data"
                },
                {
                    "data": {
                        "application/vnd.dataresource+json": {
                            "data": [
                                {
                                    "0": "KH01",
                                    "1": "7"
                                }
                            ],
                            "schema": {
                                "fields": [
                                    {
                                        "name": "MAKH"
                                    },
                                    {
                                        "name": "SL"
                                    }
                                ]
                            }
                        },
                        "text/html": [
                            "<table><tr><th>MAKH</th><th>SL</th></tr><tr><td>KH01</td><td>7</td></tr></table>"
                        ]
                    },
                    "execution_count": 70,
                    "metadata": {},
                    "output_type": "execute_result"
                },
                {
                    "data": {
                        "application/vnd.dataresource+json": {
                            "data": [
                                {
                                    "0": "KH01",
                                    "1": "7"
                                }
                            ],
                            "schema": {
                                "fields": [
                                    {
                                        "name": "MAKH"
                                    },
                                    {
                                        "name": "SL"
                                    }
                                ]
                            }
                        },
                        "text/html": [
                            "<table><tr><th>MAKH</th><th>SL</th></tr><tr><td>KH01</td><td>7</td></tr></table>"
                        ]
                    },
                    "execution_count": 70,
                    "metadata": {},
                    "output_type": "execute_result"
                }
            ],
            "source": [
                "-- III. 40: Tìm khách hàng (MAKH, HOTEN) có số lần mua hàng nhiều nhất.\n",
                "\n",
                "SELECT TOP 1 MAKH, COUNT(SOHD) AS SL FROM HOADON\n",
                "GROUP BY MAKH \n",
                "ORDER BY SL DESC\n",
                "\n",
                "-- hoặc\n",
                "\n",
                "SELECT MAKH, COUNT(SOHD) AS SL FROM HOADON\n",
                "GROUP BY MAKH \n",
                "HAVING COUNT(SOHD) >= ALL(\n",
                "    SELECT COUNT(SOHD) FROM HOADON\n",
                "    GROUP BY MAKH  \n",
                ")"
            ]
        },
        {
            "cell_type": "code",
            "execution_count": 37,
            "metadata": {
                "azdata_cell_guid": "46053858-0e35-4757-9bbb-21c150ad728d",
                "language": "sql"
            },
            "outputs": [
                {
                    "data": {
                        "text/html": [
                            "(1 row affected)"
                        ]
                    },
                    "metadata": {},
                    "output_type": "display_data"
                },
                {
                    "data": {
                        "text/html": [
                            "(1 row affected)"
                        ]
                    },
                    "metadata": {},
                    "output_type": "display_data"
                },
                {
                    "data": {
                        "text/html": [
                            "Total execution time: 00:00:00.008"
                        ]
                    },
                    "metadata": {},
                    "output_type": "display_data"
                },
                {
                    "data": {
                        "application/vnd.dataresource+json": {
                            "data": [
                                {
                                    "0": "10",
                                    "1": "7380000.00"
                                }
                            ],
                            "schema": {
                                "fields": [
                                    {
                                        "name": "(No column name)"
                                    },
                                    {
                                        "name": "DoanhThu"
                                    }
                                ]
                            }
                        },
                        "text/html": [
                            "<table><tr><th>(No column name)</th><th>DoanhThu</th></tr><tr><td>10</td><td>7380000.00</td></tr></table>"
                        ]
                    },
                    "execution_count": 37,
                    "metadata": {},
                    "output_type": "execute_result"
                },
                {
                    "data": {
                        "application/vnd.dataresource+json": {
                            "data": [
                                {
                                    "0": "10",
                                    "1": "7380000.00"
                                }
                            ],
                            "schema": {
                                "fields": [
                                    {
                                        "name": "(No column name)"
                                    },
                                    {
                                        "name": "DoanhThu"
                                    }
                                ]
                            }
                        },
                        "text/html": [
                            "<table><tr><th>(No column name)</th><th>DoanhThu</th></tr><tr><td>10</td><td>7380000.00</td></tr></table>"
                        ]
                    },
                    "execution_count": 37,
                    "metadata": {},
                    "output_type": "execute_result"
                }
            ],
            "source": [
                "-- III. 41: Tháng mấy trong năm 2006, doanh số bán hàng cao nhất ?\n",
                "\n",
                "SELECT TOP 1 MONTH(NGHD), SUM(TRIGIA) AS DoanhThu FROM HOADON\n",
                "WHERE YEAR(NGHD) = 2006\n",
                "GROUP BY MONTH(NGHD) \n",
                "ORDER BY DoanhThu DESC\n",
                "\n",
                "-- hoặc\n",
                "\n",
                "SELECT MONTH(NGHD), SUM(TRIGIA) AS DoanhThu FROM HOADON\n",
                "WHERE YEAR(NGHD) = 2006\n",
                "GROUP BY MONTH(NGHD) \n",
                "HAVING SUM(TRIGIA) >= ALL(\n",
                "    SELECT SUM(TRIGIA) FROM HOADON \n",
                "    GROUP BY MONTH(NGHD) \n",
                ")"
            ]
        },
        {
            "cell_type": "code",
            "execution_count": 42,
            "metadata": {
                "azdata_cell_guid": "3ab7beb4-9617-4f19-96d7-ec91de07099f",
                "language": "sql"
            },
            "outputs": [
                {
                    "data": {
                        "text/html": [
                            "(1 row affected)"
                        ]
                    },
                    "metadata": {},
                    "output_type": "display_data"
                },
                {
                    "data": {
                        "text/html": [
                            "Total execution time: 00:00:00.004"
                        ]
                    },
                    "metadata": {},
                    "output_type": "display_data"
                },
                {
                    "data": {
                        "application/vnd.dataresource+json": {
                            "data": [
                                {
                                    "0": "BC01",
                                    "1": "5"
                                }
                            ],
                            "schema": {
                                "fields": [
                                    {
                                        "name": "MASP"
                                    },
                                    {
                                        "name": "(No column name)"
                                    }
                                ]
                            }
                        },
                        "text/html": [
                            "<table><tr><th>MASP</th><th>(No column name)</th></tr><tr><td>BC01</td><td>5</td></tr></table>"
                        ]
                    },
                    "execution_count": 42,
                    "metadata": {},
                    "output_type": "execute_result"
                }
            ],
            "source": [
                "-- III. 42: Tìm sản phẩm (MASP, TENSP) có tổng số lượng bán ra thấp nhất trong năm 2006.\n",
                "\n",
                "SELECT MASP, SUM(SL) FROM CTHD\n",
                "GROUP BY MASP\n",
                "HAVING SUM(SL) <= ALL (\n",
                "    SELECT SUM(CTHD.SL) FROM CTHD\n",
                "    INNER JOIN SANPHAM ON SANPHAM.MASP = CTHD.MASP\n",
                "    GROUP BY CTHD.MASP\n",
                ")"
            ]
        },
        {
            "cell_type": "code",
            "execution_count": 50,
            "metadata": {
                "azdata_cell_guid": "c50c359c-4f11-4446-8686-56785be6dc22",
                "language": "sql",
                "tags": []
            },
            "outputs": [
                {
                    "data": {
                        "text/html": [
                            "(4 rows affected)"
                        ]
                    },
                    "metadata": {},
                    "output_type": "display_data"
                },
                {
                    "data": {
                        "text/html": [
                            "Total execution time: 00:00:00.003"
                        ]
                    },
                    "metadata": {},
                    "output_type": "display_data"
                },
                {
                    "data": {
                        "application/vnd.dataresource+json": {
                            "data": [
                                {
                                    "0": "Viet Nam",
                                    "1": "ST02",
                                    "2": "So tay loai 1",
                                    "3": "55000.00"
                                },
                                {
                                    "0": "Trung Quoc",
                                    "1": "ST01",
                                    "2": "So tay 500 trang",
                                    "3": "40000.00"
                                },
                                {
                                    "0": "Thai Lan",
                                    "1": "BB03",
                                    "2": "But bi",
                                    "3": "100000.00"
                                },
                                {
                                    "0": "Singapore",
                                    "1": "BC02",
                                    "2": "But chi",
                                    "3": "5000.00"
                                }
                            ],
                            "schema": {
                                "fields": [
                                    {
                                        "name": "NUOCSX"
                                    },
                                    {
                                        "name": "MASP"
                                    },
                                    {
                                        "name": "TENSP"
                                    },
                                    {
                                        "name": "GIA"
                                    }
                                ]
                            }
                        },
                        "text/html": [
                            "<table><tr><th>NUOCSX</th><th>MASP</th><th>TENSP</th><th>GIA</th></tr><tr><td>Viet Nam</td><td>ST02</td><td>So tay loai 1</td><td>55000.00</td></tr><tr><td>Trung Quoc</td><td>ST01</td><td>So tay 500 trang</td><td>40000.00</td></tr><tr><td>Thai Lan</td><td>BB03</td><td>But bi</td><td>100000.00</td></tr><tr><td>Singapore</td><td>BC02</td><td>But chi</td><td>5000.00</td></tr></table>"
                        ]
                    },
                    "execution_count": 50,
                    "metadata": {},
                    "output_type": "execute_result"
                }
            ],
            "source": [
                "-- III. 43: *Mỗi nước sản xuất, tìm sản phẩm (MASP, TENSP) có giá bán cao nhất.\n",
                "\n",
                "SELECT NUOCSX, MASP, TENSP, GIA FROM SANPHAM AS SP\n",
                "WHERE GIA = (\n",
                "    SELECT MAX(GIA) FROM SANPHAM\n",
                "    WHERE NUOCSX = SP.NUOCSX\n",
                "    GROUP BY NUOCSX\n",
                ")"
            ]
        },
        {
            "cell_type": "code",
            "execution_count": 57,
            "metadata": {
                "azdata_cell_guid": "7414f907-acaf-44fb-9c6d-f48dd8f14075",
                "language": "sql"
            },
            "outputs": [
                {
                    "data": {
                        "text/html": [
                            "(3 rows affected)"
                        ]
                    },
                    "metadata": {},
                    "output_type": "display_data"
                },
                {
                    "data": {
                        "text/html": [
                            "Total execution time: 00:00:00.002"
                        ]
                    },
                    "metadata": {},
                    "output_type": "display_data"
                },
                {
                    "data": {
                        "application/vnd.dataresource+json": {
                            "data": [
                                {
                                    "0": "Thai Lan"
                                },
                                {
                                    "0": "Trung Quoc"
                                },
                                {
                                    "0": "Viet Nam"
                                }
                            ],
                            "schema": {
                                "fields": [
                                    {
                                        "name": "NUOCSX"
                                    }
                                ]
                            }
                        },
                        "text/html": [
                            "<table><tr><th>NUOCSX</th></tr><tr><td>Thai Lan</td></tr><tr><td>Trung Quoc</td></tr><tr><td>Viet Nam</td></tr></table>"
                        ]
                    },
                    "execution_count": 57,
                    "metadata": {},
                    "output_type": "execute_result"
                }
            ],
            "source": [
                "-- III. 44: Tìm nước sản xuất sản xuất ít nhất 3 sản phẩm có giá bán khác nhau.\n",
                "\n",
                "SELECT DISTINCT NUOCSX FROM SANPHAM\n",
                "GROUP BY NUOCSX\n",
                "HAVING COUNT(DISTINCT GIA) >= 3"
            ]
        },
        {
            "cell_type": "code",
            "execution_count": 64,
            "metadata": {
                "azdata_cell_guid": "c43abcbc-ea77-49b6-916e-bbd8abcf2b14",
                "language": "sql",
                "tags": []
            },
            "outputs": [
                {
                    "data": {
                        "text/html": [
                            "(1 row affected)"
                        ]
                    },
                    "metadata": {},
                    "output_type": "display_data"
                },
                {
                    "data": {
                        "text/html": [
                            "(1 row affected)"
                        ]
                    },
                    "metadata": {},
                    "output_type": "display_data"
                },
                {
                    "data": {
                        "text/html": [
                            "Total execution time: 00:00:00.017"
                        ]
                    },
                    "metadata": {},
                    "output_type": "display_data"
                },
                {
                    "data": {
                        "application/vnd.dataresource+json": {
                            "data": [
                                {
                                    "0": "KH01",
                                    "1": "7"
                                }
                            ],
                            "schema": {
                                "fields": [
                                    {
                                        "name": "MAKH"
                                    },
                                    {
                                        "name": "(No column name)"
                                    }
                                ]
                            }
                        },
                        "text/html": [
                            "<table><tr><th>MAKH</th><th>(No column name)</th></tr><tr><td>KH01</td><td>7</td></tr></table>"
                        ]
                    },
                    "execution_count": 64,
                    "metadata": {},
                    "output_type": "execute_result"
                },
                {
                    "data": {
                        "application/vnd.dataresource+json": {
                            "data": [
                                {
                                    "0": "KH01",
                                    "1": "7"
                                }
                            ],
                            "schema": {
                                "fields": [
                                    {
                                        "name": "MAKH"
                                    },
                                    {
                                        "name": "SL"
                                    }
                                ]
                            }
                        },
                        "text/html": [
                            "<table><tr><th>MAKH</th><th>SL</th></tr><tr><td>KH01</td><td>7</td></tr></table>"
                        ]
                    },
                    "execution_count": 64,
                    "metadata": {},
                    "output_type": "execute_result"
                }
            ],
            "source": [
                "-- III. 45: *Trong 10 khách hàng có doanh số cao nhất, tìm khách hàng có số lần mua hàng nhiều nhất.\n",
                "\n",
                "\n",
                "SELECT MAKH, COUNT(SOHD) FROM HOADON\n",
                "WHERE MAKH IN (\n",
                "    SELECT TOP 10 MAKH FROM KHACHHANG \n",
                "    ORDER BY DOANHSO DESC\n",
                ")\n",
                "GROUP BY MAKH\n",
                "HAVING COUNT(SOHD) >= ALL(\n",
                "    SELECT COUNT(SOHD) FROM HOADON\n",
                "    WHERE MAKH IN (\n",
                "        SELECT TOP 10 MAKH FROM KHACHHANG \n",
                "        ORDER BY DOANHSO DESC\n",
                "    )\n",
                "    GROUP BY MAKH\n",
                ")\n",
                "\n",
                "-- hoặc \n",
                "\n",
                "SELECT TOP 1 MAKH, COUNT(SOHD) AS SL FROM HOADON\n",
                "WHERE MAKH IN (\n",
                "    SELECT TOP 10 MAKH FROM KHACHHANG \n",
                "    ORDER BY DOANHSO DESC\n",
                ")\n",
                "GROUP BY MAKH\n",
                "ORDER BY SL DESC"
            ]
        },
        {
            "cell_type": "code",
            "execution_count": 6,
            "metadata": {
                "azdata_cell_guid": "f06e0e21-454d-4f0b-adc9-b8a9c50b5758",
                "language": "sql"
            },
            "outputs": [
                {
                    "data": {
                        "text/html": [
                            "Commands completed successfully."
                        ]
                    },
                    "metadata": {},
                    "output_type": "display_data"
                },
                {
                    "data": {
                        "text/html": [
                            "Total execution time: 00:00:00.002"
                        ]
                    },
                    "metadata": {},
                    "output_type": "display_data"
                }
            ],
            "source": [
                "-- I. 11: Ngày mua hàng (NGHD) của một khách hàng thành viên sẽ lớn hơn hoặc bằng ngày\n",
                "-- khách hàng đó đăng ký thành viên (NGDK).\n",
                "\n",
                "CREATE TRIGGER HD_CHECK_NGHD_NGDK ON HOADON \n",
                "AFTER INSERT, UPDATE AS \n",
                "BEGIN\n",
                "    IF (EXISTS(\n",
                "        SELECT * FROM inserted, KHACHHANG\n",
                "        WHERE KHACHHANG.NGDK > inserted.NGHD AND inserted.MAKH = KHACHHANG.MAKH\n",
                "    )) \n",
                "    BEGIN\n",
                "        ROLLBACK TRANSACTION\n",
                "        PRINT 'NGHD phai lon hon hoac bang NGDK'\n",
                "    END\n",
                "END\n",
                "GO\n",
                "\n",
                "CREATE TRIGGER KH_CHECK_NGHD_NGDK ON KHACHHANG \n",
                "AFTER UPDATE AS \n",
                "BEGIN\n",
                "    IF (EXISTS(\n",
                "        SELECT * FROM HOADON, inserted\n",
                "        WHERE inserted.NGDK > HOADON.NGHD AND HOADON.MAKH = inserted.MAKH\n",
                "    )) \n",
                "    BEGIN\n",
                "        ROLLBACK TRANSACTION\n",
                "        PRINT 'NGHD phai lon hon hoac bang NGDK'\n",
                "    END\n",
                "END\n",
                "GO"
            ]
        },
        {
            "cell_type": "code",
            "execution_count": 8,
            "metadata": {
                "azdata_cell_guid": "54cc78f4-3176-4795-82e2-975752a2a59d",
                "language": "sql"
            },
            "outputs": [
                {
                    "data": {
                        "text/html": [
                            "Commands completed successfully."
                        ]
                    },
                    "metadata": {},
                    "output_type": "display_data"
                },
                {
                    "data": {
                        "text/html": [
                            "Total execution time: 00:00:00.003"
                        ]
                    },
                    "metadata": {},
                    "output_type": "display_data"
                }
            ],
            "source": [
                "-- I. 12: Ngày bán hàng (NGHD) của một nhân viên phải lớn hơn hoặc bằng ngày nhân viên đó\n",
                "-- vào làm.\n",
                "\n",
                "CREATE TRIGGER check_ngay_mua_lon_hon_ngay_vao_lam ON HOADON \n",
                "AFTER INSERT, UPDATE AS \n",
                "BEGIN\n",
                "    IF (EXISTS(\n",
                "        SELECT * FROM inserted\n",
                "        INNER JOIN NHANVIEN ON inserted.MANV = NHANVIEN.MANV\n",
                "        WHERE NHANVIEN.NGVL > inserted.NGHD\n",
                "    )) \n",
                "    BEGIN\n",
                "        ROLLBACK TRANSACTION\n",
                "        PRINT 'NGHD phai lon hon hoac bang NGVL'\n",
                "    END\n",
                "END\n",
                "GO\n",
                "\n",
                "CREATE TRIGGER NV_NVL_NHD ON NHANVIEN\n",
                "AFTER UPDATE AS\n",
                "BEGIN\n",
                "    IF (EXISTS(\n",
                "        SELECT * FROM HOADON, inserted\n",
                "        WHERE HOADON.MANV = inserted.MANV AND inserted.NGVL > HOADON.NGHD\n",
                "    ))\n",
                "    BEGIN\n",
                "        ROLLBACK TRANSACTION\n",
                "        PRINT 'NGHD phai lon hon hoac bang NGVL'\n",
                "    END\n",
                "END\n",
                "GO"
            ]
        },
        {
            "cell_type": "code",
            "execution_count": 9,
            "metadata": {
                "azdata_cell_guid": "1333264d-9f1b-42e3-9ce0-cbb2fa397bf8",
                "language": "sql",
                "tags": []
            },
            "outputs": [
                {
                    "data": {
                        "text/html": [
                            "Commands completed successfully."
                        ]
                    },
                    "metadata": {},
                    "output_type": "display_data"
                },
                {
                    "data": {
                        "text/html": [
                            "Total execution time: 00:00:00.002"
                        ]
                    },
                    "metadata": {},
                    "output_type": "display_data"
                }
            ],
            "source": [
                "-- I. 13: Mỗi một hóa đơn phải có ít nhất một chi tiết hóa đơn.\n",
                "\n",
                "CREATE TRIGGER CHECK_SL_CTHD ON CTHD\n",
                "AFTER DELETE, UPDATE AS\n",
                "BEGIN\n",
                "    DECLARE @SL INT\n",
                "    SELECT @SL = COUNT(*) FROM CTHD, deleted\n",
                "    WHERE deleted.SOHD = CTHD.SOHD\n",
                "\n",
                "    IF (@SL < 1)\n",
                "    BEGIN\n",
                "        PRINT 'Mỗi hóa đơn phải có ít nhất một chi tiết hóa đơn'\n",
                "        ROLLBACK TRANSACTION\n",
                "    END\n",
                "END\n",
                "GO"
            ]
        },
        {
            "cell_type": "code",
            "execution_count": 4,
            "metadata": {
                "azdata_cell_guid": "60340998-9bf5-44c6-8a9c-bc0b95ec5477",
                "language": "sql"
            },
            "outputs": [
                {
                    "data": {
                        "text/html": [
                            "Commands completed successfully."
                        ]
                    },
                    "metadata": {},
                    "output_type": "display_data"
                },
                {
                    "data": {
                        "text/html": [
                            "Total execution time: 00:00:00.002"
                        ]
                    },
                    "metadata": {},
                    "output_type": "display_data"
                }
            ],
            "source": [
                "-- I. 14: Trị giá của một hóa đơn là tổng thành tiền (số lượng*đơn giá) của các chi tiết thuộc hóa\n",
                "-- đơn đó.\n",
                "\n",
                "CREATE TRIGGER INSERT_HD ON HOADON\n",
                "AFTER INSERT AS\n",
                "BEGIN\n",
                "    DECLARE @SOHD INT \n",
                "\n",
                "    SELECT @SOHD = SOHD FROM inserted\n",
                "\n",
                "\tUPDATE HOADON SET TRIGIA = 0 \n",
                "\tWHERE SOHD = @SOHD\n",
                "END\n",
                "GO\n",
                "\n",
                "CREATE TRIGGER UPDATE_HD ON HOADON\n",
                "AFTER UPDATE AS\n",
                "BEGIN\n",
                "\tUPDATE HOADON SET TRIGIA = (SELECT TRIGIA FROM deleted)\n",
                "\tWHERE SOHD = (SELECT SOHD FROM inserted)\n",
                "END\n",
                "GO\n",
                "\n",
                "CREATE TRIGGER UPDATE_HD_CTHD ON CTHD \n",
                "AFTER INSERT AS\n",
                "BEGIN\n",
                "\tDECLARE @SL INT\n",
                "    DECLARE @GIA MONEY\n",
                "\n",
                "\tSELECT @GIA=GIA, @SL=SL FROM inserted, SANPHAM\n",
                "\tWHERE inserted.MASP = SANPHAM.MASP\n",
                "\t\n",
                "    UPDATE HOADON\n",
                "\tSET TRIGIA = TRIGIA + @SL * @GIA\n",
                "END\n",
                "GO"
            ]
        },
        {
            "cell_type": "code",
            "execution_count": null,
            "metadata": {
                "azdata_cell_guid": "00d81404-bc70-41c9-855c-5423105f517c",
                "language": "sql"
            },
            "outputs": [],
            "source": [
                "-- I. 15: Doanh số của một khách hàng là tổng trị giá các hóa đơn mà khách hàng thành viên đó đã mua.\n",
                "\n",
                "CREATE TRIGGER UPDATE_DS ON KHACHHANG\n",
                "AFTER UPDATE AS\n",
                "BEGIN\n",
                "\tDECLARE @GT MONEY\n",
                "    DECLARE @DS MONEY\n",
                "\n",
                "\tSELECT @GT = SUM(TRIGIA) FROM HOADON, inserted\n",
                "\tWHERE inserted.MAKH = HOADON.MAKH\n",
                "\n",
                "\tSELECT @DS = DOANHSO FROM inserted\n",
                "\n",
                "\tIF @DS <> @GT\n",
                "\tBEGIN\n",
                "\t\tPRINT 'Doanh số của một khách hàng là tổng trị giá các hóa đơn mà khách hàng thành viên đó đã mua.'\n",
                "\t\tROLLBACK TRANSACTION\n",
                "\tEND\n",
                "END"
            ]
        }
    ],
    "metadata": {
        "kernelspec": {
            "display_name": "SQL",
            "language": "sql",
            "name": "SQL"
        },
        "language_info": {
            "name": "sql",
            "version": ""
        }
    },
    "nbformat": 4,
    "nbformat_minor": 2
}

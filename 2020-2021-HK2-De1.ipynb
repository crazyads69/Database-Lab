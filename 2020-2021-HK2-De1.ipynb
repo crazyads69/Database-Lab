{
    "cells": [
        {
            "cell_type": "code",
            "execution_count": null,
            "metadata": {
                "azdata_cell_guid": "d32064a8-c4f1-4fd2-a53f-7e56be6dfefc",
                "language": "sql"
            },
            "outputs": [],
            "source": [
                "-- De 1.1 CK"
            ]
        },
        {
            "cell_type": "code",
            "execution_count": null,
            "metadata": {
                "azdata_cell_guid": "f75521bc-80a2-4030-96d9-7b14e31afc4d",
                "language": "sql"
            },
            "outputs": [],
            "source": [
                "-- a) Cho biết thông tin vắc xin (TENVX) thuộc loại vắc xin ‘Vector virus’ có hiệu quả thực tế trên 90%. Kết quả được sắp xếp theo hiệu quả thực tế giảm dần.\n",
                "SELECT  TENVX\n",
                "FROM VACXIN\n",
                "WHERE LOAIVX = 'Vector virus'\n",
                "AND HQTT > 0.9\n",
                "ORDER BY HQTT DESC;"
            ]
        },
        {
            "cell_type": "code",
            "execution_count": null,
            "metadata": {
                "azdata_cell_guid": "8a8003cd-6000-4114-a69c-966d106a7e41",
                "language": "sql"
            },
            "outputs": [],
            "source": [
                "-- b) Cho biết thông tin đặt hàng (MADH, SL) loại vắc xin ‘mRNA’ có thời hạn giao trong tháng 8/2021.\n",
                "SELECT  MADH\n",
                "       ,SL\n",
                "FROM DATHANG\n",
                "INNER JOIN VACXIN\n",
                "ON DATHANG.MAVX = VACXIN.MAVX\n",
                "WHERE VACXIN.LOAIVX = 'mRNA'\n",
                "AND MONTH(DATHANG.THGIAO) = 8\n",
                "AND YEAR(DATHANG.THGIAO) = 2021;"
            ]
        },
        {
            "cell_type": "code",
            "execution_count": null,
            "metadata": {
                "azdata_cell_guid": "6afda3e9-5239-4b0a-b6fd-f7ac25a19274",
                "language": "sql"
            },
            "outputs": [],
            "source": [
                "-- c) Cho biết số đợt được cấp vắc xin của từng địa phương trong tháng 6 năm 2021. Thông tin hiển thị gồm: TENDP và SODOTCAP.\n",
                "SELECT  TENDP\n",
                "       ,COUNT(PHANBO.DOT) AS SODOTCAP\n",
                "FROM DIAPHUONG\n",
                "INNER JOIN PHANBO\n",
                "ON DIAPHUONG.MADP = PHANBO.MADP\n",
                "WHERE MONTH(PHANBO.NGAYCAP) = 6\n",
                "AND YEAR(PHANBO.NGAYCAP) = 2021\n",
                "GROUP BY  TENDP;"
            ]
        },
        {
            "cell_type": "code",
            "execution_count": null,
            "metadata": {
                "azdata_cell_guid": "4f0a6445-f3ce-4847-b0f8-581388714e59",
                "language": "sql"
            },
            "outputs": [],
            "source": [
                "-- d) Cho biết thông tin những địa phương (MADP, TENDP) có số lượng bệnh nhân F0 trên 1.000 chưa được phân bổ vắc xin trong năm 2021.\n",
                "SELECT  MADP\n",
                "       ,TENDP\n",
                "FROM DIAPHUONG\n",
                "WHERE SOF0 > 1000\n",
                "AND MADP NOT IN ( SELECT MADP FROM PHANBO WHERE YEAR(NGAYCAP) = 2021);"
            ]
        },
        {
            "cell_type": "code",
            "execution_count": null,
            "metadata": {
                "azdata_cell_guid": "809b4e78-e065-49bf-a9c0-5810c85bc33b",
                "language": "sql"
            },
            "outputs": [],
            "source": [
                "-- e) Cho biết thông tin (MADP, TENDP) của những địa phương có số lượng bệnh nhân F0 trên 10.000 được phân bổ tất cả vắc xin của công ty có tên ‘Sinopharm’.\n",
                "SELECT  MADP\n",
                "       ,TENDP\n",
                "FROM DIAPHUONG\n",
                "WHERE SOF0 > 10000\n",
                "AND NOT EXISTS (\n",
                "SELECT  *\n",
                "FROM PHANBO\n",
                "WHERE NOT EXISTS(\n",
                "SELECT  *\n",
                "FROM VACXIN\n",
                "INNER JOIN CONGTY\n",
                "ON VACXIN.MACTY = CONGTY.MACTY\n",
                "WHERE CONGTY.TENCTY = 'Sinopharm'\n",
                "AND VACXIN.MAVX = PHANBO.MAVX\n",
                "AND PHANBO.MADP = DIAPHUONG.MADP ));"
            ]
        },
        {
            "cell_type": "code",
            "execution_count": null,
            "metadata": {
                "azdata_cell_guid": "07f67a79-ce5c-4e64-a895-f55da4f26657",
                "language": "sql"
            },
            "outputs": [],
            "source": [
                "-- f) Cho biết thông tin địa phương (MADP, TENDP) có số lần phân bổ vắc xin nhiều nhất trong tháng 7/2021.\n",
                "SELECT  DIAPHUONG.MADP\n",
                "       ,TENDP\n",
                "       ,COUNT(PHANBO.DOT) AS SOLANPHANBO\n",
                "FROM DIAPHUONG\n",
                "INNER JOIN PHANBO\n",
                "ON DIAPHUONG.MADP = PHANBO.MADP\n",
                "WHERE MONTH(PHANBO.NGAYCAP) = 7\n",
                "AND YEAR(PHANBO.NGAYCAP) = 2021\n",
                "GROUP BY  DIAPHUONG.MADP\n",
                "         ,TENDP\n",
                "ORDER BY SOLANPHANBO DESC\n",
                "LIMIT 1;"
            ]
        }
    ],
    "metadata": {
        "kernelspec": {
            "display_name": "SQL",
            "language": "sql",
            "name": "SQL"
        },
        "language_info": {
            "name": "sql",
            "version": ""
        },
        "orig_nbformat": 4
    },
    "nbformat": 4,
    "nbformat_minor": 2
}

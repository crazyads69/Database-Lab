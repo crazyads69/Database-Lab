{
 "cells": [
  {
   "cell_type": "code",
   "execution_count": null,
   "metadata": {
    "vscode": {
     "languageId": "sql"
    }
   },
   "outputs": [],
   "source": [
    "-- De 1.2 CK"
   ]
  },
  {
   "cell_type": "code",
   "execution_count": null,
   "metadata": {
    "vscode": {
     "languageId": "sql"
    }
   },
   "outputs": [],
   "source": [
    "-- a) Cho biết thông tin bệnh nhân (HOTEN, CMND) thuộc đối tượng ‘BHYT’ hoặc có địa chỉ ở ‘Đồng Nai’. Kết quả được sắp xếp theo số lần phẫu thuật giảm dần.\n",
    "SELECT  HOTEN\n",
    "       ,CMND\n",
    "FROM BENHNHAN\n",
    "WHERE DOITUONG = 'BHYT' OR DIACHI = 'Đồng Nai'\n",
    "ORDER BY SLPT DESC;"
   ]
  },
  {
   "cell_type": "code",
   "execution_count": null,
   "metadata": {
    "vscode": {
     "languageId": "sql"
    }
   },
   "outputs": [],
   "source": [
    "-- b) Cho biết thông tin (MAKB, MABN, HOTEN) của những bệnh nhân sinh sau năm 2020 có khám bệnh chính là ‘Tim mạch’.\n",
    "SELECT  KHAMBENH.MAKB\n",
    "       ,BENHNHAN.MABN\n",
    "       ,HOTEN\n",
    "FROM BENHNHAN\n",
    "INNER JOIN KHAMBENH\n",
    "ON BENHNHAN.MABN = KHAMBENH.MABN\n",
    "WHERE YEAR(BENHNHAN.NGSINH) > 2020\n",
    "AND KHAMBENH.BENH = 'Tim mạch';"
   ]
  },
  {
   "cell_type": "code",
   "execution_count": null,
   "metadata": {
    "vscode": {
     "languageId": "sql"
    }
   },
   "outputs": [],
   "source": [
    "-- c) Cho biết số lần khám bệnh của từng bệnh nhân trong năm 2020. Thông tin hiển thị gồm: MABN, HOTEN và SL.\n",
    "SELECT  BENHNHAN.MABN\n",
    "       ,HOTEN\n",
    "       ,COUNT(KHAMBENH.MAKB) AS SL\n",
    "FROM BENHNHAN\n",
    "INNER JOIN KHAMBENH\n",
    "ON BENHNHAN.MABN = KHAMBENH.MABN\n",
    "WHERE YEAR(KHAMBENH.BATDAU) = 2020\n",
    "GROUP BY  BENHNHAN.MABN\n",
    "         ,HOTEN;"
   ]
  },
  {
   "cell_type": "code",
   "execution_count": null,
   "metadata": {
    "vscode": {
     "languageId": "sql"
    }
   },
   "outputs": [],
   "source": [
    "-- d) Cho biết thông tin những bác sĩ (MABS, HOTEN) có chuyên môn ‘Tai-Mũi-Họng’ chưa được phụ trách khám bệnh trong năm 2020 (BATDAUPT).\n",
    "SELECT  BACSI.MABS\n",
    "       ,HOTEN\n",
    "FROM BACSI\n",
    "WHERE CHUYENMON = 'Tai-Mũi-Họng'\n",
    "AND BACSI.MABS NOT IN ( SELECT MABS FROM PHUTRACH WHERE YEAR(BATDAUPT) = 2020);"
   ]
  },
  {
   "cell_type": "code",
   "execution_count": null,
   "metadata": {
    "vscode": {
     "languageId": "sql"
    }
   },
   "outputs": [],
   "source": [
    "-- e) Cho biết thông tin (MABS, HOTEN) của những bác sĩ chuyên môn ‘Hồi sức - Cấp cứu’ tham gia tất cả các mã khám bệnh của bệnh nhân ‘Nguyễn Văn A’.\n",
    "SELECT  MABS\n",
    "       ,HOTEN\n",
    "FROM BACSI\n",
    "WHERE CHUYENMON = 'Hồi sức - Cấp cứu'\n",
    "AND NOT EXISTS (\n",
    "SELECT  *\n",
    "FROM PHUTRACH\n",
    "WHERE NOT EXISTS(\n",
    "SELECT  *\n",
    "FROM KHAMBENH\n",
    "INNER JOIN BENHNHAN\n",
    "ON KHAMBENH.MABN = BENHNHAN.MABN\n",
    "WHERE KHAMBENH.MAKB = PHUTRACH.MAKB\n",
    "AND PHUTRACH.MABS = BACSI.MABS\n",
    "AND BENHNHAN.HOTEN = 'Nguyễn Văn A'));"
   ]
  },
  {
   "cell_type": "code",
   "execution_count": null,
   "metadata": {
    "vscode": {
     "languageId": "sql"
    }
   },
   "outputs": [],
   "source": [
    "-- f) Cho biết thông tin bác sĩ (MABS, HOTEN) có số lần phụ trách khám bệnh nhiều nhất.\n",
    "SELECT  BACSI.MABS\n",
    "       ,HOTEN\n",
    "       ,COUNT(PHUTRACH.MAKB) AS SOLANPHUTRACH\n",
    "FROM BACSI\n",
    "INNER JOIN PHUTRACH\n",
    "ON BACSI.MABS = PHUTRACH.MABS\n",
    "GROUP BY  BACSI.MABS\n",
    "         ,HOTEN\n",
    "ORDER BY SOLANPHUTRACH DESC\n",
    "LIMIT 1;"
   ]
  }
 ],
 "metadata": {
  "language_info": {
   "name": "python"
  },
  "orig_nbformat": 4
 },
 "nbformat": 4,
 "nbformat_minor": 2
}

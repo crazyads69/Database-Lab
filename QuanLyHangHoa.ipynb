{
    "cells": [
        {
            "cell_type": "code",
            "execution_count": 1,
            "metadata": {
                "azdata_cell_guid": "b5902aa2-e850-4360-ab44-6a3810b19d87",
                "language": "sql"
            },
            "outputs": [
                {
                    "data": {
                        "text/html": [
                            "Commands completed successfully."
                        ]
                    },
                    "metadata": {},
                    "output_type": "display_data"
                },
                {
                    "data": {
                        "text/html": [
                            "Total execution time: 00:00:00.183"
                        ]
                    },
                    "metadata": {},
                    "output_type": "display_data"
                }
            ],
            "source": [
                "CREATE DATABASE QuanLyHangHoa;"
            ]
        },
        {
            "cell_type": "code",
            "execution_count": 1,
            "metadata": {
                "azdata_cell_guid": "fe3f095f-1436-43ec-ac25-5f05281b926e",
                "language": "sql"
            },
            "outputs": [
                {
                    "data": {
                        "text/html": [
                            "Commands completed successfully."
                        ]
                    },
                    "metadata": {},
                    "output_type": "display_data"
                },
                {
                    "data": {
                        "text/html": [
                            "Total execution time: 00:00:00"
                        ]
                    },
                    "metadata": {},
                    "output_type": "display_data"
                }
            ],
            "source": [
                "USE QuanLyHangHoa;"
            ]
        },
        {
            "cell_type": "code",
            "execution_count": 5,
            "metadata": {
                "azdata_cell_guid": "17dc96a6-f64b-473e-ab8a-c83577f0f494",
                "language": "sql",
                "tags": []
            },
            "outputs": [
                {
                    "data": {
                        "text/html": [
                            "Commands completed successfully."
                        ]
                    },
                    "metadata": {},
                    "output_type": "display_data"
                },
                {
                    "data": {
                        "text/html": [
                            "Total execution time: 00:00:00.004"
                        ]
                    },
                    "metadata": {},
                    "output_type": "display_data"
                }
            ],
            "source": [
                "CREATE TABLE Nhacungcap (\n",
                "    maNCC VARCHAR(5),\n",
                "    tenNCC VARCHAR(20),\n",
                "    trangthai NUMERIC(2, 0),\n",
                "    thanhpho VARCHAR(30),\n",
                "    PRIMARY KEY (maNCC)\n",
                ")\n",
                "\n",
                "CREATE TABLE Phutung (\n",
                "    maPT VARCHAR(5),\n",
                "    tenPT VARCHAR(10),\n",
                "    mausac VARCHAR(10),\n",
                "    khoiluong FLOAT,\n",
                "    thanhpho VARCHAR(30),\n",
                "    PRIMARY KEY (maPT),\n",
                ")\n",
                "\n",
                "CREATE TABLE Vanchuyen (\n",
                "    maNCC VARCHAR(5),\n",
                "    maPT VARCHAR(5),\n",
                "    soluong NUMERIC(5, 0),\n",
                "    PRIMARY KEY (maNCC, maPT),\n",
                "    FOREIGN KEY (maPT) REFERENCES Phutung (maPT),\n",
                "    FOREIGN KEY (maNCC) REFERENCES Nhacungcap (maNCC)\n",
                ")"
            ]
        },
        {
            "cell_type": "code",
            "execution_count": 6,
            "metadata": {
                "azdata_cell_guid": "c6dc0941-01f4-4539-8603-04889b01269f",
                "language": "sql",
                "tags": []
            },
            "outputs": [
                {
                    "data": {
                        "text/html": [
                            "(0 rows affected)"
                        ]
                    },
                    "metadata": {},
                    "output_type": "display_data"
                },
                {
                    "data": {
                        "text/html": [
                            "Total execution time: 00:00:00.007"
                        ]
                    },
                    "metadata": {},
                    "output_type": "display_data"
                },
                {
                    "data": {
                        "application/vnd.dataresource+json": {
                            "data": [],
                            "schema": {
                                "fields": [
                                    {
                                        "name": "maNCC"
                                    },
                                    {
                                        "name": "tenNCC"
                                    },
                                    {
                                        "name": "thanhpho"
                                    }
                                ]
                            }
                        },
                        "text/html": [
                            "<table><tr><th>maNCC</th><th>tenNCC</th><th>thanhpho</th></tr></table>"
                        ]
                    },
                    "execution_count": 6,
                    "metadata": {},
                    "output_type": "execute_result"
                }
            ],
            "source": [
                "-- 1. Hiển thị thông tin (maNCC, tenNCC, thanhpho) của tất cả nhà cung cấp.\n",
                "\n",
                "SELECT maNCC, tenNCC, thanhpho FROM Nhacungcap"
            ]
        },
        {
            "cell_type": "code",
            "execution_count": 7,
            "metadata": {
                "azdata_cell_guid": "ede4e500-c9b7-4805-8498-19eb94c37059",
                "language": "sql"
            },
            "outputs": [
                {
                    "data": {
                        "text/html": [
                            "(0 rows affected)"
                        ]
                    },
                    "metadata": {},
                    "output_type": "display_data"
                },
                {
                    "data": {
                        "text/html": [
                            "Total execution time: 00:00:00.002"
                        ]
                    },
                    "metadata": {},
                    "output_type": "display_data"
                },
                {
                    "data": {
                        "application/vnd.dataresource+json": {
                            "data": [],
                            "schema": {
                                "fields": [
                                    {
                                        "name": "maPT"
                                    },
                                    {
                                        "name": "tenPT"
                                    },
                                    {
                                        "name": "mausac"
                                    },
                                    {
                                        "name": "khoiluong"
                                    },
                                    {
                                        "name": "thanhpho"
                                    }
                                ]
                            }
                        },
                        "text/html": [
                            "<table><tr><th>maPT</th><th>tenPT</th><th>mausac</th><th>khoiluong</th><th>thanhpho</th></tr></table>"
                        ]
                    },
                    "execution_count": 7,
                    "metadata": {},
                    "output_type": "execute_result"
                }
            ],
            "source": [
                "-- 2. Hiển thị thông tin của tất cả các phụ tùng.\n",
                "\n",
                "SELECT * FROM Phutung"
            ]
        },
        {
            "cell_type": "code",
            "execution_count": 9,
            "metadata": {
                "azdata_cell_guid": "39b54d6f-23dd-4270-b40d-2e870a8e983f",
                "language": "sql"
            },
            "outputs": [
                {
                    "data": {
                        "text/html": [
                            "(0 rows affected)"
                        ]
                    },
                    "metadata": {},
                    "output_type": "display_data"
                },
                {
                    "data": {
                        "text/html": [
                            "Total execution time: 00:00:00.002"
                        ]
                    },
                    "metadata": {},
                    "output_type": "display_data"
                },
                {
                    "data": {
                        "application/vnd.dataresource+json": {
                            "data": [],
                            "schema": {
                                "fields": [
                                    {
                                        "name": "maNCC"
                                    },
                                    {
                                        "name": "tenNCC"
                                    },
                                    {
                                        "name": "trangthai"
                                    },
                                    {
                                        "name": "thanhpho"
                                    }
                                ]
                            }
                        },
                        "text/html": [
                            "<table><tr><th>maNCC</th><th>tenNCC</th><th>trangthai</th><th>thanhpho</th></tr></table>"
                        ]
                    },
                    "execution_count": 9,
                    "metadata": {},
                    "output_type": "execute_result"
                }
            ],
            "source": [
                "-- 3. Hiển thị thông tin các nhà cung cấp ở thành phố London.\n",
                "\n",
                "SELECT * FROM Nhacungcap \n",
                "WHERE thanhpho = 'London'"
            ]
        },
        {
            "cell_type": "code",
            "execution_count": 10,
            "metadata": {
                "azdata_cell_guid": "0be8962c-d5a1-4494-be6f-18c9b9672925",
                "language": "sql"
            },
            "outputs": [
                {
                    "data": {
                        "text/html": [
                            "(0 rows affected)"
                        ]
                    },
                    "metadata": {},
                    "output_type": "display_data"
                },
                {
                    "data": {
                        "text/html": [
                            "Total execution time: 00:00:00.001"
                        ]
                    },
                    "metadata": {},
                    "output_type": "display_data"
                },
                {
                    "data": {
                        "application/vnd.dataresource+json": {
                            "data": [],
                            "schema": {
                                "fields": [
                                    {
                                        "name": "maPT"
                                    },
                                    {
                                        "name": "tenPT"
                                    },
                                    {
                                        "name": "mausac"
                                    }
                                ]
                            }
                        },
                        "text/html": [
                            "<table><tr><th>maPT</th><th>tenPT</th><th>mausac</th></tr></table>"
                        ]
                    },
                    "execution_count": 10,
                    "metadata": {},
                    "output_type": "execute_result"
                }
            ],
            "source": [
                "-- 4. Hiển thị mã phụ tùng, tên và màu sắc của tất cả các phụ tùng ở thành phố Paris.\n",
                "\n",
                "SELECT maPT, tenPT, mausac FROM Phutung \n",
                "WHERE thanhpho = 'Paris'"
            ]
        },
        {
            "cell_type": "code",
            "execution_count": 11,
            "metadata": {
                "azdata_cell_guid": "54dae0c0-06a7-4ba1-8b98-808e2d17c30c",
                "language": "sql"
            },
            "outputs": [
                {
                    "data": {
                        "text/html": [
                            "(0 rows affected)"
                        ]
                    },
                    "metadata": {},
                    "output_type": "display_data"
                },
                {
                    "data": {
                        "text/html": [
                            "Total execution time: 00:00:00.001"
                        ]
                    },
                    "metadata": {},
                    "output_type": "display_data"
                },
                {
                    "data": {
                        "application/vnd.dataresource+json": {
                            "data": [],
                            "schema": {
                                "fields": [
                                    {
                                        "name": "maPT"
                                    },
                                    {
                                        "name": "tenPT"
                                    },
                                    {
                                        "name": "khoiluong"
                                    }
                                ]
                            }
                        },
                        "text/html": [
                            "<table><tr><th>maPT</th><th>tenPT</th><th>khoiluong</th></tr></table>"
                        ]
                    },
                    "execution_count": 11,
                    "metadata": {},
                    "output_type": "execute_result"
                }
            ],
            "source": [
                "-- 5. Hiển thị mã phụ tùng, tên, khối lượng của những phụ tùng có khối lượng lớn hơn 15.\n",
                "\n",
                "SELECT maPT, tenPT, khoiluong FROM Phutung \n",
                "WHERE khoiluong > 15"
            ]
        },
        {
            "cell_type": "code",
            "execution_count": 12,
            "metadata": {
                "azdata_cell_guid": "8d6efc55-a465-49c3-b4e0-542a95de85a3",
                "language": "sql"
            },
            "outputs": [
                {
                    "data": {
                        "text/html": [
                            "(0 rows affected)"
                        ]
                    },
                    "metadata": {},
                    "output_type": "display_data"
                },
                {
                    "data": {
                        "text/html": [
                            "Total execution time: 00:00:00.001"
                        ]
                    },
                    "metadata": {},
                    "output_type": "display_data"
                },
                {
                    "data": {
                        "application/vnd.dataresource+json": {
                            "data": [],
                            "schema": {
                                "fields": [
                                    {
                                        "name": "maPT"
                                    },
                                    {
                                        "name": "tenPT"
                                    },
                                    {
                                        "name": "mausac"
                                    }
                                ]
                            }
                        },
                        "text/html": [
                            "<table><tr><th>maPT</th><th>tenPT</th><th>mausac</th></tr></table>"
                        ]
                    },
                    "execution_count": 12,
                    "metadata": {},
                    "output_type": "execute_result"
                }
            ],
            "source": [
                "-- 6. Tìm những phụ tùng (maPT, tenPt, mausac) có khối lượng lớn hơn 15, không phải màu đỏ (red).\n",
                "\n",
                "SELECT maPT, tenPT, mausac FROM Phutung \n",
                "WHERE khoiluong > 15 AND mausac != 'red'"
            ]
        },
        {
            "cell_type": "code",
            "execution_count": null,
            "metadata": {
                "azdata_cell_guid": "9a8ce2c7-0706-4523-9f36-ba32c1625490",
                "language": "sql"
            },
            "outputs": [],
            "source": [
                "-- 7. Tìm những phụ tùng (maPT, tenPt, mausac) có khối lượng lớn hơn 15, màu sắc khác màu đỏ (red) và xanh (green).\n",
                "\n",
                "SELECT maPT, tenPT, mausac FROM Phutung \n",
                "WHERE khoiluong > 15 AND mausac != 'red' AND mausac != 'green'"
            ]
        },
        {
            "cell_type": "code",
            "execution_count": 4,
            "metadata": {
                "azdata_cell_guid": "e4bddffe-9778-4e48-abf4-d98574c8a11b",
                "language": "sql",
                "tags": []
            },
            "outputs": [
                {
                    "data": {
                        "text/html": [
                            "(0 rows affected)"
                        ]
                    },
                    "metadata": {},
                    "output_type": "display_data"
                },
                {
                    "data": {
                        "text/html": [
                            "Total execution time: 00:00:00.002"
                        ]
                    },
                    "metadata": {},
                    "output_type": "display_data"
                },
                {
                    "data": {
                        "application/vnd.dataresource+json": {
                            "data": [],
                            "schema": {
                                "fields": [
                                    {
                                        "name": "maPT"
                                    },
                                    {
                                        "name": "tenPT"
                                    },
                                    {
                                        "name": "khoiluong"
                                    }
                                ]
                            }
                        },
                        "text/html": [
                            "<table><tr><th>maPT</th><th>tenPT</th><th>khoiluong</th></tr></table>"
                        ]
                    },
                    "execution_count": 4,
                    "metadata": {},
                    "output_type": "execute_result"
                }
            ],
            "source": [
                "-- 8. Hiển thị những phụ tùng (maPT, tenPT, khối lượng) có khối lượng lớn hơn 15 và nhỏ hơn 20, sắp xếp theo tên phụ tùng.\n",
                "\n",
                "SELECT maPT, tenPT, khoiluong FROM Phutung \n",
                "WHERE khoiluong > 15 AND khoiluong < 20 \n",
                "ORDER BY tenPT"
            ]
        },
        {
            "cell_type": "code",
            "execution_count": 14,
            "metadata": {
                "azdata_cell_guid": "ccf800c8-70bf-4fec-a5ef-abb5511bcc75",
                "language": "sql"
            },
            "outputs": [
                {
                    "data": {
                        "text/html": [
                            "(0 rows affected)"
                        ]
                    },
                    "metadata": {},
                    "output_type": "display_data"
                },
                {
                    "data": {
                        "text/html": [
                            "Total execution time: 00:00:00.002"
                        ]
                    },
                    "metadata": {},
                    "output_type": "display_data"
                },
                {
                    "data": {
                        "application/vnd.dataresource+json": {
                            "data": [],
                            "schema": {
                                "fields": [
                                    {
                                        "name": "maPT"
                                    },
                                    {
                                        "name": "tenPT"
                                    },
                                    {
                                        "name": "khoiluong"
                                    },
                                    {
                                        "name": "mausac"
                                    },
                                    {
                                        "name": "thanhpho"
                                    }
                                ]
                            }
                        },
                        "text/html": [
                            "<table><tr><th>maPT</th><th>tenPT</th><th>khoiluong</th><th>mausac</th><th>thanhpho</th></tr></table>"
                        ]
                    },
                    "execution_count": 14,
                    "metadata": {},
                    "output_type": "execute_result"
                }
            ],
            "source": [
                "-- 9. Hiển thị những phụ tùng được vận chuyển bởi nhà cung cấp có mã số S1. Không hiển thị kết quả trùng. (sử dụng phép kết).\n",
                "\n",
                "SELECT DISTINCT Phutung.maPT, Phutung.tenPT, Phutung.khoiluong, Phutung.mausac, Phutung.thanhpho FROM Phutung \n",
                "INNER JOIN Vanchuyen ON Phutung.maPT = Vanchuyen.maPT\n",
                "WHERE maNCC = 'S1'"
            ]
        },
        {
            "cell_type": "code",
            "execution_count": 15,
            "metadata": {
                "azdata_cell_guid": "8bf29eee-32ec-457c-aea0-e744a2d3b200",
                "language": "sql"
            },
            "outputs": [
                {
                    "data": {
                        "text/html": [
                            "(0 rows affected)"
                        ]
                    },
                    "metadata": {},
                    "output_type": "display_data"
                },
                {
                    "data": {
                        "text/html": [
                            "Total execution time: 00:00:00.002"
                        ]
                    },
                    "metadata": {},
                    "output_type": "display_data"
                },
                {
                    "data": {
                        "application/vnd.dataresource+json": {
                            "data": [],
                            "schema": {
                                "fields": [
                                    {
                                        "name": "maNCC"
                                    },
                                    {
                                        "name": "tenNCC"
                                    },
                                    {
                                        "name": "trangthai"
                                    },
                                    {
                                        "name": "thanhpho"
                                    }
                                ]
                            }
                        },
                        "text/html": [
                            "<table><tr><th>maNCC</th><th>tenNCC</th><th>trangthai</th><th>thanhpho</th></tr></table>"
                        ]
                    },
                    "execution_count": 15,
                    "metadata": {},
                    "output_type": "execute_result"
                }
            ],
            "source": [
                "-- 10. Hiển thị những nhà cung cấp vận chuyển phụ tùng có mã là P1 (sử dụng phép kết).\n",
                "\n",
                "SELECT Nhacungcap.maNCC, Nhacungcap.tenNCC, Nhacungcap.trangthai, Nhacungcap.thanhpho FROM Nhacungcap \n",
                "INNER JOIN Vanchuyen ON Vanchuyen.maNCC = Nhacungcap.maNCC\n",
                "WHERE maPT = 'P1'"
            ]
        },
        {
            "cell_type": "code",
            "execution_count": 4,
            "metadata": {
                "azdata_cell_guid": "2909243e-12e0-48c8-bb7f-0e585635b7eb",
                "language": "sql",
                "tags": []
            },
            "outputs": [
                {
                    "data": {
                        "text/html": [
                            "(0 rows affected)"
                        ]
                    },
                    "metadata": {},
                    "output_type": "display_data"
                },
                {
                    "data": {
                        "text/html": [
                            "Total execution time: 00:00:00.038"
                        ]
                    },
                    "metadata": {},
                    "output_type": "display_data"
                },
                {
                    "data": {
                        "application/vnd.dataresource+json": {
                            "data": [],
                            "schema": {
                                "fields": [
                                    {
                                        "name": "maNCC"
                                    },
                                    {
                                        "name": "tenNCC"
                                    },
                                    {
                                        "name": "trangthai"
                                    },
                                    {
                                        "name": "thanhpho"
                                    }
                                ]
                            }
                        },
                        "text/html": [
                            "<table><tr><th>maNCC</th><th>tenNCC</th><th>trangthai</th><th>thanhpho</th></tr></table>"
                        ]
                    },
                    "execution_count": 4,
                    "metadata": {},
                    "output_type": "execute_result"
                }
            ],
            "source": [
                "-- 11. Hiển thị thông tin nhà cung cấp ở thành phố London và có vận chuyển phụ tùng của thành phố London. Không hiển thị kết quả trùng. (Sử dụng phép kết)\n",
                "\n",
                "SELECT DISTINCT * FROM Nhacungcap WHERE maNCC IN (\n",
                "    SELECT maNCC FROM Nhacungcap WHERE thanhpho = 'London'\n",
                "    INTERSECT \n",
                "    (\n",
                "        SELECT Vanchuyen.maNCC FROM Vanchuyen\n",
                "        INNER JOIN Phutung ON Vanchuyen.maPT = Phutung.maPT\n",
                "        WHERE thanhpho = 'London' \n",
                "    )\n",
                ")"
            ]
        },
        {
            "cell_type": "code",
            "execution_count": 2,
            "metadata": {
                "azdata_cell_guid": "80a23f48-aef3-48cc-8c3e-d03f4f50918f",
                "language": "sql",
                "tags": []
            },
            "outputs": [
                {
                    "data": {
                        "text/html": [
                            "(0 rows affected)"
                        ]
                    },
                    "metadata": {},
                    "output_type": "display_data"
                },
                {
                    "data": {
                        "text/html": [
                            "Total execution time: 00:00:00.040"
                        ]
                    },
                    "metadata": {},
                    "output_type": "display_data"
                },
                {
                    "data": {
                        "application/vnd.dataresource+json": {
                            "data": [],
                            "schema": {
                                "fields": [
                                    {
                                        "name": "maPT"
                                    },
                                    {
                                        "name": "tenPT"
                                    },
                                    {
                                        "name": "khoiluong"
                                    },
                                    {
                                        "name": "mausac"
                                    },
                                    {
                                        "name": "thanhpho"
                                    }
                                ]
                            }
                        },
                        "text/html": [
                            "<table>\n",
                            "<tr><th>maPT</th><th>tenPT</th><th>khoiluong</th><th>mausac</th><th>thanhpho</th></tr>\n",
                            "</table>"
                        ]
                    },
                    "execution_count": 2,
                    "metadata": {},
                    "output_type": "execute_result"
                }
            ],
            "source": [
                "-- 12: Lặp lại câu 9 nhưng sử dụng toán tử IN.\n",
                "\n",
                "SELECT DISTINCT Phutung.maPT, Phutung.tenPT, Phutung.khoiluong, Phutung.mausac, Phutung.thanhpho FROM Phutung \n",
                "WHERE maPT IN (\n",
                "    SELECT MAPT FROM VANCHUYEN\n",
                "    WHERE MANCC = 'S1'\n",
                ")"
            ]
        },
        {
            "cell_type": "code",
            "execution_count": 3,
            "metadata": {
                "azdata_cell_guid": "8d0da820-76e9-4152-ad61-2370c0d2da4e",
                "language": "sql"
            },
            "outputs": [
                {
                    "data": {
                        "text/html": [
                            "(0 rows affected)"
                        ]
                    },
                    "metadata": {},
                    "output_type": "display_data"
                },
                {
                    "data": {
                        "text/html": [
                            "Total execution time: 00:00:00.003"
                        ]
                    },
                    "metadata": {},
                    "output_type": "display_data"
                },
                {
                    "data": {
                        "application/vnd.dataresource+json": {
                            "data": [],
                            "schema": {
                                "fields": [
                                    {
                                        "name": "maNCC"
                                    },
                                    {
                                        "name": "tenNCC"
                                    },
                                    {
                                        "name": "trangthai"
                                    },
                                    {
                                        "name": "thanhpho"
                                    }
                                ]
                            }
                        },
                        "text/html": [
                            "<table>\n",
                            "<tr><th>maNCC</th><th>tenNCC</th><th>trangthai</th><th>thanhpho</th></tr>\n",
                            "</table>"
                        ]
                    },
                    "execution_count": 3,
                    "metadata": {},
                    "output_type": "execute_result"
                }
            ],
            "source": [
                "-- 13: Lặp lại câu 10 nhưng sử dụng toán tử IN\n",
                "\n",
                "SELECT Nhacungcap.maNCC, Nhacungcap.tenNCC, Nhacungcap.trangthai, Nhacungcap.thanhpho FROM Nhacungcap \n",
                "WHERE MANCC IN (\n",
                "    SELECT MANCC FROM VANCHUYEN\n",
                "    WHERE MAPT = 'P1'\n",
                ")"
            ]
        },
        {
            "cell_type": "code",
            "execution_count": 4,
            "metadata": {
                "azdata_cell_guid": "eb200069-72d9-404b-bf7b-a5b89a0235d3",
                "language": "sql"
            },
            "outputs": [
                {
                    "data": {
                        "text/html": [
                            "(0 rows affected)"
                        ]
                    },
                    "metadata": {},
                    "output_type": "display_data"
                },
                {
                    "data": {
                        "text/html": [
                            "Total execution time: 00:00:00.002"
                        ]
                    },
                    "metadata": {},
                    "output_type": "display_data"
                },
                {
                    "data": {
                        "application/vnd.dataresource+json": {
                            "data": [],
                            "schema": {
                                "fields": [
                                    {
                                        "name": "maPT"
                                    },
                                    {
                                        "name": "tenPT"
                                    },
                                    {
                                        "name": "khoiluong"
                                    },
                                    {
                                        "name": "mausac"
                                    },
                                    {
                                        "name": "thanhpho"
                                    }
                                ]
                            }
                        },
                        "text/html": [
                            "<table>\n",
                            "<tr><th>maPT</th><th>tenPT</th><th>khoiluong</th><th>mausac</th><th>thanhpho</th></tr>\n",
                            "</table>"
                        ]
                    },
                    "execution_count": 4,
                    "metadata": {},
                    "output_type": "execute_result"
                }
            ],
            "source": [
                "-- 14: Lặp lại câu 9 nhưng sử dụng toán tử EXISTS\n",
                "\n",
                "SELECT DISTINCT Phutung.maPT, Phutung.tenPT, Phutung.khoiluong, Phutung.mausac, Phutung.thanhpho FROM Phutung \n",
                "WHERE EXISTS (\n",
                "    SELECT MAPT FROM VANCHUYEN\n",
                "    WHERE MANCC = 'S1' AND MAPT = PHUTUNG.MAPT\n",
                ")"
            ]
        },
        {
            "cell_type": "code",
            "execution_count": 5,
            "metadata": {
                "azdata_cell_guid": "34f7bcfc-d30d-40da-904f-3865604a8408",
                "language": "sql"
            },
            "outputs": [
                {
                    "data": {
                        "text/html": [
                            "(0 rows affected)"
                        ]
                    },
                    "metadata": {},
                    "output_type": "display_data"
                },
                {
                    "data": {
                        "text/html": [
                            "Total execution time: 00:00:00.002"
                        ]
                    },
                    "metadata": {},
                    "output_type": "display_data"
                },
                {
                    "data": {
                        "application/vnd.dataresource+json": {
                            "data": [],
                            "schema": {
                                "fields": [
                                    {
                                        "name": "maNCC"
                                    },
                                    {
                                        "name": "tenNCC"
                                    },
                                    {
                                        "name": "trangthai"
                                    },
                                    {
                                        "name": "thanhpho"
                                    }
                                ]
                            }
                        },
                        "text/html": [
                            "<table>\n",
                            "<tr><th>maNCC</th><th>tenNCC</th><th>trangthai</th><th>thanhpho</th></tr>\n",
                            "</table>"
                        ]
                    },
                    "execution_count": 5,
                    "metadata": {},
                    "output_type": "execute_result"
                }
            ],
            "source": [
                "-- 15: Lặp lại câu 10 nhưng sử dụng toán tử EXISTS\n",
                "\n",
                "SELECT Nhacungcap.maNCC, Nhacungcap.tenNCC, Nhacungcap.trangthai, Nhacungcap.thanhpho FROM Nhacungcap \n",
                "WHERE EXISTS (\n",
                "    SELECT MANCC FROM VANCHUYEN\n",
                "    WHERE MAPT = 'P1' AND MANCC = NHACUNGCAP.MANCC\n",
                ")"
            ]
        },
        {
            "cell_type": "code",
            "execution_count": null,
            "metadata": {
                "azdata_cell_guid": "bcbc0be9-71eb-4557-8135-a37ed0b1a11e",
                "language": "sql"
            },
            "outputs": [],
            "source": [
                "-- 16: Lặp lại câu 11 nhưng sử dụng truy vấn con. Sử dụng toán tử IN.\n",
                "\n",
                "SELECT * FROM NHACUNGCAP\n",
                "WHERE THANHPHO = 'London' AND MANCC IN (\n",
                "    SELECT MANCC FROM VANCHUYEN\n",
                "    INNER JOIN PHUTUNG\n",
                "    ON PHUTUNG.MAPT = VANCHUYEN.MAPT\n",
                "    WHERE PHUTUNG.THANHPHO = 'London'\n",
                ")"
            ]
        },
        {
            "cell_type": "code",
            "execution_count": 6,
            "metadata": {
                "azdata_cell_guid": "1c85d6d8-148b-428b-9dea-540af33b0bf2",
                "language": "sql",
                "tags": []
            },
            "outputs": [
                {
                    "data": {
                        "text/html": [
                            "(0 rows affected)"
                        ]
                    },
                    "metadata": {},
                    "output_type": "display_data"
                },
                {
                    "data": {
                        "text/html": [
                            "Total execution time: 00:00:00.005"
                        ]
                    },
                    "metadata": {},
                    "output_type": "display_data"
                },
                {
                    "data": {
                        "application/vnd.dataresource+json": {
                            "data": [],
                            "schema": {
                                "fields": [
                                    {
                                        "name": "maNCC"
                                    },
                                    {
                                        "name": "tenNCC"
                                    },
                                    {
                                        "name": "trangthai"
                                    },
                                    {
                                        "name": "thanhpho"
                                    }
                                ]
                            }
                        },
                        "text/html": [
                            "<table>\n",
                            "<tr><th>maNCC</th><th>tenNCC</th><th>trangthai</th><th>thanhpho</th></tr>\n",
                            "</table>"
                        ]
                    },
                    "execution_count": 6,
                    "metadata": {},
                    "output_type": "execute_result"
                }
            ],
            "source": [
                "-- 17: Lặp lại câu 11 nhưng dùng truy vấn con. Sử dụng toán tử EXISTS.\n",
                "\n",
                "SELECT * FROM NHACUNGCAP\n",
                "WHERE THANHPHO = 'London' AND EXISTS (\n",
                "    SELECT MANCC FROM VANCHUYEN\n",
                "    INNER JOIN PHUTUNG\n",
                "    ON PHUTUNG.MAPT = VANCHUYEN.MAPT\n",
                "    WHERE PHUTUNG.THANHPHO = 'London' AND NHACUNGCAP.MANCC = VANCHUYEN.MANCC\n",
                ")"
            ]
        },
        {
            "cell_type": "code",
            "execution_count": 7,
            "metadata": {
                "azdata_cell_guid": "c7a984f7-4216-46a0-90bf-af82ab67af35",
                "language": "sql"
            },
            "outputs": [
                {
                    "data": {
                        "text/html": [
                            "(0 rows affected)"
                        ]
                    },
                    "metadata": {},
                    "output_type": "display_data"
                },
                {
                    "data": {
                        "text/html": [
                            "Total execution time: 00:00:00.002"
                        ]
                    },
                    "metadata": {},
                    "output_type": "display_data"
                },
                {
                    "data": {
                        "application/vnd.dataresource+json": {
                            "data": [],
                            "schema": {
                                "fields": [
                                    {
                                        "name": "maNCC"
                                    },
                                    {
                                        "name": "tenNCC"
                                    },
                                    {
                                        "name": "trangthai"
                                    },
                                    {
                                        "name": "thanhpho"
                                    }
                                ]
                            }
                        },
                        "text/html": [
                            "<table>\n",
                            "<tr><th>maNCC</th><th>tenNCC</th><th>trangthai</th><th>thanhpho</th></tr>\n",
                            "</table>"
                        ]
                    },
                    "execution_count": 7,
                    "metadata": {},
                    "output_type": "execute_result"
                }
            ],
            "source": [
                "-- 18: Tìm nhà cung cấp chưa vận chuyển bất kỳ phụ tùng nào. Sử dụng NOT IN.\n",
                "\n",
                "SELECT * FROM NHACUNGCAP\n",
                "WHERE MANCC NOT IN (\n",
                "    SELECT MANCC FROM VANCHUYEN\n",
                ")"
            ]
        },
        {
            "cell_type": "code",
            "execution_count": 8,
            "metadata": {
                "azdata_cell_guid": "11bb10a1-ea3a-49b4-b88d-f84cba1f9e43",
                "language": "sql"
            },
            "outputs": [
                {
                    "data": {
                        "text/html": [
                            "(0 rows affected)"
                        ]
                    },
                    "metadata": {},
                    "output_type": "display_data"
                },
                {
                    "data": {
                        "text/html": [
                            "Total execution time: 00:00:00.005"
                        ]
                    },
                    "metadata": {},
                    "output_type": "display_data"
                },
                {
                    "data": {
                        "application/vnd.dataresource+json": {
                            "data": [],
                            "schema": {
                                "fields": [
                                    {
                                        "name": "maNCC"
                                    },
                                    {
                                        "name": "tenNCC"
                                    },
                                    {
                                        "name": "trangthai"
                                    },
                                    {
                                        "name": "thanhpho"
                                    }
                                ]
                            }
                        },
                        "text/html": [
                            "<table>\n",
                            "<tr><th>maNCC</th><th>tenNCC</th><th>trangthai</th><th>thanhpho</th></tr>\n",
                            "</table>"
                        ]
                    },
                    "execution_count": 8,
                    "metadata": {},
                    "output_type": "execute_result"
                }
            ],
            "source": [
                "-- 19: Tìm nhà cung cấp chưa vận chuyển bất kỳ phụ tùng nào. Sử dụng NOT EXISTS.\n",
                "\n",
                "SELECT * FROM NHACUNGCAP\n",
                "WHERE NOT EXISTS (\n",
                "    SELECT * FROM VANCHUYEN\n",
                "    WHERE VANCHUYEN.MANCC = NHACUNGCAP.MANCC\n",
                ")"
            ]
        },
        {
            "cell_type": "code",
            "execution_count": null,
            "metadata": {
                "azdata_cell_guid": "6e901fcc-5c12-43e0-acb9-0ba0d6dff0b3",
                "language": "sql"
            },
            "outputs": [],
            "source": [
                "-- 20: Tìm nhà cung cấp chưa vận chuyển bất kỳ phụ tùng nào. Sử dụng outer\n",
                "-- JOIN (Phép kết ngoài)\n",
                "\n",
                "SELECT * FROM VANCHUYEN\n",
                "RIGHT OUTER JOIN NHACUNG\n",
                "ON VANCHUYEN.MANCC = NHACUNGCAP.MANCC"
            ]
        },
        {
            "cell_type": "code",
            "execution_count": null,
            "metadata": {
                "azdata_cell_guid": "a94a2cb9-6aed-4594-8716-0edeab3b6ef9",
                "language": "sql"
            },
            "outputs": [],
            "source": [
                "-- 21: Có tất cả bao nhiêu nhà cung cấp? \n",
                "\n",
                "SELECT COUNT(DISTINCT MANCC) FROM NHACUNGCAP"
            ]
        },
        {
            "cell_type": "code",
            "execution_count": 9,
            "metadata": {
                "azdata_cell_guid": "313eabee-b8c9-4545-8fe7-f58886b1a60b",
                "language": "sql"
            },
            "outputs": [
                {
                    "data": {
                        "text/html": [
                            "(1 row affected)"
                        ]
                    },
                    "metadata": {},
                    "output_type": "display_data"
                },
                {
                    "data": {
                        "text/html": [
                            "Total execution time: 00:00:00.018"
                        ]
                    },
                    "metadata": {},
                    "output_type": "display_data"
                },
                {
                    "data": {
                        "application/vnd.dataresource+json": {
                            "data": [
                                {
                                    "0": "0"
                                }
                            ],
                            "schema": {
                                "fields": [
                                    {
                                        "name": "(No column name)"
                                    }
                                ]
                            }
                        },
                        "text/html": [
                            "<table>\n",
                            "<tr><th>(No column name)</th></tr>\n",
                            "<tr><td>0</td></tr>\n",
                            "</table>"
                        ]
                    },
                    "execution_count": 9,
                    "metadata": {},
                    "output_type": "execute_result"
                }
            ],
            "source": [
                "-- 22: Có tất cả bao nhiêu nhà cung cấp ở London?\n",
                "\n",
                "SELECT COUNT(DISTINCT MANCC) FROM NHACUNGCAP WHERE THANHPHO = 'London'"
            ]
        },
        {
            "cell_type": "code",
            "execution_count": 11,
            "metadata": {
                "azdata_cell_guid": "04930017-43d3-4fe6-aefa-4546745e57dd",
                "language": "sql"
            },
            "outputs": [
                {
                    "data": {
                        "text/html": [
                            "(0 rows affected)"
                        ]
                    },
                    "metadata": {},
                    "output_type": "display_data"
                },
                {
                    "data": {
                        "text/html": [
                            "Total execution time: 00:00:00.001"
                        ]
                    },
                    "metadata": {},
                    "output_type": "display_data"
                },
                {
                    "data": {
                        "application/vnd.dataresource+json": {
                            "data": [],
                            "schema": {
                                "fields": [
                                    {
                                        "name": "MANCC"
                                    },
                                    {
                                        "name": "(No column name)"
                                    },
                                    {
                                        "name": "(No column name)"
                                    }
                                ]
                            }
                        },
                        "text/html": [
                            "<table>\n",
                            "<tr><th>MANCC</th><th>(No column name)</th><th>(No column name)</th></tr>\n",
                            "</table>"
                        ]
                    },
                    "execution_count": 11,
                    "metadata": {},
                    "output_type": "execute_result"
                }
            ],
            "source": [
                "-- 23: Hiển thị trị giá cao nhất, thấp nhất của trangthai của các nhà cung cấp.\n",
                "\n",
                "SELECT MANCC, MAX(TRANGTHAI), MIN(TRANGTHAI) FROM NHACUNGCAP\n",
                "GROUP BY MANCC"
            ]
        },
        {
            "cell_type": "code",
            "execution_count": null,
            "metadata": {
                "azdata_cell_guid": "a47a80cd-8ac7-493c-8774-2d0b1cbaf84b",
                "language": "sql",
                "tags": []
            },
            "outputs": [],
            "source": [
                "-- 24: Hiển thị giá trị cao nhất, thấp nhất của trangthai trong table\n",
                "-- nhacungcap ở thành phố London.\n",
                "\n",
                "SELECT MANCC, MAX(TRANGTHAI), MIN(TRANGTHAI) FROM NHACUNGCAP\n",
                "WHERE THANHPHO = 'London'\n",
                "GROUP BY MANCC"
            ]
        },
        {
            "cell_type": "code",
            "execution_count": 13,
            "metadata": {
                "azdata_cell_guid": "404fcbf5-d9cd-427f-b654-241848401837",
                "language": "sql"
            },
            "outputs": [
                {
                    "data": {
                        "text/html": [
                            "(0 rows affected)"
                        ]
                    },
                    "metadata": {},
                    "output_type": "display_data"
                },
                {
                    "data": {
                        "text/html": [
                            "Total execution time: 00:00:00.003"
                        ]
                    },
                    "metadata": {},
                    "output_type": "display_data"
                },
                {
                    "data": {
                        "application/vnd.dataresource+json": {
                            "data": [],
                            "schema": {
                                "fields": [
                                    {
                                        "name": "MANCC"
                                    },
                                    {
                                        "name": "(No column name)"
                                    }
                                ]
                            }
                        },
                        "text/html": [
                            "<table>\n",
                            "<tr><th>MANCC</th><th>(No column name)</th></tr>\n",
                            "</table>"
                        ]
                    },
                    "execution_count": 13,
                    "metadata": {},
                    "output_type": "execute_result"
                }
            ],
            "source": [
                "-- 25: Mỗi nhà cung cấp vận chuyển bao nhiêu phụ tùng? Chỉ hiển thị mã nhà\n",
                "-- cung cấp, tổng số phụ tùng đã vận chuyển.\n",
                "\n",
                "SELECT NHACUNGCAP.MANCC, SUM(VANCHUYEN.SOLUONG) FROM NHACUNGCAP\n",
                "INNER JOIN VANCHUYEN ON NHACUNGCAP.MANCC = VANCHUYEN.MANCC\n",
                "GROUP BY NHACUNGCAP.MANCC\n"
            ]
        },
        {
            "cell_type": "code",
            "execution_count": 17,
            "metadata": {
                "azdata_cell_guid": "6e9044e4-3d52-4a89-8cb3-6745d230051b",
                "language": "sql",
                "tags": []
            },
            "outputs": [
                {
                    "data": {
                        "text/html": [
                            "(0 rows affected)"
                        ]
                    },
                    "metadata": {},
                    "output_type": "display_data"
                },
                {
                    "data": {
                        "text/html": [
                            "Total execution time: 00:00:00.003"
                        ]
                    },
                    "metadata": {},
                    "output_type": "display_data"
                },
                {
                    "data": {
                        "application/vnd.dataresource+json": {
                            "data": [],
                            "schema": {
                                "fields": [
                                    {
                                        "name": "MANCC"
                                    },
                                    {
                                        "name": "TENNCC"
                                    },
                                    {
                                        "name": "THANHPHO"
                                    },
                                    {
                                        "name": "(No column name)"
                                    }
                                ]
                            }
                        },
                        "text/html": [
                            "<table>\n",
                            "<tr><th>MANCC</th><th>TENNCC</th><th>THANHPHO</th><th>(No column name)</th></tr>\n",
                            "</table>"
                        ]
                    },
                    "execution_count": 17,
                    "metadata": {},
                    "output_type": "execute_result"
                }
            ],
            "source": [
                "-- 26. Mỗi nhà cung cấp vận chuyển bao nhiêu phụ tùng? Hiển thị mã nhà cung\n",
                "-- cấp, tên, thành phố của nhà cung cấp và tổng số phụ tùng đã vận chuyển\n",
                "\n",
                "SELECT NHACUNGCAP.MANCC, NHACUNGCAP.TENNCC, NHACUNGCAP.THANHPHO, SUM(VANCHUYEN.SOLUONG) FROM NHACUNGCAP\n",
                "INNER JOIN VANCHUYEN ON NHACUNGCAP.MANCC = VANCHUYEN.MANCC\n",
                "GROUP BY NHACUNGCAP.MANCC, NHACUNGCAP.TENNCC, NHACUNGCAP.THANHPHO"
            ]
        },
        {
            "cell_type": "code",
            "execution_count": 21,
            "metadata": {
                "azdata_cell_guid": "0cdad5ce-7127-4f43-802d-cb8477531924",
                "language": "sql"
            },
            "outputs": [
                {
                    "data": {
                        "text/html": [
                            "(0 rows affected)"
                        ]
                    },
                    "metadata": {},
                    "output_type": "display_data"
                },
                {
                    "data": {
                        "text/html": [
                            "Total execution time: 00:00:00.002"
                        ]
                    },
                    "metadata": {},
                    "output_type": "display_data"
                },
                {
                    "data": {
                        "application/vnd.dataresource+json": {
                            "data": [],
                            "schema": {
                                "fields": [
                                    {
                                        "name": "MANCC"
                                    }
                                ]
                            }
                        },
                        "text/html": [
                            "<table>\n",
                            "<tr><th>MANCC</th></tr>\n",
                            "</table>"
                        ]
                    },
                    "execution_count": 21,
                    "metadata": {},
                    "output_type": "execute_result"
                }
            ],
            "source": [
                "-- 27. Nhà cung cấp nào đã vận chuyển tổng cộng nhiều hơn 500 phụ tùng? Chỉ\n",
                "-- hiển thị mã nhà cung cấp\n",
                "\n",
                "SELECT NHACUNGCAP.MANCC FROM NHACUNGCAP\n",
                "INNER JOIN VANCHUYEN ON NHACUNGCAP.MANCC = VANCHUYEN.MANCC\n",
                "GROUP BY NHACUNGCAP.MANCC\n",
                "HAVING SUM(VANCHUYEN.SOLUONG) > 500"
            ]
        },
        {
            "cell_type": "code",
            "execution_count": 23,
            "metadata": {
                "azdata_cell_guid": "c9ccf787-919c-4bc0-bffb-1da5fc1155b6",
                "language": "sql"
            },
            "outputs": [
                {
                    "data": {
                        "text/html": [
                            "(0 rows affected)"
                        ]
                    },
                    "metadata": {},
                    "output_type": "display_data"
                },
                {
                    "data": {
                        "text/html": [
                            "Total execution time: 00:00:00.003"
                        ]
                    },
                    "metadata": {},
                    "output_type": "display_data"
                },
                {
                    "data": {
                        "application/vnd.dataresource+json": {
                            "data": [],
                            "schema": {
                                "fields": [
                                    {
                                        "name": "MANCC"
                                    }
                                ]
                            }
                        },
                        "text/html": [
                            "<table>\n",
                            "<tr><th>MANCC</th></tr>\n",
                            "</table>"
                        ]
                    },
                    "execution_count": 23,
                    "metadata": {},
                    "output_type": "execute_result"
                }
            ],
            "source": [
                "-- 28: Nhà cung cấp nào đã vận chuyển nhiều hơn 300 phụ tùng màu đỏ (red).\n",
                "-- Chỉ hiển thị mã nhà cung cấp.\n",
                "\n",
                "SELECT NHACUNGCAP.MANCC FROM NHACUNGCAP\n",
                "INNER JOIN VANCHUYEN ON NHACUNGCAP.MANCC = VANCHUYEN.MANCC\n",
                "INNER JOIN PHUTUNG ON PHUTUNG.MAPT = VANCHUYEN.MAPT\n",
                "WHERE PHUTUNG.MAUSAC = 'red'\n",
                "GROUP BY NHACUNGCAP.MANCC\n",
                "HAVING SUM(VANCHUYEN.SOLUONG) > 300"
            ]
        },
        {
            "cell_type": "code",
            "execution_count": 24,
            "metadata": {
                "azdata_cell_guid": "916bb595-1686-4d23-bbf3-15c0bb217dc4",
                "language": "sql"
            },
            "outputs": [
                {
                    "data": {
                        "text/html": [
                            "(0 rows affected)"
                        ]
                    },
                    "metadata": {},
                    "output_type": "display_data"
                },
                {
                    "data": {
                        "text/html": [
                            "Total execution time: 00:00:00.003"
                        ]
                    },
                    "metadata": {},
                    "output_type": "display_data"
                },
                {
                    "data": {
                        "application/vnd.dataresource+json": {
                            "data": [],
                            "schema": {
                                "fields": [
                                    {
                                        "name": "MANCC"
                                    },
                                    {
                                        "name": "TENNCC"
                                    },
                                    {
                                        "name": "THANHPHO"
                                    },
                                    {
                                        "name": "(No column name)"
                                    }
                                ]
                            }
                        },
                        "text/html": [
                            "<table>\n",
                            "<tr><th>MANCC</th><th>TENNCC</th><th>THANHPHO</th><th>(No column name)</th></tr>\n",
                            "</table>"
                        ]
                    },
                    "execution_count": 24,
                    "metadata": {},
                    "output_type": "execute_result"
                }
            ],
            "source": [
                "-- 29: Nhà cung cấp nào đã vận chuyển nhiều hơn 300 phụ tùng màu đỏ (red).\n",
                "-- Hiển thị mã nhà cung cấp, tên, thành phố và số lượng phụ tùng màu đỏ đã\n",
                "-- vận chuyển.\n",
                "\n",
                "SELECT NHACUNGCAP.MANCC, NHACUNGCAP.TENNCC, NHACUNGCAP.THANHPHO, SUM(VANCHUYEN.SOLUONG) FROM NHACUNGCAP\n",
                "INNER JOIN VANCHUYEN ON NHACUNGCAP.MANCC = VANCHUYEN.MANCC\n",
                "INNER JOIN PHUTUNG ON PHUTUNG.MAPT = VANCHUYEN.MAPT\n",
                "WHERE PHUTUNG.MAUSAC = 'red'\n",
                "GROUP BY NHACUNGCAP.MANCC, NHACUNGCAP.TENNCC, NHACUNGCAP.THANHPHO\n",
                "HAVING SUM(VANCHUYEN.SOLUONG) > 300"
            ]
        },
        {
            "cell_type": "code",
            "execution_count": 25,
            "metadata": {
                "azdata_cell_guid": "2b4e3713-53ba-428e-8c55-7e91f906e209",
                "language": "sql"
            },
            "outputs": [
                {
                    "data": {
                        "text/html": [
                            "(0 rows affected)"
                        ]
                    },
                    "metadata": {},
                    "output_type": "display_data"
                },
                {
                    "data": {
                        "text/html": [
                            "Total execution time: 00:00:00.002"
                        ]
                    },
                    "metadata": {},
                    "output_type": "display_data"
                },
                {
                    "data": {
                        "application/vnd.dataresource+json": {
                            "data": [],
                            "schema": {
                                "fields": [
                                    {
                                        "name": "THANHPHO"
                                    },
                                    {
                                        "name": "(No column name)"
                                    }
                                ]
                            }
                        },
                        "text/html": [
                            "<table>\n",
                            "<tr><th>THANHPHO</th><th>(No column name)</th></tr>\n",
                            "</table>"
                        ]
                    },
                    "execution_count": 25,
                    "metadata": {},
                    "output_type": "execute_result"
                }
            ],
            "source": [
                "-- 30: Có bao nhiêu nhà cung cấp ở mỗi thành phố.\n",
                "\n",
                "SELECT THANHPHO, COUNT(*) FROM NHACUNGCAP\n",
                "GROUP BY THANHPHO"
            ]
        },
        {
            "cell_type": "code",
            "execution_count": 26,
            "metadata": {
                "azdata_cell_guid": "f79ae411-02a0-47e4-bc22-38401030b3f4",
                "language": "sql"
            },
            "outputs": [
                {
                    "data": {
                        "text/html": [
                            "(0 rows affected)"
                        ]
                    },
                    "metadata": {},
                    "output_type": "display_data"
                },
                {
                    "data": {
                        "text/html": [
                            "Total execution time: 00:00:00.003"
                        ]
                    },
                    "metadata": {},
                    "output_type": "display_data"
                },
                {
                    "data": {
                        "application/vnd.dataresource+json": {
                            "data": [],
                            "schema": {
                                "fields": [
                                    {
                                        "name": "MANCC"
                                    },
                                    {
                                        "name": "SL"
                                    }
                                ]
                            }
                        },
                        "text/html": [
                            "<table>\n",
                            "<tr><th>MANCC</th><th>SL</th></tr>\n",
                            "</table>"
                        ]
                    },
                    "execution_count": 26,
                    "metadata": {},
                    "output_type": "execute_result"
                }
            ],
            "source": [
                "-- 31: Nhà cung cấp nào đã vận chuyển nhiều phụ tùng nhất. Hiển thị tên nhà\n",
                "-- cung cấp và số lượng phụ tùng đã vận chuyển.\n",
                "\n",
                "SELECT TOP 1 NHACUNGCAP.MANCC, SUM(VANCHUYEN.SOLUONG) AS SL FROM NHACUNGCAP\n",
                "INNER JOIN VANCHUYEN ON NHACUNGCAP.MANCC = VANCHUYEN.MANCC\n",
                "GROUP BY NHACUNGCAP.MANCC\n",
                "ORDER BY SL DESC"
            ]
        },
        {
            "cell_type": "code",
            "execution_count": 27,
            "metadata": {
                "azdata_cell_guid": "0a884f6f-d4cf-438e-a6c0-06c6f41d3013",
                "language": "sql"
            },
            "outputs": [
                {
                    "data": {
                        "text/html": [
                            "(0 rows affected)"
                        ]
                    },
                    "metadata": {},
                    "output_type": "display_data"
                },
                {
                    "data": {
                        "text/html": [
                            "Total execution time: 00:00:00.002"
                        ]
                    },
                    "metadata": {},
                    "output_type": "display_data"
                },
                {
                    "data": {
                        "application/vnd.dataresource+json": {
                            "data": [],
                            "schema": {
                                "fields": [
                                    {
                                        "name": "THANHPHO"
                                    }
                                ]
                            }
                        },
                        "text/html": [
                            "<table>\n",
                            "<tr><th>THANHPHO</th></tr>\n",
                            "</table>"
                        ]
                    },
                    "execution_count": 27,
                    "metadata": {},
                    "output_type": "execute_result"
                }
            ],
            "source": [
                "-- 32: Thành phố nào có cả nhà cung cấp và phụ tùng.\n",
                "\n",
                "SELECT THANHPHO FROM NHACUNGCAP \n",
                "WHERE THANHPHO IN (\n",
                "    SELECT THANHPHO FROM PHUTUNG\n",
                ")"
            ]
        },
        {
            "cell_type": "code",
            "execution_count": 31,
            "metadata": {
                "azdata_cell_guid": "4f99388c-09ed-4f35-93b7-b8608ac65470",
                "language": "sql"
            },
            "outputs": [
                {
                    "data": {
                        "text/html": [
                            "(1 row affected)"
                        ]
                    },
                    "metadata": {},
                    "output_type": "display_data"
                },
                {
                    "data": {
                        "text/html": [
                            "Total execution time: 00:00:00.002"
                        ]
                    },
                    "metadata": {},
                    "output_type": "display_data"
                }
            ],
            "source": [
                "-- 33: Viết câu lệnh SQL để insert nhà cung cấp mới: S6, Duncan, 30, Paris.\n",
                "\n",
                "INSERT INTO NHACUNGCAP VALUES ('S6', 'Duncan', 30, 'Paris')"
            ]
        },
        {
            "cell_type": "code",
            "execution_count": 32,
            "metadata": {
                "azdata_cell_guid": "96b85bd1-a462-4be8-a497-fffc07c644a7",
                "language": "sql"
            },
            "outputs": [
                {
                    "data": {
                        "text/html": [
                            "(1 row affected)"
                        ]
                    },
                    "metadata": {},
                    "output_type": "display_data"
                },
                {
                    "data": {
                        "text/html": [
                            "Total execution time: 00:00:00.001"
                        ]
                    },
                    "metadata": {},
                    "output_type": "display_data"
                }
            ],
            "source": [
                "-- 34: Viết câu lệnh SQL để thay đổi thanh phố S6 (ở câu 33) thành Sydney.\n",
                "\n",
                "UPDATE NHACUNGCAP SET THANHPHO = 'Sydney' \n",
                "WHERE MANCC = 'S6'"
            ]
        },
        {
            "cell_type": "code",
            "execution_count": 33,
            "metadata": {
                "azdata_cell_guid": "576198da-252c-4cdb-bd35-2ba59b6d1bfd",
                "language": "sql"
            },
            "outputs": [
                {
                    "data": {
                        "text/html": [
                            "(0 rows affected)"
                        ]
                    },
                    "metadata": {},
                    "output_type": "display_data"
                },
                {
                    "data": {
                        "text/html": [
                            "Total execution time: 00:00:00"
                        ]
                    },
                    "metadata": {},
                    "output_type": "display_data"
                }
            ],
            "source": [
                "-- 35: Viết câu lệnh SQL tăng trangthai của nhà cung cấp ở London lên thêm 10.\n",
                "\n",
                "UPDATE NHACUNGCAP SET TRANGTHAI = TRANGTHAI + 10\n",
                "WHERE THANHPHO = 'London'"
            ]
        },
        {
            "cell_type": "code",
            "execution_count": 34,
            "metadata": {
                "azdata_cell_guid": "6ec168d8-a212-4f09-a94d-cd7ea286bb89",
                "language": "sql"
            },
            "outputs": [
                {
                    "data": {
                        "text/html": [
                            "(1 row affected)"
                        ]
                    },
                    "metadata": {},
                    "output_type": "display_data"
                },
                {
                    "data": {
                        "text/html": [
                            "Total execution time: 00:00:00.001"
                        ]
                    },
                    "metadata": {},
                    "output_type": "display_data"
                }
            ],
            "source": [
                "-- 36:  Viết câu lệnh SQL xoá nhà cung cấp S6\n",
                "\n",
                "DELETE FROM NHACUNGCAP \n",
                "WHERE MANCC = 'S6'"
            ]
        }
    ],
    "metadata": {
        "kernelspec": {
            "display_name": "SQL",
            "language": "sql",
            "name": "SQL"
        },
        "language_info": {
            "name": "sql",
            "version": ""
        }
    },
    "nbformat": 4,
    "nbformat_minor": 2
}
